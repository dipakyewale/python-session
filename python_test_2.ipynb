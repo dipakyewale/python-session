{
 "cells": [
  {
   "cell_type": "markdown",
   "id": "9be2933b-8eed-4777-8197-93dc68a81686",
   "metadata": {},
   "source": [
    "**Q1. Write a Python program to convert kilometers to miles.**"
   ]
  },
  {
   "cell_type": "code",
   "execution_count": 1,
   "id": "2f5f39b3-ca23-4b2e-a355-c0b943a73fa1",
   "metadata": {},
   "outputs": [
    {
     "name": "stdin",
     "output_type": "stream",
     "text": [
      "Enter distance in kilometers:  25\n"
     ]
    },
    {
     "name": "stdout",
     "output_type": "stream",
     "text": [
      "25.0 kilometers = 15.53 miles\n"
     ]
    }
   ],
   "source": [
    "km = float(input(\"Enter distance in kilometers: \"))\n",
    "miles = km * 0.621371\n",
    "print(f\"{km} kilometers = {miles:.2f} miles\")"
   ]
  },
  {
   "cell_type": "markdown",
   "id": "ff310abd-50ab-4ec8-ace2-e2d9999a4674",
   "metadata": {},
   "source": [
    "**Q2. Write a Python program to convert Celsius to Fahrenheit.**"
   ]
  },
  {
   "cell_type": "code",
   "execution_count": 3,
   "id": "4f9a5e00-a50e-4447-81fd-c68ce284ba30",
   "metadata": {},
   "outputs": [
    {
     "name": "stdin",
     "output_type": "stream",
     "text": [
      "Enter temperature in Celsius:  32\n"
     ]
    },
    {
     "name": "stdout",
     "output_type": "stream",
     "text": [
      "32.0C = 89.60F\n"
     ]
    }
   ],
   "source": [
    "celsius = float(input(\"Enter temperature in Celsius: \"))\n",
    "fahrenheit = (celsius * 9/5) + 32\n",
    "print(f\"{celsius}C = {fahrenheit:.2f}F\")"
   ]
  },
  {
   "cell_type": "markdown",
   "id": "1e1451d9-a912-4012-be48-ce68e92544da",
   "metadata": {},
   "source": [
    "**Q3. Write a Python program to display the calendar of a given month and year.**"
   ]
  },
  {
   "cell_type": "code",
   "execution_count": 5,
   "id": "f612f1b2-bab9-487c-b933-b590a7ef5da9",
   "metadata": {},
   "outputs": [
    {
     "name": "stdin",
     "output_type": "stream",
     "text": [
      "Enter the your choice year: 2025\n",
      "Enter the your choice month: 9\n"
     ]
    },
    {
     "name": "stdout",
     "output_type": "stream",
     "text": [
      "   September 2025\n",
      "Mo Tu We Th Fr Sa Su\n",
      " 1  2  3  4  5  6  7\n",
      " 8  9 10 11 12 13 14\n",
      "15 16 17 18 19 20 21\n",
      "22 23 24 25 26 27 28\n",
      "29 30\n",
      "\n"
     ]
    }
   ],
   "source": [
    "import calendar\n",
    "\n",
    "year=int(input(\"Enter the your choice year:\"))\n",
    "month=int(input(\"Enter the your choice month:\"))\n",
    "\n",
    "print(calendar.month(year,month))"
   ]
  },
  {
   "cell_type": "markdown",
   "id": "724b25b4-0ef0-484c-bb8c-90f469668597",
   "metadata": {},
   "source": [
    "**Q4. Write a Python program to solve a quadratic equation.**"
   ]
  },
  {
   "cell_type": "code",
   "execution_count": 6,
   "id": "353f49fb-8b74-4b31-a7b2-303e18a71316",
   "metadata": {},
   "outputs": [
    {
     "name": "stdin",
     "output_type": "stream",
     "text": [
      "Enter number a:  673\n",
      "Enter number b:  554\n",
      "Enter number c:  234\n"
     ]
    },
    {
     "name": "stdout",
     "output_type": "stream",
     "text": [
      "The roots are (-0.4115898959881129+0.4222447597826197j) and (-0.4115898959881129-0.4222447597826197j)\n"
     ]
    }
   ],
   "source": [
    "import cmath\n",
    "a = int(input(\"Enter number a: \"))\n",
    "b = int(input(\"Enter number b: \"))\n",
    "c = int(input(\"Enter number c: \"))\n",
    "d = (b**2) - (4*a*c)\n",
    "root1 = (-b + cmath.sqrt(d)) / (2*a)\n",
    "root2 = (-b - cmath.sqrt(d)) / (2*a)\n",
    "print(f\"The roots are {root1} and {root2}\")"
   ]
  },
  {
   "cell_type": "markdown",
   "id": "debc3bad-2aa8-4bcd-9789-1e98c87d779a",
   "metadata": {},
   "source": [
    "**Q5. Write a Python program to swap two variables without using a temporary\n",
    "variable.**"
   ]
  },
  {
   "cell_type": "code",
   "execution_count": 8,
   "id": "c12459e4-b670-47ff-a2a6-c823c695d00f",
   "metadata": {},
   "outputs": [
    {
     "name": "stdin",
     "output_type": "stream",
     "text": [
      "Enter the number1 : 20\n",
      "Enter the number2 : 25\n"
     ]
    },
    {
     "name": "stdout",
     "output_type": "stream",
     "text": [
      "A = 25\n",
      "B = 20\n"
     ]
    }
   ],
   "source": [
    "A=int(input(\"Enter the number1 :\"))\n",
    "B=int(input(\"Enter the number2 :\"))\n",
    "A , B = B , A\n",
    "print(\"A =\" , A)\n",
    "print(\"B =\",  B)"
   ]
  },
  {
   "cell_type": "code",
   "execution_count": null,
   "id": "936ac142-71c6-43a0-8441-7439a8d33cb6",
   "metadata": {},
   "outputs": [],
   "source": []
  }
 ],
 "metadata": {
  "kernelspec": {
   "display_name": "Python [conda env:base] *",
   "language": "python",
   "name": "conda-base-py"
  },
  "language_info": {
   "codemirror_mode": {
    "name": "ipython",
    "version": 3
   },
   "file_extension": ".py",
   "mimetype": "text/x-python",
   "name": "python",
   "nbconvert_exporter": "python",
   "pygments_lexer": "ipython3",
   "version": "3.13.5"
  }
 },
 "nbformat": 4,
 "nbformat_minor": 5
}
