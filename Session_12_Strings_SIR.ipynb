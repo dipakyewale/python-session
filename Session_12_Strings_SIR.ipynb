{
 "cells": [
  {
   "cell_type": "code",
   "execution_count": null,
   "id": "2f36b901-4fa3-4457-8a77-dc438d5279b8",
   "metadata": {},
   "outputs": [],
   "source": [
    "python basics\n",
    "    - Variables\n",
    "\n",
    "    - Data types\n",
    "\n",
    "    - Type casting , how to convert one data type to another data type\n",
    "\n",
    "    - print statements\n",
    "\n",
    "    - basic codes\n",
    "\n",
    "    - input , eval , round\n",
    "\n",
    "    - packages or libraries  i.e.very important\n",
    "\n",
    "    - conditional statements\n",
    "\n",
    "    - exceptional handling\n",
    "\n",
    "    - functions\n",
    "\n",
    "    - for and while\n",
    "python core\n",
    "    - strings\n",
    "\n",
    "    - list \n",
    "\n",
    "        - list comprehension\n",
    "\n",
    "    - tuple   # my students\n",
    "\n",
    "    - dictionary\n",
    "\n",
    "    - lambda functions\n",
    "\n",
    "    - file handling\n",
    "\n",
    "30days ==== learn\n",
    "\n",
    "python advanced\n",
    "\n",
    "    - oops EDA ML\n",
    "\n",
    "\n",
    "python + stats : EDA\n",
    "python + ML : \n",
    "python + DL\n",
    "python+ NLP\n",
    "python+Genai\n"
   ]
  },
  {
   "cell_type": "markdown",
   "id": "ce9d85e5-59d2-478d-aefb-532b464681dd",
   "metadata": {},
   "source": [
    "**Strings**\n",
    "\n",
    "- Intializations\n",
    "\n",
    "- Inbuilt functions\n",
    "\n",
    "    - print\n",
    "\n",
    "    - type\n",
    "\n",
    "    - len\n",
    "\n",
    "    - min\n",
    "\n",
    "    - max\n",
    "\n",
    "    - sum\n",
    "\n",
    "    - sorted\n",
    "\n",
    "    - reversed\n",
    "\n",
    "\n",
    "- Concatenation\n",
    "\n",
    "- Index operations\n",
    "\n",
    "- Mutable vs Immutable\n",
    "\n",
    "- Slice\n",
    "\n",
    "- Methods\n",
    "    "
   ]
  },
  {
   "cell_type": "markdown",
   "id": "b7d29bc5-3cdf-4cfd-aee7-6abc53d64162",
   "metadata": {},
   "source": [
    "**Intializations**"
   ]
  },
  {
   "cell_type": "code",
   "execution_count": 3,
   "id": "046baa36-6a96-4667-8cba-3248879451fe",
   "metadata": {},
   "outputs": [],
   "source": [
    "str1='python'"
   ]
  },
  {
   "cell_type": "code",
   "execution_count": 5,
   "id": "9d4a5538-9550-4a4a-a844-e918a745bc5d",
   "metadata": {},
   "outputs": [],
   "source": [
    "str2=\"python\""
   ]
  },
  {
   "cell_type": "code",
   "execution_count": 7,
   "id": "1eef1161-fcc1-4b71-b03d-3dd4e85d1a7c",
   "metadata": {},
   "outputs": [
    {
     "data": {
      "text/plain": [
       "\"I like 'python'\""
      ]
     },
     "execution_count": 7,
     "metadata": {},
     "output_type": "execute_result"
    }
   ],
   "source": [
    "str3=\"I like 'python'\"\n",
    "str3"
   ]
  },
  {
   "cell_type": "code",
   "execution_count": 9,
   "id": "4f06ec00-d91e-4c16-8725-4f29f37d6408",
   "metadata": {},
   "outputs": [
    {
     "data": {
      "text/plain": [
       "'I like \"Python\"'"
      ]
     },
     "execution_count": 9,
     "metadata": {},
     "output_type": "execute_result"
    }
   ],
   "source": [
    "str4='I like \"Python\"'\n",
    "str4"
   ]
  },
  {
   "cell_type": "code",
   "execution_count": 1,
   "id": "d6422e7b-8ea9-4ce3-8a7c-239a2380aa79",
   "metadata": {},
   "outputs": [
    {
     "data": {
      "text/plain": [
       "str"
      ]
     },
     "execution_count": 1,
     "metadata": {},
     "output_type": "execute_result"
    }
   ],
   "source": [
    "str1='python'\n",
    "type(str1)  # ans"
   ]
  },
  {
   "cell_type": "code",
   "execution_count": 3,
   "id": "e598dc22-ba4d-4588-8ca3-effda52eb45d",
   "metadata": {},
   "outputs": [
    {
     "name": "stdout",
     "output_type": "stream",
     "text": [
      "python\n"
     ]
    }
   ],
   "source": [
    "print(str1)"
   ]
  },
  {
   "cell_type": "code",
   "execution_count": 7,
   "id": "2418e7ce-6fd6-47e3-a41f-5b8ffa8ad5a1",
   "metadata": {},
   "outputs": [
    {
     "data": {
      "text/plain": [
       "6"
      ]
     },
     "execution_count": 7,
     "metadata": {},
     "output_type": "execute_result"
    }
   ],
   "source": [
    "str1='python'\n",
    "len(str1)"
   ]
  },
  {
   "cell_type": "code",
   "execution_count": 9,
   "id": "d6ce0d78-bc3b-418e-9934-53a342af691c",
   "metadata": {},
   "outputs": [
    {
     "data": {
      "text/plain": [
       "'h'"
      ]
     },
     "execution_count": 9,
     "metadata": {},
     "output_type": "execute_result"
    }
   ],
   "source": [
    "min(str1)"
   ]
  },
  {
   "cell_type": "code",
   "execution_count": 11,
   "id": "31ebfe4b-2308-45fe-a057-951874da480d",
   "metadata": {},
   "outputs": [
    {
     "data": {
      "text/plain": [
       "'y'"
      ]
     },
     "execution_count": 11,
     "metadata": {},
     "output_type": "execute_result"
    }
   ],
   "source": [
    "max(str1)"
   ]
  },
  {
   "cell_type": "code",
   "execution_count": 15,
   "id": "a19f805f-2e33-4d36-9bc0-8949966623e1",
   "metadata": {},
   "outputs": [
    {
     "data": {
      "text/plain": [
       "(49, 112)"
      ]
     },
     "execution_count": 15,
     "metadata": {},
     "output_type": "execute_result"
    }
   ],
   "source": [
    "min('123')\n",
    "ord('1'),ord('p')"
   ]
  },
  {
   "cell_type": "code",
   "execution_count": 17,
   "id": "53c209a8-73fd-440d-bd7b-c9459b805cf7",
   "metadata": {},
   "outputs": [
    {
     "data": {
      "text/plain": [
       "'1'"
      ]
     },
     "execution_count": 17,
     "metadata": {},
     "output_type": "execute_result"
    }
   ],
   "source": [
    "min('python123')"
   ]
  },
  {
   "cell_type": "code",
   "execution_count": 53,
   "id": "11815ddd-3838-416d-b256-036e978a8d77",
   "metadata": {},
   "outputs": [
    {
     "data": {
      "text/plain": [
       "'y'"
      ]
     },
     "execution_count": 53,
     "metadata": {},
     "output_type": "execute_result"
    }
   ],
   "source": [
    "max('python')"
   ]
  },
  {
   "cell_type": "code",
   "execution_count": null,
   "id": "0d5e197b-7c96-4f66-8c18-f16dae592e7a",
   "metadata": {},
   "outputs": [],
   "source": []
  },
  {
   "cell_type": "code",
   "execution_count": 19,
   "id": "c7c75f62-ae0a-48cf-b79f-6a253fd36796",
   "metadata": {},
   "outputs": [
    {
     "ename": "TypeError",
     "evalue": "unsupported operand type(s) for +: 'int' and 'str'",
     "output_type": "error",
     "traceback": [
      "\u001b[1;31m---------------------------------------------------------------------------\u001b[0m",
      "\u001b[1;31mTypeError\u001b[0m                                 Traceback (most recent call last)",
      "Cell \u001b[1;32mIn[19], line 1\u001b[0m\n\u001b[1;32m----> 1\u001b[0m \u001b[38;5;28msum\u001b[39m(\u001b[38;5;124m'\u001b[39m\u001b[38;5;124mpython\u001b[39m\u001b[38;5;124m'\u001b[39m)\n",
      "\u001b[1;31mTypeError\u001b[0m: unsupported operand type(s) for +: 'int' and 'str'"
     ]
    }
   ],
   "source": [
    "sum('python')"
   ]
  },
  {
   "cell_type": "code",
   "execution_count": 21,
   "id": "9dcf8d3c-150f-4fbe-a783-0f924b90f740",
   "metadata": {},
   "outputs": [
    {
     "ename": "TypeError",
     "evalue": "unsupported operand type(s) for +: 'int' and 'str'",
     "output_type": "error",
     "traceback": [
      "\u001b[1;31m---------------------------------------------------------------------------\u001b[0m",
      "\u001b[1;31mTypeError\u001b[0m                                 Traceback (most recent call last)",
      "Cell \u001b[1;32mIn[21], line 1\u001b[0m\n\u001b[1;32m----> 1\u001b[0m \u001b[38;5;28msum\u001b[39m(\u001b[38;5;124m'\u001b[39m\u001b[38;5;124m123\u001b[39m\u001b[38;5;124m'\u001b[39m)\n",
      "\u001b[1;31mTypeError\u001b[0m: unsupported operand type(s) for +: 'int' and 'str'"
     ]
    }
   ],
   "source": [
    "sum('123')"
   ]
  },
  {
   "cell_type": "code",
   "execution_count": null,
   "id": "d40eadb3-61bf-4811-8be2-be34d4f5cd5a",
   "metadata": {},
   "outputs": [],
   "source": [
    "type\n",
    "print\n",
    "len\n",
    "min\n",
    "max\n",
    "sum  # Not working"
   ]
  },
  {
   "cell_type": "code",
   "execution_count": 24,
   "id": "c58aa46f-e896-4a11-9de3-bba4636d1ec7",
   "metadata": {},
   "outputs": [
    {
     "data": {
      "text/plain": [
       "['h', 'n', 'o', 'p', 't', 'y']"
      ]
     },
     "execution_count": 24,
     "metadata": {},
     "output_type": "execute_result"
    }
   ],
   "source": [
    "sorted('python')"
   ]
  },
  {
   "cell_type": "markdown",
   "id": "8b44afdf-19e7-4c78-b83d-1e36e1561ded",
   "metadata": {},
   "source": [
    "**iterable**\n",
    "\n",
    "- anything can iterate through loop\n",
    "\n",
    "- string list tuple dictionary"
   ]
  },
  {
   "cell_type": "code",
   "execution_count": 26,
   "id": "73f6e95d-e5ae-42e8-92ca-6ccebfcdf40b",
   "metadata": {},
   "outputs": [
    {
     "data": {
      "text/plain": [
       "['h', 'n', 'o', 'p', 't', 'y']"
      ]
     },
     "execution_count": 26,
     "metadata": {},
     "output_type": "execute_result"
    }
   ],
   "source": [
    "# sorted('python')\n",
    "sorted('python',reverse=False)\n",
    "# ascending order"
   ]
  },
  {
   "cell_type": "code",
   "execution_count": 28,
   "id": "930c7c9e-8aac-4e70-9590-24931a16285d",
   "metadata": {},
   "outputs": [
    {
     "data": {
      "text/plain": [
       "['y', 't', 'p', 'o', 'n', 'h']"
      ]
     },
     "execution_count": 28,
     "metadata": {},
     "output_type": "execute_result"
    }
   ],
   "source": [
    "sorted('python',reverse=True)\n",
    "# descending order"
   ]
  },
  {
   "cell_type": "code",
   "execution_count": null,
   "id": "e429e391-eec4-48b4-a75c-1b4ab93fe2da",
   "metadata": {},
   "outputs": [],
   "source": [
    "sorted('python')\n",
    "sorted('python',reverse=False)\n",
    "sorted('python',reverse=True)"
   ]
  },
  {
   "cell_type": "markdown",
   "id": "7f80b50a-2272-4dd7-b8fe-5445222a9222",
   "metadata": {},
   "source": [
    "**reversed**\n",
    "\n",
    "- sequence means string list tuple dictionary"
   ]
  },
  {
   "cell_type": "code",
   "execution_count": 32,
   "id": "79d85d04-4ff7-4460-bdcc-b9949f03353f",
   "metadata": {},
   "outputs": [
    {
     "data": {
      "text/plain": [
       "<reversed at 0x1da57a941f0>"
      ]
     },
     "execution_count": 32,
     "metadata": {},
     "output_type": "execute_result"
    }
   ],
   "source": [
    "reversed('python')\n",
    "# It is already reveresed\n",
    "# answer located a memory \n",
    "# <memory>"
   ]
  },
  {
   "cell_type": "code",
   "execution_count": 1,
   "id": "ff70741c-8d9b-43eb-9c3f-96c9ff16043e",
   "metadata": {},
   "outputs": [
    {
     "name": "stdout",
     "output_type": "stream",
     "text": [
      "n o h t y p "
     ]
    }
   ],
   "source": [
    "out=reversed('python')\n",
    "for i in out:\n",
    "    print(i,end=' ')"
   ]
  },
  {
   "cell_type": "code",
   "execution_count": 14,
   "id": "886894d1-f596-48ec-917e-7513dd14eaa8",
   "metadata": {},
   "outputs": [
    {
     "data": {
      "text/plain": [
       "['n', 'o', 'h', 't', 'y', 'p']"
      ]
     },
     "execution_count": 14,
     "metadata": {},
     "output_type": "execute_result"
    }
   ],
   "source": [
    "list(reversed('python'))"
   ]
  },
  {
   "cell_type": "code",
   "execution_count": 4,
   "id": "bf891a2d-59f9-4b98-8f59-a4fd2de4951d",
   "metadata": {},
   "outputs": [
    {
     "name": "stdout",
     "output_type": "stream",
     "text": [
      "uu era woh"
     ]
    }
   ],
   "source": [
    "d=reversed(\"how are uu\")\n",
    "for i in d:\n",
    "    print(i,end='')"
   ]
  },
  {
   "cell_type": "code",
   "execution_count": 7,
   "id": "7ef6a6b8-2a1a-4ec1-ab81-1e202f4d8e3e",
   "metadata": {},
   "outputs": [
    {
     "data": {
      "text/plain": [
       "'dip@k'"
      ]
     },
     "execution_count": 7,
     "metadata": {},
     "output_type": "execute_result"
    }
   ],
   "source": [
    "s='dipak'\n",
    "if 'a' in s:\n",
    "    s=s.replace('a','@')\n",
    "else:\n",
    "    print(\"not in list\")\n",
    "s                         # tryy"
   ]
  },
  {
   "cell_type": "code",
   "execution_count": 16,
   "id": "e9180b50-2ee2-4e3e-923d-ab0970ea3304",
   "metadata": {},
   "outputs": [
    {
     "data": {
      "text/plain": [
       "'odd'"
      ]
     },
     "execution_count": 16,
     "metadata": {},
     "output_type": "execute_result"
    }
   ],
   "source": [
    "even_odd = lambda x : f\"{'even'}\" if x % 2 == 0 else f\"{'odd'}\" \n",
    "even_odd(33)"
   ]
  },
  {
   "cell_type": "markdown",
   "id": "d88441d5-a9af-4149-843d-a9c49a6966d9",
   "metadata": {},
   "source": [
    "**Concatenation**"
   ]
  },
  {
   "cell_type": "code",
   "execution_count": 41,
   "id": "0b97fe34-4ba1-4cb7-9caa-4f81db034edb",
   "metadata": {},
   "outputs": [
    {
     "data": {
      "text/plain": [
       "'hellopython'"
      ]
     },
     "execution_count": 41,
     "metadata": {},
     "output_type": "execute_result"
    }
   ],
   "source": [
    "str1='hello'\n",
    "str2='python'\n",
    "str1+str2\n"
   ]
  },
  {
   "cell_type": "code",
   "execution_count": 43,
   "id": "8b20b4eb-1c1f-40f4-b04f-2d5cc613b4a3",
   "metadata": {},
   "outputs": [
    {
     "ename": "TypeError",
     "evalue": "unsupported operand type(s) for -: 'str' and 'str'",
     "output_type": "error",
     "traceback": [
      "\u001b[1;31m---------------------------------------------------------------------------\u001b[0m",
      "\u001b[1;31mTypeError\u001b[0m                                 Traceback (most recent call last)",
      "Cell \u001b[1;32mIn[43], line 1\u001b[0m\n\u001b[1;32m----> 1\u001b[0m str1\u001b[38;5;241m-\u001b[39mstr2\n",
      "\u001b[1;31mTypeError\u001b[0m: unsupported operand type(s) for -: 'str' and 'str'"
     ]
    }
   ],
   "source": [
    "str1-str2"
   ]
  },
  {
   "cell_type": "code",
   "execution_count": 45,
   "id": "e978f116-df45-4520-abe3-e46d4ca1ffa7",
   "metadata": {},
   "outputs": [
    {
     "ename": "TypeError",
     "evalue": "unsupported operand type(s) for /: 'str' and 'str'",
     "output_type": "error",
     "traceback": [
      "\u001b[1;31m---------------------------------------------------------------------------\u001b[0m",
      "\u001b[1;31mTypeError\u001b[0m                                 Traceback (most recent call last)",
      "Cell \u001b[1;32mIn[45], line 1\u001b[0m\n\u001b[1;32m----> 1\u001b[0m str1\u001b[38;5;241m/\u001b[39mstr2\n",
      "\u001b[1;31mTypeError\u001b[0m: unsupported operand type(s) for /: 'str' and 'str'"
     ]
    }
   ],
   "source": [
    "str1/str2"
   ]
  },
  {
   "cell_type": "code",
   "execution_count": 47,
   "id": "967f6ef6-7e71-4610-876d-e3989c35d174",
   "metadata": {},
   "outputs": [
    {
     "ename": "TypeError",
     "evalue": "can't multiply sequence by non-int of type 'str'",
     "output_type": "error",
     "traceback": [
      "\u001b[1;31m---------------------------------------------------------------------------\u001b[0m",
      "\u001b[1;31mTypeError\u001b[0m                                 Traceback (most recent call last)",
      "Cell \u001b[1;32mIn[47], line 1\u001b[0m\n\u001b[1;32m----> 1\u001b[0m str1\u001b[38;5;241m*\u001b[39mstr2\n",
      "\u001b[1;31mTypeError\u001b[0m: can't multiply sequence by non-int of type 'str'"
     ]
    }
   ],
   "source": [
    "str1*str2"
   ]
  },
  {
   "cell_type": "code",
   "execution_count": null,
   "id": "d267e0cd-dac3-433b-a661-71e451e82d50",
   "metadata": {},
   "outputs": [],
   "source": [
    "str1-str2\n",
    "TypeError: unsupported operand type(s) for -: 'str' and 'str'\n",
    "str1/str2\n",
    "TypeError: unsupported operand type(s) for /: 'str' and 'str'\n",
    "str1*str2\n",
    "TypeError: can't multiply sequence by non-int of type 'str'"
   ]
  },
  {
   "cell_type": "code",
   "execution_count": 49,
   "id": "1c2d0533-2f42-4b8b-bcef-71841668d2ec",
   "metadata": {},
   "outputs": [
    {
     "data": {
      "text/plain": [
       "'pythonpython'"
      ]
     },
     "execution_count": 49,
     "metadata": {},
     "output_type": "execute_result"
    }
   ],
   "source": [
    "'python'*2"
   ]
  },
  {
   "cell_type": "code",
   "execution_count": 51,
   "id": "1ebdbc23-611a-4ad6-aec4-7a7bf6bdef45",
   "metadata": {},
   "outputs": [
    {
     "data": {
      "text/plain": [
       "'pythonpython'"
      ]
     },
     "execution_count": 51,
     "metadata": {},
     "output_type": "execute_result"
    }
   ],
   "source": [
    "'python'+'python'"
   ]
  },
  {
   "cell_type": "markdown",
   "id": "78e37cf6-65e8-4e4e-9b40-33bde1cbbe49",
   "metadata": {},
   "source": [
    "**index**"
   ]
  },
  {
   "cell_type": "code",
   "execution_count": null,
   "id": "c4306237-6a77-4013-bae1-f7e3ec0ac625",
   "metadata": {},
   "outputs": [],
   "source": [
    "# ()  indicates function call\n",
    "# []  access the elements or values"
   ]
  },
  {
   "cell_type": "code",
   "execution_count": null,
   "id": "a7a62019-9fba-4d00-b947-5233f8cb18e7",
   "metadata": {},
   "outputs": [],
   "source": [
    "-6  -5   -4   -3   -2   -1\n",
    "p    y    t    h    o    n\n",
    "0    1    2    3    4    5"
   ]
  },
  {
   "cell_type": "code",
   "execution_count": 2,
   "id": "82656426-88cb-4104-934b-4a510d5fc418",
   "metadata": {},
   "outputs": [
    {
     "data": {
      "text/plain": [
       "('p', 'p')"
      ]
     },
     "execution_count": 2,
     "metadata": {},
     "output_type": "execute_result"
    }
   ],
   "source": [
    "str1='python'\n",
    "str1[0],str1[-6]"
   ]
  },
  {
   "cell_type": "code",
   "execution_count": 3,
   "id": "5d52b06b-0edf-4192-881e-28aa3b7c112f",
   "metadata": {},
   "outputs": [
    {
     "ename": "IndexError",
     "evalue": "string index out of range",
     "output_type": "error",
     "traceback": [
      "\u001b[1;31m---------------------------------------------------------------------------\u001b[0m",
      "\u001b[1;31mIndexError\u001b[0m                                Traceback (most recent call last)",
      "Cell \u001b[1;32mIn[3], line 1\u001b[0m\n\u001b[1;32m----> 1\u001b[0m str1[\u001b[38;5;241m6\u001b[39m]\n",
      "\u001b[1;31mIndexError\u001b[0m: string index out of range"
     ]
    }
   ],
   "source": [
    "str1[6]"
   ]
  },
  {
   "cell_type": "code",
   "execution_count": null,
   "id": "217cea88-7674-4661-8b5a-7f57b3f5534f",
   "metadata": {},
   "outputs": [],
   "source": [
    "str1='python'\n",
    "print(str1[0])\n",
    "print(str1[1])\n",
    "print(str1[2])\n",
    "print(str1[3])\n",
    "print(str1[4])\n",
    "print(str1[5])\n",
    "\n",
    "#print(str1[i])   i=== 0  to 6"
   ]
  },
  {
   "cell_type": "code",
   "execution_count": null,
   "id": "ce7f4eb3-90e6-4956-97ca-a8328200eb9c",
   "metadata": {},
   "outputs": [],
   "source": [
    "str1='python hello'\n",
    "n=len(str1) # human count only \n",
    "for i in range(n):\n",
    "    print(str1[i])"
   ]
  },
  {
   "cell_type": "code",
   "execution_count": 4,
   "id": "0dfab036-9a71-463a-90bc-c46495d46c98",
   "metadata": {},
   "outputs": [
    {
     "name": "stdout",
     "output_type": "stream",
     "text": [
      "p y t h o n "
     ]
    }
   ],
   "source": [
    "str1='python'\n",
    "n=len(str1) # human count only \n",
    "for i in range(n):\n",
    "    print(str1[i],end=' ')"
   ]
  },
  {
   "cell_type": "code",
   "execution_count": 5,
   "id": "94cac478-00d8-4850-9a9a-4b31a0168be1",
   "metadata": {},
   "outputs": [
    {
     "name": "stdout",
     "output_type": "stream",
     "text": [
      "p y t h o n "
     ]
    }
   ],
   "source": [
    "for i in str1:\n",
    "    print(i,end=' ')"
   ]
  },
  {
   "cell_type": "code",
   "execution_count": null,
   "id": "4952d854-5a15-4ca9-b3ab-237a07051701",
   "metadata": {},
   "outputs": [],
   "source": [
    "i in range()  ==== i behave as number\n",
    "str1[i]\n",
    "i in str1     ==== i behave as element\n",
    "i"
   ]
  },
  {
   "cell_type": "markdown",
   "id": "ea3967b1-2d19-4fe0-b2a2-20f7baaae18a",
   "metadata": {},
   "source": [
    "**Note**\n",
    "\n",
    "- when you have a use case with index then use range method access\n",
    "\n",
    "- when you have a use case with out index then use in method access"
   ]
  },
  {
   "cell_type": "code",
   "execution_count": 1,
   "id": "3f30af88-c11e-4625-8756-993dd7c68c9f",
   "metadata": {},
   "outputs": [
    {
     "name": "stdout",
     "output_type": "stream",
     "text": [
      "1 5 9 "
     ]
    }
   ],
   "source": [
    "# Q1) WAP ask the user get a indexes of 'a' from a given string\n",
    "#     str1='hai hai hai'  \n",
    "#     ans: 1,5,9\n",
    "\n",
    "# idea: \n",
    "# step-1: iterate each letter using range\n",
    "# step-2: if str1[i]=='a'\n",
    "# step-3:    i\n",
    "str1='hai hai hai'\n",
    "n=len(str1)\n",
    "for i in range(n):\n",
    "    #print(n-i,str1[i],i)\n",
    "    if str1[i]=='a':\n",
    "        print(i,end=' ')\n",
    "# step-1: i=0  if str1[0]=='a'  'h'=='a'   F\n",
    "# step-2: i=1  if str1[1]=='a'   'a'=='a'  T  print(1)"
   ]
  },
  {
   "cell_type": "code",
   "execution_count": 96,
   "id": "f3c4b500-9280-457d-b052-118c07465a2f",
   "metadata": {},
   "outputs": [
    {
     "name": "stdout",
     "output_type": "stream",
     "text": [
      "3\n"
     ]
    }
   ],
   "source": [
    "# Q2) Wap ask the user how many 'a' are present \n",
    "#   str1='hai hai hai'  ans=3\n",
    "\n",
    "str1='hai hai hai'\n",
    "n=len(str1)\n",
    "count=0\n",
    "for i in range(n):\n",
    "    if str1[i]=='a':\n",
    "        count=count+1\n",
    "print(count)"
   ]
  },
  {
   "cell_type": "code",
   "execution_count": 98,
   "id": "b1e2c465-d2f2-4d73-b0e6-37757fec683e",
   "metadata": {},
   "outputs": [
    {
     "name": "stdout",
     "output_type": "stream",
     "text": [
      "3\n"
     ]
    }
   ],
   "source": [
    "str1='hai hai hai'\n",
    "count=0\n",
    "for i in str1:\n",
    "    if i=='a':\n",
    "        count=count+1\n",
    "print(count)"
   ]
  },
  {
   "cell_type": "code",
   "execution_count": 1,
   "id": "446de110-f97f-4a77-beaa-63ab6622cfb9",
   "metadata": {},
   "outputs": [
    {
     "name": "stdout",
     "output_type": "stream",
     "text": [
      "0\n"
     ]
    }
   ],
   "source": [
    "# Q3) Wap ask the user find the all vowels ('a e i o u')\n",
    "# str1='hello hai how are you'\n",
    "# all vowels and count also\n",
    "\n",
    "str5='hello hai how are you'\n",
    "str6='aeiou'\n",
    "count=0\n",
    "for i in str5:\n",
    "    if i == 0:\n",
    "            print(i)\n",
    "            count+=1\n",
    "print(count)"
   ]
  },
  {
   "cell_type": "code",
   "execution_count": 102,
   "id": "a42eb4d6-3630-48b4-8e68-138962f3d2c9",
   "metadata": {},
   "outputs": [
    {
     "name": "stdout",
     "output_type": "stream",
     "text": [
      "e\n",
      "o\n",
      "a\n",
      "i\n",
      "o\n",
      "a\n",
      "e\n",
      "o\n",
      "u\n"
     ]
    }
   ],
   "source": [
    "# 1: No need of range here\n",
    "str1 = 'hello hai how are you'\n",
    "for i in str1:\n",
    "    if i in 'aeiou':\n",
    "        print(i)\n",
    "\n",
    "# step-1: i='h'  if 'h' in 'aeiou'  F\n",
    "# step-2: i='e'  if 'e' in 'aeiou'  T"
   ]
  },
  {
   "cell_type": "code",
   "execution_count": null,
   "id": "58a8ca20-d141-4201-b436-9d5760422853",
   "metadata": {},
   "outputs": [],
   "source": [
    "# Q4) Update above code with\n",
    "#   only one vowel"
   ]
  },
  {
   "cell_type": "markdown",
   "id": "c4ccb1b0-c66d-4f22-b865-f468b239fd01",
   "metadata": {},
   "source": [
    "**Empty string**"
   ]
  },
  {
   "cell_type": "code",
   "execution_count": 107,
   "id": "7b6dafb5-68bd-4649-be12-7c451c025148",
   "metadata": {},
   "outputs": [
    {
     "data": {
      "text/plain": [
       "'py'"
      ]
     },
     "execution_count": 107,
     "metadata": {},
     "output_type": "execute_result"
    }
   ],
   "source": [
    "s=''\n",
    "s=s+'p'\n",
    "s=s+'y'\n"
   ]
  },
  {
   "cell_type": "code",
   "execution_count": 109,
   "id": "afea4590-d6b1-43c8-992e-705c716f6f2d",
   "metadata": {},
   "outputs": [
    {
     "name": "stdout",
     "output_type": "stream",
     "text": [
      "python\n"
     ]
    }
   ],
   "source": [
    "str1='python'\n",
    "s=''\n",
    "for i in str1:\n",
    "    s=s+i\n",
    "print(s)"
   ]
  },
  {
   "cell_type": "code",
   "execution_count": 113,
   "id": "e6eec72b-7361-4ce0-9c87-e79f2327da96",
   "metadata": {},
   "outputs": [
    {
     "data": {
      "text/plain": [
       "'b@n@n@'"
      ]
     },
     "execution_count": 113,
     "metadata": {},
     "output_type": "execute_result"
    }
   ],
   "source": [
    "# Q5) reverse a string\n",
    "# str1='python'\n",
    "# s='nohtyp'\n",
    "\n",
    "# Q6) remove the spaces in a string\n",
    "# str1='hai how are you'\n",
    "# s='haihowareyou'\n",
    "\n",
    "# Q7) remove digits from string\n",
    "# str1='hai123hello435'\n",
    "# s='haihello'\n",
    "\n",
    "#Q8) str1='banana'\n",
    "#     s='b@n@n@'\n",
    "\n"
   ]
  },
  {
   "cell_type": "code",
   "execution_count": 11,
   "id": "794fdf5a-8cf6-48d5-999f-bb13f15b7b9a",
   "metadata": {},
   "outputs": [
    {
     "data": {
      "text/plain": [
       "'b@n@n@'"
      ]
     },
     "execution_count": 11,
     "metadata": {},
     "output_type": "execute_result"
    }
   ],
   "source": [
    "str1='banana'\n",
    "s=''\n",
    "for i in str1:\n",
    "    if i == 'a':\n",
    "        s=s+'@'\n",
    "    else:\n",
    "        s=s+i\n",
    "s"
   ]
  },
  {
   "cell_type": "code",
   "execution_count": null,
   "id": "d96615d4-422d-4bca-8a9e-17607d65b174",
   "metadata": {},
   "outputs": [],
   "source": []
  },
  {
   "cell_type": "code",
   "execution_count": 10,
   "id": "cd63c8bf-f915-4999-8d00-7670eef6591d",
   "metadata": {},
   "outputs": [
    {
     "data": {
      "text/plain": [
       "'dip@k'"
      ]
     },
     "execution_count": 10,
     "metadata": {},
     "output_type": "execute_result"
    }
   ],
   "source": [
    "str2='dipak'\n",
    "s=''\n",
    "for i in str2:\n",
    "    if i == 'a':\n",
    "        s=s+'@'\n",
    "    else:\n",
    "        s=s+i\n",
    "\n",
    "s"
   ]
  },
  {
   "cell_type": "code",
   "execution_count": 18,
   "id": "6767d141-a246-4211-a89d-df4e9c43ab4b",
   "metadata": {},
   "outputs": [
    {
     "name": "stdout",
     "output_type": "stream",
     "text": [
      "n o h t y p "
     ]
    }
   ],
   "source": [
    "# Q5) reverse a string\n",
    "# str1='python'\n",
    "# s='nohtyp'\n",
    "\n",
    "str1='python'\n",
    "for i in reversed(str1):\n",
    "    print(i,end=' ')\n",
    "    "
   ]
  },
  {
   "cell_type": "code",
   "execution_count": 2,
   "id": "b6f1dba0-4634-4c12-ae2a-902db609cba2",
   "metadata": {},
   "outputs": [
    {
     "data": {
      "text/plain": [
       "'haihowareyou'"
      ]
     },
     "execution_count": 2,
     "metadata": {},
     "output_type": "execute_result"
    }
   ],
   "source": [
    "# Q6) remove the spaces in a string\n",
    "# str1='hai how are you'\n",
    "# s='haihowareyou'\n",
    "\n",
    "str1='hai how are you'\n",
    "s=''\n",
    "for i in str1:\n",
    "    if i !=\" \":\n",
    "        s=s+i\n",
    "\n",
    "s"
   ]
  },
  {
   "cell_type": "markdown",
   "id": "77c446b3-64e9-4c0c-a65a-38f1e1ec49fc",
   "metadata": {},
   "source": [
    "**mutable-immutable**\n",
    "\n",
    "- mutable means change the charecter **using index**\n",
    "\n",
    "- immutable means not able to change the charecter **using index** "
   ]
  },
  {
   "cell_type": "code",
   "execution_count": 15,
   "id": "a620dc65-8703-4f56-b5cc-2ffa75285600",
   "metadata": {},
   "outputs": [
    {
     "name": "stdout",
     "output_type": "stream",
     "text": [
      "before change: [4, 5, 6]\n",
      "after change: [10, 5, 6]\n"
     ]
    }
   ],
   "source": [
    "str1=[4,5,6,]\n",
    "print(f\"before change:\",str1) # chengeable\n",
    "\n",
    "str1[0] = 10\n",
    "print(f\"after change:\",str1) # unchangeable"
   ]
  },
  {
   "cell_type": "code",
   "execution_count": 6,
   "id": "1cb5e351-4442-40a4-b52d-a14b72e58698",
   "metadata": {},
   "outputs": [
    {
     "name": "stdout",
     "output_type": "stream",
     "text": [
      "before change: [1, 2, 3]\n",
      "after change: [10, 2, 3]\n"
     ]
    }
   ],
   "source": [
    "list1 = [1, 2, 3]\n",
    "print(\"before change:\", list1)\n",
    "\n",
    "list1[0] = 10 \n",
    "print(\"after change:\",list1)"
   ]
  },
  {
   "cell_type": "code",
   "execution_count": 19,
   "id": "4a78e4a5-4de7-463a-be03-466849b4bfe3",
   "metadata": {},
   "outputs": [
    {
     "data": {
      "text/plain": [
       "'l'"
      ]
     },
     "execution_count": 19,
     "metadata": {},
     "output_type": "execute_result"
    }
   ],
   "source": [
    "str2='hyy hello dipak'\n",
    "str2[7]"
   ]
  },
  {
   "cell_type": "code",
   "execution_count": 21,
   "id": "1e69dccb-f847-4c50-808b-c889994c0b5f",
   "metadata": {},
   "outputs": [
    {
     "data": {
      "text/plain": [
       "'m'"
      ]
     },
     "execution_count": 21,
     "metadata": {},
     "output_type": "execute_result"
    }
   ],
   "source": [
    "str1='welcome'\n",
    "# 'l' to 'l'\n",
    "# 'welcome'\n",
    "str1[5]"
   ]
  },
  {
   "cell_type": "code",
   "execution_count": 7,
   "id": "85e5f912-5a0e-4aad-b940-bca99099d8e0",
   "metadata": {},
   "outputs": [
    {
     "data": {
      "text/plain": [
       "[10, 20, 300, 40]"
      ]
     },
     "execution_count": 7,
     "metadata": {},
     "output_type": "execute_result"
    }
   ],
   "source": [
    "l=[10,20,30,40]\n",
    "l[2]=300\n",
    "l"
   ]
  },
  {
   "cell_type": "markdown",
   "id": "3284d051-4c36-461b-a703-03a9b0fdcd77",
   "metadata": {},
   "source": [
    "**slice**\n",
    "\n",
    "- extract some portion of string : sub string"
   ]
  },
  {
   "cell_type": "code",
   "execution_count": 4,
   "id": "50a1b394-00a5-45b3-bd44-185984dd91a0",
   "metadata": {},
   "outputs": [
    {
     "data": {
      "text/plain": [
       "15"
      ]
     },
     "execution_count": 4,
     "metadata": {},
     "output_type": "execute_result"
    }
   ],
   "source": [
    "str1='hai how are you'\n",
    "len(str1)"
   ]
  },
  {
   "cell_type": "code",
   "execution_count": null,
   "id": "ac85bfa5-a0e6-4296-9eb3-3ffbd2418120",
   "metadata": {},
   "outputs": [],
   "source": [
    "-15  -14  -13  -12  -11  -10  -9  -8  -7  -6  -5  -4  -3  -2  -1 \n",
    " h    a    i         h    o    w       a   r   e      y    o    u\n",
    " 0    1    2    3    4    5    6   7   8   9  10  11  12   13  14"
   ]
  },
  {
   "cell_type": "markdown",
   "id": "0ca317a6-dc9b-4b41-9701-57032868eb3f",
   "metadata": {},
   "source": [
    "**str1[start:stop:step]====>range(start,stop,step)**"
   ]
  },
  {
   "cell_type": "markdown",
   "id": "a6df7d59-bf19-4665-80c5-364f60129724",
   "metadata": {},
   "source": [
    "**case-1**\n",
    "\n",
    "- str1[start:stop:step]====>range(start,stop,step)"
   ]
  },
  {
   "cell_type": "code",
   "execution_count": 5,
   "id": "ffa96293-6065-4641-a3d7-9c9103957cac",
   "metadata": {},
   "outputs": [
    {
     "data": {
      "text/plain": [
       "'i how ar'"
      ]
     },
     "execution_count": 5,
     "metadata": {},
     "output_type": "execute_result"
    }
   ],
   "source": [
    "str1[2:10]"
   ]
  },
  {
   "cell_type": "code",
   "execution_count": 6,
   "id": "c51553b7-e112-447f-9c82-6ce4e146de60",
   "metadata": {},
   "outputs": [
    {
     "data": {
      "text/plain": [
       "'ioa '"
      ]
     },
     "execution_count": 6,
     "metadata": {},
     "output_type": "execute_result"
    }
   ],
   "source": [
    "str1[2:14:3]  # start=2  last=14  2 5 8 11"
   ]
  },
  {
   "cell_type": "code",
   "execution_count": null,
   "id": "5b6a52a5-2e9a-4b5f-bf43-91cca432fa4c",
   "metadata": {},
   "outputs": [],
   "source": [
    "-15  -14  -13  -12  -11  -10  -9  -8  -7  -6 -5  -4  -3  -2  -1 \n",
    " h    a    i         h    o    w      a   r   e       y   o    u\n",
    " 0    1    2     3   4    5    6   7   8   9  10  11  12   13  14\n",
    "\n",
    "for i in range(2,-4):\n",
    "    print(i)"
   ]
  },
  {
   "cell_type": "code",
   "execution_count": 14,
   "id": "e7071324-2b45-4306-ba9c-2c7590cb339c",
   "metadata": {},
   "outputs": [
    {
     "data": {
      "text/plain": [
       "'i how are'"
      ]
     },
     "execution_count": 14,
     "metadata": {},
     "output_type": "execute_result"
    }
   ],
   "source": [
    "str1[2:-4]"
   ]
  },
  {
   "cell_type": "code",
   "execution_count": 15,
   "id": "43362b0f-b7a5-477c-a343-87b7629d43a4",
   "metadata": {},
   "outputs": [
    {
     "data": {
      "text/plain": [
       "'ihwaey'"
      ]
     },
     "execution_count": 15,
     "metadata": {},
     "output_type": "execute_result"
    }
   ],
   "source": [
    "str1[2:-2:2]"
   ]
  },
  {
   "cell_type": "code",
   "execution_count": 17,
   "id": "351a6e5e-0daa-4352-acd4-e52573d3a724",
   "metadata": {},
   "outputs": [
    {
     "data": {
      "text/plain": [
       "''"
      ]
     },
     "execution_count": 17,
     "metadata": {},
     "output_type": "execute_result"
    }
   ],
   "source": [
    "str1[2:-2:-1]"
   ]
  },
  {
   "cell_type": "code",
   "execution_count": 18,
   "id": "78a7f1b1-6d28-4a50-a7a9-8bbf194eec4c",
   "metadata": {},
   "outputs": [
    {
     "data": {
      "text/plain": [
       "'w'"
      ]
     },
     "execution_count": 18,
     "metadata": {},
     "output_type": "execute_result"
    }
   ],
   "source": [
    "str1[-9:5:-15]"
   ]
  },
  {
   "cell_type": "code",
   "execution_count": 19,
   "id": "218b0aaf-9015-46ae-8336-3b9d6fa4b330",
   "metadata": {},
   "outputs": [
    {
     "data": {
      "text/plain": [
       "'h'"
      ]
     },
     "execution_count": 19,
     "metadata": {},
     "output_type": "execute_result"
    }
   ],
   "source": [
    "str1[0:-11:6]"
   ]
  },
  {
   "cell_type": "code",
   "execution_count": 20,
   "id": "f1dd899e-ce71-4ac6-95b1-193015bd03d0",
   "metadata": {},
   "outputs": [
    {
     "data": {
      "text/plain": [
       "''"
      ]
     },
     "execution_count": 20,
     "metadata": {},
     "output_type": "execute_result"
    }
   ],
   "source": [
    "str1[-4:14:-1]"
   ]
  },
  {
   "cell_type": "code",
   "execution_count": 24,
   "id": "c9167ec9-2093-4dfc-830f-a990d2655e98",
   "metadata": {},
   "outputs": [
    {
     "data": {
      "text/plain": [
       "'i'"
      ]
     },
     "execution_count": 24,
     "metadata": {},
     "output_type": "execute_result"
    }
   ],
   "source": [
    "str1[-13:4:5]"
   ]
  },
  {
   "cell_type": "code",
   "execution_count": 25,
   "id": "ecbfb6b0-80a6-4874-8b94-0cf8035aa456",
   "metadata": {},
   "outputs": [
    {
     "data": {
      "text/plain": [
       "'hw'"
      ]
     },
     "execution_count": 25,
     "metadata": {},
     "output_type": "execute_result"
    }
   ],
   "source": [
    "str1[4:7:2]"
   ]
  },
  {
   "cell_type": "code",
   "execution_count": 30,
   "id": "027df33b-fb24-477d-8b9b-416b86b6cd19",
   "metadata": {},
   "outputs": [
    {
     "data": {
      "text/plain": [
       "' '"
      ]
     },
     "execution_count": 30,
     "metadata": {},
     "output_type": "execute_result"
    }
   ],
   "source": [
    "str1[-4:-6:-3]"
   ]
  },
  {
   "cell_type": "code",
   "execution_count": 31,
   "id": "2227e88c-33df-4a4c-b688-e1cf2e93b42e",
   "metadata": {},
   "outputs": [
    {
     "data": {
      "text/plain": [
       "'a o r '"
      ]
     },
     "execution_count": 31,
     "metadata": {},
     "output_type": "execute_result"
    }
   ],
   "source": [
    "str1[1:-3:2]"
   ]
  },
  {
   "cell_type": "code",
   "execution_count": 32,
   "id": "49d592e3-1543-4e4a-8b78-f943e0b58b6b",
   "metadata": {},
   "outputs": [
    {
     "data": {
      "text/plain": [
       "'i how are you'"
      ]
     },
     "execution_count": 32,
     "metadata": {},
     "output_type": "execute_result"
    }
   ],
   "source": [
    "str1[2:100]"
   ]
  },
  {
   "cell_type": "code",
   "execution_count": 33,
   "id": "5835dcdc-5cce-412d-9e3a-547c5f7d2c32",
   "metadata": {},
   "outputs": [
    {
     "data": {
      "text/plain": [
       "'hai how are you'"
      ]
     },
     "execution_count": 33,
     "metadata": {},
     "output_type": "execute_result"
    }
   ],
   "source": [
    "str1[:]"
   ]
  },
  {
   "cell_type": "code",
   "execution_count": 35,
   "id": "ae8a03da-f0df-4593-b73f-9c93075dbc2d",
   "metadata": {},
   "outputs": [
    {
     "data": {
      "text/plain": [
       "'hai how are you'"
      ]
     },
     "execution_count": 35,
     "metadata": {},
     "output_type": "execute_result"
    }
   ],
   "source": [
    "str1[::] #str1[<start>:<stop>:<step>"
   ]
  },
  {
   "cell_type": "code",
   "execution_count": 38,
   "id": "1f05fd8e-8766-425f-ae4f-ec78ae7ed360",
   "metadata": {},
   "outputs": [
    {
     "data": {
      "text/plain": [
       "'uoy era woh iah'"
      ]
     },
     "execution_count": 38,
     "metadata": {},
     "output_type": "execute_result"
    }
   ],
   "source": [
    "str1[:]\n",
    "str1[::]\n",
    "str1[::-1]\n",
    "\n",
    "str1[-2:-2:-1]\n",
    "# start: -2   last:stop+1 : -2+1=1  actualy direction -2 to -1 positive\n",
    "# code says  : negative direction "
   ]
  },
  {
   "cell_type": "markdown",
   "id": "8f8cf5b1-49f8-411b-9789-c85b0d62d433",
   "metadata": {},
   "source": [
    "**part1 completed**\n",
    "\n",
    "  - initilaization \n",
    "\n",
    "  - inbuilt function : type/print/len/min/max/sum/sorted/reversed\n",
    "\n",
    "  - concatenation\n",
    "\n",
    "  - index range vs in \n",
    "\n",
    "  - mutable vs immutable \n",
    "\n",
    "  - slice"
   ]
  },
  {
   "cell_type": "code",
   "execution_count": null,
   "id": "9fa301ef-3f1d-4636-b237-4c33fe3ab57f",
   "metadata": {},
   "outputs": [],
   "source": [
    "l=[10,20,30,40] s='python'\n",
    "typp()\n",
    "len()\n",
    "min()"
   ]
  },
  {
   "cell_type": "markdown",
   "id": "7c4d3690-8f2f-4bc1-a7d3-9de5fcf269e6",
   "metadata": {},
   "source": [
    "**methods**"
   ]
  },
  {
   "cell_type": "code",
   "execution_count": null,
   "id": "19392f0c-f40a-4e5a-8624-c9d7164a3762",
   "metadata": {},
   "outputs": [],
   "source": [
    "import random \n",
    "dir(random)\n"
   ]
  },
  {
   "cell_type": "code",
   "execution_count": 39,
   "id": "d37e6660-8d7e-43ee-8edb-68691e73252a",
   "metadata": {},
   "outputs": [
    {
     "data": {
      "text/plain": [
       "['__add__',\n",
       " '__class__',\n",
       " '__contains__',\n",
       " '__delattr__',\n",
       " '__dir__',\n",
       " '__doc__',\n",
       " '__eq__',\n",
       " '__format__',\n",
       " '__ge__',\n",
       " '__getattribute__',\n",
       " '__getitem__',\n",
       " '__getnewargs__',\n",
       " '__getstate__',\n",
       " '__gt__',\n",
       " '__hash__',\n",
       " '__init__',\n",
       " '__init_subclass__',\n",
       " '__iter__',\n",
       " '__le__',\n",
       " '__len__',\n",
       " '__lt__',\n",
       " '__mod__',\n",
       " '__mul__',\n",
       " '__ne__',\n",
       " '__new__',\n",
       " '__reduce__',\n",
       " '__reduce_ex__',\n",
       " '__repr__',\n",
       " '__rmod__',\n",
       " '__rmul__',\n",
       " '__setattr__',\n",
       " '__sizeof__',\n",
       " '__str__',\n",
       " '__subclasshook__',\n",
       " 'capitalize',\n",
       " 'casefold',\n",
       " 'center',\n",
       " 'count',\n",
       " 'encode',\n",
       " 'endswith',\n",
       " 'expandtabs',\n",
       " 'find',\n",
       " 'format',\n",
       " 'format_map',\n",
       " 'index',\n",
       " 'isalnum',\n",
       " 'isalpha',\n",
       " 'isascii',\n",
       " 'isdecimal',\n",
       " 'isdigit',\n",
       " 'isidentifier',\n",
       " 'islower',\n",
       " 'isnumeric',\n",
       " 'isprintable',\n",
       " 'isspace',\n",
       " 'istitle',\n",
       " 'isupper',\n",
       " 'join',\n",
       " 'ljust',\n",
       " 'lower',\n",
       " 'lstrip',\n",
       " 'maketrans',\n",
       " 'partition',\n",
       " 'removeprefix',\n",
       " 'removesuffix',\n",
       " 'replace',\n",
       " 'rfind',\n",
       " 'rindex',\n",
       " 'rjust',\n",
       " 'rpartition',\n",
       " 'rsplit',\n",
       " 'rstrip',\n",
       " 'split',\n",
       " 'splitlines',\n",
       " 'startswith',\n",
       " 'strip',\n",
       " 'swapcase',\n",
       " 'title',\n",
       " 'translate',\n",
       " 'upper',\n",
       " 'zfill']"
      ]
     },
     "execution_count": 39,
     "metadata": {},
     "output_type": "execute_result"
    }
   ],
   "source": [
    "str='python'\n",
    "dir(str1)"
   ]
  },
  {
   "cell_type": "code",
   "execution_count": 40,
   "id": "b6f9ce08-cfcd-4d94-ae7b-74263c884094",
   "metadata": {},
   "outputs": [
    {
     "data": {
      "text/plain": [
       "['__add__',\n",
       " '__class__',\n",
       " '__contains__',\n",
       " '__delattr__',\n",
       " '__dir__',\n",
       " '__doc__',\n",
       " '__eq__',\n",
       " '__format__',\n",
       " '__ge__',\n",
       " '__getattribute__',\n",
       " '__getitem__',\n",
       " '__getnewargs__',\n",
       " '__getstate__',\n",
       " '__gt__',\n",
       " '__hash__',\n",
       " '__init__',\n",
       " '__init_subclass__',\n",
       " '__iter__',\n",
       " '__le__',\n",
       " '__len__',\n",
       " '__lt__',\n",
       " '__mod__',\n",
       " '__mul__',\n",
       " '__ne__',\n",
       " '__new__',\n",
       " '__reduce__',\n",
       " '__reduce_ex__',\n",
       " '__repr__',\n",
       " '__rmod__',\n",
       " '__rmul__',\n",
       " '__setattr__',\n",
       " '__sizeof__',\n",
       " '__str__',\n",
       " '__subclasshook__',\n",
       " 'capitalize',\n",
       " 'casefold',\n",
       " 'center',\n",
       " 'count',\n",
       " 'encode',\n",
       " 'endswith',\n",
       " 'expandtabs',\n",
       " 'find',\n",
       " 'format',\n",
       " 'format_map',\n",
       " 'index',\n",
       " 'isalnum',\n",
       " 'isalpha',\n",
       " 'isascii',\n",
       " 'isdecimal',\n",
       " 'isdigit',\n",
       " 'isidentifier',\n",
       " 'islower',\n",
       " 'isnumeric',\n",
       " 'isprintable',\n",
       " 'isspace',\n",
       " 'istitle',\n",
       " 'isupper',\n",
       " 'join',\n",
       " 'ljust',\n",
       " 'lower',\n",
       " 'lstrip',\n",
       " 'maketrans',\n",
       " 'partition',\n",
       " 'removeprefix',\n",
       " 'removesuffix',\n",
       " 'replace',\n",
       " 'rfind',\n",
       " 'rindex',\n",
       " 'rjust',\n",
       " 'rpartition',\n",
       " 'rsplit',\n",
       " 'rstrip',\n",
       " 'split',\n",
       " 'splitlines',\n",
       " 'startswith',\n",
       " 'strip',\n",
       " 'swapcase',\n",
       " 'title',\n",
       " 'translate',\n",
       " 'upper',\n",
       " 'zfill']"
      ]
     },
     "execution_count": 40,
     "metadata": {},
     "output_type": "execute_result"
    }
   ],
   "source": [
    "dir('') # emty aslo string"
   ]
  },
  {
   "cell_type": "code",
   "execution_count": null,
   "id": "77aaaded-e603-470e-8504-03755a066243",
   "metadata": {},
   "outputs": [],
   "source": []
  },
  {
   "cell_type": "code",
   "execution_count": null,
   "id": "01ef380b-5e4f-45cb-a2d0-1336da56b304",
   "metadata": {},
   "outputs": [],
   "source": [
    "random.randint"
   ]
  },
  {
   "cell_type": "code",
   "execution_count": 41,
   "id": "2b9c8be3-d87e-44b4-86c2-5da3a4881de7",
   "metadata": {},
   "outputs": [
    {
     "data": {
      "text/plain": [
       "'WELCOME'"
      ]
     },
     "execution_count": 41,
     "metadata": {},
     "output_type": "execute_result"
    }
   ],
   "source": [
    "str1='welcome'\n",
    "str1.upper()"
   ]
  },
  {
   "cell_type": "code",
   "execution_count": 42,
   "id": "9f875684-f150-45a2-b6b7-fcb283e5102e",
   "metadata": {},
   "outputs": [
    {
     "data": {
      "text/plain": [
       "'welcome'"
      ]
     },
     "execution_count": 42,
     "metadata": {},
     "output_type": "execute_result"
    }
   ],
   "source": [
    "str1='welcome'\n",
    "str1.lower()"
   ]
  },
  {
   "cell_type": "code",
   "execution_count": 43,
   "id": "20128a49-347b-495f-8043-d464bc6692be",
   "metadata": {},
   "outputs": [
    {
     "data": {
      "text/plain": [
       "str"
      ]
     },
     "execution_count": 43,
     "metadata": {},
     "output_type": "execute_result"
    }
   ],
   "source": [
    "type(str1)"
   ]
  },
  {
   "cell_type": "code",
   "execution_count": 44,
   "id": "92b916f3-0274-4466-ba28-0f7cc17a8ede",
   "metadata": {},
   "outputs": [
    {
     "data": {
      "text/plain": [
       "'Welcome'"
      ]
     },
     "execution_count": 44,
     "metadata": {},
     "output_type": "execute_result"
    }
   ],
   "source": [
    "str1='welcome'\n",
    "str1.capitalize()"
   ]
  },
  {
   "cell_type": "code",
   "execution_count": 45,
   "id": "078516e7-cabe-4738-ae90-4245547b0c73",
   "metadata": {},
   "outputs": [
    {
     "data": {
      "text/plain": [
       "'Welcome'"
      ]
     },
     "execution_count": 45,
     "metadata": {},
     "output_type": "execute_result"
    }
   ],
   "source": [
    "str1='welcome'\n",
    "str1.title()"
   ]
  },
  {
   "cell_type": "code",
   "execution_count": 46,
   "id": "11c075ec-7f34-49e0-9308-cf7a9ebc926b",
   "metadata": {},
   "outputs": [
    {
     "data": {
      "text/plain": [
       "'welcome'"
      ]
     },
     "execution_count": 46,
     "metadata": {},
     "output_type": "execute_result"
    }
   ],
   "source": [
    "str1='welcome'\n",
    "str1.casefold()"
   ]
  },
  {
   "cell_type": "code",
   "execution_count": 49,
   "id": "98bea48f-ea3a-4edd-8bcf-d15f1efbdb4f",
   "metadata": {},
   "outputs": [
    {
     "data": {
      "text/plain": [
       "'welcome'"
      ]
     },
     "execution_count": 49,
     "metadata": {},
     "output_type": "execute_result"
    }
   ],
   "source": [
    "str1='welcome'\n",
    "str1.center(0)"
   ]
  },
  {
   "cell_type": "code",
   "execution_count": 50,
   "id": "6288a950-3b25-4b9c-b2f7-0723efa7c518",
   "metadata": {},
   "outputs": [
    {
     "data": {
      "text/plain": [
       "'Hy how are you'"
      ]
     },
     "execution_count": 50,
     "metadata": {},
     "output_type": "execute_result"
    }
   ],
   "source": [
    "str2='hy how are you'\n",
    "str2.capitalize()"
   ]
  },
  {
   "cell_type": "code",
   "execution_count": 51,
   "id": "d1789938-58e7-4232-b81e-5fcf217c6b84",
   "metadata": {},
   "outputs": [
    {
     "data": {
      "text/plain": [
       "'Hy How Are You'"
      ]
     },
     "execution_count": 51,
     "metadata": {},
     "output_type": "execute_result"
    }
   ],
   "source": [
    "str2='hy how are you'\n",
    "str2.title()"
   ]
  },
  {
   "cell_type": "code",
   "execution_count": 52,
   "id": "c498e3f7-569c-4b27-99aa-8f30d65fc60e",
   "metadata": {},
   "outputs": [
    {
     "data": {
      "text/plain": [
       "'hy how are you'"
      ]
     },
     "execution_count": 52,
     "metadata": {},
     "output_type": "execute_result"
    }
   ],
   "source": [
    "str2='hy how are you'\n",
    "str2.casefold()"
   ]
  },
  {
   "cell_type": "code",
   "execution_count": 60,
   "id": "9ce2a398-cea7-4949-ad8c-c7b82a25ca59",
   "metadata": {},
   "outputs": [
    {
     "data": {
      "text/plain": [
       "'**hy how are you*'"
      ]
     },
     "execution_count": 60,
     "metadata": {},
     "output_type": "execute_result"
    }
   ],
   "source": [
    "str2='hy how are you'\n",
    "str2.center(17,'*')"
   ]
  },
  {
   "cell_type": "markdown",
   "id": "9bc7af46-43a5-4201-a2ac-e8f1baf94966",
   "metadata": {},
   "source": [
    "**count**"
   ]
  },
  {
   "cell_type": "code",
   "execution_count": 72,
   "id": "5770fed2-9acd-4952-924b-37a48b856c97",
   "metadata": {},
   "outputs": [
    {
     "data": {
      "text/plain": [
       "2"
      ]
     },
     "execution_count": 72,
     "metadata": {},
     "output_type": "execute_result"
    }
   ],
   "source": [
    "str2='hai how are you'\n",
    "count=0\n",
    "for i in str2:\n",
    "    if i == 'a':\n",
    "        count=count+1\n",
    "count"
   ]
  },
  {
   "cell_type": "code",
   "execution_count": 73,
   "id": "5d87de06-4f5e-45e9-a36e-651a0cab1ca2",
   "metadata": {},
   "outputs": [
    {
     "data": {
      "text/plain": [
       "2"
      ]
     },
     "execution_count": 73,
     "metadata": {},
     "output_type": "execute_result"
    }
   ],
   "source": [
    "# str2.count?(sub,start,end)\n",
    "str2.count('a')"
   ]
  },
  {
   "cell_type": "code",
   "execution_count": 75,
   "id": "7e884e0d-e16c-49a6-b5b6-e6ec475b9ff4",
   "metadata": {},
   "outputs": [
    {
     "data": {
      "text/plain": [
       "3"
      ]
     },
     "execution_count": 75,
     "metadata": {},
     "output_type": "execute_result"
    }
   ],
   "source": [
    "str3='ola ola ola ola '\n",
    "# 01234\n",
    "# str3(sub,start,end)\n",
    "str3.count('a',4)"
   ]
  },
  {
   "cell_type": "code",
   "execution_count": 76,
   "id": "ad628e04-e95f-492a-8442-274d967242a6",
   "metadata": {},
   "outputs": [
    {
     "data": {
      "text/plain": [
       "1"
      ]
     },
     "execution_count": 76,
     "metadata": {},
     "output_type": "execute_result"
    }
   ],
   "source": [
    "str3='ola ola ola ola '\n",
    "# 01234\n",
    "# str3(sub,start,end)\n",
    "str3.count('a',4,10)"
   ]
  },
  {
   "cell_type": "code",
   "execution_count": 77,
   "id": "52802df1-bfb2-428a-a166-810248947626",
   "metadata": {},
   "outputs": [
    {
     "data": {
      "text/plain": [
       "'ola ol'"
      ]
     },
     "execution_count": 77,
     "metadata": {},
     "output_type": "execute_result"
    }
   ],
   "source": [
    "str3[4:10]"
   ]
  },
  {
   "cell_type": "code",
   "execution_count": 80,
   "id": "0c12c819-edc0-4b2d-bdf2-3f0ee95b4451",
   "metadata": {},
   "outputs": [
    {
     "data": {
      "text/plain": [
       "1"
      ]
     },
     "execution_count": 80,
     "metadata": {},
     "output_type": "execute_result"
    }
   ],
   "source": [
    "str3.count('a')\n",
    "str3.count('a',4)\n",
    "str3.count('a',4,10)"
   ]
  },
  {
   "cell_type": "code",
   "execution_count": 81,
   "id": "e571fcec-5fac-47b3-becb-14dfba312226",
   "metadata": {},
   "outputs": [
    {
     "data": {
      "text/plain": [
       "0"
      ]
     },
     "execution_count": 81,
     "metadata": {},
     "output_type": "execute_result"
    }
   ],
   "source": [
    "str3.count('z')\n",
    "str3.count('z')"
   ]
  },
  {
   "cell_type": "code",
   "execution_count": 82,
   "id": "aa5737ce-a939-4354-aacd-3f4916922cc3",
   "metadata": {},
   "outputs": [
    {
     "data": {
      "text/plain": [
       "1"
      ]
     },
     "execution_count": 82,
     "metadata": {},
     "output_type": "execute_result"
    }
   ],
   "source": [
    "str3='ola ola ola ola '\n",
    "str3.count('ola ola ola ola ')\n",
    "str3.count(str3)"
   ]
  },
  {
   "cell_type": "code",
   "execution_count": 83,
   "id": "d9425762-cd05-4060-9d5c-16028ba8c928",
   "metadata": {},
   "outputs": [
    {
     "data": {
      "text/plain": [
       "4"
      ]
     },
     "execution_count": 83,
     "metadata": {},
     "output_type": "execute_result"
    }
   ],
   "source": [
    "str3.count('ola')\n",
    "# with out using count method"
   ]
  },
  {
   "cell_type": "code",
   "execution_count": 89,
   "id": "2d046ac4-cde6-4263-9f7d-d97a544781c6",
   "metadata": {},
   "outputs": [
    {
     "data": {
      "text/plain": [
       "0"
      ]
     },
     "execution_count": 89,
     "metadata": {},
     "output_type": "execute_result"
    }
   ],
   "source": [
    "str3='ola ola ola ola '\n",
    "count=0\n",
    "for iji in str3:\n",
    "    if iji =='ola':\n",
    "        count=count+1\n",
    "\n",
    "\n",
    "count\n",
    "    "
   ]
  },
  {
   "cell_type": "code",
   "execution_count": null,
   "id": "e08c6632-a9e3-4c25-8b09-348febe684e2",
   "metadata": {},
   "outputs": [],
   "source": [
    "for i in str3:\n",
    "    if i == 'ola':\n",
    "    "
   ]
  },
  {
   "cell_type": "code",
   "execution_count": 94,
   "id": "946162aa-7327-4faf-b57a-7ba1143cbd24",
   "metadata": {},
   "outputs": [
    {
     "name": "stdout",
     "output_type": "stream",
     "text": [
      "ola\n",
      "la \n",
      "a o\n",
      " ol\n",
      "ola\n",
      "la \n",
      "a o\n",
      " ol\n",
      "ola\n",
      "la \n",
      "a o\n",
      " ol\n",
      "ola\n",
      "la \n",
      "a \n",
      " \n"
     ]
    }
   ],
   "source": [
    "\n",
    "for i in range(len(str3)):\n",
    "    print(str3[i:i+3])\n",
    "    if str3[i:i+3]=='ola':\n",
    "        count=count+1"
   ]
  },
  {
   "cell_type": "code",
   "execution_count": null,
   "id": "06aefdbd-f176-49be-a2e7-ed96a0d8f071",
   "metadata": {},
   "outputs": [],
   "source": []
  },
  {
   "cell_type": "code",
   "execution_count": null,
   "id": "d60548da-f0b1-42af-8ebb-855ecc6a3010",
   "metadata": {},
   "outputs": [],
   "source": [
    "str1='python'\n"
   ]
  },
  {
   "cell_type": "markdown",
   "id": "488f63fd-43b6-4f44-a0a6-f1bf8738a637",
   "metadata": {},
   "source": [
    "**Istrip-rstrip-strip**"
   ]
  },
  {
   "cell_type": "code",
   "execution_count": 3,
   "id": "e951825b-1f0d-4451-a9bc-375980d318ce",
   "metadata": {},
   "outputs": [
    {
     "data": {
      "text/plain": [
       "('pythone', 'pythone ', ' pythone')"
      ]
     },
     "execution_count": 3,
     "metadata": {},
     "output_type": "execute_result"
    }
   ],
   "source": [
    "str1=' pythone '\n",
    "str1.strip(),str1.lstrip(),str1.rstrip()\n"
   ]
  },
  {
   "cell_type": "code",
   "execution_count": 7,
   "id": "dca51c3d-fc1e-4763-9ee6-37a8b634f15a",
   "metadata": {},
   "outputs": [
    {
     "data": {
      "text/plain": [
       "('python', 'python**', '**python')"
      ]
     },
     "execution_count": 7,
     "metadata": {},
     "output_type": "execute_result"
    }
   ],
   "source": [
    "str1='**python**'\n",
    "str1.strip('*'),str1.lstrip('*'),str1.rstrip('*')"
   ]
  },
  {
   "cell_type": "code",
   "execution_count": 9,
   "id": "7858dfb1-e20b-444d-9e5a-938b61622766",
   "metadata": {},
   "outputs": [
    {
     "name": "stdout",
     "output_type": "stream",
     "text": [
      "python\n",
      "python\n"
     ]
    }
   ],
   "source": [
    "str1='**python@@%'\n",
    "print(str1.strip('*@%'))\n",
    "print(str1.strip('@*%'))"
   ]
  },
  {
   "cell_type": "markdown",
   "id": "4f44d5f0-6af1-4009-a0a2-5c159284aeb3",
   "metadata": {},
   "source": [
    "**index opereter-find operater**"
   ]
  },
  {
   "cell_type": "code",
   "execution_count": 12,
   "id": "e5a77034-27ef-47da-834d-bddca8aa7cea",
   "metadata": {},
   "outputs": [
    {
     "data": {
      "text/plain": [
       "6"
      ]
     },
     "execution_count": 12,
     "metadata": {},
     "output_type": "execute_result"
    }
   ],
   "source": [
    "str1='ola ola ola ola'\n",
    "str1.index('a')\n",
    "str1.index('a',3)\n",
    "str1.index('a',3,10)"
   ]
  },
  {
   "cell_type": "code",
   "execution_count": 13,
   "id": "36e45de3-d9f9-4bfd-be54-df26f6828027",
   "metadata": {},
   "outputs": [
    {
     "data": {
      "text/plain": [
       "4"
      ]
     },
     "execution_count": 13,
     "metadata": {},
     "output_type": "execute_result"
    }
   ],
   "source": [
    "str1='ola ola ola ola'\n",
    "str1.index('o',2)"
   ]
  },
  {
   "cell_type": "code",
   "execution_count": 14,
   "id": "db61d893-5cad-4046-bade-c95c850d4f37",
   "metadata": {},
   "outputs": [
    {
     "data": {
      "text/plain": [
       "5"
      ]
     },
     "execution_count": 14,
     "metadata": {},
     "output_type": "execute_result"
    }
   ],
   "source": [
    "str1='ola ola ola ola'\n",
    "str1.index('l',4)"
   ]
  },
  {
   "cell_type": "code",
   "execution_count": 16,
   "id": "3ca3519e-088d-40e2-99c1-69e4d139cf77",
   "metadata": {},
   "outputs": [
    {
     "data": {
      "text/plain": [
       "4"
      ]
     },
     "execution_count": 16,
     "metadata": {},
     "output_type": "execute_result"
    }
   ],
   "source": [
    "str1='ola ola ola ola'\n",
    "str1.index('ola',3)"
   ]
  },
  {
   "cell_type": "code",
   "execution_count": 17,
   "id": "87260cb4-fe02-40cf-921e-fe453c4dc0bd",
   "metadata": {},
   "outputs": [
    {
     "data": {
      "text/plain": [
       "8"
      ]
     },
     "execution_count": 17,
     "metadata": {},
     "output_type": "execute_result"
    }
   ],
   "source": [
    "str1='ola ola ola ola'\n",
    "str1.index('o',8)"
   ]
  },
  {
   "cell_type": "code",
   "execution_count": null,
   "id": "8eb84394-ee1c-46e7-80ee-1b2106a4fd1e",
   "metadata": {},
   "outputs": [],
   "source": [
    "o  l  a   o  l  a   o  l  a     o  l  a"
   ]
  },
  {
   "cell_type": "markdown",
   "id": "05b52dbb-23c5-4104-b585-54671ba4aaca",
   "metadata": {},
   "source": [
    "**find**"
   ]
  },
  {
   "cell_type": "code",
   "execution_count": 18,
   "id": "fa583233-ab9a-42cb-b670-12bc8c826752",
   "metadata": {},
   "outputs": [
    {
     "data": {
      "text/plain": [
       "6"
      ]
     },
     "execution_count": 18,
     "metadata": {},
     "output_type": "execute_result"
    }
   ],
   "source": [
    "str1='ola ola ola ola'\n",
    "str1.index('a')\n",
    "str1.index('a',3)\n",
    "str1.index('a',3,10)"
   ]
  },
  {
   "cell_type": "markdown",
   "id": "95ff907b-ad79-4d9f-9d46-cffc966310a4",
   "metadata": {},
   "source": [
    "**what is differece between index and find**"
   ]
  },
  {
   "cell_type": "code",
   "execution_count": 19,
   "id": "cb7f62dd-030f-4286-bc33-c1166250d0ed",
   "metadata": {},
   "outputs": [
    {
     "data": {
      "text/plain": [
       "-1"
      ]
     },
     "execution_count": 19,
     "metadata": {},
     "output_type": "execute_result"
    }
   ],
   "source": [
    "str1.find('z')"
   ]
  },
  {
   "cell_type": "code",
   "execution_count": 23,
   "id": "83e169b7-0ad2-4e51-b7f0-6e009a555ddd",
   "metadata": {},
   "outputs": [
    {
     "data": {
      "text/plain": [
       "(2, 6, 10, 14)"
      ]
     },
     "execution_count": 23,
     "metadata": {},
     "output_type": "execute_result"
    }
   ],
   "source": [
    "str1='ola ola ola ola'\n",
    "i1=str1.index('a')\n",
    "i2=str1.index('a',i1+1)\n",
    "i3=str1.index('a',i2+1)\n",
    "i4=str1.index('a',i3+1)\n",
    "i1,i2,i3,i4"
   ]
  },
  {
   "cell_type": "code",
   "execution_count": 8,
   "id": "dba8909a-4434-4f7b-b13f-657b310881cb",
   "metadata": {},
   "outputs": [
    {
     "name": "stdout",
     "output_type": "stream",
     "text": [
      "how\n"
     ]
    }
   ],
   "source": [
    "str1='hello.hai.how.areyou'\n",
    "i1=str1.index('.')\n",
    "i2=str1.index('.',i1+1)\n",
    "i3=str1.index('.',i2+1)\n",
    "print(str1[i2+1:i3])"
   ]
  },
  {
   "cell_type": "code",
   "execution_count": 32,
   "id": "9992500b-eb43-4bb4-b4c5-7e9598c9aba3",
   "metadata": {},
   "outputs": [
    {
     "data": {
      "text/plain": [
       "('virat', 'kohli', 'rcb')"
      ]
     },
     "execution_count": 32,
     "metadata": {},
     "output_type": "execute_result"
    }
   ],
   "source": [
    "str1='virat.kohli@rcb.com'\n",
    "str2='rohit.sharma@mi.com'\n",
    "str3='ms.dhoni@csk.com'\n",
    "# i want to extract\n",
    "# first name \n",
    "#  second name \n",
    "# company name \n",
    "\n",
    "i1_dot=str1.index('.')\n",
    "i2_dot=str1.index('.',i1_dot+1)\n",
    "i_at=str1.index('@')\n",
    "str1[:i1_dot],str1[i1_dot+1:i_at],str1[i_at+1:i2_dot]"
   ]
  },
  {
   "cell_type": "code",
   "execution_count": 19,
   "id": "4039452b-8467-487b-985b-b0927dc95391",
   "metadata": {},
   "outputs": [
    {
     "name": "stdout",
     "output_type": "stream",
     "text": [
      "hardik pandya mi\n"
     ]
    }
   ],
   "source": [
    "str1='hardik.pandya@mi.com'\n",
    "str2='kunal.pandya@rcb.com'\n",
    "str3='sm.dhoni@csk.com'\n",
    "i1_dot=str1.index('.')\n",
    "i2_dot=str1.index('.',i1_dot+1)\n",
    "i_at=str1.index('@')\n",
    "print(str1[:i1_dot],str1[i1_dot+1:i_at],str1[i_at+1:i2_dot])"
   ]
  },
  {
   "cell_type": "code",
   "execution_count": 36,
   "id": "485164b3-bfe5-46dc-9a4c-919c5ce8fcc9",
   "metadata": {},
   "outputs": [
    {
     "name": "stdout",
     "output_type": "stream",
     "text": [
      "mohomad shammi gt\n"
     ]
    }
   ],
   "source": [
    "str1='isan.kishan@shr.com'\n",
    "str2='mohomad.shammi@gt.com'\n",
    "str3='kunal.pandya@rcb.com'\n",
    "str4='ms.dhoni@csk.com'\n",
    "i1_dot=str2.index('.')\n",
    "i2_dot=str2.index('.',i1_dot+1)\n",
    "i_at=str2.index('@')\n",
    "print(str2[:i1_dot],str2[i1_dot+1:i_at],str2[i_at+1:i2_dot])"
   ]
  },
  {
   "cell_type": "code",
   "execution_count": 42,
   "id": "6ef7909b-7404-4d1a-9631-db87f9c69fd6",
   "metadata": {},
   "outputs": [
    {
     "name": "stdout",
     "output_type": "stream",
     "text": [
      "kunal pandya rcb\n"
     ]
    }
   ],
   "source": [
    "str1='isan.kishan@shr.com'\n",
    "str2='mohomad.shammi@gt.com'\n",
    "str3='kunal.pandya@rcb.com'\n",
    "str4='ms.dhoni@csk.com'\n",
    "i1_dot=str3.index('.')\n",
    "i2_dot=str3.index('.',i1_dot+1)\n",
    "i_at=str3.index('@')\n",
    "print(str3[:i1_dot],str3[i1_dot+1:i_at],str3[i_at+1:i2_dot])"
   ]
  },
  {
   "cell_type": "markdown",
   "id": "e95918fb-9cf3-40dd-80d5-2d09764c91a3",
   "metadata": {},
   "source": [
    "**replace**"
   ]
  },
  {
   "cell_type": "code",
   "execution_count": 5,
   "id": "ce8c37c4-a0d8-4b8e-82e2-1bee5b97188e",
   "metadata": {},
   "outputs": [
    {
     "data": {
      "text/plain": [
       "'welcome welcome'"
      ]
     },
     "execution_count": 5,
     "metadata": {},
     "output_type": "execute_result"
    }
   ],
   "source": [
    "str1='welcome welcome'\n",
    "str1.replace('1','L',3)\n",
    "str1.replace('1','L',1)"
   ]
  },
  {
   "cell_type": "code",
   "execution_count": 40,
   "id": "fddae358-12a8-4980-ab5b-72e20b45769a",
   "metadata": {},
   "outputs": [
    {
     "data": {
      "text/plain": [
       "'re$tart'"
      ]
     },
     "execution_count": 40,
     "metadata": {},
     "output_type": "execute_result"
    }
   ],
   "source": [
    "str1='restart'\n",
    "str1.replace('s','$',2)"
   ]
  },
  {
   "cell_type": "code",
   "execution_count": 49,
   "id": "336fb670-e56d-4ce0-b2a3-4ddc191028ab",
   "metadata": {},
   "outputs": [
    {
     "data": {
      "text/plain": [
       "'resta$t'"
      ]
     },
     "execution_count": 49,
     "metadata": {},
     "output_type": "execute_result"
    }
   ],
   "source": [
    "str1='restart'\n",
    "str1[::-1].replace('r','$',1)[::-1]"
   ]
  },
  {
   "cell_type": "code",
   "execution_count": 2,
   "id": "1df8e1b2-c417-418a-921e-febcb79d731a",
   "metadata": {},
   "outputs": [
    {
     "data": {
      "text/plain": [
       "'dip@k'"
      ]
     },
     "execution_count": 2,
     "metadata": {},
     "output_type": "execute_result"
    }
   ],
   "source": [
    "str2='dipak'\n",
    "str2.replace('a','@',3)"
   ]
  },
  {
   "cell_type": "code",
   "execution_count": 3,
   "id": "033f2dac-bb45-4174-9cb5-6942719a06a2",
   "metadata": {},
   "outputs": [
    {
     "data": {
      "text/plain": [
       "'p@til'"
      ]
     },
     "execution_count": 3,
     "metadata": {},
     "output_type": "execute_result"
    }
   ],
   "source": [
    "str2='patil'\n",
    "str2.replace('a','@',3)"
   ]
  },
  {
   "cell_type": "code",
   "execution_count": 1,
   "id": "12f52441-6424-4d49-995a-99b74dbca755",
   "metadata": {},
   "outputs": [
    {
     "data": {
      "text/plain": [
       "'s@rth@k'"
      ]
     },
     "execution_count": 1,
     "metadata": {},
     "output_type": "execute_result"
    }
   ],
   "source": [
    "str1='sarthak'\n",
    "str1.replace('a','@',4)"
   ]
  },
  {
   "cell_type": "code",
   "execution_count": 46,
   "id": "9030f8a3-cdd1-408e-8ac2-f4f996aee09d",
   "metadata": {},
   "outputs": [
    {
     "data": {
      "text/plain": [
       "'rup@li'"
      ]
     },
     "execution_count": 46,
     "metadata": {},
     "output_type": "execute_result"
    }
   ],
   "source": [
    "str1='rupali'\n",
    "str1.replace('a','@',1)"
   ]
  },
  {
   "cell_type": "code",
   "execution_count": null,
   "id": "aaf1a0f7-418b-4750-a738-b744cf7d7a7f",
   "metadata": {},
   "outputs": [],
   "source": []
  },
  {
   "cell_type": "markdown",
   "id": "7ac731e6-78d6-4452-9021-e22f07482a60",
   "metadata": {},
   "source": [
    "**startwith and endswith**"
   ]
  },
  {
   "cell_type": "code",
   "execution_count": 5,
   "id": "4e732c19-98bd-4a52-8f14-755dab9287c4",
   "metadata": {},
   "outputs": [
    {
     "data": {
      "text/plain": [
       "True"
      ]
     },
     "execution_count": 5,
     "metadata": {},
     "output_type": "execute_result"
    }
   ],
   "source": [
    "str1=\"hai how are you\"\")\n",
    "str1.startswith(\"hai\")"
   ]
  },
  {
   "cell_type": "code",
   "execution_count": 13,
   "id": "76d56864-345e-404e-89b7-7cb006b67643",
   "metadata": {},
   "outputs": [
    {
     "data": {
      "text/plain": [
       "True"
      ]
     },
     "execution_count": 13,
     "metadata": {},
     "output_type": "execute_result"
    }
   ],
   "source": [
    "str1.startswith(\"h\")"
   ]
  },
  {
   "cell_type": "code",
   "execution_count": 14,
   "id": "7bb80bd0-0ea1-4aa9-bee9-6237fac15355",
   "metadata": {},
   "outputs": [
    {
     "data": {
      "text/plain": [
       "False"
      ]
     },
     "execution_count": 14,
     "metadata": {},
     "output_type": "execute_result"
    }
   ],
   "source": [
    "str1.startswith(\"H\")"
   ]
  },
  {
   "cell_type": "code",
   "execution_count": 8,
   "id": "034fb77d-7aa5-4f74-a893-b5725ce61e19",
   "metadata": {},
   "outputs": [
    {
     "data": {
      "text/plain": [
       "True"
      ]
     },
     "execution_count": 8,
     "metadata": {},
     "output_type": "execute_result"
    }
   ],
   "source": [
    "str1=\"hai how are you\"\n",
    "str1.endswith(\"u\")"
   ]
  },
  {
   "cell_type": "code",
   "execution_count": 18,
   "id": "0a0766d3-17a6-487c-88c3-a22c7eda8764",
   "metadata": {},
   "outputs": [
    {
     "data": {
      "text/plain": [
       "['hai', 'how', 'are', 'you']"
      ]
     },
     "execution_count": 18,
     "metadata": {},
     "output_type": "execute_result"
    }
   ],
   "source": [
    "str1=(\"hai how are you\")\n",
    "str1.split()  # by defolt space taken "
   ]
  },
  {
   "cell_type": "code",
   "execution_count": 21,
   "id": "50478b88-adc2-4b90-991a-55883a06472d",
   "metadata": {},
   "outputs": [
    {
     "data": {
      "text/plain": [
       "['h', 'i how,', 're you']"
      ]
     },
     "execution_count": 21,
     "metadata": {},
     "output_type": "execute_result"
    }
   ],
   "source": [
    "str1=(\"hai how,are you\")\n",
    "str1.split(\",\")"
   ]
  },
  {
   "cell_type": "code",
   "execution_count": 22,
   "id": "4eb366f0-4c33-4e95-be0b-5d7695418496",
   "metadata": {},
   "outputs": [
    {
     "data": {
      "text/plain": [
       "['h', 'i how,', 're you']"
      ]
     },
     "execution_count": 22,
     "metadata": {},
     "output_type": "execute_result"
    }
   ],
   "source": [
    "str1=(\"hai how,are you\")\n",
    "str1.split(\"a\")"
   ]
  },
  {
   "cell_type": "code",
   "execution_count": 24,
   "id": "9a5b920d-8947-442b-ae0b-e192d69ccd13",
   "metadata": {},
   "outputs": [
    {
     "data": {
      "text/plain": [
       "['__add__',\n",
       " '__class__',\n",
       " '__contains__',\n",
       " '__delattr__',\n",
       " '__dir__',\n",
       " '__doc__',\n",
       " '__eq__',\n",
       " '__format__',\n",
       " '__ge__',\n",
       " '__getattribute__',\n",
       " '__getitem__',\n",
       " '__getnewargs__',\n",
       " '__getstate__',\n",
       " '__gt__',\n",
       " '__hash__',\n",
       " '__init__',\n",
       " '__init_subclass__',\n",
       " '__iter__',\n",
       " '__le__',\n",
       " '__len__',\n",
       " '__lt__',\n",
       " '__mod__',\n",
       " '__mul__',\n",
       " '__ne__',\n",
       " '__new__',\n",
       " '__reduce__',\n",
       " '__reduce_ex__',\n",
       " '__repr__',\n",
       " '__rmod__',\n",
       " '__rmul__',\n",
       " '__setattr__',\n",
       " '__sizeof__',\n",
       " '__str__',\n",
       " '__subclasshook__',\n",
       " 'capitalize',\n",
       " 'casefold',\n",
       " 'center',\n",
       " 'count',\n",
       " 'encode',\n",
       " 'endswith',\n",
       " 'expandtabs',\n",
       " 'find',\n",
       " 'format',\n",
       " 'format_map',\n",
       " 'index',\n",
       " 'isalnum',\n",
       " 'isalpha',\n",
       " 'isascii',\n",
       " 'isdecimal',\n",
       " 'isdigit',\n",
       " 'isidentifier',\n",
       " 'islower',\n",
       " 'isnumeric',\n",
       " 'isprintable',\n",
       " 'isspace',\n",
       " 'istitle',\n",
       " 'isupper',\n",
       " 'join',\n",
       " 'ljust',\n",
       " 'lower',\n",
       " 'lstrip',\n",
       " 'maketrans',\n",
       " 'partition',\n",
       " 'removeprefix',\n",
       " 'removesuffix',\n",
       " 'replace',\n",
       " 'rfind',\n",
       " 'rindex',\n",
       " 'rjust',\n",
       " 'rpartition',\n",
       " 'rsplit',\n",
       " 'rstrip',\n",
       " 'split',\n",
       " 'splitlines',\n",
       " 'startswith',\n",
       " 'strip',\n",
       " 'swapcase',\n",
       " 'title',\n",
       " 'translate',\n",
       " 'upper',\n",
       " 'zfill']"
      ]
     },
     "execution_count": 24,
     "metadata": {},
     "output_type": "execute_result"
    }
   ],
   "source": [
    "dir(\"\")"
   ]
  },
  {
   "cell_type": "code",
   "execution_count": 28,
   "id": "122075ac-73b3-46dc-99cb-6665d7088e13",
   "metadata": {},
   "outputs": [
    {
     "data": {
      "text/plain": [
       "['10', '20', '30']"
      ]
     },
     "execution_count": 28,
     "metadata": {},
     "output_type": "execute_result"
    }
   ],
   "source": [
    "\"10 20 30\".split() "
   ]
  },
  {
   "cell_type": "code",
   "execution_count": 40,
   "id": "34729bcc-4942-4715-8dfc-0e9e6689e461",
   "metadata": {},
   "outputs": [
    {
     "data": {
      "text/plain": [
       "60"
      ]
     },
     "execution_count": 40,
     "metadata": {},
     "output_type": "execute_result"
    }
   ],
   "source": [
    "l=\"10 20 30\"\n",
    "r=l.split()\n",
    "sum=0\n",
    "for i in r:\n",
    "    sum=sum+int(i)\n",
    "sum\n",
    "\n",
    "step-1: for i in ['10','20','30']"
   ]
  },
  {
   "cell_type": "code",
   "execution_count": 4,
   "id": "411e4b6c-2742-4097-83c5-3d410549645d",
   "metadata": {},
   "outputs": [
    {
     "data": {
      "text/plain": [
       "['dipa', ' dipa', '']"
      ]
     },
     "execution_count": 4,
     "metadata": {},
     "output_type": "execute_result"
    }
   ],
   "source": [
    "str1='dipak dipak'\n",
    "str1.split('k')"
   ]
  },
  {
   "cell_type": "code",
   "execution_count": 5,
   "id": "643077fb-883c-4875-853e-96399309c6ec",
   "metadata": {},
   "outputs": [],
   "source": [
    "a=[\"shubh\",\"deepak\",\"kishor\",\"abc\",\"xyz\"]"
   ]
  },
  {
   "cell_type": "code",
   "execution_count": 8,
   "id": "ac1ea54a-faa9-446d-a9df-958a66bccd82",
   "metadata": {},
   "outputs": [
    {
     "data": {
      "text/plain": [
       "'abc'"
      ]
     },
     "execution_count": 8,
     "metadata": {},
     "output_type": "execute_result"
    }
   ],
   "source": [
    "a[3]"
   ]
  },
  {
   "cell_type": "markdown",
   "id": "cc2374a6-b9ab-4cba-a1a0-cc83d6a486fd",
   "metadata": {},
   "source": [
    "**Test Quations**"
   ]
  },
  {
   "cell_type": "code",
   "execution_count": 1,
   "id": "66875aaa-e5d9-4bd4-9526-becfc459a49c",
   "metadata": {},
   "outputs": [
    {
     "data": {
      "text/plain": [
       "2"
      ]
     },
     "execution_count": 1,
     "metadata": {},
     "output_type": "execute_result"
    }
   ],
   "source": [
    "\"apple\".rindex(\"p\")"
   ]
  },
  {
   "cell_type": "code",
   "execution_count": 2,
   "id": "e258f71b-eb4f-4b3d-9646-8cce1f8551d7",
   "metadata": {},
   "outputs": [
    {
     "data": {
      "text/plain": [
       "True"
      ]
     },
     "execution_count": 2,
     "metadata": {},
     "output_type": "execute_result"
    }
   ],
   "source": [
    "\" \".isspace()"
   ]
  },
  {
   "cell_type": "code",
   "execution_count": 4,
   "id": "5ba14e9e-b6b2-4953-aab9-9d9a5c2bde11",
   "metadata": {},
   "outputs": [
    {
     "data": {
      "text/plain": [
       "1"
      ]
     },
     "execution_count": 4,
     "metadata": {},
     "output_type": "execute_result"
    }
   ],
   "source": [
    "\"apple\".index(\"p\") "
   ]
  },
  {
   "cell_type": "code",
   "execution_count": 5,
   "id": "464fa4c5-e98a-4202-b9a4-70ab5e01a025",
   "metadata": {},
   "outputs": [
    {
     "data": {
      "text/plain": [
       "'Hello World!'"
      ]
     },
     "execution_count": 5,
     "metadata": {},
     "output_type": "execute_result"
    }
   ],
   "source": [
    "\"Hello {}!\".format(\"World\")"
   ]
  },
  {
   "cell_type": "code",
   "execution_count": 6,
   "id": "5784b043-d652-44e0-b9bc-e7427519f977",
   "metadata": {},
   "outputs": [
    {
     "data": {
      "text/plain": [
       "True"
      ]
     },
     "execution_count": 6,
     "metadata": {},
     "output_type": "execute_result"
    }
   ],
   "source": [
    "\"Python\".startswith(\"Py\")"
   ]
  },
  {
   "cell_type": "code",
   "execution_count": 7,
   "id": "2374a0fc-dfbf-48df-8c52-fc7267341b0b",
   "metadata": {},
   "outputs": [
    {
     "data": {
      "text/plain": [
       "'HiHiHi'"
      ]
     },
     "execution_count": 7,
     "metadata": {},
     "output_type": "execute_result"
    }
   ],
   "source": [
    "\"Hi\" * 3 "
   ]
  },
  {
   "cell_type": "code",
   "execution_count": 8,
   "id": "89cc2eb5-6220-4303-a876-c9f2b6871fd7",
   "metadata": {},
   "outputs": [
    {
     "data": {
      "text/plain": [
       "'123'"
      ]
     },
     "execution_count": 8,
     "metadata": {},
     "output_type": "execute_result"
    }
   ],
   "source": [
    "str(123)"
   ]
  },
  {
   "cell_type": "code",
   "execution_count": 9,
   "id": "d75daf25-fc94-4b15-abcc-fb249d410639",
   "metadata": {},
   "outputs": [
    {
     "data": {
      "text/plain": [
       "True"
      ]
     },
     "execution_count": 9,
     "metadata": {},
     "output_type": "execute_result"
    }
   ],
   "source": [
    " \"HELLO\".isupper() "
   ]
  },
  {
   "cell_type": "code",
   "execution_count": 10,
   "id": "d8c7fbf5-a414-4567-8a5c-74981f8c2a4c",
   "metadata": {},
   "outputs": [
    {
     "data": {
      "text/plain": [
       "'hello '"
      ]
     },
     "execution_count": 10,
     "metadata": {},
     "output_type": "execute_result"
    }
   ],
   "source": [
    "\" hello \".lstrip()"
   ]
  },
  {
   "cell_type": "code",
   "execution_count": 11,
   "id": "1866ea00-48b9-4a08-a383-429c9885f071",
   "metadata": {},
   "outputs": [
    {
     "data": {
      "text/plain": [
       "2"
      ]
     },
     "execution_count": 11,
     "metadata": {},
     "output_type": "execute_result"
    }
   ],
   "source": [
    "\"apple\".count(\"p\")"
   ]
  },
  {
   "cell_type": "code",
   "execution_count": 29,
   "id": "03f278d3-b4e2-4699-b570-284fe3c2e078",
   "metadata": {},
   "outputs": [
    {
     "data": {
      "text/plain": [
       "'n'"
      ]
     },
     "execution_count": 29,
     "metadata": {},
     "output_type": "execute_result"
    }
   ],
   "source": [
    "\"Python\"[-1]"
   ]
  },
  {
   "cell_type": "code",
   "execution_count": 13,
   "id": "6db30297-1a1d-4bd9-b8de-33a3bba86448",
   "metadata": {},
   "outputs": [
    {
     "data": {
      "text/plain": [
       "True"
      ]
     },
     "execution_count": 13,
     "metadata": {},
     "output_type": "execute_result"
    }
   ],
   "source": [
    "\"abc\".isalpha()"
   ]
  },
  {
   "cell_type": "code",
   "execution_count": 14,
   "id": "d5db6dd8-54ca-4a99-bfa4-deb69815faae",
   "metadata": {},
   "outputs": [
    {
     "data": {
      "text/plain": [
       "' hello'"
      ]
     },
     "execution_count": 14,
     "metadata": {},
     "output_type": "execute_result"
    }
   ],
   "source": [
    "\" hello \".rstrip()"
   ]
  },
  {
   "cell_type": "code",
   "execution_count": 15,
   "id": "d26d8d96-286c-41a0-8e87-5dca599c3bc1",
   "metadata": {},
   "outputs": [
    {
     "data": {
      "text/plain": [
       "'Hello World!'"
      ]
     },
     "execution_count": 15,
     "metadata": {},
     "output_type": "execute_result"
    }
   ],
   "source": [
    " f\"Hello {'World'}!\""
   ]
  },
  {
   "cell_type": "code",
   "execution_count": 16,
   "id": "ce780596-a383-4785-9757-965e1a98ca72",
   "metadata": {},
   "outputs": [
    {
     "data": {
      "text/plain": [
       "'bonona'"
      ]
     },
     "execution_count": 16,
     "metadata": {},
     "output_type": "execute_result"
    }
   ],
   "source": [
    "\"banana\".replace(\"a\", \"o\", 2)"
   ]
  },
  {
   "cell_type": "code",
   "execution_count": 18,
   "id": "a6b83ba9-9af6-4ee3-989f-5d6f9fc6557f",
   "metadata": {},
   "outputs": [
    {
     "data": {
      "text/plain": [
       "-1"
      ]
     },
     "execution_count": 18,
     "metadata": {},
     "output_type": "execute_result"
    }
   ],
   "source": [
    " \"apple\".find(\"z\")"
   ]
  },
  {
   "cell_type": "code",
   "execution_count": 19,
   "id": "3fc06502-2699-4037-811d-600b03cc2778",
   "metadata": {},
   "outputs": [
    {
     "data": {
      "text/plain": [
       "2"
      ]
     },
     "execution_count": 19,
     "metadata": {},
     "output_type": "execute_result"
    }
   ],
   "source": [
    "\"apple\".rfind(\"p\")"
   ]
  },
  {
   "cell_type": "code",
   "execution_count": 20,
   "id": "0c1eac25-ab24-4558-9bc1-6002dd47b6d6",
   "metadata": {},
   "outputs": [
    {
     "data": {
      "text/plain": [
       "'Python'"
      ]
     },
     "execution_count": 20,
     "metadata": {},
     "output_type": "execute_result"
    }
   ],
   "source": [
    "\"python\".title()"
   ]
  },
  {
   "cell_type": "code",
   "execution_count": 21,
   "id": "c59dbbf5-e0e5-42d7-bd00-fa0f2c18398b",
   "metadata": {},
   "outputs": [
    {
     "data": {
      "text/plain": [
       "'Python'"
      ]
     },
     "execution_count": 21,
     "metadata": {},
     "output_type": "execute_result"
    }
   ],
   "source": [
    " \"python\".capitalize()"
   ]
  },
  {
   "cell_type": "code",
   "execution_count": 22,
   "id": "8f44256f-86c3-4315-b016-dfed1caa8335",
   "metadata": {},
   "outputs": [
    {
     "data": {
      "text/plain": [
       "['Hello', 'World']"
      ]
     },
     "execution_count": 22,
     "metadata": {},
     "output_type": "execute_result"
    }
   ],
   "source": [
    "\"Hello World\".split()"
   ]
  },
  {
   "cell_type": "code",
   "execution_count": 23,
   "id": "c3d699f3-5b3a-4a63-bde4-7942553b8b50",
   "metadata": {},
   "outputs": [
    {
     "data": {
      "text/plain": [
       "'Hello World'"
      ]
     },
     "execution_count": 23,
     "metadata": {},
     "output_type": "execute_result"
    }
   ],
   "source": [
    "\"Hello\\tWorld\".expandtabs(2)"
   ]
  },
  {
   "cell_type": "code",
   "execution_count": 24,
   "id": "7ede32e7-9624-4d5c-b6a6-657ad4016530",
   "metadata": {},
   "outputs": [
    {
     "data": {
      "text/plain": [
       "'ABC def'"
      ]
     },
     "execution_count": 24,
     "metadata": {},
     "output_type": "execute_result"
    }
   ],
   "source": [
    " \"abc DEF\".swapcase()"
   ]
  },
  {
   "cell_type": "code",
   "execution_count": 25,
   "id": "567cb7a8-4289-49df-a07c-e6140e175c7c",
   "metadata": {},
   "outputs": [
    {
     "data": {
      "text/plain": [
       "True"
      ]
     },
     "execution_count": 25,
     "metadata": {},
     "output_type": "execute_result"
    }
   ],
   "source": [
    "\"123abc\".isalnum()"
   ]
  },
  {
   "cell_type": "code",
   "execution_count": 19,
   "id": "29652a7b-17cb-41f7-9b04-b35937958eaf",
   "metadata": {},
   "outputs": [
    {
     "data": {
      "text/plain": [
       "['False',\n",
       " 'None',\n",
       " 'True',\n",
       " 'and',\n",
       " 'as',\n",
       " 'assert',\n",
       " 'async',\n",
       " 'await',\n",
       " 'break',\n",
       " 'class',\n",
       " 'continue',\n",
       " 'def',\n",
       " 'del',\n",
       " 'elif',\n",
       " 'else',\n",
       " 'except',\n",
       " 'finally',\n",
       " 'for',\n",
       " 'from',\n",
       " 'global',\n",
       " 'if',\n",
       " 'import',\n",
       " 'in',\n",
       " 'is',\n",
       " 'lambda',\n",
       " 'nonlocal',\n",
       " 'not',\n",
       " 'or',\n",
       " 'pass',\n",
       " 'raise',\n",
       " 'return',\n",
       " 'try',\n",
       " 'while',\n",
       " 'with',\n",
       " 'yield']"
      ]
     },
     "execution_count": 19,
     "metadata": {},
     "output_type": "execute_result"
    }
   ],
   "source": [
    "import keyword\n",
    "keyword.kwlist"
   ]
  },
  {
   "cell_type": "code",
   "execution_count": 21,
   "id": "0fd4b46e-5b40-4783-a98f-15462514cdfe",
   "metadata": {},
   "outputs": [
    {
     "name": "stdout",
     "output_type": "stream",
     "text": [
      "D\n",
      "i\n",
      "p\n",
      "a\n",
      "k\n"
     ]
    }
   ],
   "source": [
    "name= \"Dipak\"\n",
    "print(name[0])\n",
    "print(name[1])\n",
    "print(name[2])\n",
    "print(name[3])\n",
    "print(name[4])"
   ]
  },
  {
   "cell_type": "code",
   "execution_count": 35,
   "id": "a4e92f61-6e53-435f-bbab-ff76d77db1bd",
   "metadata": {},
   "outputs": [
    {
     "name": "stdout",
     "output_type": "stream",
     "text": [
      "Dipa\n",
      "\n",
      "Dip\n",
      "pak\n",
      "\n",
      "Dip\n"
     ]
    }
   ],
   "source": [
    "print(name[0:4])\n",
    "print(name[4:0])\n",
    "print(name[0:3])\n",
    "print(name[2:])\n",
    "print(name[5:0])\n",
    "print(name[0:3])\n"
   ]
  },
  {
   "cell_type": "code",
   "execution_count": 48,
   "id": "ad4f00ac-99cb-4b43-aadb-ee07c47700f6",
   "metadata": {},
   "outputs": [
    {
     "name": "stdout",
     "output_type": "stream",
     "text": [
      "HELLO GOOD MORNING\n",
      "Hello Good Morning\n",
      "hello good morning\n",
      "hello good morning\n",
      "18\n",
      "Have a nice day\n"
     ]
    }
   ],
   "source": [
    "msg=\"hello good morning\"\n",
    "print(msg.upper())\n",
    "print(msg.title())\n",
    "print(msg.lower())\n",
    "print(msg.strip())\n",
    "print(len(msg))\n",
    "print(msg.replace(\"hello good morning\",\"Have a nice day\"))"
   ]
  },
  {
   "cell_type": "markdown",
   "id": "f117caec-2f0d-46af-915d-fdc1df3d3ce8",
   "metadata": {},
   "source": [
    "**String जोडणे (Concatenation)**"
   ]
  },
  {
   "cell_type": "code",
   "execution_count": 49,
   "id": "6bc7b6a8-c345-43fa-81e8-94409a89526a",
   "metadata": {},
   "outputs": [
    {
     "name": "stdout",
     "output_type": "stream",
     "text": [
      "hello good morning Have a nice day\n"
     ]
    }
   ],
   "source": [
    "str1=\"hello good morning\"\n",
    "str2=\"Have a nice day\"\n",
    "print(str1 + \" \" + str2)"
   ]
  },
  {
   "cell_type": "code",
   "execution_count": 50,
   "id": "de7a78cb-eaa4-4c18-8ac5-003e89a77812",
   "metadata": {},
   "outputs": [
    {
     "name": "stdout",
     "output_type": "stream",
     "text": [
      "dipak hello\n"
     ]
    }
   ],
   "source": [
    "a=\"dipak\"\n",
    "b=\"hello\"\n",
    "print(a + \" \" + b)"
   ]
  },
  {
   "cell_type": "code",
   "execution_count": 55,
   "id": "4c4adc37-7363-414e-babe-78a28e14be4e",
   "metadata": {},
   "outputs": [
    {
     "name": "stdout",
     "output_type": "stream",
     "text": [
      "kapiD\n"
     ]
    }
   ],
   "source": [
    "str1= \"Dipak\"\n",
    "print(str1[::-1])  # string reversed"
   ]
  },
  {
   "cell_type": "code",
   "execution_count": 60,
   "id": "f385720b-8611-4d50-a06b-b7e44e3c3d7e",
   "metadata": {},
   "outputs": [
    {
     "name": "stdout",
     "output_type": "stream",
     "text": [
      "Vowels: 7\n"
     ]
    }
   ],
   "source": [
    "# count vowels in string\n",
    "str1=\"have a nice day bro\"\n",
    "vowels= \"aeiou\"\n",
    "count=0\n",
    "for ch in str1:\n",
    "    if ch in vowels:\n",
    "        count += 1\n",
    "print(\"Vowels:\",count)"
   ]
  },
  {
   "cell_type": "code",
   "execution_count": 62,
   "id": "0e9e986d-0c17-422c-8f29-cae0252e2688",
   "metadata": {},
   "outputs": [
    {
     "name": "stdout",
     "output_type": "stream",
     "text": [
      "Not palindrome\n"
     ]
    }
   ],
   "source": [
    "# palindrome check\n",
    "name= \"dipak\"\n",
    "if name == name[::-1]:\n",
    "    print(\"palindrome\")\n",
    "else:\n",
    "    print(\"Not palindrome\")"
   ]
  },
  {
   "cell_type": "code",
   "execution_count": 78,
   "id": "f829906b-02e4-42de-84b5-3fe0981c84e1",
   "metadata": {},
   "outputs": [
    {
     "name": "stdout",
     "output_type": "stream",
     "text": [
      "palindrome\n"
     ]
    }
   ],
   "source": [
    "name1= \"madam\"\n",
    "if name1 == name1[::-1]:\n",
    "    print(\"palindrome\")\n",
    "else:\n",
    "    print(\"Not palindrome\")"
   ]
  },
  {
   "cell_type": "code",
   "execution_count": 71,
   "id": "7feeb433-5f09-4283-bc15-89b7d62b82bf",
   "metadata": {},
   "outputs": [
    {
     "name": "stdout",
     "output_type": "stream",
     "text": [
      "Total words: 8\n"
     ]
    }
   ],
   "source": [
    "sentence = \"Python is very easy and Python is powerful\"\n",
    "words = sentence.split()\n",
    "print(\"Total words:\", len(words))"
   ]
  },
  {
   "cell_type": "code",
   "execution_count": 72,
   "id": "f61748d8-69cb-4ebb-a8c4-1a69204c30ec",
   "metadata": {},
   "outputs": [
    {
     "name": "stdout",
     "output_type": "stream",
     "text": [
      "java is very easy and java is powerful\n"
     ]
    }
   ],
   "source": [
    "new_sentence = sentence.replace(\"Python\",\"java\")\n",
    "print(new_sentence)"
   ]
  },
  {
   "cell_type": "code",
   "execution_count": 75,
   "id": "bf59e72c-9b01-477e-8af8-6a8ffde6a82f",
   "metadata": {},
   "outputs": [
    {
     "name": "stdout",
     "output_type": "stream",
     "text": [
      "Python is very easy and Python is powerful\n"
     ]
    }
   ],
   "source": [
    "new_sentence = sentence.replace(\"java\",\"C#\")\n",
    "print(new_sentence)"
   ]
  },
  {
   "cell_type": "code",
   "execution_count": null,
   "id": "6e03b4d8-dacb-4142-b626-d723de796ec0",
   "metadata": {},
   "outputs": [],
   "source": []
  },
  {
   "cell_type": "code",
   "execution_count": null,
   "id": "bbb612f1-98b1-4ca6-8297-917272551a8c",
   "metadata": {},
   "outputs": [],
   "source": []
  }
 ],
 "metadata": {
  "kernelspec": {
   "display_name": "Python [conda env:base] *",
   "language": "python",
   "name": "conda-base-py"
  },
  "language_info": {
   "codemirror_mode": {
    "name": "ipython",
    "version": 3
   },
   "file_extension": ".py",
   "mimetype": "text/x-python",
   "name": "python",
   "nbconvert_exporter": "python",
   "pygments_lexer": "ipython3",
   "version": "3.13.5"
  }
 },
 "nbformat": 4,
 "nbformat_minor": 5
}
