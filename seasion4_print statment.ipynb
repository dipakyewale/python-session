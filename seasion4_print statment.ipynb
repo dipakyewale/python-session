{
 "cells": [
  {
   "cell_type": "code",
   "execution_count": 1,
   "id": "87c0f427-402a-467e-9cb8-9512d2ca4f3f",
   "metadata": {},
   "outputs": [],
   "source": [
    "# our focus not only write the code \n",
    "# explain to the grandfather"
   ]
  },
  {
   "cell_type": "code",
   "execution_count": 1,
   "id": "efee310d-f37c-4025-94fe-c28fd063dbf6",
   "metadata": {},
   "outputs": [
    {
     "name": "stdout",
     "output_type": "stream",
     "text": [
      "10\n",
      "20\n"
     ]
    }
   ],
   "source": [
    "a=10\n",
    "b=20\n",
    "print(a)\n",
    "print(b)"
   ]
  },
  {
   "cell_type": "code",
   "execution_count": 2,
   "id": "dc1ed2bc-29a4-4ce1-917a-b57f7dbe4db1",
   "metadata": {},
   "outputs": [
    {
     "data": {
      "text/plain": [
       "(10, 20)"
      ]
     },
     "execution_count": 2,
     "metadata": {},
     "output_type": "execute_result"
    }
   ],
   "source": [
    "a=10\n",
    "b=20\n",
    "a,b"
   ]
  },
  {
   "cell_type": "code",
   "execution_count": 3,
   "id": "7be4d0a9-6005-4ad3-8716-e56f772311c0",
   "metadata": {},
   "outputs": [
    {
     "name": "stdout",
     "output_type": "stream",
     "text": [
      "10 20\n"
     ]
    }
   ],
   "source": [
    "a=10 \n",
    "b=20\n",
    "print(a,b)"
   ]
  },
  {
   "cell_type": "code",
   "execution_count": 4,
   "id": "0d556d76-6744-40f2-9831-4283f84573ad",
   "metadata": {},
   "outputs": [
    {
     "name": "stdout",
     "output_type": "stream",
     "text": [
      "30\n"
     ]
    }
   ],
   "source": [
    "a=10\n",
    "b=20\n",
    "c=a+b\n",
    "print(c)\n",
    "\n",
    "# a=10 , b=20 c=sum a and b \n",
    "# sum of two variable "
   ]
  },
  {
   "cell_type": "code",
   "execution_count": 6,
   "id": "3c67ae22-5153-4b71-b688-071738299be7",
   "metadata": {},
   "outputs": [
    {
     "name": "stdout",
     "output_type": "stream",
     "text": [
      "sum of 10 and 20 is: 30\n",
      "sum of a and b is: c\n",
      "sum of  10 and 20 is 30\n"
     ]
    }
   ],
   "source": [
    "a=10\n",
    "b=20\n",
    "c=a+b\n",
    "print(\"sum of 10 and 20 is: 30\")\n",
    "print(\"sum of a and b is: c\")\n",
    "print(\"sum of \",a ,\"and\",b, \"is\" ,c)"
   ]
  },
  {
   "cell_type": "code",
   "execution_count": 7,
   "id": "1dd12a56-3272-4c88-bc59-43969be75ea0",
   "metadata": {},
   "outputs": [
    {
     "name": "stdout",
     "output_type": "stream",
     "text": [
      "sum of 53 , 33 and 43 : 129\n",
      "sum of a , b and c is : d\n",
      "sum of 53 33 and 43 is: 129\n"
     ]
    }
   ],
   "source": [
    "a=53\n",
    "b=33\n",
    "c=43\n",
    "d=a+b+c\n",
    "print(f\"sum of 53 , 33 and 43 : {d }\")\n",
    "print(\"sum of a , b and c is : d\")\n",
    "print('sum of',a, b, 'and',c, 'is:',d)"
   ]
  },
  {
   "cell_type": "code",
   "execution_count": 8,
   "id": "fca478e7-7bc7-4baf-a715-f86b1665bf8b",
   "metadata": {},
   "outputs": [
    {
     "name": "stdout",
     "output_type": "stream",
     "text": [
      "sum of 50,55 and 65 is: 170\n"
     ]
    }
   ],
   "source": [
    "x= 50\n",
    "y= 55\n",
    "z= 65\n",
    "s=x+y+z\n",
    "print(f'sum of {x},{y} and {z} is: {s}')"
   ]
  },
  {
   "cell_type": "code",
   "execution_count": 13,
   "id": "ec3b5fd7-b73f-4084-8115-f25cfd918929",
   "metadata": {},
   "outputs": [
    {
     "name": "stdout",
     "output_type": "stream",
     "text": [
      "The avg of numbers is 56.666666666666664\n"
     ]
    }
   ],
   "source": [
    "x= 50\n",
    "y= 55\n",
    "z= 65\n",
    "avg=(x+y+z)/3\n",
    "print(f'The avg of numbers is {avg}')"
   ]
  },
  {
   "cell_type": "code",
   "execution_count": 26,
   "id": "86961a75-f6e6-4755-8913-67e2f5af5bb6",
   "metadata": {},
   "outputs": [
    {
     "name": "stdin",
     "output_type": "stream",
     "text": [
      "enter the number 22\n"
     ]
    },
    {
     "name": "stdout",
     "output_type": "stream",
     "text": [
      "The num is even\n"
     ]
    }
   ],
   "source": [
    "num=eval(input(\"enter the number\"))\n",
    "if num % 2 ==0:\n",
    "    print('The num is even')\n",
    "else:\n",
    "    print('The num is odd')"
   ]
  },
  {
   "cell_type": "code",
   "execution_count": 9,
   "id": "64fe28e1-7536-4299-a21e-8e47102574ff",
   "metadata": {},
   "outputs": [
    {
     "name": "stdout",
     "output_type": "stream",
     "text": [
      "my name is  python im 10 year old came from hyd\n"
     ]
    }
   ],
   "source": [
    "name='python'\n",
    "age=10\n",
    "city=\"hyd\"\n",
    "print(\"my name is \",name, \"im\" ,age, \"year old came from\",city)"
   ]
  },
  {
   "cell_type": "markdown",
   "id": "106ff75d-76e5-4d78-a3ce-cdb8f0cb7c40",
   "metadata": {},
   "source": [
    "**method-2format**"
   ]
  },
  {
   "cell_type": "code",
   "execution_count": 31,
   "id": "57abc753-7c05-4f95-b53a-cb8782e0ce99",
   "metadata": {},
   "outputs": [
    {
     "name": "stdout",
     "output_type": "stream",
     "text": [
      "sum of {a} and {b} is: {c}\n",
      "sum of {} and {} is: {}\n",
      "sum of 10 and 20 is : 30\n"
     ]
    }
   ],
   "source": [
    "a=10\n",
    "b=20\n",
    "c=a+b\n",
    "print(\"sum of {a} and {b} is: {c}\")\n",
    "print(\"sum of {} and {} is: {}\")\n",
    "print(\"sum of {} and {} is : {}\".format(a,b,c))\n"
   ]
  },
  {
   "cell_type": "code",
   "execution_count": 2,
   "id": "ffd72b14-b44f-49d5-add4-b9f591fd945d",
   "metadata": {},
   "outputs": [
    {
     "name": "stdin",
     "output_type": "stream",
     "text": [
      "enter the num1: 55\n",
      "enter the num2: 75\n",
      "enter the num3: 80\n",
      "enter the num4: 91\n"
     ]
    },
    {
     "name": "stdout",
     "output_type": "stream",
     "text": [
      " The avg of numbers is : 100.33333333333333\n"
     ]
    }
   ],
   "source": [
    "# wap ask the user an find the avg of four numbers p,q,r,s\n",
    "\n",
    "p=int(input(\"enter the num1:\"))\n",
    "q=int(input(\"enter the num2:\"))\n",
    "r=int(input(\"enter the num3:\"))\n",
    "s=int(input(\"enter the num4:\"))\n",
    "avg=(p+q+r+s)/3\n",
    "print(f\" The avg of numbers is : {avg}\")"
   ]
  },
  {
   "cell_type": "code",
   "execution_count": null,
   "id": "414cc172-b124-445c-9267-0b39498b914b",
   "metadata": {},
   "outputs": [],
   "source": []
  },
  {
   "cell_type": "code",
   "execution_count": 16,
   "id": "1f3c0e25-57e4-48a9-88ba-1567c5238e64",
   "metadata": {},
   "outputs": [
    {
     "name": "stdout",
     "output_type": "stream",
     "text": [
      "my name is dipak im 22 year old come from hyderabad\n",
      " my name  is dipak im 22 year old come from hyderabad \n"
     ]
    }
   ],
   "source": [
    "name= 'dipak'\n",
    "age= 22\n",
    "city= 'hyderabad'\n",
    "print(\"my name is dipak im 22 year old come from hyderabad\")\n",
    "print(\" my name  is {} im {} year old come from {} \".format(name ,age,city))"
   ]
  },
  {
   "cell_type": "markdown",
   "id": "88fbbf5f-c5c8-4808-80c5-88415fbb1505",
   "metadata": {},
   "source": [
    "**method-3fstring**"
   ]
  },
  {
   "cell_type": "code",
   "execution_count": 17,
   "id": "59128d91-7205-4cf1-bc89-71ce2bc31ac9",
   "metadata": {},
   "outputs": [
    {
     "name": "stdout",
     "output_type": "stream",
     "text": [
      "sum of 10 and 20 is: 30\n",
      "sum of {a} and {b} is: {c}\n",
      "sum of 10 and 20 is: 30\n"
     ]
    }
   ],
   "source": [
    "a=10\n",
    "b=20\n",
    "c=a+b\n",
    "print(\"sum of 10 and 20 is: 30\")\n",
    "print(\"sum of {a} and {b} is: {c}\")\n",
    "print(f\"sum of {a} and {b} is: {c}\")"
   ]
  },
  {
   "cell_type": "code",
   "execution_count": 18,
   "id": "c16efb5f-0c22-4378-8ec6-23abd4898839",
   "metadata": {},
   "outputs": [],
   "source": [
    "# wap ask the user take the two number \n",
    "# print substraction addition division and multiplication \n",
    "\n",
    "# output like below:\n",
    "# the addition 100 and 200 is: 300      a+b\n",
    "# the substraction 100 and 200 is:-100   a-b\n",
    "# the multiplication 100 and 200 is: 20000   a*b\n",
    "# the division 100 and 200 is: 0.5  a/b"
   ]
  },
  {
   "cell_type": "code",
   "execution_count": 21,
   "id": "cd9249eb-6877-4960-a7a4-cf64c588acd1",
   "metadata": {},
   "outputs": [
    {
     "name": "stdout",
     "output_type": "stream",
     "text": [
      "sum of 100 and 200 is equal to 300.\n",
      "sub of 100 and 200 is equal to -100.\n",
      " multi of 100 and 200 is equal to 20000.\n",
      " div of 100 and 200 is equal to 0.5.\n"
     ]
    }
   ],
   "source": [
    "a=100\n",
    "b=200\n",
    "print(f\"sum of {a} and {b} is equal to {a+b}.\")\n",
    "print(f\"sub of {a} and {b} is equal to {a-b}.\")\n",
    "print(f\" multi of {a} and {b} is equal to {a*b}.\")\n",
    "print(f\" div of {a} and {b} is equal to {a/b}.\")"
   ]
  },
  {
   "cell_type": "code",
   "execution_count": 23,
   "id": "b170cef7-80bf-4cd3-a290-6c93d298e3ec",
   "metadata": {},
   "outputs": [
    {
     "name": "stdout",
     "output_type": "stream",
     "text": [
      "the avg of 111 200 and 300 is: 203.66666666666666\n"
     ]
    }
   ],
   "source": [
    "# wap ask the user take three number a,b,c\n",
    "# find the average \n",
    "# formula : avg=(a+b+c)/3\n",
    "\n",
    "\n",
    "a=111\n",
    "b=200\n",
    "c=300\n",
    "avg=(a+b+c)/3\n",
    "print(f\"the avg of {a} {b} and {c} is: {avg}\")"
   ]
  },
  {
   "cell_type": "code",
   "execution_count": 1,
   "id": "a5d3ddc4-1847-42df-a7d8-f160a1c78f3b",
   "metadata": {},
   "outputs": [
    {
     "name": "stdout",
     "output_type": "stream",
     "text": [
      "the avg of 400,450 and 380 is: 410.0\n"
     ]
    }
   ],
   "source": [
    "x=400\n",
    "y=450\n",
    "z=380\n",
    "avg=(x+y+z)/3\n",
    "print(f\"the avg of {x},{y} and {z} is: {avg}\")"
   ]
  },
  {
   "cell_type": "code",
   "execution_count": 5,
   "id": "fa50d2b2-0bb3-4793-85e0-8affa2fee40f",
   "metadata": {},
   "outputs": [
    {
     "name": "stdout",
     "output_type": "stream",
     "text": [
      " the avg of 77 , 80 and 90 is : 82.33\n"
     ]
    }
   ],
   "source": [
    "p = 77\n",
    "q = 80\n",
    "r = 90\n",
    "avg=(p+q+r)/3\n",
    "avg=round(avg,2)\n",
    "print(f\" the avg of {p} , {q} and {r} is : {avg}\")"
   ]
  },
  {
   "cell_type": "code",
   "execution_count": 24,
   "id": "4b9f7bb2-434b-4143-a0b7-8e0d38b8a075",
   "metadata": {},
   "outputs": [
    {
     "data": {
      "text/plain": [
       "34"
      ]
     },
     "execution_count": 24,
     "metadata": {},
     "output_type": "execute_result"
    }
   ],
   "source": [
    "round(34.47)"
   ]
  },
  {
   "cell_type": "code",
   "execution_count": 28,
   "id": "05868ea1-2bd6-449e-b7da-7449309fd224",
   "metadata": {},
   "outputs": [
    {
     "data": {
      "text/plain": [
       "35"
      ]
     },
     "execution_count": 28,
     "metadata": {},
     "output_type": "execute_result"
    }
   ],
   "source": [
    "round(34.57)"
   ]
  },
  {
   "cell_type": "code",
   "execution_count": 7,
   "id": "0e327f19-fe11-4b4d-9aed-0258d5dd7312",
   "metadata": {},
   "outputs": [
    {
     "data": {
      "text/plain": [
       "34.478"
      ]
     },
     "execution_count": 7,
     "metadata": {},
     "output_type": "execute_result"
    }
   ],
   "source": [
    "round(34.47777,1) # 34.5\n",
    "round(34.47777,2) #34.48\n",
    "round(34.47777,3) #34.478"
   ]
  },
  {
   "cell_type": "code",
   "execution_count": 34,
   "id": "1e03f4ae-50d3-47f0-9782-ef1358b96c06",
   "metadata": {},
   "outputs": [
    {
     "name": "stdout",
     "output_type": "stream",
     "text": [
      " the avg of 50 100 and 150 is: 100.0\n"
     ]
    }
   ],
   "source": [
    "a=50\n",
    "b=100\n",
    "c=150\n",
    "avg=(a+b+c)/3\n",
    "avg1=round(avg,2)\n",
    "print(f\" the avg of {a} {b} and {c} is: {avg}\")\n"
   ]
  },
  {
   "cell_type": "code",
   "execution_count": 35,
   "id": "4561c326-3e73-41df-8516-e1a221ee72c8",
   "metadata": {},
   "outputs": [],
   "source": [
    "# wap ask the user take two num print subtraction multiplication and division \n",
    "# wap ask the radius find the area of circle \n",
    "# pi=3.14\n",
    "# area_of_circle=pi*r*r\n",
    "\n",
    "# wap ask the user height and breath find the area of trangle \n",
    "#     area_of_trangle=0.5*b*h\n",
    "\n",
    "\n",
    "# wap ask the user take the three number find the average \n",
    "# wap ask the user take the bill amount and tip amount calculate bill \n",
    "# wap ask the user take the salery, percentage of tax calculate tax amount\n",
    "# wap ask the user take the value in dollar convert into pounds\n",
    "#   1kg=2.2pounds"
   ]
  },
  {
   "cell_type": "code",
   "execution_count": 1,
   "id": "73c41e7d-c7eb-4338-bdcc-d1f464c44c0f",
   "metadata": {},
   "outputs": [
    {
     "name": "stdout",
     "output_type": "stream",
     "text": [
      "31400.0\n"
     ]
    }
   ],
   "source": [
    "# pi=3.14\n",
    "# r=100\n",
    "# area_of_circle=pi*r*r\n",
    "pi=3.14\n",
    "r=100\n",
    "area_of_circle=pi*r*r\n",
    "\n",
    "print(area_of_circle) # fine for me\n"
   ]
  },
  {
   "cell_type": "code",
   "execution_count": 2,
   "id": "26dd37dc-bf85-4544-b42a-a7b11ec2383d",
   "metadata": {},
   "outputs": [
    {
     "name": "stdout",
     "output_type": "stream",
     "text": [
      "100.0\n"
     ]
    }
   ],
   "source": [
    "# wap ask the user height and breath find the area of trangle \n",
    "#     area_of_trangle=0.5*b*h\n",
    "\n",
    "b=10\n",
    "h=20\n",
    "area_of_trangle=0.5*b*h\n",
    "print(area_of_trangle)"
   ]
  },
  {
   "cell_type": "code",
   "execution_count": 9,
   "id": "977b399d-2e82-4540-9220-86ffe87467b9",
   "metadata": {},
   "outputs": [
    {
     "name": "stdin",
     "output_type": "stream",
     "text": [
      "enter the number1: 22\n",
      "enter the number2: 25\n"
     ]
    },
    {
     "name": "stdout",
     "output_type": "stream",
     "text": [
      "275.0\n"
     ]
    }
   ],
   "source": [
    "b=eval(input(\"enter the number1:\"))\n",
    "h=eval(input(\"enter the number2:\"))\n",
    "area_of_trangle=0.5*b*h\n",
    "print(area_of_trangle)"
   ]
  },
  {
   "cell_type": "code",
   "execution_count": 3,
   "id": "f4c88800-904d-49dc-8718-7716bcbabec5",
   "metadata": {},
   "outputs": [],
   "source": [
    "bill_amount=100\n",
    "tip_per=10"
   ]
  },
  {
   "cell_type": "code",
   "execution_count": 4,
   "id": "17a1fccf-13d9-4323-b4dd-5242ddb6fe79",
   "metadata": {},
   "outputs": [],
   "source": [
    "tip_amount=bill_amount*tip_per/100\n",
    "total_amount=bill_amount+tip_amount"
   ]
  },
  {
   "cell_type": "code",
   "execution_count": 5,
   "id": "8de525da-1d81-4fdb-93d5-a1f55482d81b",
   "metadata": {},
   "outputs": [
    {
     "name": "stdout",
     "output_type": "stream",
     "text": [
      "the total bill is: 11000.0\n"
     ]
    }
   ],
   "source": [
    "# wap ask the user take the salary,percentage of tax calculate tax amount\n",
    "bill_amount=10000\n",
    "tip_persentage=10\n",
    "tip_amount=bill_amount*tip_persentage/100\n",
    "total_amount=bill_amount+tip_amount\n",
    "print(f\"the total bill is: {total_amount}\")\n",
    "\n"
   ]
  },
  {
   "cell_type": "code",
   "execution_count": 12,
   "id": "fbba892d-d3f8-4933-b80f-c04b719e762c",
   "metadata": {},
   "outputs": [
    {
     "name": "stdin",
     "output_type": "stream",
     "text": [
      "enter the num1: 5000\n",
      "enter the num2: 15\n"
     ]
    },
    {
     "name": "stdout",
     "output_type": "stream",
     "text": [
      "The total bill is : 5750.0\n"
     ]
    }
   ],
   "source": [
    "bill_amount=eval(input(\"enter the num1:\"))\n",
    "tip_persentage=eval(input(\"enter the num2:\"))\n",
    "tip_amount=bill_amount*tip_persentage/100\n",
    "total_amount=bill_amount+tip_amount\n",
    "print(f\"The total bill is : {total_amount}\")"
   ]
  },
  {
   "cell_type": "code",
   "execution_count": 13,
   "id": "a1394479-34b6-45da-98f0-536f77226d9a",
   "metadata": {},
   "outputs": [
    {
     "name": "stdin",
     "output_type": "stream",
     "text": [
      "enter the num1 7000\n",
      "enter the num2 11\n"
     ]
    },
    {
     "name": "stdout",
     "output_type": "stream",
     "text": [
      "The total bill is : 7770.0\n"
     ]
    }
   ],
   "source": [
    "bill_amount=int(input(\"enter the num1\"))\n",
    "tip_per=int(input(\"enter the num2\"))\n",
    "tip_amount=bill_amount*tip_per/100\n",
    "total_amount=bill_amount+tip_amount\n",
    "print(f\"The total bill is : {total_amount}\")"
   ]
  },
  {
   "cell_type": "code",
   "execution_count": 4,
   "id": "f1392a69-1562-4cd4-b478-7c1df075eda6",
   "metadata": {},
   "outputs": [
    {
     "name": "stdout",
     "output_type": "stream",
     "text": [
      "total amount in rupee:5$*80rs=400\n",
      "total amount in rupee:5$*80rs400\n"
     ]
    }
   ],
   "source": [
    "# wap ask the user take the value in dollar convert into rupees\n",
    "#1$=80rs\n",
    "dollar=5\n",
    "rupee_value=80\n",
    "total=dollar*rupee_value\n",
    "print(f\"total amount in rupee:5$*80rs=400\")\n",
    "print(f\"total amount in rupee:{dollar}$*{rupee_value}rs{total}\")"
   ]
  },
  {
   "cell_type": "code",
   "execution_count": 1,
   "id": "1fd375f0-99fd-4356-88f3-06058d4676d2",
   "metadata": {},
   "outputs": [
    {
     "name": "stdout",
     "output_type": "stream",
     "text": [
      "total amount in rupee : 15$*80rs=1200\n",
      " total amount in rupee: 15$*80rs1200\n"
     ]
    }
   ],
   "source": [
    "dollar=15\n",
    "rupee_value=80\n",
    "total=dollar*rupee_value\n",
    "print(f\"total amount in rupee : 15$*80rs=1200\")\n",
    "print(f\" total amount in rupee: {dollar}$*{rupee_value}rs{total}\")"
   ]
  },
  {
   "cell_type": "code",
   "execution_count": 11,
   "id": "875c74ce-ee0c-454c-a84d-1bd2ea2c6b3c",
   "metadata": {},
   "outputs": [
    {
     "name": "stdout",
     "output_type": "stream",
     "text": [
      "total amount in rupee:5$*80rs=400\n",
      "total amount in rupee:{}$*{}rs={}\n",
      "total amount in rupee:5$*80rs=400\n",
      "total amount in rupee:5$*80rs=400rs\n"
     ]
    }
   ],
   "source": [
    "dollar=5\n",
    "rupee_value=80\n",
    "total=dollar*rupee_value\n",
    "print(\"total amount in rupee:5$*80rs=400\")\n",
    "print(\"total amount in rupee:{}$*{}rs={}\")\n",
    "print(f\"total amount in rupee:{dollar}$*{rupee_value}rs={total}\")\n",
    "print(f\"total amount in rupee:{dollar}$*{rupee_value}rs={total}rs\")"
   ]
  },
  {
   "cell_type": "code",
   "execution_count": 21,
   "id": "e227d86c-e66d-4822-8a3d-c5961ba9854a",
   "metadata": {},
   "outputs": [
    {
     "name": "stdout",
     "output_type": "stream",
     "text": [
      "converted value of weight of kg is 50 and pound  is 2.20462 : 110.231\n"
     ]
    }
   ],
   "source": [
    "kgs = 50 \n",
    "pound = 2.20462\n",
    "converted_value = kgs* pound\n",
    "print(f\"converted value of weight of kg is {kgs} and pound  is {pound} : {converted_value}\")"
   ]
  },
  {
   "cell_type": "code",
   "execution_count": 8,
   "id": "75105115-8e1c-44d2-a106-2086592c53e3",
   "metadata": {},
   "outputs": [
    {
     "name": "stdout",
     "output_type": "stream",
     "text": [
      "converted value of weight of kg is 80 and pound is 3.30462 : 264.3696\n"
     ]
    }
   ],
   "source": [
    "kgs=80\n",
    "pound=3.30462\n",
    "converted_value = kgs* pound\n",
    "print(f\"converted value of weight of kg is {kgs} and pound is {pound} : {converted_value}\")"
   ]
  },
  {
   "cell_type": "code",
   "execution_count": 28,
   "id": "afc3c92a-01be-474a-97f5-c06fad5de637",
   "metadata": {},
   "outputs": [
    {
     "name": "stdout",
     "output_type": "stream",
     "text": [
      "weight_in_pounds = weight_in_kgs*2.2 = 110.00000000000001*2.2 = 50\n"
     ]
    }
   ],
   "source": [
    "weight_in_kgs=50\n",
    "weight_in_pounds=2.2*weight_in_kgs\n",
    "print(f\"weight_in_pounds = weight_in_kgs*2.2 = {weight_in_pounds}*2.2 = {weight_in_kgs}\")"
   ]
  },
  {
   "cell_type": "code",
   "execution_count": 4,
   "id": "f624afe2-f9ed-4d6e-8098-bd502111e60e",
   "metadata": {},
   "outputs": [
    {
     "name": "stdout",
     "output_type": "stream",
     "text": [
      "total amount in rupee:20$*80rs=2000\n",
      "total amount in rupee:20$*80rs=1600\n"
     ]
    }
   ],
   "source": [
    "dollar = 20\n",
    "rupee_value = 80\n",
    "total = dollar*rupee_value\n",
    "print(\"total amount in rupee:20$*80rs=2000\")\n",
    "print(f\"total amount in rupee:{dollar}$*{rupee_value}rs={total}\")\n"
   ]
  },
  {
   "cell_type": "code",
   "execution_count": 3,
   "id": "268b1a68-29f7-47d5-a8a0-bfc2c5e85e47",
   "metadata": {},
   "outputs": [
    {
     "name": "stdout",
     "output_type": "stream",
     "text": [
      "The addition of 10 and 20 is 30\n"
     ]
    }
   ],
   "source": [
    "a=10\n",
    "b=20\n",
    "print(f\"The addition of {a} and {b} is {a+b}\")"
   ]
  },
  {
   "cell_type": "code",
   "execution_count": 13,
   "id": "f37a30fc-8eda-435f-a5df-95622dc15c48",
   "metadata": {},
   "outputs": [
    {
     "data": {
      "text/plain": [
       "41"
      ]
     },
     "execution_count": 13,
     "metadata": {},
     "output_type": "execute_result"
    }
   ],
   "source": [
    "round(40.5777)"
   ]
  },
  {
   "cell_type": "code",
   "execution_count": 27,
   "id": "b839faea-5ee6-4d84-9dcd-b1b113a972e0",
   "metadata": {},
   "outputs": [
    {
     "data": {
      "text/plain": [
       "34.4778"
      ]
     },
     "execution_count": 27,
     "metadata": {},
     "output_type": "execute_result"
    }
   ],
   "source": [
    "round(34.47777,4)"
   ]
  },
  {
   "cell_type": "code",
   "execution_count": 28,
   "id": "04b82cee-69ed-47a5-96a2-ca09483018f3",
   "metadata": {},
   "outputs": [
    {
     "data": {
      "text/plain": [
       "45"
      ]
     },
     "execution_count": 28,
     "metadata": {},
     "output_type": "execute_result"
    }
   ],
   "source": [
    "round(44.51)"
   ]
  },
  {
   "cell_type": "code",
   "execution_count": null,
   "id": "38952577-333d-49bd-be1f-f1754c814f6c",
   "metadata": {},
   "outputs": [],
   "source": []
  }
 ],
 "metadata": {
  "kernelspec": {
   "display_name": "Python [conda env:base] *",
   "language": "python",
   "name": "conda-base-py"
  },
  "language_info": {
   "codemirror_mode": {
    "name": "ipython",
    "version": 3
   },
   "file_extension": ".py",
   "mimetype": "text/x-python",
   "name": "python",
   "nbconvert_exporter": "python",
   "pygments_lexer": "ipython3",
   "version": "3.13.5"
  }
 },
 "nbformat": 4,
 "nbformat_minor": 5
}
