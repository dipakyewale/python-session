{
 "cells": [
  {
   "cell_type": "code",
   "execution_count": 3,
   "id": "f3c4d02b-a8c0-47c2-bfaa-2ef12580ca21",
   "metadata": {},
   "outputs": [],
   "source": [
    "even_odd= lambda x :\" even \" if x % 2 ==0 else \"odd\""
   ]
  },
  {
   "cell_type": "code",
   "execution_count": 6,
   "id": "c7e9aef9-1571-4eec-8e35-79101fd3e173",
   "metadata": {},
   "outputs": [
    {
     "name": "stdout",
     "output_type": "stream",
     "text": [
      " even \n",
      "odd\n"
     ]
    }
   ],
   "source": [
    "print(even_odd(12))\n",
    "print(even_odd(7))"
   ]
  },
  {
   "cell_type": "code",
   "execution_count": 7,
   "id": "b9a2469f-4361-47fe-9e22-24467fdfba4f",
   "metadata": {},
   "outputs": [
    {
     "name": "stdout",
     "output_type": "stream",
     "text": [
      "prime number between  1 50\n",
      "2\n",
      "3\n",
      "5\n",
      "7\n",
      "11\n",
      "13\n",
      "17\n",
      "19\n",
      "23\n",
      "29\n",
      "31\n",
      "37\n",
      "41\n",
      "43\n",
      "47\n"
     ]
    }
   ],
   "source": [
    "lower = 1\n",
    "upper = 50\n",
    "print(\"prime number between \", lower , upper)\n",
    "for num in range(lower, upper + 1):\n",
    "    if num > 1:\n",
    "        for i in range(2 , num):\n",
    "            if (num % i)==0:\n",
    "                break\n",
    "        else:\n",
    "            print(num)"
   ]
  },
  {
   "cell_type": "code",
   "execution_count": 9,
   "id": "389be50d-c968-4704-a0b3-f1a802a517ed",
   "metadata": {},
   "outputs": [
    {
     "name": "stdin",
     "output_type": "stream",
     "text": [
      "Enter the number (b): 21\n",
      "Enter the number (h):  14\n"
     ]
    },
    {
     "name": "stdout",
     "output_type": "stream",
     "text": [
      "area of trangle is : 147.0\n"
     ]
    }
   ],
   "source": [
    "b=int(input(\"Enter the number (b):\"))\n",
    "h=int(input(\"Enter the number (h): \"))\n",
    "area_of_trangle=0.5*b*h\n",
    "print(f\"area of trangle is : {area_of_trangle}\")"
   ]
  },
  {
   "cell_type": "code",
   "execution_count": 14,
   "id": "2e9e71cd-c145-403c-b34b-9d5577fcf90b",
   "metadata": {},
   "outputs": [
    {
     "name": "stdout",
     "output_type": "stream",
     "text": [
      "The 44 is even\n",
      "The 20 is even\n",
      "The 26 is even\n",
      "The 47 is odd\n",
      "The 11 is odd\n",
      "The 25 is odd\n",
      "The 39 is odd\n",
      "The 50 is even\n",
      "The 38 is even\n",
      "The 9 is odd\n",
      "The 50 is even\n",
      "The 28 is even\n",
      "The 27 is odd\n",
      "The 50 is even\n",
      "The 27 is odd\n",
      "The 16 is even\n",
      "The 20 is even\n",
      "The 27 is odd\n",
      "The 20 is even\n",
      "The 43 is odd\n",
      "The 39 is odd\n",
      "The 25 is odd\n",
      "The 18 is even\n",
      "The 34 is even\n",
      "The 17 is odd\n",
      "The 14 is even\n",
      "The 5 is odd\n",
      "The 32 is even\n",
      "The 14 is even\n",
      "The 23 is odd\n",
      "The 45 is odd\n",
      "The 48 is even\n",
      "The 35 is odd\n",
      "The 43 is odd\n",
      "The 38 is even\n",
      "The 26 is even\n",
      "The 50 is even\n",
      "The 47 is odd\n",
      "The 35 is odd\n",
      "The 38 is even\n",
      "The 24 is even\n",
      "The 44 is even\n",
      "The 8 is even\n",
      "The 8 is even\n",
      "The 24 is even\n",
      "The 21 is odd\n",
      "The 41 is odd\n",
      "The 8 is even\n",
      "The 15 is odd\n"
     ]
    }
   ],
   "source": [
    "import random\n",
    "for i in range (1,50):\n",
    "    num=random.randint(1,50)\n",
    "    if num % 2 ==0:\n",
    "        print(f\"The {num} is even\")\n",
    "    else:\n",
    "        print(f\"The {num} is odd\")"
   ]
  },
  {
   "cell_type": "code",
   "execution_count": 15,
   "id": "16fcccf7-0250-4778-8f68-aa83afa34f26",
   "metadata": {},
   "outputs": [
    {
     "name": "stdin",
     "output_type": "stream",
     "text": [
      "Enter your year : 2007\n",
      "Enter your month : 6\n"
     ]
    },
    {
     "name": "stdout",
     "output_type": "stream",
     "text": [
      "     June 2007\n",
      "Mo Tu We Th Fr Sa Su\n",
      "             1  2  3\n",
      " 4  5  6  7  8  9 10\n",
      "11 12 13 14 15 16 17\n",
      "18 19 20 21 22 23 24\n",
      "25 26 27 28 29 30\n",
      "\n"
     ]
    }
   ],
   "source": [
    "import calendar\n",
    "year =int(input(\"Enter your year :\"))\n",
    "month=int(input(\"Enter your month :\"))\n",
    "cal = calendar.month(year,month)\n",
    "print(cal)"
   ]
  },
  {
   "cell_type": "code",
   "execution_count": 17,
   "id": "99dae019-2fc1-4c25-97cd-b416a4740050",
   "metadata": {},
   "outputs": [
    {
     "data": {
      "text/plain": [
       "'H@y how @re you Dip@k'"
      ]
     },
     "execution_count": 17,
     "metadata": {},
     "output_type": "execute_result"
    }
   ],
   "source": [
    "a = \"Hay how are you Dipak\"\n",
    "if a in a:\n",
    "    a=a.replace(\"a\",\"@\")\n",
    "else:\n",
    "    print(\"not in list\")\n",
    "a"
   ]
  },
  {
   "cell_type": "code",
   "execution_count": 22,
   "id": "5061a02b-c72c-44b3-900b-0ea416c7491f",
   "metadata": {},
   "outputs": [
    {
     "name": "stdin",
     "output_type": "stream",
     "text": [
      "Enter the num (A): 22\n",
      "Enter the num (B): 66\n",
      "Enter the num (C): 75\n",
      "Enter the num (D): 84\n",
      "Enter the num (E): 9\n"
     ]
    },
    {
     "name": "stdout",
     "output_type": "stream",
     "text": [
      "The avg of 22,66,75,84 and 9 is : 51.2\n"
     ]
    }
   ],
   "source": [
    "a=int(input(\"Enter the num (A):\"))\n",
    "b=int(input(\"Enter the num (B):\"))\n",
    "c=int(input(\"Enter the num (C):\"))\n",
    "d=int(input(\"Enter the num (D):\"))\n",
    "e=int(input(\"Enter the num (E):\"))\n",
    "avg=round(a+b+c+d+e)/5\n",
    "print(f\"The avg of {a},{b},{c},{d} and {e} is : {avg}\")"
   ]
  },
  {
   "cell_type": "code",
   "execution_count": 24,
   "id": "511f320e-45a8-4163-b793-850e1cabab72",
   "metadata": {},
   "outputs": [
    {
     "name": "stdin",
     "output_type": "stream",
     "text": [
      "enter the  number (a):  22\n",
      "enter the number (b) :  86\n"
     ]
    },
    {
     "name": "stdout",
     "output_type": "stream",
     "text": [
      "after swaipping\n",
      "a= 86\n",
      "b= 22\n"
     ]
    }
   ],
   "source": [
    "a=int(input(\"enter the  number (a): \"))\n",
    "b=int(input(\"enter the number (b) : \"))\n",
    "\n",
    "a , b = b ,a\n",
    "\n",
    "print(\"after swaipping\")\n",
    "print(\"a=\", a)\n",
    "print(\"b=\", b)"
   ]
  },
  {
   "cell_type": "code",
   "execution_count": 25,
   "id": "c4afe33f-5daf-4f3c-a847-b4c15e650629",
   "metadata": {},
   "outputs": [
    {
     "name": "stdout",
     "output_type": "stream",
     "text": [
      "8*0=0\n",
      "8*1=8\n",
      "8*2=16\n",
      "8*3=24\n",
      "8*4=32\n",
      "8*5=40\n",
      "8*6=48\n",
      "8*7=56\n",
      "8*8=64\n",
      "8*9=72\n",
      "8*10=80\n"
     ]
    }
   ],
   "source": [
    "for i in range(11):\n",
    "    print(f\"8*{i}={8*i}\")"
   ]
  },
  {
   "cell_type": "code",
   "execution_count": null,
   "id": "1260f5c8-6742-44b1-9d7a-e635a03426a0",
   "metadata": {},
   "outputs": [],
   "source": []
  }
 ],
 "metadata": {
  "kernelspec": {
   "display_name": "Python [conda env:base] *",
   "language": "python",
   "name": "conda-base-py"
  },
  "language_info": {
   "codemirror_mode": {
    "name": "ipython",
    "version": 3
   },
   "file_extension": ".py",
   "mimetype": "text/x-python",
   "name": "python",
   "nbconvert_exporter": "python",
   "pygments_lexer": "ipython3",
   "version": "3.13.5"
  }
 },
 "nbformat": 4,
 "nbformat_minor": 5
}
