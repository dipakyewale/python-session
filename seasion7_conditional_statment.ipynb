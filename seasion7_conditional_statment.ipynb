{
 "cells": [
  {
   "cell_type": "code",
   "execution_count": 2,
   "id": "acd17834-3f3a-490b-adaa-61066b7e85af",
   "metadata": {},
   "outputs": [
    {
     "data": {
      "text/plain": [
       "'dip@k'"
      ]
     },
     "execution_count": 2,
     "metadata": {},
     "output_type": "execute_result"
    }
   ],
   "source": [
    "s = \"dipak\"\n",
    "if \"a\" in s:\n",
    "    s = s.replace(\"a\",\"@\")\n",
    "else:\n",
    "    print(\"not in string \")\n",
    "s"
   ]
  },
  {
   "cell_type": "code",
   "execution_count": 3,
   "id": "2c8e5b2a-6332-43de-9f10-87a4d6ffacf0",
   "metadata": {},
   "outputs": [
    {
     "data": {
      "text/plain": [
       "'ki$hor'"
      ]
     },
     "execution_count": 3,
     "metadata": {},
     "output_type": "execute_result"
    }
   ],
   "source": [
    "l = \"kishor\"\n",
    "if \"s\" in l:\n",
    "    l = l.replace(\"s\",\"$\")\n",
    "else:\n",
    "    print(\"not in string\")\n",
    "l"
   ]
  },
  {
   "cell_type": "code",
   "execution_count": 4,
   "id": "b93f28a2-2224-4221-8a27-b2f92838bc14",
   "metadata": {},
   "outputs": [],
   "source": [
    "import math"
   ]
  },
  {
   "cell_type": "code",
   "execution_count": 5,
   "id": "339f64ad-a5b9-4b58-930b-b997ebff4270",
   "metadata": {},
   "outputs": [
    {
     "data": {
      "text/plain": [
       "25"
      ]
     },
     "execution_count": 5,
     "metadata": {},
     "output_type": "execute_result"
    }
   ],
   "source": [
    "math.floor(25.67)"
   ]
  },
  {
   "cell_type": "code",
   "execution_count": 6,
   "id": "6c8efd01-2e61-4f62-8121-e6b27146598b",
   "metadata": {},
   "outputs": [
    {
     "data": {
      "text/plain": [
       "25"
      ]
     },
     "execution_count": 6,
     "metadata": {},
     "output_type": "execute_result"
    }
   ],
   "source": [
    "math.floor(25.37)"
   ]
  },
  {
   "cell_type": "markdown",
   "id": "be2f3679-3ae0-441c-a8ed-8dd82da82865",
   "metadata": {},
   "source": [
    "**how to take the number**"
   ]
  },
  {
   "cell_type": "code",
   "execution_count": 7,
   "id": "41c711d0-bf8a-412c-ad98-5257ff8b783e",
   "metadata": {},
   "outputs": [
    {
     "name": "stdout",
     "output_type": "stream",
     "text": [
      "250\n"
     ]
    }
   ],
   "source": [
    "a=100  # hardcode\n",
    "b=150  # hardcode\n",
    "c=a+b\n",
    "print(c)"
   ]
  },
  {
   "cell_type": "code",
   "execution_count": 9,
   "id": "dccdc9ba-a967-4cf4-8008-86773a5686fb",
   "metadata": {},
   "outputs": [
    {
     "name": "stdin",
     "output_type": "stream",
     "text": [
      "enter the n1: 37\n",
      "enter the n2: 83\n"
     ]
    },
    {
     "name": "stdout",
     "output_type": "stream",
     "text": [
      "120\n"
     ]
    }
   ],
   "source": [
    "a=eval(input(\"enter the n1:\"))  # use can choose \n",
    "b=eval(input(\"enter the n2:\"))\n",
    "c=a+b\n",
    "print(c)"
   ]
  },
  {
   "cell_type": "code",
   "execution_count": 25,
   "id": "2a7a6819-1865-4de7-9353-4c656f236727",
   "metadata": {},
   "outputs": [
    {
     "name": "stdout",
     "output_type": "stream",
     "text": [
      "the addition of 145 and 80 is 225:\n"
     ]
    }
   ],
   "source": [
    "import random\n",
    "a=random.randint(2,200)\n",
    "b=random.randint(2,200)\n",
    "c=a+b\n",
    "print(f\"the addition of {a} and {b} is {c}:\")"
   ]
  },
  {
   "cell_type": "code",
   "execution_count": 6,
   "id": "d1f1350f-4c2e-4114-8cf4-e1b6ef10b5bf",
   "metadata": {},
   "outputs": [
    {
     "name": "stdout",
     "output_type": "stream",
     "text": [
      "the substacttion of 235 and 161 is: 74\n"
     ]
    }
   ],
   "source": [
    "import random \n",
    "a=random.randint(3,300)\n",
    "b=random.randint(3,300)\n",
    "c=a-b\n",
    "print(f\"the substacttion of {a} and {b} is: {c}\")  # practice example "
   ]
  },
  {
   "cell_type": "code",
   "execution_count": 45,
   "id": "d5a0d610-cd69-45bf-b4b8-7603c42bafe9",
   "metadata": {},
   "outputs": [
    {
     "name": "stdout",
     "output_type": "stream",
     "text": [
      "the multiplication of 5 and 422 is:2110\n"
     ]
    }
   ],
   "source": [
    "import random\n",
    "a=random.randint(5,400)\n",
    "b=random.randint(4,500)\n",
    "c=a*b\n",
    "print(f\"the multiplication of {a} and {b} is:{c}\")"
   ]
  },
  {
   "cell_type": "code",
   "execution_count": 48,
   "id": "85106f29-3b03-4b1f-b0b2-cdd0fc6b5b3e",
   "metadata": {},
   "outputs": [
    {
     "name": "stdout",
     "output_type": "stream",
     "text": [
      "the division of15 and 30 is: 0.5\n"
     ]
    }
   ],
   "source": [
    "import random\n",
    "a=random.randint(10,20)\n",
    "b=random.randint(20,30)\n",
    "c=a/b\n",
    "print(f\"the division of{a} and {b} is: {c}\")"
   ]
  },
  {
   "cell_type": "code",
   "execution_count": 1,
   "id": "775636a4-2541-4562-bd92-77a62ab7e1eb",
   "metadata": {},
   "outputs": [
    {
     "name": "stdout",
     "output_type": "stream",
     "text": [
      " the addition of 25 and 41 is : 66 \n"
     ]
    }
   ],
   "source": [
    "import random\n",
    "a=random.randint(20,40)\n",
    "b=random.randint(40,60)\n",
    "c=a+b\n",
    "print(f\" the addition of {a} and {b} is : {c} \")"
   ]
  },
  {
   "cell_type": "code",
   "execution_count": 3,
   "id": "3ced6bc4-b585-48a7-a4e2-b645c2493f21",
   "metadata": {},
   "outputs": [
    {
     "name": "stdout",
     "output_type": "stream",
     "text": [
      "the multiplication of 12 and 32 is : 384\n"
     ]
    }
   ],
   "source": [
    "import random\n",
    "x=random.randint(10,20)\n",
    "y=random.randint(30,50)\n",
    "z=x*y\n",
    "print(f\"the multiplication of {x} and {y} is : {z}\")"
   ]
  },
  {
   "cell_type": "code",
   "execution_count": 2,
   "id": "89cae24f-c1aa-4910-8d44-6ec4b9b85d0e",
   "metadata": {},
   "outputs": [
    {
     "name": "stdout",
     "output_type": "stream",
     "text": [
      "384\n"
     ]
    }
   ],
   "source": [
    "a=12\n",
    "b=32\n",
    "c=a*b\n",
    "print(c)"
   ]
  },
  {
   "cell_type": "code",
   "execution_count": 1,
   "id": "4b44115f-053b-42a1-9195-2455a64c6290",
   "metadata": {},
   "outputs": [
    {
     "name": "stdin",
     "output_type": "stream",
     "text": [
      "enter the num1 40\n",
      "enter the num2 45\n"
     ]
    },
    {
     "name": "stdout",
     "output_type": "stream",
     "text": [
      "the avg of 40 and 45 is 28.333333333333332\n"
     ]
    }
   ],
   "source": [
    "num1=eval(input(\"enter the num1\"))\n",
    "num2=eval(input(\"enter the num2\"))\n",
    "avg=(num1+num2)/3\n",
    "print(f\"the avg of {num1} and {num2} is {avg}\")   # practice "
   ]
  },
  {
   "cell_type": "code",
   "execution_count": 3,
   "id": "75ce00f1-26a5-46db-bf3c-36ebfb864376",
   "metadata": {},
   "outputs": [
    {
     "name": "stdin",
     "output_type": "stream",
     "text": [
      "enter the num1 33\n",
      "enter the num2 44\n",
      "enter the num3 55\n",
      "enter the num4 66\n"
     ]
    },
    {
     "name": "stdout",
     "output_type": "stream",
     "text": [
      "the avg of 33 , 44 ,55 and 66 is : 49.5\n"
     ]
    }
   ],
   "source": [
    "num1=int(input(\"enter the num1\"))\n",
    "num2=int(input(\"enter the num2\"))\n",
    "num3=int(input(\"enter the num3\"))\n",
    "num4=int(input(\"enter the num4\"))\n",
    "avg=(num1+num2+num3+num4)/4\n",
    "print(f\"the avg of {num1} , {num2} ,{num3} and {num4} is : {avg}\")"
   ]
  },
  {
   "cell_type": "markdown",
   "id": "a6d23b7e-df81-4215-bece-e50fcdf3836a",
   "metadata": {},
   "source": [
    "**conditional statments**"
   ]
  },
  {
   "cell_type": "markdown",
   "id": "c74a4336-59e2-4a91-b010-d52a12f1d832",
   "metadata": {},
   "source": [
    "- i want to do somthing baces on condition \n",
    "\n",
    "- i want to say hello \n",
    "\n",
    "- i want to say hello if you know to me \n",
    "\n",
    "- i want to come to the class\n",
    "\n",
    "- i want go to the class  if there is a rain otherwise ground"
   ]
  },
  {
   "cell_type": "code",
   "execution_count": null,
   "id": "fcf6b87a-e202-47a9-a941-cd443e77f5af",
   "metadata": {},
   "outputs": [],
   "source": [
    "if : i want to say hello if you know to me \n",
    "if else: i want to go to the class if there rain otherwise ground \n",
    "if elif else : i want go to the class if there is rain \n",
    "               otherwise i will study at home if father is there otherweise ground"
   ]
  },
  {
   "cell_type": "markdown",
   "id": "9c233855-9ef5-4a69-aacb-b8f0ce6dc9d2",
   "metadata": {},
   "source": [
    "**if condition**"
   ]
  },
  {
   "cell_type": "code",
   "execution_count": null,
   "id": "67a8b13a-12bb-4c24-86fa-192a10d2074c",
   "metadata": {},
   "outputs": [],
   "source": [
    "if <condition>:\n",
    "    # code\n",
    "    # code \n",
    "    # code"
   ]
  },
  {
   "cell_type": "code",
   "execution_count": 38,
   "id": "5d8963b4-70ef-46ce-ae11-240652143886",
   "metadata": {},
   "outputs": [
    {
     "data": {
      "text/plain": [
       "True"
      ]
     },
     "execution_count": 38,
     "metadata": {},
     "output_type": "execute_result"
    }
   ],
   "source": [
    "10>0"
   ]
  },
  {
   "cell_type": "code",
   "execution_count": 5,
   "id": "206a8dc7-a65c-4923-b1b4-786077e0d43d",
   "metadata": {},
   "outputs": [
    {
     "data": {
      "text/plain": [
       "False"
      ]
     },
     "execution_count": 5,
     "metadata": {},
     "output_type": "execute_result"
    }
   ],
   "source": [
    "50>100"
   ]
  },
  {
   "cell_type": "code",
   "execution_count": 2,
   "id": "95ce3f43-d01d-49de-9f76-880e76757bc5",
   "metadata": {},
   "outputs": [
    {
     "name": "stdin",
     "output_type": "stream",
     "text": [
      "enter the num 22\n"
     ]
    },
    {
     "name": "stdout",
     "output_type": "stream",
     "text": [
      "smaller num\n"
     ]
    }
   ],
   "source": [
    "num=int(input(\"enter the num\"))\n",
    "if num>25:\n",
    "    print(\"biggest num\")\n",
    "else:\n",
    "    print(\"smaller num\")"
   ]
  },
  {
   "cell_type": "code",
   "execution_count": 26,
   "id": "5ee6c71e-7322-4d85-a7be-da20877f30a8",
   "metadata": {},
   "outputs": [
    {
     "data": {
      "text/plain": [
       "False"
      ]
     },
     "execution_count": 26,
     "metadata": {},
     "output_type": "execute_result"
    }
   ],
   "source": [
    "60<50"
   ]
  },
  {
   "cell_type": "code",
   "execution_count": 28,
   "id": "7a77f98c-1d39-4920-a6f4-7bc28f2edf44",
   "metadata": {},
   "outputs": [
    {
     "data": {
      "text/plain": [
       "True"
      ]
     },
     "execution_count": 28,
     "metadata": {},
     "output_type": "execute_result"
    }
   ],
   "source": [
    "77==77"
   ]
  },
  {
   "cell_type": "code",
   "execution_count": 29,
   "id": "555cfc3a-0bc8-443a-bded-1f35bf95c98d",
   "metadata": {},
   "outputs": [
    {
     "data": {
      "text/plain": [
       "True"
      ]
     },
     "execution_count": 29,
     "metadata": {},
     "output_type": "execute_result"
    }
   ],
   "source": [
    "77<80"
   ]
  },
  {
   "cell_type": "code",
   "execution_count": 39,
   "id": "4f214f0c-48ba-4b08-a0b5-2788eb9b0c81",
   "metadata": {},
   "outputs": [
    {
     "data": {
      "text/plain": [
       "False"
      ]
     },
     "execution_count": 39,
     "metadata": {},
     "output_type": "execute_result"
    }
   ],
   "source": [
    "0>10"
   ]
  },
  {
   "cell_type": "code",
   "execution_count": 40,
   "id": "142578e5-0fc8-45b9-b610-d7f4a179ada4",
   "metadata": {},
   "outputs": [
    {
     "data": {
      "text/plain": [
       "True"
      ]
     },
     "execution_count": 40,
     "metadata": {},
     "output_type": "execute_result"
    }
   ],
   "source": [
    "0>-10"
   ]
  },
  {
   "cell_type": "code",
   "execution_count": 41,
   "id": "ce617889-cf70-4806-839f-d7502db1c331",
   "metadata": {},
   "outputs": [
    {
     "data": {
      "text/plain": [
       "True"
      ]
     },
     "execution_count": 41,
     "metadata": {},
     "output_type": "execute_result"
    }
   ],
   "source": [
    "+0>-10"
   ]
  },
  {
   "cell_type": "code",
   "execution_count": 42,
   "id": "0ad9489b-eb81-43b9-861b-0e842ce9cd9b",
   "metadata": {},
   "outputs": [
    {
     "name": "stdout",
     "output_type": "stream",
     "text": [
      "hello\n"
     ]
    }
   ],
   "source": [
    "print('hello')"
   ]
  },
  {
   "cell_type": "code",
   "execution_count": 2,
   "id": "f9ed37f4-3a49-4273-b95c-3f938d84c4a8",
   "metadata": {},
   "outputs": [
    {
     "name": "stdout",
     "output_type": "stream",
     "text": [
      "hello\n"
     ]
    }
   ],
   "source": [
    "if 25>20:\n",
    "    print('hello')"
   ]
  },
  {
   "cell_type": "code",
   "execution_count": 3,
   "id": "d3d709cf-e929-4e0d-9fa5-8b4c82445c28",
   "metadata": {},
   "outputs": [
    {
     "name": "stdout",
     "output_type": "stream",
     "text": [
      "its True\n"
     ]
    }
   ],
   "source": [
    "if 45>30:\n",
    "    print(\"its True\")\n",
    "else:\n",
    "    print(\"its False\")"
   ]
  },
  {
   "cell_type": "code",
   "execution_count": 4,
   "id": "b99e2fcd-cc7e-4396-8e8a-4f400969e55e",
   "metadata": {},
   "outputs": [
    {
     "name": "stdout",
     "output_type": "stream",
     "text": [
      "biggest num\n"
     ]
    }
   ],
   "source": [
    "if 30>25:\n",
    "    print('biggest num')\n",
    "else:\n",
    "    print('small')   # try only"
   ]
  },
  {
   "cell_type": "code",
   "execution_count": 1,
   "id": "8d1168fd-653e-4773-8b63-708d30188dac",
   "metadata": {},
   "outputs": [
    {
     "name": "stdin",
     "output_type": "stream",
     "text": [
      "enter the a: 44\n",
      "enter the b: 33\n"
     ]
    },
    {
     "name": "stdout",
     "output_type": "stream",
     "text": [
      "44 The num is big:\n"
     ]
    }
   ],
   "source": [
    "a=eval(input(\"enter the a:\"))\n",
    "b=eval(input(\"enter the b:\"))\n",
    "if a>=b:\n",
    "    print(f\"{a} The num is big:\")\n",
    "else:\n",
    "    print(\"the num is small\")\n"
   ]
  },
  {
   "cell_type": "code",
   "execution_count": 3,
   "id": "6d91a478-7ff6-4842-a250-b7fe74c3c484",
   "metadata": {},
   "outputs": [
    {
     "name": "stdout",
     "output_type": "stream",
     "text": [
      "True\n"
     ]
    }
   ],
   "source": [
    "if 30>15:\n",
    "    print(\"True\")\n",
    "else:\n",
    "    print(\"False\")"
   ]
  },
  {
   "cell_type": "code",
   "execution_count": 50,
   "id": "466eb56e-7e40-41e4-9eac-0dc2c2f559ca",
   "metadata": {},
   "outputs": [
    {
     "name": "stdout",
     "output_type": "stream",
     "text": [
      "hello\n"
     ]
    }
   ],
   "source": [
    "if 10==10:\n",
    "    print('hello')"
   ]
  },
  {
   "cell_type": "code",
   "execution_count": 51,
   "id": "b12538d1-059a-4df0-b66e-abf5a7cf121a",
   "metadata": {},
   "outputs": [
    {
     "name": "stdout",
     "output_type": "stream",
     "text": [
      "hello\n"
     ]
    }
   ],
   "source": [
    "if True:\n",
    "    print('hello')"
   ]
  },
  {
   "cell_type": "markdown",
   "id": "c2fc87a2-328e-4710-88fd-cc5bf16e27f1",
   "metadata": {},
   "source": [
    "**mistake_1**"
   ]
  },
  {
   "cell_type": "code",
   "execution_count": 5,
   "id": "da9a5815-6437-45de-bc2d-58ab2ae88e62",
   "metadata": {},
   "outputs": [
    {
     "ename": "IndentationError",
     "evalue": "expected an indented block after 'if' statement on line 1 (4134748484.py, line 2)",
     "output_type": "error",
     "traceback": [
      "\u001b[1;36m  Cell \u001b[1;32mIn[5], line 2\u001b[1;36m\u001b[0m\n\u001b[1;33m    print('hello') # click on tab and then ptint\u001b[0m\n\u001b[1;37m    ^\u001b[0m\n\u001b[1;31mIndentationError\u001b[0m\u001b[1;31m:\u001b[0m expected an indented block after 'if' statement on line 1\n"
     ]
    }
   ],
   "source": [
    "if True:\n",
    "print('hello') # click on tab and then ptint "
   ]
  },
  {
   "cell_type": "code",
   "execution_count": 59,
   "id": "c47118c1-e52e-4c24-9910-1d217385c60d",
   "metadata": {},
   "outputs": [
    {
     "name": "stdout",
     "output_type": "stream",
     "text": [
      "hello\n"
     ]
    }
   ],
   "source": [
    "if True:\n",
    "   print('hello')   # enter tab"
   ]
  },
  {
   "cell_type": "code",
   "execution_count": 62,
   "id": "65209acc-379b-4c77-9094-b492b8d9ab91",
   "metadata": {},
   "outputs": [
    {
     "name": "stdout",
     "output_type": "stream",
     "text": [
      "hello\n"
     ]
    }
   ],
   "source": [
    "if True:\n",
    "    print('hello')  # backspace till : then do enter "
   ]
  },
  {
   "cell_type": "code",
   "execution_count": 64,
   "id": "cdbedec9-b258-4397-a5a8-0fdd5de7c14d",
   "metadata": {},
   "outputs": [
    {
     "name": "stdout",
     "output_type": "stream",
     "text": [
      "dipak\n"
     ]
    }
   ],
   "source": [
    "if True:\n",
    "    print('dipak') # space barr"
   ]
  },
  {
   "cell_type": "markdown",
   "id": "dc9af0a4-efc3-4c55-a893-fb82d09cb2d7",
   "metadata": {},
   "source": [
    "**mistake_2**"
   ]
  },
  {
   "cell_type": "code",
   "execution_count": 55,
   "id": "103a8538-a95a-417c-82f0-3b6f1510b045",
   "metadata": {},
   "outputs": [
    {
     "name": "stdout",
     "output_type": "stream",
     "text": [
      "dipak\n"
     ]
    }
   ],
   "source": [
    "if True\n",
    "print('dipak')"
   ]
  },
  {
   "cell_type": "code",
   "execution_count": 8,
   "id": "2b209f0f-58b4-42db-950c-aa1793082f25",
   "metadata": {},
   "outputs": [
    {
     "name": "stdout",
     "output_type": "stream",
     "text": [
      "yewale patil\n"
     ]
    }
   ],
   "source": [
    "if True:\n",
    "    print('yewale patil')"
   ]
  },
  {
   "cell_type": "code",
   "execution_count": 74,
   "id": "1eaa2831-c5db-4b97-90e5-1ab0c1eaf495",
   "metadata": {},
   "outputs": [
    {
     "name": "stdout",
     "output_type": "stream",
     "text": [
      "dipak\n"
     ]
    }
   ],
   "source": [
    "if 25>20:\n",
    "    print('dipak')"
   ]
  },
  {
   "cell_type": "code",
   "execution_count": 75,
   "id": "fa85fd3b-b816-49d8-a3a2-8620531cadd8",
   "metadata": {},
   "outputs": [
    {
     "name": "stdout",
     "output_type": "stream",
     "text": [
      "hello\n",
      "bye\n"
     ]
    }
   ],
   "source": [
    "if 10>0:\n",
    "    print('hello')\n",
    "    print('bye')"
   ]
  },
  {
   "cell_type": "code",
   "execution_count": 76,
   "id": "d1846210-6d79-44c4-8661-c19de0aa78cc",
   "metadata": {},
   "outputs": [
    {
     "name": "stdout",
     "output_type": "stream",
     "text": [
      "onkar\n"
     ]
    }
   ],
   "source": [
    "if 10>0:            # if 10>0: True \n",
    "    print('onkar')  # onkar"
   ]
  },
  {
   "cell_type": "code",
   "execution_count": 77,
   "id": "9b52e369-54ac-436c-b13b-b3893736ba9d",
   "metadata": {},
   "outputs": [
    {
     "name": "stdout",
     "output_type": "stream",
     "text": [
      "onkar\n",
      "hye\n"
     ]
    }
   ],
   "source": [
    "if 10>0:            # if 10>0: True \n",
    "    print('onkar')  # onkar\n",
    "########################################\n",
    "print('hye')"
   ]
  },
  {
   "cell_type": "code",
   "execution_count": 78,
   "id": "b0cf8bb1-80d3-4435-815d-5fceab7d0eed",
   "metadata": {},
   "outputs": [
    {
     "name": "stdout",
     "output_type": "stream",
     "text": [
      "dipak\n",
      "hye\n",
      "bye\n"
     ]
    }
   ],
   "source": [
    "print('dipak')\n",
    "###################\n",
    "if True:\n",
    "    print('hye')\n",
    "#####################\n",
    "print('bye')"
   ]
  },
  {
   "cell_type": "code",
   "execution_count": 79,
   "id": "903aa36c-7ed5-45fc-accf-d0b21672018d",
   "metadata": {},
   "outputs": [
    {
     "name": "stdout",
     "output_type": "stream",
     "text": [
      "dipak\n",
      "bye\n"
     ]
    }
   ],
   "source": [
    "print('dipak')\n",
    "###################\n",
    "if False:\n",
    "    print('hye')\n",
    "#####################\n",
    "print('bye')"
   ]
  },
  {
   "cell_type": "code",
   "execution_count": 82,
   "id": "b472f557-e34e-47f5-a976-4eeda7b4d482",
   "metadata": {},
   "outputs": [
    {
     "name": "stdout",
     "output_type": "stream",
     "text": [
      "dipak\n",
      "hye\n",
      "hello\n",
      "bye\n"
     ]
    }
   ],
   "source": [
    "print('dipak')\n",
    "if True:\n",
    "    print('hye')\n",
    "    print('hello')\n",
    "if True:\n",
    "    print('bye')"
   ]
  },
  {
   "cell_type": "code",
   "execution_count": 83,
   "id": "a5945560-08ad-4f3b-8d62-0dcd06cf5627",
   "metadata": {},
   "outputs": [
    {
     "name": "stdout",
     "output_type": "stream",
     "text": [
      "hello\n",
      "hye\n",
      "bye\n"
     ]
    }
   ],
   "source": [
    "print('hello')\n",
    "if True:\n",
    "    print('hye')\n",
    "    print('bye')"
   ]
  },
  {
   "cell_type": "code",
   "execution_count": 84,
   "id": "9a7c2cd9-70a3-45b5-a429-539e31f05a6b",
   "metadata": {},
   "outputs": [
    {
     "name": "stdout",
     "output_type": "stream",
     "text": [
      "dipak\n",
      "hello\n",
      "hai\n"
     ]
    }
   ],
   "source": [
    "print('dipak')\n",
    "if True:\n",
    "    print('hello')\n",
    "    print('hai')\n",
    "if False:\n",
    "    print('bye')\n",
    "    print('good bye')"
   ]
  },
  {
   "cell_type": "code",
   "execution_count": 87,
   "id": "732a6dfc-3e98-42ac-b610-01106f1013c7",
   "metadata": {},
   "outputs": [
    {
     "name": "stdout",
     "output_type": "stream",
     "text": [
      "dipak\n",
      "good bye\n"
     ]
    }
   ],
   "source": [
    "print('dipak')\n",
    "if False:\n",
    "    print('hello')\n",
    "    print('hai')\n",
    "    if True:\n",
    "        print('bye')\n",
    "print('good bye')"
   ]
  },
  {
   "cell_type": "code",
   "execution_count": 88,
   "id": "18e0297f-bcc9-479a-9e85-87b501fa1e6d",
   "metadata": {},
   "outputs": [
    {
     "name": "stdout",
     "output_type": "stream",
     "text": [
      "hye\n",
      "hello\n",
      "bye\n"
     ]
    }
   ],
   "source": [
    "if True:\n",
    "    print('hye')\n",
    "    if True:\n",
    "        print('hello')\n",
    "        if True:\n",
    "            print('bye')"
   ]
  },
  {
   "cell_type": "markdown",
   "id": "e0c19e69-2c43-4433-aceb-0d881f7ee844",
   "metadata": {},
   "source": [
    "**if_else**"
   ]
  },
  {
   "cell_type": "code",
   "execution_count": 91,
   "id": "43528713-9a84-4a25-9bc7-771dfea6c05d",
   "metadata": {},
   "outputs": [
    {
     "name": "stdout",
     "output_type": "stream",
     "text": [
      "hello dipak\n",
      "how are you\n"
     ]
    }
   ],
   "source": [
    "if True: \n",
    "    print('hello dipak')\n",
    "    print('how are you')\n",
    "else:\n",
    "    print('bye')\n",
    "    print('good byee')"
   ]
  },
  {
   "cell_type": "code",
   "execution_count": 92,
   "id": "69b50afc-8299-4af5-ba79-ee2e1d21af3f",
   "metadata": {},
   "outputs": [
    {
     "name": "stdout",
     "output_type": "stream",
     "text": [
      "bye\n",
      "good byee\n"
     ]
    }
   ],
   "source": [
    "if False: \n",
    "    print('hello dipak')\n",
    "    print('how are you')\n",
    "else:\n",
    "    print('bye')\n",
    "    print('good byee')"
   ]
  },
  {
   "cell_type": "code",
   "execution_count": 98,
   "id": "da29a6b3-05ab-4030-b3e3-22d0bcad7405",
   "metadata": {},
   "outputs": [
    {
     "name": "stdout",
     "output_type": "stream",
     "text": [
      "hello\n",
      "dipak , how are you\n"
     ]
    }
   ],
   "source": [
    "print('hello')\n",
    "if True:\n",
    "    print('dipak , how are you')\n",
    "else:\n",
    "    print('good bye ')"
   ]
  },
  {
   "cell_type": "code",
   "execution_count": 96,
   "id": "a68c2aa1-bcb2-4b6c-8510-28e28cd0b7cc",
   "metadata": {},
   "outputs": [
    {
     "name": "stdout",
     "output_type": "stream",
     "text": [
      "hello\n",
      "good bye\n"
     ]
    }
   ],
   "source": [
    "print('hello')\n",
    "if False:\n",
    "    print('hye , how are you')\n",
    "else:\n",
    "    print(\"good bye\")"
   ]
  },
  {
   "cell_type": "code",
   "execution_count": 4,
   "id": "ac573919-35d7-47c6-b3c6-8ce9f6f8b4a4",
   "metadata": {},
   "outputs": [
    {
     "name": "stdout",
     "output_type": "stream",
     "text": [
      "hello\n",
      "dipak\n",
      "arey why are you in middile\n"
     ]
    }
   ],
   "source": [
    "print('hello')\n",
    "if True:\n",
    "    print('dipak')\n",
    "    print('arey why are you in middile')\n",
    "else:\n",
    "    print('hey')\n",
    "    print('bye')"
   ]
  },
  {
   "cell_type": "code",
   "execution_count": 7,
   "id": "ef6b1f59-f0ac-4e76-8b12-0207ca9a67b7",
   "metadata": {},
   "outputs": [
    {
     "name": "stdout",
     "output_type": "stream",
     "text": [
      "hello\n",
      "hye\n",
      "1\n",
      "bye\n"
     ]
    }
   ],
   "source": [
    "print('hello')\n",
    "if True:\n",
    "    print('hye')\n",
    "    print(\"1\")\n",
    "else:\n",
    "    print('hey')\n",
    "print('bye')"
   ]
  },
  {
   "cell_type": "code",
   "execution_count": 105,
   "id": "95d81674-539a-40a3-a988-7d5c4b38dec5",
   "metadata": {},
   "outputs": [
    {
     "name": "stdout",
     "output_type": "stream",
     "text": [
      "hello\n",
      "hye\n",
      "1\n",
      "bye\n"
     ]
    }
   ],
   "source": [
    "print('hello')\n",
    "if True:\n",
    "    print('hye')\n",
    "    if True:\n",
    "        print(\"1\")\n",
    "else:\n",
    "    print('hey')\n",
    "print('bye')"
   ]
  },
  {
   "cell_type": "code",
   "execution_count": 109,
   "id": "ee43a06c-d6ea-4aa4-af56-8114effdc965",
   "metadata": {},
   "outputs": [
    {
     "name": "stdout",
     "output_type": "stream",
     "text": [
      "hello\n",
      "hye\n",
      "1\n",
      "bye\n"
     ]
    }
   ],
   "source": [
    "print('hello')\n",
    "if True:\n",
    "    print('hye')\n",
    "   ##########################\n",
    "    if True:\n",
    "        print('1')\n",
    "    else:\n",
    "        print('hey')\n",
    "    ###########################\n",
    "else:\n",
    "    print('hye')\n",
    "print('bye')"
   ]
  },
  {
   "cell_type": "code",
   "execution_count": 119,
   "id": "6f291db0-055f-41ab-b283-87ea4a14553a",
   "metadata": {},
   "outputs": [
    {
     "name": "stdout",
     "output_type": "stream",
     "text": [
      "hello\n",
      "gf\n",
      "f\n",
      "s\n",
      "bye\n"
     ]
    }
   ],
   "source": [
    "print('hello')\n",
    "if True:\n",
    "    print('gf')\n",
    "    if True:\n",
    "        print('f')\n",
    "        if True:\n",
    "            print('s')\n",
    "        else:\n",
    "            print('sw')\n",
    "    else:\n",
    "        print('fw')\n",
    "else:\n",
    "    print('gm')\n",
    "\n",
    "print('bye')"
   ]
  },
  {
   "cell_type": "code",
   "execution_count": 120,
   "id": "72ae54e3-f292-4435-b756-3c03ac19c2f1",
   "metadata": {},
   "outputs": [
    {
     "name": "stdout",
     "output_type": "stream",
     "text": [
      "hello\n",
      "gf\n",
      "f\n",
      "sw\n",
      "bye\n"
     ]
    }
   ],
   "source": [
    "print('hello')\n",
    "if True:\n",
    "    print('gf')\n",
    "    if True:\n",
    "        print('f')\n",
    "        if False:\n",
    "            print('s')\n",
    "        else:\n",
    "            print('sw')\n",
    "    else:\n",
    "        print('fw')\n",
    "else:\n",
    "    print('gm')\n",
    "\n",
    "print('bye')"
   ]
  },
  {
   "cell_type": "code",
   "execution_count": null,
   "id": "7ca49c3d-a077-4481-b401-56a320b28ae4",
   "metadata": {},
   "outputs": [],
   "source": []
  },
  {
   "cell_type": "code",
   "execution_count": 13,
   "id": "cf6fdfd2-ee32-4d1b-ad94-4189ac8d9e4d",
   "metadata": {},
   "outputs": [
    {
     "name": "stdin",
     "output_type": "stream",
     "text": [
      "enter the number: 8\n"
     ]
    },
    {
     "name": "stdout",
     "output_type": "stream",
     "text": [
      "the 8 is:positive\n"
     ]
    }
   ],
   "source": [
    "num=eval(input(\"enter the number:\"))\n",
    "if num>=0:\n",
    "    print(f\"the {num} is:positive\")\n",
    "else:\n",
    "    print(f\"the {num} is: negative\")\n",
    "    "
   ]
  },
  {
   "cell_type": "code",
   "execution_count": 2,
   "id": "4fd90793-eb96-4c12-9d34-2ca217ba7af5",
   "metadata": {},
   "outputs": [
    {
     "data": {
      "text/plain": [
       "'@pple'"
      ]
     },
     "execution_count": 2,
     "metadata": {},
     "output_type": "execute_result"
    }
   ],
   "source": [
    "s=\"apple\"\n",
    "if \"a\" in s:\n",
    "    a=s.replace(\"a\",\"@\")\n",
    "else:\n",
    "    print(\"not in string\")\n",
    "a"
   ]
  },
  {
   "cell_type": "code",
   "execution_count": 2,
   "id": "25cdda55-620e-4f98-8d54-eb339b4241b9",
   "metadata": {},
   "outputs": [
    {
     "data": {
      "text/plain": [
       "'bh@kti'"
      ]
     },
     "execution_count": 2,
     "metadata": {},
     "output_type": "execute_result"
    }
   ],
   "source": [
    "a = \"bhakti\"\n",
    "if \"a\" in a:\n",
    "    a=a.replace(\"a\",\"@\")\n",
    "else:\n",
    "    print(\"not in string\")\n",
    "a"
   ]
  },
  {
   "cell_type": "code",
   "execution_count": 1,
   "id": "5b686ec3-5c61-486e-8681-aae4120d2b26",
   "metadata": {},
   "outputs": [
    {
     "ename": "NameError",
     "evalue": "name 'a' is not defined",
     "output_type": "error",
     "traceback": [
      "\u001b[1;31m---------------------------------------------------------------------------\u001b[0m",
      "\u001b[1;31mNameError\u001b[0m                                 Traceback (most recent call last)",
      "Cell \u001b[1;32mIn[1], line 3\u001b[0m\n\u001b[0;32m      1\u001b[0m l \u001b[38;5;241m=\u001b[39m \u001b[38;5;124m\"\u001b[39m\u001b[38;5;124mpallavi\u001b[39m\u001b[38;5;124m\"\u001b[39m\n\u001b[0;32m      2\u001b[0m \u001b[38;5;28;01mif\u001b[39;00m \u001b[38;5;124m\"\u001b[39m\u001b[38;5;124ma\u001b[39m\u001b[38;5;124m\"\u001b[39m \u001b[38;5;129;01min\u001b[39;00m l:\n\u001b[1;32m----> 3\u001b[0m     l\u001b[38;5;241m=\u001b[39ma\u001b[38;5;241m.\u001b[39mreplace(\u001b[38;5;124m\"\u001b[39m\u001b[38;5;124ma\u001b[39m\u001b[38;5;124m\"\u001b[39m,\u001b[38;5;124m\"\u001b[39m\u001b[38;5;124m@\u001b[39m\u001b[38;5;124m\"\u001b[39m)\n\u001b[0;32m      4\u001b[0m \u001b[38;5;28;01melse\u001b[39;00m:\n\u001b[0;32m      5\u001b[0m     \u001b[38;5;28mprint\u001b[39m(\u001b[38;5;124m\"\u001b[39m\u001b[38;5;124mnot in string\u001b[39m\u001b[38;5;124m\"\u001b[39m)\n",
      "\u001b[1;31mNameError\u001b[0m: name 'a' is not defined"
     ]
    }
   ],
   "source": [
    "l = \"pallavi\"\n",
    "if \"a\" in l:\n",
    "    l=a.replace(\"a\",\"@\")\n",
    "else:\n",
    "    print(\"not in string\")\n",
    "l"
   ]
  },
  {
   "cell_type": "code",
   "execution_count": 5,
   "id": "02344208-20a0-42a5-ac2e-f0cc4911d3b3",
   "metadata": {},
   "outputs": [
    {
     "data": {
      "text/plain": [
       "'R@hul'"
      ]
     },
     "execution_count": 5,
     "metadata": {},
     "output_type": "execute_result"
    }
   ],
   "source": [
    "a = 'Rahul'\n",
    "if \"a\" in a:\n",
    "    a=a.replace('a',\"@\")\n",
    "else:\n",
    "    print(\"not in string\")\n",
    "\n",
    "a"
   ]
  },
  {
   "cell_type": "code",
   "execution_count": 6,
   "id": "e6ff4bc9-e6b4-4bd0-a0f6-73c5416d7861",
   "metadata": {},
   "outputs": [
    {
     "data": {
      "text/plain": [
       "'roh@n'"
      ]
     },
     "execution_count": 6,
     "metadata": {},
     "output_type": "execute_result"
    }
   ],
   "source": [
    "a='rohan'\n",
    "if 'a' in a:\n",
    "    a=a.replace(\"a\",\"@\")\n",
    "else:\n",
    "    print(\"nor in str\")\n",
    "a"
   ]
  },
  {
   "cell_type": "code",
   "execution_count": 7,
   "id": "673c9a29-95c6-40da-9122-af2bd5f3ad41",
   "metadata": {},
   "outputs": [
    {
     "data": {
      "text/plain": [
       "'resta$t'"
      ]
     },
     "execution_count": 7,
     "metadata": {},
     "output_type": "execute_result"
    }
   ],
   "source": [
    "s=\"restart\"\n",
    "d=s[::-1].replace(\"r\",\"$\",1)[::-1]\n",
    "d"
   ]
  },
  {
   "cell_type": "code",
   "execution_count": null,
   "id": "bec59c3f-7787-4b3f-9547-c4b56d1f987b",
   "metadata": {},
   "outputs": [],
   "source": []
  },
  {
   "cell_type": "code",
   "execution_count": 8,
   "id": "16b69dfe-727c-422e-a8f0-57c119f6f6e7",
   "metadata": {},
   "outputs": [
    {
     "data": {
      "text/plain": [
       "'$estart'"
      ]
     },
     "execution_count": 8,
     "metadata": {},
     "output_type": "execute_result"
    }
   ],
   "source": [
    "s.replace(\"r\",\"$\",1)"
   ]
  },
  {
   "cell_type": "code",
   "execution_count": 5,
   "id": "81db2ccc-421b-45ed-8d09-a11fabd6daf5",
   "metadata": {},
   "outputs": [
    {
     "name": "stdout",
     "output_type": "stream",
     "text": [
      "false\n"
     ]
    }
   ],
   "source": [
    "x = 0\n",
    "if x:\n",
    "    print(\"True\")\n",
    "else:\n",
    "    print(\"false\")"
   ]
  },
  {
   "cell_type": "code",
   "execution_count": 7,
   "id": "a6cdd5e1-fe68-4484-9b4f-470d0f4fe6df",
   "metadata": {},
   "outputs": [
    {
     "name": "stdout",
     "output_type": "stream",
     "text": [
      "True\n"
     ]
    }
   ],
   "source": [
    "a = 3\n",
    "b = 7\n",
    "if a == 3 and b == 7:\n",
    "    print(\"True\")"
   ]
  },
  {
   "cell_type": "code",
   "execution_count": 12,
   "id": "c0f7e23f-5f22-4312-b8d1-88ea4340471b",
   "metadata": {},
   "outputs": [
    {
     "name": "stdout",
     "output_type": "stream",
     "text": [
      "Good\n"
     ]
    }
   ],
   "source": [
    "a = True\n",
    "b = False\n",
    "if a and not b:\n",
    "    print(\"Good\")"
   ]
  },
  {
   "cell_type": "code",
   "execution_count": 13,
   "id": "5ef32bbe-0ddf-4c08-b2cb-282d5205d97c",
   "metadata": {},
   "outputs": [
    {
     "name": "stdout",
     "output_type": "stream",
     "text": [
      "OK\n"
     ]
    }
   ],
   "source": [
    "x = 0\n",
    "y = 1\n",
    "if x or y:\n",
    "    print(\"OK\")\n",
    "else:\n",
    "    print(\"NOT OK\")"
   ]
  },
  {
   "cell_type": "code",
   "execution_count": 12,
   "id": "95b377cd-9a6d-472c-a9ff-ad941496d103",
   "metadata": {},
   "outputs": [
    {
     "name": "stdout",
     "output_type": "stream",
     "text": [
      "its ok \n"
     ]
    }
   ],
   "source": [
    "x = -2\n",
    "y = 12\n",
    "if x or y:\n",
    "    print(\"its ok \")\n",
    "else:\n",
    "    print(\"not ok\")"
   ]
  },
  {
   "cell_type": "code",
   "execution_count": 13,
   "id": "039c2108-e1db-4d76-83d3-0ae499270b53",
   "metadata": {},
   "outputs": [
    {
     "name": "stdout",
     "output_type": "stream",
     "text": [
      "OK\n"
     ]
    }
   ],
   "source": [
    "x = 0\n",
    "y = 1\n",
    "if x or y:\n",
    "    print(\"OK\")\n",
    "else:\n",
    "    print(\"NOT OK\")"
   ]
  },
  {
   "cell_type": "code",
   "execution_count": 13,
   "id": "880f737f-bd12-4867-a6e4-bff82d92841f",
   "metadata": {},
   "outputs": [
    {
     "name": "stdout",
     "output_type": "stream",
     "text": [
      "No\n"
     ]
    }
   ],
   "source": [
    "\n",
    "x = \"\"\n",
    "if x:\n",
    "    print(\"yess\")\n",
    "else:\n",
    "    print(\"No\")"
   ]
  },
  {
   "cell_type": "code",
   "execution_count": 10,
   "id": "3288f9be-4ab6-4c21-8b00-789cf1ec935f",
   "metadata": {},
   "outputs": [
    {
     "name": "stdout",
     "output_type": "stream",
     "text": [
      "Odd\n"
     ]
    }
   ],
   "source": [
    "x = 3\n",
    "if x % 2 == 0:\n",
    "    print(\"Even\")\n",
    "else:\n",
    "    print(\"Odd\")"
   ]
  },
  {
   "cell_type": "code",
   "execution_count": 9,
   "id": "850a21b1-da6a-49b8-ade6-41d7b16909b8",
   "metadata": {},
   "outputs": [
    {
     "name": "stdout",
     "output_type": "stream",
     "text": [
      "Big\n"
     ]
    }
   ],
   "source": [
    "x = 10\n",
    "if x > 5:\n",
    "    if x > 8:\n",
    "        print(\"Big\")\n",
    "    else:\n",
    "        print(\"Medium\")\n",
    "else:\n",
    "    print(\"Small\")"
   ]
  },
  {
   "cell_type": "code",
   "execution_count": 11,
   "id": "4909d364-60dd-4bd1-b132-442d02c4e10e",
   "metadata": {},
   "outputs": [
    {
     "name": "stdout",
     "output_type": "stream",
     "text": [
      "Correct\n"
     ]
    }
   ],
   "source": [
    "\n",
    "x = 7\n",
    "if x != 7:\n",
    "    print(\"Wrong\")\n",
    "else:\n",
    "    print(\"Correct\")\n"
   ]
  },
  {
   "cell_type": "code",
   "execution_count": 8,
   "id": "ce3ab8d4-1df0-4de6-a531-384e196da504",
   "metadata": {},
   "outputs": [
    {
     "name": "stdout",
     "output_type": "stream",
     "text": [
      "12 <class 'str'>\n"
     ]
    }
   ],
   "source": [
    "a=\"12\"\n",
    "print(a,type(a))"
   ]
  },
  {
   "cell_type": "code",
   "execution_count": 9,
   "id": "60e0d982-b2d6-447b-a92e-4cf9081b7959",
   "metadata": {},
   "outputs": [
    {
     "name": "stdout",
     "output_type": "stream",
     "text": [
      "12 <class 'int'>\n"
     ]
    }
   ],
   "source": [
    "b=int(a)\n",
    "print(b,type(b))"
   ]
  },
  {
   "cell_type": "code",
   "execution_count": null,
   "id": "8ead68b8-9f25-4f79-8685-2359dfae4b3b",
   "metadata": {},
   "outputs": [],
   "source": []
  }
 ],
 "metadata": {
  "kernelspec": {
   "display_name": "Python [conda env:base] *",
   "language": "python",
   "name": "conda-base-py"
  },
  "language_info": {
   "codemirror_mode": {
    "name": "ipython",
    "version": 3
   },
   "file_extension": ".py",
   "mimetype": "text/x-python",
   "name": "python",
   "nbconvert_exporter": "python",
   "pygments_lexer": "ipython3",
   "version": "3.13.5"
  }
 },
 "nbformat": 4,
 "nbformat_minor": 5
}
