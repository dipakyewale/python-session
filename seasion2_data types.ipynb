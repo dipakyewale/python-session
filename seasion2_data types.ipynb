{
 "cells": [
  {
   "cell_type": "code",
   "execution_count": 1,
   "id": "3362fa0a-918a-4740-bbaf-f081eb0d65e7",
   "metadata": {},
   "outputs": [],
   "source": [
    "import os"
   ]
  },
  {
   "cell_type": "code",
   "execution_count": 2,
   "id": "67426604-efee-49ab-a90e-dedb1d3dfbb7",
   "metadata": {},
   "outputs": [
    {
     "data": {
      "text/plain": [
       "'C:\\\\Users\\\\hp\\\\Documents\\\\python_seasion'"
      ]
     },
     "execution_count": 2,
     "metadata": {},
     "output_type": "execute_result"
    }
   ],
   "source": [
    "os.getcwd()"
   ]
  },
  {
   "cell_type": "markdown",
   "id": "a948d1fc-dcda-4bb6-841f-ac8cd1e8285d",
   "metadata": {},
   "source": [
    "we are use some inbulit functions"
   ]
  },
  {
   "cell_type": "code",
   "execution_count": null,
   "id": "8e089e5a-5cd4-428b-87c6-d932368d745b",
   "metadata": {},
   "outputs": [],
   "source": [
    "print()\n",
    "type()\n",
    "sum()\n",
    "max()\n",
    "min()\n",
    "len()\n",
    "len[]  # woring"
   ]
  },
  {
   "cell_type": "code",
   "execution_count": 4,
   "id": "5e1756c7-37ee-4874-87b3-048571233f62",
   "metadata": {},
   "outputs": [
    {
     "data": {
      "text/plain": [
       "<function nt.getcwd()>"
      ]
     },
     "execution_count": 4,
     "metadata": {},
     "output_type": "execute_result"
    }
   ],
   "source": [
    "os.getcwd"
   ]
  },
  {
   "cell_type": "markdown",
   "id": "fd7b0e12-e283-4664-99ab-8e824a6a01d5",
   "metadata": {},
   "source": [
    "if we miss brackets"
   ]
  },
  {
   "cell_type": "markdown",
   "id": "f67f65ae-790e-481c-8116-0e29dadbd81b",
   "metadata": {},
   "source": [
    "# function\n",
    "\n",
    "# bound method"
   ]
  },
  {
   "cell_type": "markdown",
   "id": "77a172e9-eadc-4256-87ac-d48d2ecc3360",
   "metadata": {},
   "source": [
    "# data type"
   ]
  },
  {
   "cell_type": "markdown",
   "id": "e424823b-2037-45f7-9da2-876655bb7ce2",
   "metadata": {},
   "source": [
    "- int\n",
    "\n",
    "- flote \n",
    "\n",
    "- bool \n",
    "\n",
    "- complex \n",
    "\n",
    "- range \n",
    "\n",
    "- list\n",
    "\n",
    "- tuple \n",
    "\n",
    "- dict\n",
    "\n",
    "- set\n",
    "\n",
    "- frozenset\n",
    "\n",
    "- bytes\n",
    "\n",
    "- bytearray\n",
    "\n",
    "- memoryviwe"
   ]
  },
  {
   "cell_type": "code",
   "execution_count": 11,
   "id": "711ffeb4-5a5e-4fe2-9ec7-0df881bc933d",
   "metadata": {},
   "outputs": [
    {
     "name": "stdout",
     "output_type": "stream",
     "text": [
      "<class 'int'>\n"
     ]
    }
   ],
   "source": [
    "x = 5 \n",
    "print(type(x))"
   ]
  },
  {
   "cell_type": "code",
   "execution_count": 12,
   "id": "adca7520-a856-47d3-92c4-888502f4e215",
   "metadata": {},
   "outputs": [
    {
     "name": "stdout",
     "output_type": "stream",
     "text": [
      "<class 'float'>\n"
     ]
    }
   ],
   "source": [
    "x = 20.4\n",
    "print(type(x))"
   ]
  },
  {
   "cell_type": "code",
   "execution_count": 16,
   "id": "9d08dfd2-e242-4c09-af6f-32fdbb63ea5e",
   "metadata": {},
   "outputs": [
    {
     "name": "stdout",
     "output_type": "stream",
     "text": [
      "<class 'str'>\n"
     ]
    }
   ],
   "source": [
    "s=(\"dipak\" '123' \"pune\")\n",
    "print(type(s))"
   ]
  },
  {
   "cell_type": "code",
   "execution_count": 18,
   "id": "0758efca-3ea4-4069-981e-0e679107e01e",
   "metadata": {},
   "outputs": [
    {
     "name": "stdout",
     "output_type": "stream",
     "text": [
      "<class 'bool'>\n"
     ]
    }
   ],
   "source": [
    "num= True\n",
    "print(type(num))"
   ]
  },
  {
   "cell_type": "code",
   "execution_count": 19,
   "id": "f82de50a-b20a-4621-9e94-ace0e7e8f76b",
   "metadata": {},
   "outputs": [
    {
     "name": "stdout",
     "output_type": "stream",
     "text": [
      "<class 'bool'>\n"
     ]
    }
   ],
   "source": [
    "num = False\n",
    "print(type(num))"
   ]
  },
  {
   "cell_type": "code",
   "execution_count": 20,
   "id": "dba88f22-e4b5-49b2-b61a-45f2d9fb5f03",
   "metadata": {},
   "outputs": [
    {
     "name": "stdout",
     "output_type": "stream",
     "text": [
      "<class 'list'>\n"
     ]
    }
   ],
   "source": [
    "a= [1,2,3,4,5,5,6,6]\n",
    "print(type(a))"
   ]
  },
  {
   "cell_type": "code",
   "execution_count": 21,
   "id": "dae95d0e-378f-4e29-b57a-7aaf598a17bc",
   "metadata": {},
   "outputs": [],
   "source": [
    "b= [ \"apple\",\"banana\",\"cherry\",\"mango\"]"
   ]
  },
  {
   "cell_type": "code",
   "execution_count": 22,
   "id": "25d16636-6c9f-4604-ad44-1fb59f99f152",
   "metadata": {},
   "outputs": [
    {
     "name": "stdout",
     "output_type": "stream",
     "text": [
      "<class 'list'>\n"
     ]
    }
   ],
   "source": [
    "print(type(b))"
   ]
  },
  {
   "cell_type": "code",
   "execution_count": 23,
   "id": "fb47cbb6-0e12-4f93-96f6-9c2c52d792fb",
   "metadata": {},
   "outputs": [
    {
     "name": "stdout",
     "output_type": "stream",
     "text": [
      "<class 'tuple'>\n"
     ]
    }
   ],
   "source": [
    "num=( 1,2,4,6,6,8,9,0)\n",
    "print(type(num))"
   ]
  },
  {
   "cell_type": "code",
   "execution_count": 24,
   "id": "8988d438-a3a8-48e4-a8e5-9614e0acf3a1",
   "metadata": {},
   "outputs": [
    {
     "name": "stdout",
     "output_type": "stream",
     "text": [
      "<class 'dict'>\n"
     ]
    }
   ],
   "source": [
    "a = { \" name\": \"dipak\" ,\"age\": 22}\n",
    "print(type(a))"
   ]
  },
  {
   "cell_type": "code",
   "execution_count": 25,
   "id": "8e7f9f71-05f6-4ebd-9480-bd6976670a76",
   "metadata": {},
   "outputs": [
    {
     "name": "stdout",
     "output_type": "stream",
     "text": [
      "<class 'set'>\n"
     ]
    }
   ],
   "source": [
    "s = { 1,2,3,4,5,6,7,8,9}\n",
    "print(type(s))"
   ]
  },
  {
   "cell_type": "code",
   "execution_count": 26,
   "id": "c5cc0fbd-97fc-4531-a5a9-d92204debb5d",
   "metadata": {},
   "outputs": [
    {
     "name": "stdout",
     "output_type": "stream",
     "text": [
      "<class 'complex'>\n"
     ]
    }
   ],
   "source": [
    "num = 3 + 5j\n",
    "print(type(num))"
   ]
  },
  {
   "cell_type": "code",
   "execution_count": null,
   "id": "76244bc7-6f7b-4c94-ae77-0a5e5da78304",
   "metadata": {},
   "outputs": [],
   "source": [
    "python basics\n",
    "\n",
    "- variable \n",
    "\n",
    "- data types \n",
    "\n",
    "- type casting , how to convert one data type to another dada type \n",
    "\n",
    "- print statment\n",
    "\n",
    "- basic codes \n",
    "\n",
    "- input ,eval ,round \n",
    "\n",
    "- packeges or libraries i.e. very importent \n",
    "\n",
    "- exceptional handling \n",
    "\n",
    "- functions \n",
    "\n",
    "- for and while \n",
    "\n",
    "# python core \n",
    "\n",
    "- strings\n",
    "\n",
    "- list\n",
    "\n",
    "- list comprehension\n",
    "\n",
    "- tuple \n",
    "\n",
    "- dictionary\n",
    "\n",
    "- lambda functions \n",
    "\n",
    "- file handling \n",
    "\n",
    "30days====learn\n",
    "\n",
    "python advanced\n",
    "\n",
    "\n",
    "- oops EDA ML \n",
    "\n",
    "python + stats : EDA\n",
    "python + ML :\n",
    "python + DP :"
   ]
  },
  {
   "cell_type": "code",
   "execution_count": null,
   "id": "fbfae4e4-2f59-4de8-91be-49a25abad3b5",
   "metadata": {},
   "outputs": [],
   "source": [
    "python +NLP\n",
    "python+Genai\n"
   ]
  },
  {
   "cell_type": "markdown",
   "id": "f55f268d-99f8-4798-a283-2fe7e1bf5652",
   "metadata": {},
   "source": [
    "**integer**"
   ]
  },
  {
   "cell_type": "code",
   "execution_count": 3,
   "id": "db314f1f-ec09-4f12-a291-e68ff2e064d7",
   "metadata": {},
   "outputs": [
    {
     "data": {
      "text/plain": [
       "int"
      ]
     },
     "execution_count": 3,
     "metadata": {},
     "output_type": "execute_result"
    }
   ],
   "source": [
    "number=1000\n",
    "type(number)"
   ]
  },
  {
   "cell_type": "code",
   "execution_count": 2,
   "id": "3bd702fb-9fa8-4d07-aea4-896eb4cf9174",
   "metadata": {},
   "outputs": [
    {
     "data": {
      "text/plain": [
       "int"
      ]
     },
     "execution_count": 2,
     "metadata": {},
     "output_type": "execute_result"
    }
   ],
   "source": [
    "n=500\n",
    "type(n)"
   ]
  },
  {
   "cell_type": "code",
   "execution_count": null,
   "id": "ed0b13c6-3531-4372-8279-0ef8a01a7bc2",
   "metadata": {},
   "outputs": [],
   "source": []
  },
  {
   "cell_type": "markdown",
   "id": "214d5042-a5ab-4536-990b-6bd888a01eae",
   "metadata": {},
   "source": [
    "**float**"
   ]
  },
  {
   "cell_type": "code",
   "execution_count": 4,
   "id": "27363fa2-f5a5-4ce3-9dec-dd6d303abd22",
   "metadata": {},
   "outputs": [
    {
     "data": {
      "text/plain": [
       "float"
      ]
     },
     "execution_count": 4,
     "metadata": {},
     "output_type": "execute_result"
    }
   ],
   "source": [
    "number=100.5\n",
    "type(number)"
   ]
  },
  {
   "cell_type": "code",
   "execution_count": 4,
   "id": "69447eba-acf2-4ad3-a86a-8536534b59d8",
   "metadata": {},
   "outputs": [
    {
     "data": {
      "text/plain": [
       "float"
      ]
     },
     "execution_count": 4,
     "metadata": {},
     "output_type": "execute_result"
    }
   ],
   "source": [
    "n=55.9\n",
    "type(n)"
   ]
  },
  {
   "cell_type": "code",
   "execution_count": 5,
   "id": "b49f7537-c0f4-4a2f-9cd2-ffd2aa93adbb",
   "metadata": {},
   "outputs": [
    {
     "data": {
      "text/plain": [
       "int"
      ]
     },
     "execution_count": 5,
     "metadata": {},
     "output_type": "execute_result"
    }
   ],
   "source": [
    "n=599\n",
    "type(n)"
   ]
  },
  {
   "cell_type": "code",
   "execution_count": null,
   "id": "23798b66-cdb6-449c-b3d2-68912bd1f79c",
   "metadata": {},
   "outputs": [],
   "source": []
  },
  {
   "cell_type": "code",
   "execution_count": null,
   "id": "e775f810-3d64-40f1-8e3d-e45ca7ec5b10",
   "metadata": {},
   "outputs": [],
   "source": []
  },
  {
   "cell_type": "code",
   "execution_count": 5,
   "id": "92228192-1a12-4de3-b929-ce2bc7678046",
   "metadata": {},
   "outputs": [
    {
     "name": "stdout",
     "output_type": "stream",
     "text": [
      "100.0\n",
      "1000.0\n",
      "10000.0\n"
     ]
    }
   ],
   "source": [
    "print(10e1) #10*100\n",
    "print(10e2) #10*1000\n",
    "print(10e3) # 10*10000"
   ]
  },
  {
   "cell_type": "code",
   "execution_count": 1,
   "id": "a1286d6a-e5dc-4e91-94da-c67d2dbb3155",
   "metadata": {},
   "outputs": [
    {
     "name": "stdout",
     "output_type": "stream",
     "text": [
      "1.0\n",
      "0.1\n",
      "0.01\n"
     ]
    }
   ],
   "source": [
    "print(10e-1) \n",
    "print(10e-2) \n",
    "print(10e-3) "
   ]
  },
  {
   "cell_type": "code",
   "execution_count": 11,
   "id": "60f762cc-ad57-42f1-8e0a-ff39d80e51ff",
   "metadata": {},
   "outputs": [
    {
     "data": {
      "text/plain": [
       "-1.91946214e-10"
      ]
     },
     "execution_count": 11,
     "metadata": {},
     "output_type": "execute_result"
    }
   ],
   "source": [
    "- 1.91946214e-10"
   ]
  },
  {
   "cell_type": "code",
   "execution_count": 13,
   "id": "ba0c7893-9e2a-407e-a801-8963041bfa43",
   "metadata": {},
   "outputs": [
    {
     "name": "stdout",
     "output_type": "stream",
     "text": [
      "100.0\n",
      "1000.0\n",
      "10000.0\n"
     ]
    }
   ],
   "source": [
    "print(10e+1) \n",
    "print(10e+2) \n",
    "print(10e+3)"
   ]
  },
  {
   "cell_type": "code",
   "execution_count": 1,
   "id": "2f02f0b9-de21-4c1b-8548-a78dceb6c51a",
   "metadata": {},
   "outputs": [
    {
     "data": {
      "text/plain": [
       "True"
      ]
     },
     "execution_count": 1,
     "metadata": {},
     "output_type": "execute_result"
    }
   ],
   "source": [
    "10e1==10e1\n"
   ]
  },
  {
   "cell_type": "code",
   "execution_count": 2,
   "id": "9a429384-002e-47b5-b054-1bcd5c442a00",
   "metadata": {},
   "outputs": [
    {
     "data": {
      "text/plain": [
       "False"
      ]
     },
     "execution_count": 2,
     "metadata": {},
     "output_type": "execute_result"
    }
   ],
   "source": [
    "10e1==10e2"
   ]
  },
  {
   "cell_type": "code",
   "execution_count": 3,
   "id": "ea3fdb9e-01e3-4045-9211-117147715b1f",
   "metadata": {},
   "outputs": [
    {
     "data": {
      "text/plain": [
       "(1.0, 100.0, 100.0)"
      ]
     },
     "execution_count": 3,
     "metadata": {},
     "output_type": "execute_result"
    }
   ],
   "source": [
    "10e-1,10e+1,10e1"
   ]
  },
  {
   "cell_type": "markdown",
   "id": "8690e76a-730b-455e-88a1-08fc3b1ffc00",
   "metadata": {},
   "source": [
    "**Strings**"
   ]
  },
  {
   "cell_type": "code",
   "execution_count": 2,
   "id": "d46e3ddd-7136-40af-b477-ff5d9a7d0067",
   "metadata": {},
   "outputs": [],
   "source": [
    "dipak=100"
   ]
  },
  {
   "cell_type": "code",
   "execution_count": 9,
   "id": "7bcc46d6-9908-4b26-a6cc-488368b4ad01",
   "metadata": {},
   "outputs": [
    {
     "ename": "NameError",
     "evalue": "name 'dipakkkk' is not defined",
     "output_type": "error",
     "traceback": [
      "\u001b[1;31m---------------------------------------------------------------------------\u001b[0m",
      "\u001b[1;31mNameError\u001b[0m                                 Traceback (most recent call last)",
      "Cell \u001b[1;32mIn[9], line 1\u001b[0m\n\u001b[1;32m----> 1\u001b[0m dipakkkk\n",
      "\u001b[1;31mNameError\u001b[0m: name 'dipakkkk' is not defined"
     ]
    }
   ],
   "source": [
    "dipakkkk"
   ]
  },
  {
   "cell_type": "code",
   "execution_count": 6,
   "id": "dd7e990e-4f0b-4b7a-8b06-34b0b8f2a9f1",
   "metadata": {},
   "outputs": [],
   "source": [
    "DIPAK=400"
   ]
  },
  {
   "cell_type": "code",
   "execution_count": 7,
   "id": "abf3dce0-98da-416a-bdd2-454643502cd4",
   "metadata": {},
   "outputs": [
    {
     "data": {
      "text/plain": [
       "400"
      ]
     },
     "execution_count": 7,
     "metadata": {},
     "output_type": "execute_result"
    }
   ],
   "source": [
    "DIPAK"
   ]
  },
  {
   "cell_type": "code",
   "execution_count": 11,
   "id": "03c01889-a1ea-4a91-9fc5-fc61f7aee97d",
   "metadata": {},
   "outputs": [
    {
     "data": {
      "text/plain": [
       "str"
      ]
     },
     "execution_count": 11,
     "metadata": {},
     "output_type": "execute_result"
    }
   ],
   "source": [
    "city='hyderabad'\n",
    "type(city)"
   ]
  },
  {
   "cell_type": "code",
   "execution_count": 12,
   "id": "9b1eb448-66fa-406d-8aae-736143f08410",
   "metadata": {},
   "outputs": [
    {
     "data": {
      "text/plain": [
       "'mumbai'"
      ]
     },
     "execution_count": 12,
     "metadata": {},
     "output_type": "execute_result"
    }
   ],
   "source": [
    "'mumbai'"
   ]
  },
  {
   "cell_type": "code",
   "execution_count": 13,
   "id": "1a5c7f4e-dfd3-4f9c-a123-4e90194dd3be",
   "metadata": {},
   "outputs": [
    {
     "data": {
      "text/plain": [
       "'pune'"
      ]
     },
     "execution_count": 13,
     "metadata": {},
     "output_type": "execute_result"
    }
   ],
   "source": [
    "'pune'"
   ]
  },
  {
   "cell_type": "code",
   "execution_count": 14,
   "id": "7e5a791b-cc99-486f-9d30-9fbf42187263",
   "metadata": {},
   "outputs": [
    {
     "name": "stdout",
     "output_type": "stream",
     "text": [
      "mumbai\n"
     ]
    }
   ],
   "source": [
    "print('mumbai')"
   ]
  },
  {
   "cell_type": "code",
   "execution_count": 15,
   "id": "271ad82a-d32f-4988-a818-d8d2da73524c",
   "metadata": {},
   "outputs": [
    {
     "data": {
      "text/plain": [
       "'chennai'"
      ]
     },
     "execution_count": 15,
     "metadata": {},
     "output_type": "execute_result"
    }
   ],
   "source": [
    "\"chennai\""
   ]
  },
  {
   "cell_type": "code",
   "execution_count": 14,
   "id": "277e5068-2f74-4fda-864c-28c7e1c6ef68",
   "metadata": {},
   "outputs": [
    {
     "name": "stdout",
     "output_type": "stream",
     "text": [
      "hello world\n"
     ]
    },
    {
     "data": {
      "text/plain": [
       "bool"
      ]
     },
     "execution_count": 14,
     "metadata": {},
     "output_type": "execute_result"
    }
   ],
   "source": [
    "print('hello world')\n",
    "s='dipak',3.5,'vishal',True\n",
    "s,y,u,i='dipak',3.5,'vishal',True\n",
    "type(i)"
   ]
  },
  {
   "cell_type": "code",
   "execution_count": 4,
   "id": "c1ab121b-ac6a-404a-9944-d64feb9f0d2d",
   "metadata": {},
   "outputs": [
    {
     "data": {
      "text/plain": [
       "True"
      ]
     },
     "execution_count": 4,
     "metadata": {},
     "output_type": "execute_result"
    }
   ],
   "source": [
    "10e1==10e+1"
   ]
  },
  {
   "cell_type": "code",
   "execution_count": 17,
   "id": "c06f75f1-eacf-450b-83fb-cb99344466ce",
   "metadata": {},
   "outputs": [
    {
     "data": {
      "text/plain": [
       "False"
      ]
     },
     "execution_count": 17,
     "metadata": {},
     "output_type": "execute_result"
    }
   ],
   "source": [
    "10e1==10e2"
   ]
  },
  {
   "cell_type": "code",
   "execution_count": 8,
   "id": "98fe120f-05f4-430b-bce3-f13d7e5bb00c",
   "metadata": {},
   "outputs": [
    {
     "name": "stdout",
     "output_type": "stream",
     "text": [
      "hello dipak\n"
     ]
    },
    {
     "data": {
      "text/plain": [
       "int"
      ]
     },
     "execution_count": 8,
     "metadata": {},
     "output_type": "execute_result"
    }
   ],
   "source": [
    "print('hello dipak')\n",
    "s=\"dipak\",3\n",
    "s,g=2,'dipak'\n",
    "type(s)"
   ]
  },
  {
   "cell_type": "code",
   "execution_count": 1,
   "id": "2afacd1d-2276-42c6-a171-9ea78ac23bd4",
   "metadata": {},
   "outputs": [],
   "source": [
    "s='dipak   '   "
   ]
  },
  {
   "cell_type": "code",
   "execution_count": 2,
   "id": "2a76edbd-f8e1-40a3-b84d-1dba2d4d105c",
   "metadata": {},
   "outputs": [
    {
     "data": {
      "text/plain": [
       "8"
      ]
     },
     "execution_count": 2,
     "metadata": {},
     "output_type": "execute_result"
    }
   ],
   "source": [
    "len(s)"
   ]
  },
  {
   "cell_type": "code",
   "execution_count": 6,
   "id": "ae1c66e4-80b6-4f35-98c4-8241f045d801",
   "metadata": {},
   "outputs": [
    {
     "data": {
      "text/plain": [
       "6"
      ]
     },
     "execution_count": 6,
     "metadata": {},
     "output_type": "execute_result"
    }
   ],
   "source": [
    "len('mumbai')"
   ]
  },
  {
   "cell_type": "code",
   "execution_count": 6,
   "id": "b657ed00-cb92-4e28-9763-f8fa2b26f89d",
   "metadata": {},
   "outputs": [
    {
     "data": {
      "text/plain": [
       "10"
      ]
     },
     "execution_count": 6,
     "metadata": {},
     "output_type": "execute_result"
    }
   ],
   "source": [
    "len('hello     ')"
   ]
  },
  {
   "cell_type": "code",
   "execution_count": 7,
   "id": "1556bfb9-0029-4952-a479-8840f315631f",
   "metadata": {},
   "outputs": [],
   "source": [
    "a= 2+5j"
   ]
  },
  {
   "cell_type": "code",
   "execution_count": 8,
   "id": "d51abf83-c141-41ef-b2b6-e298e07717e0",
   "metadata": {},
   "outputs": [
    {
     "data": {
      "text/plain": [
       "complex"
      ]
     },
     "execution_count": 8,
     "metadata": {},
     "output_type": "execute_result"
    }
   ],
   "source": [
    "type(a)"
   ]
  },
  {
   "cell_type": "code",
   "execution_count": 10,
   "id": "801a3afd-1f19-4bd2-9312-c9480492edd8",
   "metadata": {},
   "outputs": [
    {
     "data": {
      "text/plain": [
       "0j"
      ]
     },
     "execution_count": 10,
     "metadata": {},
     "output_type": "execute_result"
    }
   ],
   "source": [
    "complex()"
   ]
  },
  {
   "cell_type": "code",
   "execution_count": 12,
   "id": "2b1fd4da-ae2b-4218-a4b1-1989007a9947",
   "metadata": {},
   "outputs": [
    {
     "data": {
      "text/plain": [
       "0j"
      ]
     },
     "execution_count": 12,
     "metadata": {},
     "output_type": "execute_result"
    }
   ],
   "source": [
    "0+0j"
   ]
  },
  {
   "cell_type": "code",
   "execution_count": 6,
   "id": "4c584395-8cbd-4723-80be-bad2d72b4ca0",
   "metadata": {},
   "outputs": [
    {
     "name": "stdout",
     "output_type": "stream",
     "text": [
      "<class 'bool'>\n"
     ]
    }
   ],
   "source": [
    "is_valid = True\n",
    "print(type(is_valid))"
   ]
  },
  {
   "cell_type": "code",
   "execution_count": 8,
   "id": "e7b8ba59-9302-4aac-a5f4-1c7c4fdca555",
   "metadata": {},
   "outputs": [
    {
     "name": "stdout",
     "output_type": "stream",
     "text": [
      "<class 'tuple'>\n"
     ]
    }
   ],
   "source": [
    "num=( 44,11,22, 'dipak', True)\n",
    "print(type(num))"
   ]
  },
  {
   "cell_type": "code",
   "execution_count": 9,
   "id": "c6e756d9-fb85-41b9-bf32-f05fbf9ffd97",
   "metadata": {},
   "outputs": [
    {
     "data": {
      "text/plain": [
       "15"
      ]
     },
     "execution_count": 9,
     "metadata": {},
     "output_type": "execute_result"
    }
   ],
   "source": [
    "10+5"
   ]
  },
  {
   "cell_type": "code",
   "execution_count": 10,
   "id": "9d644ae0-c964-484d-aaa4-89f3904401ae",
   "metadata": {},
   "outputs": [
    {
     "data": {
      "text/plain": [
       "'105'"
      ]
     },
     "execution_count": 10,
     "metadata": {},
     "output_type": "execute_result"
    }
   ],
   "source": [
    "\"10\"+\"5\""
   ]
  },
  {
   "cell_type": "code",
   "execution_count": 7,
   "id": "6b4bc128-e8be-40f6-91eb-273d06a6f672",
   "metadata": {},
   "outputs": [
    {
     "data": {
      "text/plain": [
       "'778'"
      ]
     },
     "execution_count": 7,
     "metadata": {},
     "output_type": "execute_result"
    }
   ],
   "source": [
    "\"77\"+\"8\""
   ]
  },
  {
   "cell_type": "code",
   "execution_count": 8,
   "id": "76c5bbfc-3fd4-4829-8ee9-ba30aeef9371",
   "metadata": {},
   "outputs": [
    {
     "data": {
      "text/plain": [
       "85"
      ]
     },
     "execution_count": 8,
     "metadata": {},
     "output_type": "execute_result"
    }
   ],
   "source": [
    "77+8"
   ]
  },
  {
   "cell_type": "code",
   "execution_count": null,
   "id": "6ab87af9-e94d-4e09-89f2-2ea62b6ae21b",
   "metadata": {},
   "outputs": [],
   "source": []
  }
 ],
 "metadata": {
  "kernelspec": {
   "display_name": "Python [conda env:base] *",
   "language": "python",
   "name": "conda-base-py"
  },
  "language_info": {
   "codemirror_mode": {
    "name": "ipython",
    "version": 3
   },
   "file_extension": ".py",
   "mimetype": "text/x-python",
   "name": "python",
   "nbconvert_exporter": "python",
   "pygments_lexer": "ipython3",
   "version": "3.13.5"
  }
 },
 "nbformat": 4,
 "nbformat_minor": 5
}
