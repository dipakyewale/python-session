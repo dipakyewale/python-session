{
 "cells": [
  {
   "cell_type": "code",
   "execution_count": 3,
   "id": "1714beb2-c345-414f-9b14-696fca442c89",
   "metadata": {},
   "outputs": [
    {
     "name": "stdin",
     "output_type": "stream",
     "text": [
      "enter the num 1 50\n",
      "enter the num2 40\n"
     ]
    },
    {
     "name": "stdout",
     "output_type": "stream",
     "text": [
      "print the addition of 50 and 40 is:90\n"
     ]
    }
   ],
   "source": [
    "def additional():\n",
    "    \"\"\"\n",
    "    additional program\n",
    "    \"\"\"\n",
    "num1=eval(input(\"enter the num 1\"))\n",
    "num2=eval(input(\"enter the num2\"))\n",
    "add=num1+num2\n",
    "print(f\"print the addition of {num1} and {num2} is:{add}\")\n",
    "    "
   ]
  },
  {
   "cell_type": "code",
   "execution_count": null,
   "id": "f248bb35-fb49-4436-8f32-50f3be518f61",
   "metadata": {},
   "outputs": [],
   "source": []
  },
  {
   "cell_type": "code",
   "execution_count": 1,
   "id": "e1b17035-398c-4723-b766-283c832bf456",
   "metadata": {},
   "outputs": [
    {
     "name": "stdin",
     "output_type": "stream",
     "text": [
      "enter the num 1 50\n",
      "enter the num2 40\n"
     ]
    },
    {
     "name": "stdout",
     "output_type": "stream",
     "text": [
      "print the substract of 50 and 40 is:10\n"
     ]
    }
   ],
   "source": [
    "def substraction():\n",
    "    \"\"\"\n",
    "    substraction program\n",
    "    \"\"\"\n",
    "num1=eval(input(\"enter the num 1\"))\n",
    "num2=eval(input(\"enter the num2\"))\n",
    "add=num1-num2\n",
    "print(f\"print the substract of {num1} and {num2} is:{add}\")"
   ]
  },
  {
   "cell_type": "code",
   "execution_count": 2,
   "id": "902eb2de-7415-44b4-8fe9-ed9ab2c36225",
   "metadata": {},
   "outputs": [
    {
     "name": "stdin",
     "output_type": "stream",
     "text": [
      "enter the num 1 50\n",
      "enter the num2 5\n"
     ]
    },
    {
     "name": "stdout",
     "output_type": "stream",
     "text": [
      "print the division of 50 and 5 is:45\n"
     ]
    }
   ],
   "source": [
    "def division():\n",
    "    \"\"\"\n",
    "    division program\n",
    "    \"\"\"\n",
    "num1=eval(input(\"enter the num 1\"))\n",
    "num2=eval(input(\"enter the num2\"))\n",
    "div=num1-num2\n",
    "print(f\"print the division of {num1} and {num2} is:{div}\")"
   ]
  },
  {
   "cell_type": "code",
   "execution_count": 1,
   "id": "3c1a4de5-f3fc-41ab-a2f5-fa2910e4bc51",
   "metadata": {},
   "outputs": [
    {
     "name": "stdin",
     "output_type": "stream",
     "text": [
      "enter the number1 33\n",
      "enter the number2 2\n"
     ]
    },
    {
     "name": "stdout",
     "output_type": "stream",
     "text": [
      "the multiplication of 33 and 2 is: 66\n"
     ]
    }
   ],
   "source": [
    "def multiplication():\n",
    "     \"\"\"\n",
    "    multiplication program\n",
    "    \"\"\"\n",
    "   \n",
    "num1=eval(input(\"enter the number1\"))\n",
    "num2=eval(input(\"enter the number2\"))\n",
    "mul=num1*num2\n",
    "print(f\"the multiplication of {num1} and {num2} is: {mul}\")"
   ]
  },
  {
   "cell_type": "code",
   "execution_count": 2,
   "id": "374debc1-ae19-43f8-821f-bbdbcaedcf6e",
   "metadata": {},
   "outputs": [
    {
     "name": "stdout",
     "output_type": "stream",
     "text": [
      " The addition of 44 and 40 is : 84\n"
     ]
    }
   ],
   "source": [
    "def addition():\n",
    "    \"\"\"addition program\n",
    "    \"\"\"\n",
    "num1=44\n",
    "num2=40\n",
    "add=num1+num2\n",
    "print(f\" The addition of {num1} and {num2} is : {add}\")"
   ]
  },
  {
   "cell_type": "markdown",
   "id": "9538e358-5b9d-4764-83fb-a142490fad74",
   "metadata": {},
   "source": [
    "**function with arguments**"
   ]
  },
  {
   "cell_type": "markdown",
   "id": "e7a7a585-9a86-40b4-b4a3-0fc2faeda380",
   "metadata": {},
   "source": [
    "- in addition function how many variable are three : three num1 , num2 , add \n",
    "\n",
    "- how many input variable : two num1 , num2 \n",
    "\n",
    "- how many output variable : one add \n",
    "\n",
    " **do not touch output variable**\n",
    "\n",
    "    "
   ]
  },
  {
   "cell_type": "code",
   "execution_count": null,
   "id": "79c9cc3e-8752-4a98-8b0b-2a6ceaeff0e2",
   "metadata": {},
   "outputs": [],
   "source": []
  },
  {
   "cell_type": "code",
   "execution_count": 29,
   "id": "087c27a5-930f-4984-83dd-92bc55064898",
   "metadata": {},
   "outputs": [
    {
     "name": "stdout",
     "output_type": "stream",
     "text": [
      "print the addition 122 and 23 is : 145\n"
     ]
    }
   ],
   "source": [
    "def addition5(num1,num2):\n",
    "    addition=num1+num2\n",
    "    print(f\"print the addition {num1} and {num2} is : {addition}\")\n",
    "\n",
    "addition5(122,23)"
   ]
  },
  {
   "cell_type": "code",
   "execution_count": null,
   "id": "b479fcd3-80bb-498e-9568-0aca79bd5250",
   "metadata": {},
   "outputs": [],
   "source": [
    "addition1(100,200)\n",
    "num1: 100\n",
    "num2:200\n",
    "the addition of 100 and 200 is : 300"
   ]
  },
  {
   "cell_type": "code",
   "execution_count": 2,
   "id": "1aadcb08-09e9-402e-bdb1-1ca526ab96d2",
   "metadata": {},
   "outputs": [
    {
     "name": "stdout",
     "output_type": "stream",
     "text": [
      "print the addition 10 and 12 is : 22\n"
     ]
    }
   ],
   "source": [
    "def addition2(num1,num2):\n",
    "    addition=num1+num2\n",
    "    print(f\"print the addition {num1} and {num2} is : {addition}\")\n",
    "\n",
    "addition2(10,12)"
   ]
  },
  {
   "cell_type": "code",
   "execution_count": 8,
   "id": "c7ecac0a-db46-4b06-a266-249e5bf78e2f",
   "metadata": {},
   "outputs": [
    {
     "name": "stdout",
     "output_type": "stream",
     "text": [
      " the multiplication of 44 and 22 : 968\n"
     ]
    }
   ],
   "source": [
    "def multiplication(num1,num2):\n",
    "    multiplicatio=num1*num2\n",
    "    print (f\" the multiplication of {num1} and {num2} : {multiplicatio}\")\n",
    "\n",
    "multiplication(44,22)"
   ]
  },
  {
   "cell_type": "code",
   "execution_count": 9,
   "id": "b4c9a190-9138-4f83-9698-149e5210ed61",
   "metadata": {},
   "outputs": [],
   "source": [
    "def adition():\n",
    "    \"\"\"\n",
    "    additional program\n",
    "    \"\"\"\n",
    "    num1=eval(input(\"enter the num1\"))\n",
    "    num2=eval(input(\"enter the num2\"))\n",
    "    add=num1+num2\n",
    "    print(f\"the add of {num1} and {num2} is: {add}\")"
   ]
  },
  {
   "cell_type": "code",
   "execution_count": 10,
   "id": "338cdbed-41fd-4ef0-836c-e488b7246692",
   "metadata": {},
   "outputs": [
    {
     "name": "stdin",
     "output_type": "stream",
     "text": [
      "enter the num1 60\n",
      "enter the num2 90\n"
     ]
    },
    {
     "name": "stdout",
     "output_type": "stream",
     "text": [
      "the add of 60 and 90 is: 150\n"
     ]
    }
   ],
   "source": [
    "adition()\n",
    "        "
   ]
  },
  {
   "cell_type": "code",
   "execution_count": 1,
   "id": "47479d53-ed6d-47b1-aea7-93d7bed8bcd5",
   "metadata": {},
   "outputs": [],
   "source": [
    "def multiplication():\n",
    "    \"\"\"\n",
    "    multiplication\n",
    "    \"\"\"\n",
    "    num=eval(input(\"enter the number1\"))\n",
    "    num=eval(input(\"enter the number2\"))\n",
    "    mul=num1*num2\n",
    "    print(f\"the {num1} and {num2} \")"
   ]
  },
  {
   "cell_type": "markdown",
   "id": "f3beabed-8aa5-4f97-a1bc-169b1d702e0e",
   "metadata": {},
   "source": [
    "**function with default argument**"
   ]
  },
  {
   "cell_type": "markdown",
   "id": "fc32c52a-a4c0-4375-9b62-e2091dacf6d2",
   "metadata": {},
   "source": [
    "- some times we will fix the argument value \n",
    "\n",
    "- if we dont give it will consider the fixed value \n",
    "\n",
    "- if we give value , it take the value only "
   ]
  },
  {
   "cell_type": "code",
   "execution_count": 7,
   "id": "0c90ccba-fe28-42c8-8ce3-689343787329",
   "metadata": {},
   "outputs": [],
   "source": [
    "def addition(n1,n2,n3):\n",
    "    print('num1:',n1)\n",
    "    print('num2:',n2)\n",
    "    print('num3:',n3)\n",
    "    add=n1+n2+n3\n",
    "    print(f'the addition of {n1},{n2} and {n3} is : {add}')"
   ]
  },
  {
   "cell_type": "code",
   "execution_count": null,
   "id": "6ea45642-3218-407c-9a44-72356a56e27a",
   "metadata": {},
   "outputs": [],
   "source": [
    "def avarage():\n",
    "a=eval(input('enter the a:'))\n",
    "b=eval(input('enter the b:'))\n",
    "c=eval(input('enter the c:'))\n",
    "avarage=round((a+b+c)/3)\n",
    "print(f'the avarage of {a},{b} and {c} is : {avarage}')\n",
    "\n",
    "\n",
    "def avarage(a=10):  # a argument given \n",
    "b=eval(input('enter the b:'))\n",
    "c=eval(input('enter the c:'))\n",
    "avarage=round((a+b+c)/3)\n",
    "print(f'the avarage of {a},{b} and {c} is : {avarage}')\n",
    "\n",
    "\n",
    "\n",
    "def avarage(a,b= 20): # a , b argument given \n",
    "c=eval(input('enter the c:'))\n",
    "avarage=round((a+b+c)/3)\n",
    "print(f'the avarage of {a},{b} and {c} is : {avarage}')\n",
    "\n",
    "\n",
    "\n",
    "def avarage(a,b=20,c=30): # a,b,c arguments are given \n",
    "avarage=round((a+b+c)/3)\n",
    "print(f'the avarage of {a},{b} and {c} is : {avarage}')"
   ]
  },
  {
   "cell_type": "code",
   "execution_count": 10,
   "id": "35141c26-d789-4733-b59e-652a0fc82860",
   "metadata": {},
   "outputs": [],
   "source": [
    "def avarage(a,b=20,c=30): \n",
    "    avarage=round((a+b+c)/3)\n",
    "    print(f'the avarage of {a},{b} and {c} is : {avarage}')"
   ]
  },
  {
   "cell_type": "code",
   "execution_count": 13,
   "id": "8aea7344-22cf-484c-8ded-3add3061732f",
   "metadata": {},
   "outputs": [
    {
     "name": "stdout",
     "output_type": "stream",
     "text": [
      "the avarage of 10,20 and 30 is : 20\n"
     ]
    }
   ],
   "source": [
    "avarage(10)"
   ]
  },
  {
   "cell_type": "code",
   "execution_count": 5,
   "id": "5c1fe269-2bc1-4d09-b462-cb490322d064",
   "metadata": {},
   "outputs": [
    {
     "name": "stdin",
     "output_type": "stream",
     "text": [
      "enter the c: 10\n"
     ]
    },
    {
     "name": "stdout",
     "output_type": "stream",
     "text": [
      "the avarage of 30,20 and 10 is : 20\n"
     ]
    }
   ],
   "source": [
    "def avarage(a,b= 20): # a , b argument given \n",
    "    c=eval(input('enter the c:'))\n",
    "    avarage=round((a+b+c)/3)\n",
    "    print(f'the avarage of {a},{b} and {c} is : {avarage}')\n",
    "\n",
    "avarage(30)"
   ]
  },
  {
   "cell_type": "code",
   "execution_count": null,
   "id": "938be72a-0d24-42fc-8d0c-59033c0937e9",
   "metadata": {},
   "outputs": [],
   "source": [
    "complex()\n",
    "complex(3,2)\n",
    "complex(real=3,imag=2)\n",
    "complex(3,imag=2)\n",
    "complex(real=3,2)"
   ]
  },
  {
   "cell_type": "code",
   "execution_count": 8,
   "id": "a83e11c9-e490-4258-8e3a-8d979574499f",
   "metadata": {},
   "outputs": [
    {
     "data": {
      "text/plain": [
       "0j"
      ]
     },
     "execution_count": 8,
     "metadata": {},
     "output_type": "execute_result"
    }
   ],
   "source": [
    "complex()"
   ]
  },
  {
   "cell_type": "code",
   "execution_count": 1,
   "id": "2251346c-fdd0-43ed-9048-abaf8736d727",
   "metadata": {},
   "outputs": [
    {
     "data": {
      "text/plain": [
       "0j"
      ]
     },
     "execution_count": 1,
     "metadata": {},
     "output_type": "execute_result"
    }
   ],
   "source": [
    "complex()"
   ]
  },
  {
   "cell_type": "code",
   "execution_count": 2,
   "id": "1b36b9d4-2092-4046-a323-4e6bf76914d6",
   "metadata": {},
   "outputs": [
    {
     "data": {
      "text/plain": [
       "(4+77j)"
      ]
     },
     "execution_count": 2,
     "metadata": {},
     "output_type": "execute_result"
    }
   ],
   "source": [
    "complex(4,77)"
   ]
  },
  {
   "cell_type": "code",
   "execution_count": 4,
   "id": "a17bf82a-d5af-45f2-a60c-2ce0a7cc01cd",
   "metadata": {},
   "outputs": [
    {
     "data": {
      "text/plain": [
       "(3+1j)"
      ]
     },
     "execution_count": 4,
     "metadata": {},
     "output_type": "execute_result"
    }
   ],
   "source": [
    "complex(3,1) "
   ]
  },
  {
   "cell_type": "code",
   "execution_count": null,
   "id": "7f1a1066-f023-4865-a3be-718162e6cf90",
   "metadata": {},
   "outputs": [],
   "source": []
  },
  {
   "cell_type": "code",
   "execution_count": null,
   "id": "b2c87fe2-977d-478e-9b92-ff38c14770c1",
   "metadata": {},
   "outputs": [],
   "source": []
  },
  {
   "cell_type": "code",
   "execution_count": 9,
   "id": "e688b7cd-155b-4279-b2a3-17b9f1f24071",
   "metadata": {},
   "outputs": [
    {
     "data": {
      "text/plain": [
       "(3+7j)"
      ]
     },
     "execution_count": 9,
     "metadata": {},
     "output_type": "execute_result"
    }
   ],
   "source": [
    "complex(3,7)"
   ]
  },
  {
   "cell_type": "code",
   "execution_count": 3,
   "id": "71579cc8-9a50-41a2-b80f-5ba17c697940",
   "metadata": {},
   "outputs": [
    {
     "data": {
      "text/plain": [
       "(3+4j)"
      ]
     },
     "execution_count": 3,
     "metadata": {},
     "output_type": "execute_result"
    }
   ],
   "source": [
    "complex(3,4)"
   ]
  },
  {
   "cell_type": "code",
   "execution_count": 2,
   "id": "6f6902bd-a4a3-41b3-8428-bf0f2288ae82",
   "metadata": {},
   "outputs": [
    {
     "data": {
      "text/plain": [
       "(4+0j)"
      ]
     },
     "execution_count": 2,
     "metadata": {},
     "output_type": "execute_result"
    }
   ],
   "source": [
    "complex(real=4)"
   ]
  },
  {
   "cell_type": "code",
   "execution_count": 11,
   "id": "c3fd84d5-2b5e-431b-a6af-a76e0718c65b",
   "metadata": {},
   "outputs": [
    {
     "data": {
      "text/plain": [
       "(4+5j)"
      ]
     },
     "execution_count": 11,
     "metadata": {},
     "output_type": "execute_result"
    }
   ],
   "source": [
    "complex(4,imag=5)"
   ]
  },
  {
   "cell_type": "code",
   "execution_count": 12,
   "id": "d7c6c1d1-9356-4522-b5ab-9ea46e8cfef7",
   "metadata": {},
   "outputs": [
    {
     "data": {
      "text/plain": [
       "(5+2j)"
      ]
     },
     "execution_count": 12,
     "metadata": {},
     "output_type": "execute_result"
    }
   ],
   "source": [
    "complex(real=5,imag=2)"
   ]
  },
  {
   "cell_type": "code",
   "execution_count": 15,
   "id": "984b3942-25f4-4c7b-a54e-52f4a9c41d05",
   "metadata": {},
   "outputs": [],
   "source": [
    "def greet(name,/,age):\n",
    "    print(f'hello {name} and my age is: {age}')"
   ]
  },
  {
   "cell_type": "code",
   "execution_count": 18,
   "id": "35d372e3-9e50-4715-b717-f3519615459d",
   "metadata": {},
   "outputs": [
    {
     "name": "stdout",
     "output_type": "stream",
     "text": [
      "hello dipak and my age is: 22\n"
     ]
    }
   ],
   "source": [
    "greet(\"dipak\",22)"
   ]
  },
  {
   "cell_type": "code",
   "execution_count": 19,
   "id": "79883b7a-4d56-44e2-bc62-50aabb8c87b5",
   "metadata": {},
   "outputs": [],
   "source": [
    "def greet(city,/,age):\n",
    "    print(f\" i am at {city} and my age is : {age}\")"
   ]
  },
  {
   "cell_type": "code",
   "execution_count": 7,
   "id": "311e65d0-2ca8-4c7c-976d-1d33026abfa2",
   "metadata": {},
   "outputs": [],
   "source": [
    "def greet(village, / ,age):\n",
    "    print(f\" I am from {village} and my age is: {22}\")"
   ]
  },
  {
   "cell_type": "code",
   "execution_count": 8,
   "id": "add3a585-616b-4439-9b05-7b27b719f44e",
   "metadata": {},
   "outputs": [
    {
     "name": "stdout",
     "output_type": "stream",
     "text": [
      " I am from matori and my age is: 22\n"
     ]
    }
   ],
   "source": [
    "greet(\"matori\", 22)"
   ]
  },
  {
   "cell_type": "code",
   "execution_count": null,
   "id": "5bcb4d6e-ee4b-4980-ae37-f2e3208acf93",
   "metadata": {},
   "outputs": [],
   "source": []
  },
  {
   "cell_type": "code",
   "execution_count": 20,
   "id": "eb10a57a-3180-4284-a1f1-69a483d47b5d",
   "metadata": {},
   "outputs": [
    {
     "name": "stdout",
     "output_type": "stream",
     "text": [
      " i am at hyderabad and my age is : 22\n"
     ]
    }
   ],
   "source": [
    "greet(\"hyderabad\",22)"
   ]
  },
  {
   "cell_type": "code",
   "execution_count": 5,
   "id": "e979203f-f3b6-4f03-bdbf-2f87069bf421",
   "metadata": {},
   "outputs": [
    {
     "name": "stdout",
     "output_type": "stream",
     "text": [
      "hello python and my age is: 20\n"
     ]
    }
   ],
   "source": [
    "greet('python',20)"
   ]
  },
  {
   "cell_type": "code",
   "execution_count": 6,
   "id": "e8fa3a20-9afb-4466-972d-bd2c6e36c391",
   "metadata": {},
   "outputs": [
    {
     "ename": "SyntaxError",
     "evalue": "positional argument follows keyword argument (2525742901.py, line 1)",
     "output_type": "error",
     "traceback": [
      "\u001b[1;36m  Cell \u001b[1;32mIn[6], line 1\u001b[1;36m\u001b[0m\n\u001b[1;33m    greet(name='python',22)\u001b[0m\n\u001b[1;37m                          ^\u001b[0m\n\u001b[1;31mSyntaxError\u001b[0m\u001b[1;31m:\u001b[0m positional argument follows keyword argument\n"
     ]
    }
   ],
   "source": [
    "greet(name='python',22)"
   ]
  },
  {
   "cell_type": "code",
   "execution_count": 7,
   "id": "055549eb-f964-4b87-886d-6ef74f61f147",
   "metadata": {},
   "outputs": [
    {
     "ename": "TypeError",
     "evalue": "greet() got some positional-only arguments passed as keyword arguments: 'name'",
     "output_type": "error",
     "traceback": [
      "\u001b[1;31m---------------------------------------------------------------------------\u001b[0m",
      "\u001b[1;31mTypeError\u001b[0m                                 Traceback (most recent call last)",
      "Cell \u001b[1;32mIn[7], line 1\u001b[0m\n\u001b[1;32m----> 1\u001b[0m greet(name \u001b[38;5;241m=\u001b[39m\u001b[38;5;124m'\u001b[39m\u001b[38;5;124mpython\u001b[39m\u001b[38;5;124m'\u001b[39m,age \u001b[38;5;241m=\u001b[39m \u001b[38;5;241m22\u001b[39m)\n",
      "\u001b[1;31mTypeError\u001b[0m: greet() got some positional-only arguments passed as keyword arguments: 'name'"
     ]
    }
   ],
   "source": [
    "greet(name ='python',age = 22)"
   ]
  },
  {
   "cell_type": "code",
   "execution_count": 9,
   "id": "b5c4d233-c497-470d-bb29-f28ef06b952a",
   "metadata": {},
   "outputs": [
    {
     "name": "stdout",
     "output_type": "stream",
     "text": [
      "hello python and my age is: 22\n"
     ]
    }
   ],
   "source": [
    "greet('python',age=22)"
   ]
  },
  {
   "cell_type": "markdown",
   "id": "79c41b34-a0af-41a0-801b-8a82a40bd6fe",
   "metadata": {},
   "source": [
    "- before slash and after slash\n",
    "\n",
    "- before: postional arguments\n",
    "\n",
    "- do not provaied variable name \n",
    "\n",
    "- after : key word arguments\n",
    "\n",
    "- we can provaied the variable name \n",
    "\n",
    "- we no need to provied argument name "
   ]
  },
  {
   "cell_type": "code",
   "execution_count": 12,
   "id": "1c6991c3-ed07-42bd-9924-2878375d8539",
   "metadata": {},
   "outputs": [],
   "source": [
    "def greet3(name,*,age):\n",
    "    print(f\"hello {name} and my age is: {age}\")\n",
    "    "
   ]
  },
  {
   "cell_type": "code",
   "execution_count": 38,
   "id": "cc871903-bb5f-4789-a522-7706a729b509",
   "metadata": {},
   "outputs": [
    {
     "name": "stdout",
     "output_type": "stream",
     "text": [
      "hello python and my age is: 20\n"
     ]
    }
   ],
   "source": [
    "greet3('python',age=20)    # true\n"
   ]
  },
  {
   "cell_type": "code",
   "execution_count": 39,
   "id": "c298e7cd-938c-4098-b73f-f494e5f946bc",
   "metadata": {},
   "outputs": [
    {
     "name": "stdout",
     "output_type": "stream",
     "text": [
      "hello python and my age is: 20\n"
     ]
    }
   ],
   "source": [
    "greet3(name='python',age=20)    # True"
   ]
  },
  {
   "cell_type": "code",
   "execution_count": 17,
   "id": "bfafb524-2a01-4bea-9215-91dc616f12d5",
   "metadata": {},
   "outputs": [
    {
     "ename": "SyntaxError",
     "evalue": "positional argument follows keyword argument (2845694801.py, line 1)",
     "output_type": "error",
     "traceback": [
      "\u001b[1;36m  Cell \u001b[1;32mIn[17], line 1\u001b[1;36m\u001b[0m\n\u001b[1;33m    greet3(name='dipak',21)  # first positional argument\u001b[0m\n\u001b[1;37m                          ^\u001b[0m\n\u001b[1;31mSyntaxError\u001b[0m\u001b[1;31m:\u001b[0m positional argument follows keyword argument\n"
     ]
    }
   ],
   "source": [
    "greet3(name='dipak',21)  # first positional argument \n",
    "                                                      } # importent points\n",
    "                         # second keyword argument"
   ]
  },
  {
   "cell_type": "code",
   "execution_count": 36,
   "id": "73d0a27b-2c85-43b1-9458-760ab027fd0b",
   "metadata": {},
   "outputs": [
    {
     "ename": "TypeError",
     "evalue": "greet3() takes 1 positional argument but 2 were given",
     "output_type": "error",
     "traceback": [
      "\u001b[1;31m---------------------------------------------------------------------------\u001b[0m",
      "\u001b[1;31mTypeError\u001b[0m                                 Traceback (most recent call last)",
      "Cell \u001b[1;32mIn[36], line 1\u001b[0m\n\u001b[1;32m----> 1\u001b[0m greet3(\u001b[38;5;124m'\u001b[39m\u001b[38;5;124mpython\u001b[39m\u001b[38;5;124m'\u001b[39m,\u001b[38;5;241m20\u001b[39m)\n",
      "\u001b[1;31mTypeError\u001b[0m: greet3() takes 1 positional argument but 2 were given"
     ]
    }
   ],
   "source": [
    "greet3('python',20)      # woring"
   ]
  },
  {
   "cell_type": "markdown",
   "id": "75de8248-0d9c-437c-a8f5-ff9f7ca717c5",
   "metadata": {},
   "source": [
    "**concept-3  localvariable and globle variable** \n",
    "\n",
    "- the variable use outside the functiona is called as **global variable**\n",
    "\n",
    "- the variable use inside the functiona is called as **local variable**\n",
    "\n",
    "- global variable dose not have any restriction, it can go anywhere in the entire code\n",
    "\n",
    "- local variable can not use outside the function "
   ]
  },
  {
   "cell_type": "code",
   "execution_count": 27,
   "id": "fd26090e-1369-4af8-974d-54d7451074be",
   "metadata": {},
   "outputs": [
    {
     "name": "stdout",
     "output_type": "stream",
     "text": [
      "the addition of 100 200 and 300 is:600\n"
     ]
    }
   ],
   "source": [
    "def ADD():\n",
    "    a=100\n",
    "    b=200\n",
    "    c=300\n",
    "    addition=a+b+c\n",
    "    print(f\"the addition of {a} {b} and {c} is:{addition}\")\n",
    "ADD()\n",
    "# a=global b=local c=local add=local "
   ]
  },
  {
   "cell_type": "code",
   "execution_count": 10,
   "id": "02374841-ab03-4d4b-b487-2e7cfbc50382",
   "metadata": {},
   "outputs": [
    {
     "name": "stdout",
     "output_type": "stream",
     "text": [
      "200\n"
     ]
    }
   ],
   "source": [
    "def bill(n):\n",
    "    bill=n\n",
    "    print(bill)\n",
    "bill(200)"
   ]
  },
  {
   "cell_type": "code",
   "execution_count": 3,
   "id": "79d671bf-c3ba-42af-9ceb-33d1e751a481",
   "metadata": {},
   "outputs": [
    {
     "name": "stdout",
     "output_type": "stream",
     "text": [
      "the addition of 1000 200 and 300 is:1500\n"
     ]
    }
   ],
   "source": [
    "a=1000                                 # global variable (संपूर्ण प्रोग्राममध्ये उपलब्ध)\n",
    "def ADD1():\n",
    "    global addition,b                         # global म्हणून 'addition' आणि 'b' जाहीर केलं  \n",
    "    b=200                                     # आता 'b' global बनेल\n",
    "    c=300                                     # 'c' हा local variable आहे (फक्त function मध्येच वापरता येतो)\n",
    "    addition=a+b+c                            # global 'a' + global 'b' + local 'c\n",
    "    print(f\"the addition of {a} {b} and {c} is:{addition}\")\n",
    "\n",
    "ADD1()"
   ]
  },
  {
   "cell_type": "code",
   "execution_count": 5,
   "id": "16a1c21d-72bc-47d9-bdad-e5439a762cf4",
   "metadata": {},
   "outputs": [
    {
     "name": "stdout",
     "output_type": "stream",
     "text": [
      "1500\n"
     ]
    }
   ],
   "source": [
    "print(addition)"
   ]
  },
  {
   "cell_type": "code",
   "execution_count": 19,
   "id": "64e37867-a4f4-4319-aed0-ecdabb394e1f",
   "metadata": {},
   "outputs": [
    {
     "name": "stdout",
     "output_type": "stream",
     "text": [
      "the addition of 300 200 and 300 is:800\n"
     ]
    }
   ],
   "source": [
    "a=1000\n",
    "def ADD1():\n",
    "    global addition,b\n",
    "    a=300\n",
    "    b=200\n",
    "    c=300\n",
    "    addition=a+b+c\n",
    "    print(f\"the addition of {a} {b} and {c} is:{addition}\")\n",
    "\n",
    "ADD1()"
   ]
  },
  {
   "cell_type": "markdown",
   "id": "5c6dc747-7924-4a77-ae44-36d30686f118",
   "metadata": {},
   "source": [
    "- values  a= 1000\n",
    "\n",
    "- define the function  look inside the bracket  a=1000\n",
    "\n",
    "- call the function look inside the brackets    a= 1000\n",
    "\n",
    "- run the function look inside the brackets   a= 1000"
   ]
  },
  {
   "cell_type": "code",
   "execution_count": 12,
   "id": "1d9a604e-0b9f-4c3b-8e5d-3b9ca53ce260",
   "metadata": {},
   "outputs": [
    {
     "name": "stdout",
     "output_type": "stream",
     "text": [
      " the addition of 1000 200 and 300 is: 1500\n"
     ]
    }
   ],
   "source": [
    "# case-1\n",
    "\n",
    "def ADD():\n",
    "    a=1000\n",
    "    b=200\n",
    "    c=300\n",
    "    addition=a+b+c\n",
    "    print(f\" the addition of {a} {b} and {c} is: {addition}\")\n",
    "ADD()"
   ]
  },
  {
   "cell_type": "code",
   "execution_count": 22,
   "id": "3dc201fb-5e68-46e7-a10e-73dce881132c",
   "metadata": {},
   "outputs": [
    {
     "name": "stdout",
     "output_type": "stream",
     "text": [
      " the addition of 1000 200 and 300 is: 1500\n"
     ]
    }
   ],
   "source": [
    "# case-2\n",
    "a=1000\n",
    "def ADD2():\n",
    "    b=200\n",
    "    c=300\n",
    "    addition=a+b+c\n",
    "    print(f\" the addition of {a} {b} and {c} is: {addition}\")\n",
    "ADD2()"
   ]
  },
  {
   "cell_type": "code",
   "execution_count": 16,
   "id": "4cca6ffd-4947-447f-be9a-bc72917c9da0",
   "metadata": {},
   "outputs": [
    {
     "name": "stdout",
     "output_type": "stream",
     "text": [
      " the addition of 1500 200 and 300 is: 2000\n"
     ]
    }
   ],
   "source": [
    "# case-3\n",
    "a=1000\n",
    "def ADD3():\n",
    "    a=1500\n",
    "    b=200\n",
    "    c=300\n",
    "    addition=a+b+c\n",
    "    print(f\" the addition of {a} {b} and {c} is: {addition}\")\n",
    "ADD3()\n",
    "# function always gives local variable first \n",
    "# then global variable "
   ]
  },
  {
   "cell_type": "code",
   "execution_count": 17,
   "id": "f80b55eb-165a-4704-9bbe-74fc0cbde8d6",
   "metadata": {},
   "outputs": [
    {
     "name": "stdout",
     "output_type": "stream",
     "text": [
      " the addition of 1500 200 and 300 is: 2000\n"
     ]
    }
   ],
   "source": [
    "# case-4\n",
    "a=1000 #globale variable \n",
    "def ADD4():\n",
    "    a=1500 # local variable \n",
    "    b=200\n",
    "    c=300\n",
    "    addition=a+b+c\n",
    "    print(f\" the addition of {a} {b} and {c} is: {addition}\")\n",
    "    a=2000 # gv\n",
    "ADD4()"
   ]
  },
  {
   "cell_type": "code",
   "execution_count": 19,
   "id": "fa19a276-22ae-4f38-897b-de09d793e41c",
   "metadata": {},
   "outputs": [
    {
     "name": "stdout",
     "output_type": "stream",
     "text": [
      " the addition of 3000 200 and 300 is: 3500\n"
     ]
    }
   ],
   "source": [
    "# case-5\n",
    "a=1000 #globale variable \n",
    "def ADD5(a=3000):\n",
    "    b=200\n",
    "    c=300\n",
    "    addition=a+b+c\n",
    "    print(f\" the addition of {a} {b} and {c} is: {addition}\")\n",
    "    a=2000 # gv\n",
    "ADD5()"
   ]
  },
  {
   "cell_type": "code",
   "execution_count": 22,
   "id": "b1697b4a-4e49-41e4-b037-8987934f76ee",
   "metadata": {},
   "outputs": [
    {
     "name": "stdout",
     "output_type": "stream",
     "text": [
      " the addition of 3000 200 and 300 is: 3500\n"
     ]
    }
   ],
   "source": [
    "# case-6\n",
    "a=1000 #globale variable \n",
    "def ADD6(a):\n",
    "    b=200\n",
    "    c=300\n",
    "    addition=a+b+c\n",
    "    print(f\" the addition of {a} {b} and {c} is: {addition}\")\n",
    "    a=2000 # gv\n",
    "ADD6(a=3000)"
   ]
  },
  {
   "cell_type": "code",
   "execution_count": 23,
   "id": "b421544e-fcb0-4a04-9681-3ef8bc08808e",
   "metadata": {},
   "outputs": [
    {
     "name": "stdout",
     "output_type": "stream",
     "text": [
      " the addition of 4000 200 and 300 is: 4500\n"
     ]
    }
   ],
   "source": [
    "# case-7\n",
    "a=1000 #globale variable \n",
    "def ADD7(a=4000):\n",
    "    b=200\n",
    "    c=300\n",
    "    addition=a+b+c\n",
    "    print(f\" the addition of {a} {b} and {c} is: {addition}\")\n",
    "    a=2000 # gv\n",
    "ADD7()"
   ]
  },
  {
   "cell_type": "code",
   "execution_count": 24,
   "id": "75416c80-e566-4164-97ef-f6710c1ea4f3",
   "metadata": {},
   "outputs": [
    {
     "name": "stdout",
     "output_type": "stream",
     "text": [
      " the addition of 6000 200 and 300 is: 4500\n"
     ]
    }
   ],
   "source": [
    "# case-8\n",
    "a=1000 #globale variable \n",
    "def ADD8(a=4000):\n",
    "    b=200\n",
    "    c=300\n",
    "    addition=a+b+c\n",
    "    a=6000 \n",
    "    print(f\" the addition of {a} {b} and {c} is: {addition}\")\n",
    "    a=2000 # gv\n",
    "ADD8()"
   ]
  },
  {
   "cell_type": "code",
   "execution_count": 25,
   "id": "d8122a9e-7c8d-4cfa-9f59-e91437ee2e5b",
   "metadata": {},
   "outputs": [
    {
     "name": "stdout",
     "output_type": "stream",
     "text": [
      "110\n"
     ]
    }
   ],
   "source": [
    "s=10\n",
    "s=s+100\n",
    "print(s)"
   ]
  },
  {
   "cell_type": "code",
   "execution_count": null,
   "id": "d8c8c0fe-ebb2-40eb-bdb2-7f28f72bf642",
   "metadata": {},
   "outputs": [],
   "source": [
    "def math():\n",
    "    s1=s1+100\n",
    "    s1=10\n",
    "math()\n"
   ]
  },
  {
   "cell_type": "code",
   "execution_count": null,
   "id": "cf49b64d-2edd-4847-a445-8c1cf02c8ecc",
   "metadata": {},
   "outputs": [],
   "source": [
    "s1=100 # gv\n",
    "def math():\n",
    "    s1=s1+   # s1 we using locally where is s1? \n",
    "    s1=10\n",
    "math()\n"
   ]
  },
  {
   "cell_type": "code",
   "execution_count": 5,
   "id": "2c20a3c2-123d-4c9a-8ee4-b3192ea6c13b",
   "metadata": {},
   "outputs": [
    {
     "name": "stdout",
     "output_type": "stream",
     "text": [
      "200\n"
     ]
    }
   ],
   "source": [
    "s1=100\n",
    "def math():\n",
    "    value=s1+100\n",
    "    print(value)\n",
    "math()"
   ]
  },
  {
   "cell_type": "code",
   "execution_count": 6,
   "id": "9f28c8b6-df4c-4107-9058-343c4432b87a",
   "metadata": {},
   "outputs": [],
   "source": [
    "s1=100\n",
    "def math(s1=0):\n",
    "    s1=s1+100\n",
    "math()"
   ]
  },
  {
   "cell_type": "code",
   "execution_count": 7,
   "id": "f4abca9f-8720-42f3-aae2-31a8c4b34a83",
   "metadata": {},
   "outputs": [
    {
     "name": "stdout",
     "output_type": "stream",
     "text": [
      "200\n"
     ]
    }
   ],
   "source": [
    "s1=100\n",
    "def math():\n",
    "    add=s1+100\n",
    "    print(add)\n",
    "math()"
   ]
  },
  {
   "cell_type": "code",
   "execution_count": 21,
   "id": "b2ae784d-ff9a-4afa-8d23-02986a438869",
   "metadata": {},
   "outputs": [
    {
     "name": "stdout",
     "output_type": "stream",
     "text": [
      "300\n"
     ]
    }
   ],
   "source": [
    "s1=200\n",
    "def math():\n",
    "    sub=s1+100\n",
    "    print(sub)\n",
    "math()"
   ]
  },
  {
   "cell_type": "code",
   "execution_count": 28,
   "id": "b073a839-7e67-47cd-9d22-47fe56ae3559",
   "metadata": {},
   "outputs": [
    {
     "name": "stdout",
     "output_type": "stream",
     "text": [
      "50\n"
     ]
    }
   ],
   "source": [
    "s2=300\n",
    "def math():\n",
    "    value=s2-250\n",
    "    print(value)\n",
    "math()"
   ]
  },
  {
   "cell_type": "code",
   "execution_count": 3,
   "id": "4fa575ac-1e13-4c26-9a85-395e4ddac0f4",
   "metadata": {},
   "outputs": [
    {
     "name": "stdout",
     "output_type": "stream",
     "text": [
      "500\n"
     ]
    }
   ],
   "source": [
    "s2=400\n",
    "def math():\n",
    "    add=s2+100\n",
    "    print(add)\n",
    "math()"
   ]
  },
  {
   "cell_type": "code",
   "execution_count": null,
   "id": "d7d79f44-cee8-42da-8814-6e3473b11c85",
   "metadata": {},
   "outputs": [],
   "source": []
  },
  {
   "cell_type": "code",
   "execution_count": null,
   "id": "9a828988-057e-4d49-a6e6-9ce0b3898685",
   "metadata": {},
   "outputs": [],
   "source": [
    "s1=100   # s1=gv\n",
    "\n",
    "def dipak():\n",
    "    val=s1+100  # no error\n",
    "    # directly assign to new variable \n",
    "dipak()\n",
    "\n",
    "\n",
    "\n",
    "s1=100 #gv \n",
    "\n",
    "def dipak():\n",
    "    s1=s1+100   # error\n",
    "    # assign to some variable s1 local variable \n",
    "    # python imadetatlly see s1=100+a \n",
    "dipak()\n",
    "    "
   ]
  },
  {
   "cell_type": "markdown",
   "id": "0f15c603-a697-45b8-b7d2-553c19724f4a",
   "metadata": {},
   "source": [
    "- first additional function scan \n",
    "\n",
    "- inside function s1=s1+100\n",
    "\n",
    "- s1 is a lacal variable available \n",
    "\n",
    "- what is this local variable = s1+100\n",
    "\n",
    "- s1+100 able to get it : NO error \n",
    "\n",
    "- value s1+100\n",
    "\n",
    "- then python use globle variable\n",
    "\n",
    "- val and s1 both are different\n",
    "\n",
    "- s1 from outside \n"
   ]
  },
  {
   "cell_type": "markdown",
   "id": "f44920ab-6b8d-48e6-976a-e15bbfc730c8",
   "metadata": {},
   "source": [
    "**return statment**\n",
    "\n",
    "- functions wants to give something to the use\n",
    "\n",
    "- that we need to save using return"
   ]
  },
  {
   "cell_type": "code",
   "execution_count": 8,
   "id": "5db2de17-7763-41a2-a67a-87c38ae5ed58",
   "metadata": {},
   "outputs": [
    {
     "name": "stdout",
     "output_type": "stream",
     "text": [
      "the average of 20 40 and 60 is: 40.0\n"
     ]
    },
    {
     "data": {
      "text/plain": [
       "40.0"
      ]
     },
     "execution_count": 8,
     "metadata": {},
     "output_type": "execute_result"
    }
   ],
   "source": [
    "def average(a,b,c):\n",
    "    add=(a+b+c)/3\n",
    "    avg=round(add,2)\n",
    "    print(f\"the average of {a} {b} and {c} is: {avg}\")\n",
    "    return(avg)\n",
    "average(20,40,60)"
   ]
  },
  {
   "cell_type": "code",
   "execution_count": 35,
   "id": "4b16d522-cd64-49fb-832c-69b29b1e6a55",
   "metadata": {},
   "outputs": [
    {
     "name": "stdin",
     "output_type": "stream",
     "text": [
      "Enter The Num: 88\n",
      "Enter The Num: 21\n"
     ]
    },
    {
     "data": {
      "text/plain": [
       "'Even'"
      ]
     },
     "execution_count": 35,
     "metadata": {},
     "output_type": "execute_result"
    }
   ],
   "source": [
    "def evenodd():\n",
    "    num1=int(input(\"Enter The Num:\"))\n",
    "    num2=int(input(\"Enter The Num:\"))\n",
    "    if num1 % 2 ==0:\n",
    "        return(\"Even\")\n",
    "    else:\n",
    "        return(\"odd\")\n",
    "evenodd()"
   ]
  },
  {
   "cell_type": "code",
   "execution_count": 5,
   "id": "a0922683-04a2-4b49-a117-41c58afd1e43",
   "metadata": {},
   "outputs": [
    {
     "ename": "SyntaxError",
     "evalue": "invalid syntax (3602892480.py, line 3)",
     "output_type": "error",
     "traceback": [
      "\u001b[1;36m  Cell \u001b[1;32mIn[5], line 3\u001b[1;36m\u001b[0m\n\u001b[1;33m    a,b 10,20\u001b[0m\n\u001b[1;37m        ^\u001b[0m\n\u001b[1;31mSyntaxError\u001b[0m\u001b[1;31m:\u001b[0m invalid syntax\n"
     ]
    }
   ],
   "source": [
    "a=10\n",
    "b=20\n",
    "a,b 10,20\n"
   ]
  },
  {
   "cell_type": "code",
   "execution_count": 4,
   "id": "bd8a5891-6442-4272-9a83-e6311cfcaed6",
   "metadata": {},
   "outputs": [
    {
     "name": "stdout",
     "output_type": "stream",
     "text": [
      "the avg of 10 33 and 2 is: 15.0\n"
     ]
    }
   ],
   "source": [
    "def average5(a,b,c):\n",
    "    add=(a+b+c)/3\n",
    "    avg=round(add,2)\n",
    "    print(f\"the avg of {a} {b} and {c} is: {avg}\")\n",
    "average5(10,33,2)"
   ]
  },
  {
   "cell_type": "markdown",
   "id": "7c3a1cae-62af-4cb1-840c-ac43baaf0779",
   "metadata": {},
   "source": [
    "**function in function**"
   ]
  },
  {
   "cell_type": "code",
   "execution_count": 5,
   "id": "2e4ca252-0e15-44eb-8d6c-a2aa9a9c7e8e",
   "metadata": {},
   "outputs": [],
   "source": [
    "def greet1():\n",
    "    print('good morning')"
   ]
  },
  {
   "cell_type": "code",
   "execution_count": 7,
   "id": "b3439fd3-ae64-4eca-b81b-f936ed79277b",
   "metadata": {},
   "outputs": [],
   "source": [
    "def greet2():\n",
    "    print('good night')"
   ]
  },
  {
   "cell_type": "code",
   "execution_count": 8,
   "id": "b9bbba7f-c335-498e-b3f8-90c7d7cda691",
   "metadata": {},
   "outputs": [
    {
     "name": "stdout",
     "output_type": "stream",
     "text": [
      "good morning\n"
     ]
    }
   ],
   "source": [
    "greet1()"
   ]
  },
  {
   "cell_type": "code",
   "execution_count": 9,
   "id": "cc6dc763-4c73-45b2-bc2c-3013fa44ace4",
   "metadata": {},
   "outputs": [
    {
     "name": "stdout",
     "output_type": "stream",
     "text": [
      "good night\n"
     ]
    }
   ],
   "source": [
    "greet2()"
   ]
  },
  {
   "cell_type": "code",
   "execution_count": 10,
   "id": "5bf5a595-e833-4d0b-9008-076da0402abd",
   "metadata": {},
   "outputs": [
    {
     "name": "stdout",
     "output_type": "stream",
     "text": [
      "good morning\n",
      "good night\n"
     ]
    }
   ],
   "source": [
    "def greet1():\n",
    "    print('good morning')\n",
    "\n",
    "\n",
    "\n",
    "def greet2(): \n",
    "    greet1()\n",
    "    print('good night')\n",
    "\n",
    "\n",
    "\n",
    "greet2()"
   ]
  },
  {
   "cell_type": "code",
   "execution_count": 12,
   "id": "19883812-569d-412d-8b05-d539b1a51000",
   "metadata": {},
   "outputs": [
    {
     "name": "stdout",
     "output_type": "stream",
     "text": [
      " Hello i am dipak from maharastra but now staing at hyderabad telngana \n",
      "So explain somthing about you :\n"
     ]
    },
    {
     "data": {
      "text/plain": [
       "(None, None)"
      ]
     },
     "execution_count": 12,
     "metadata": {},
     "output_type": "execute_result"
    }
   ],
   "source": [
    "def greet1():\n",
    "    print(\" Hello i am dipak from maharastra but now staing at hyderabad telngana \")\n",
    "\n",
    "\n",
    "def greet2():\n",
    "    print(\"So explain somthing about you :\")\n",
    "\n",
    "\n",
    "greet1(),greet2()"
   ]
  },
  {
   "cell_type": "code",
   "execution_count": 37,
   "id": "c15ed34e-eced-44ec-b438-c2bc958e33d3",
   "metadata": {},
   "outputs": [
    {
     "name": "stdout",
     "output_type": "stream",
     "text": [
      "good night\n",
      "good morning\n"
     ]
    }
   ],
   "source": [
    "def greet1():\n",
    "    greet2()\n",
    "    print('good morning')\n",
    "\n",
    "\n",
    "\n",
    "def greet2(): \n",
    "    print('good night')\n",
    "\n",
    "\n",
    "\n",
    "greet1()"
   ]
  },
  {
   "cell_type": "code",
   "execution_count": 18,
   "id": "b56d9e34-f12f-45c1-8975-4dce0961a87e",
   "metadata": {},
   "outputs": [
    {
     "name": "stdout",
     "output_type": "stream",
     "text": [
      "good morning\n",
      "good night\n"
     ]
    }
   ],
   "source": [
    "def greet1():\n",
    "    print('good morning')\n",
    "    greet2()\n",
    "\n",
    "    \n",
    "\n",
    "def greet2():\n",
    "    print('good night')\n",
    "\n",
    "greet1()"
   ]
  },
  {
   "cell_type": "code",
   "execution_count": 22,
   "id": "143ecbbb-7192-4b5a-960e-130d08ad5047",
   "metadata": {},
   "outputs": [
    {
     "name": "stdout",
     "output_type": "stream",
     "text": [
      "good morning\n",
      "good night\n"
     ]
    }
   ],
   "source": [
    "def greet1():\n",
    "    def greet2():\n",
    "        print('good night')\n",
    "    print('good morning')\n",
    "    greet2()\n",
    "    \n",
    "\n",
    "greet1()"
   ]
  },
  {
   "cell_type": "code",
   "execution_count": 46,
   "id": "a6877d10-c1da-4122-9c09-920d0ee05ee8",
   "metadata": {},
   "outputs": [
    {
     "name": "stdout",
     "output_type": "stream",
     "text": [
      "add 300\n",
      "mul: 150\n"
     ]
    }
   ],
   "source": [
    "def MATH():\n",
    "    \n",
    "    def add1(a,b):\n",
    "        print('add',a+b)\n",
    "    def mul1(a,b):\n",
    "            print('mul:',a*b)\n",
    "            \n",
    "    add1(100,200)\n",
    "    mul1(10,15)\n",
    "\n",
    "MATH()    "
   ]
  },
  {
   "cell_type": "code",
   "execution_count": null,
   "id": "34387cf7-d9c0-4290-bbe5-7d5be38ad0d8",
   "metadata": {},
   "outputs": [],
   "source": [
    "def number(n):\n",
    "    #print(n)\n",
    "    number(n-1)\n",
    "\n",
    "number(6)  \n",
    "break\n",
    "\n",
    "#step0: number(6)\n",
    "# step1: print(6)  number (5)\n",
    "# step2: print(5)  number (4)\n",
    "# step3: print(4)  number (3)\n",
    "# step4: print(3)  number (2)\n",
    "# step5: print(2)  number (1)"
   ]
  },
  {
   "cell_type": "code",
   "execution_count": 41,
   "id": "d617ef7a-739d-4ed8-a907-ff91f5849066",
   "metadata": {},
   "outputs": [
    {
     "name": "stdout",
     "output_type": "stream",
     "text": [
      "6\n",
      "5\n",
      "4\n",
      "3\n",
      "2\n",
      "1\n"
     ]
    }
   ],
   "source": [
    "def number(n):\n",
    "    \n",
    "    if n==0:\n",
    "        return(0)\n",
    "    print(n)\n",
    "    number(n-1)\n",
    "        \n",
    "        \n",
    "number(6)        "
   ]
  },
  {
   "cell_type": "code",
   "execution_count": 45,
   "id": "81f856c2-aa9e-43cf-841c-b44c4463c922",
   "metadata": {},
   "outputs": [
    {
     "data": {
      "text/plain": [
       "720"
      ]
     },
     "execution_count": 45,
     "metadata": {},
     "output_type": "execute_result"
    }
   ],
   "source": [
    "def fact(n):\n",
    "    if n==0:\n",
    "        return(1)\n",
    "    else:\n",
    "        return(n*fact(n-1))\n",
    "\n",
    "fact(6)\n",
    "\n",
    "# step:1 6==0"
   ]
  },
  {
   "cell_type": "code",
   "execution_count": 15,
   "id": "5f2fac65-e27f-4f7e-839f-0eb8b4c4c64c",
   "metadata": {},
   "outputs": [
    {
     "name": "stdin",
     "output_type": "stream",
     "text": [
      "enter the num1 50\n",
      "enter the num2 50\n",
      "enter the num3 100\n"
     ]
    },
    {
     "name": "stdout",
     "output_type": "stream",
     "text": [
      "the avarage of 50,50 and 100 is : 67\n"
     ]
    }
   ],
   "source": [
    "def average1():\n",
    "    num1=eval(input(\"enter the num1\"))\n",
    "    num2=eval(input(\"enter the num2\"))\n",
    "    num3=eval(input(\"enter the num3\"))\n",
    "    avarage=round((num1+num2+num3)/3)\n",
    "    print(f\"the avarage of {num1},{num2} and {num3} is : {avarage}\")\n",
    "average1()\n"
   ]
  },
  {
   "cell_type": "code",
   "execution_count": 21,
   "id": "98f6c8f2-1336-456e-bfc1-937ed7a15234",
   "metadata": {},
   "outputs": [
    {
     "name": "stdout",
     "output_type": "stream",
     "text": [
      "the average of 60,100 and 40 is: 66.66666666666667\n"
     ]
    }
   ],
   "source": [
    "def average2(a=60):\n",
    "    b=100\n",
    "    c=40\n",
    "    average=round(a+b+c)/3\n",
    "    print(f\"the average of {a},{b} and {c} is: {average}\")\n",
    "\n",
    "average2()"
   ]
  },
  {
   "cell_type": "code",
   "execution_count": 24,
   "id": "85e30259-7a0e-46cc-a76c-bbe01f0db718",
   "metadata": {},
   "outputs": [
    {
     "name": "stdout",
     "output_type": "stream",
     "text": [
      "the average of 1000,1500 and 1500 is: 1333.3333333333333\n"
     ]
    }
   ],
   "source": [
    "def average():\n",
    "    x=1000\n",
    "    y=1500\n",
    "    z=1500\n",
    "    average=round(x+y+z)/3\n",
    "    print(f\"the average of {x},{y} and {z} is: {average}\")\n",
    "\n",
    "average()"
   ]
  },
  {
   "cell_type": "code",
   "execution_count": 13,
   "id": "20d5476d-c5ec-41f9-b95e-1ab68955e0a6",
   "metadata": {},
   "outputs": [
    {
     "name": "stdout",
     "output_type": "stream",
     "text": [
      "the area of circle,31400.0\n"
     ]
    }
   ],
   "source": [
    "def area():\n",
    "    pi=3.14\n",
    "    r=100\n",
    "    area_of_circle=pi*r*r\n",
    "    print(f\"the area of circle,{area_of_circle}\")\n",
    "area()"
   ]
  },
  {
   "cell_type": "code",
   "execution_count": 46,
   "id": "1f9249df-96cf-44db-a32d-ab11d4d2854d",
   "metadata": {},
   "outputs": [
    {
     "name": "stdout",
     "output_type": "stream",
     "text": [
      "the area of circle,7850.0\n"
     ]
    }
   ],
   "source": [
    "def area():\n",
    "    pi=3.14\n",
    "    r=50\n",
    "    area_of_circle=pi*r*r\n",
    "    print(f\"the area of circle,{area_of_circle}\")\n",
    "area()"
   ]
  },
  {
   "cell_type": "code",
   "execution_count": 15,
   "id": "9b882644-8496-4fd9-a1e3-ad052e2cd072",
   "metadata": {},
   "outputs": [
    {
     "name": "stdout",
     "output_type": "stream",
     "text": [
      "the area of trangle,1125.0\n"
     ]
    }
   ],
   "source": [
    "def area():\n",
    "    b=15\n",
    "    h=15\n",
    "    area_of_trangle=5.0*b*h\n",
    "    print(f\"the area of trangle,{area_of_trangle}\")\n",
    "area()"
   ]
  },
  {
   "cell_type": "code",
   "execution_count": 2,
   "id": "c36c021d-ce69-4d53-9cdc-df75251599e1",
   "metadata": {},
   "outputs": [
    {
     "name": "stdout",
     "output_type": "stream",
     "text": [
      "8\n"
     ]
    }
   ],
   "source": [
    "def add(x, y=5):\n",
    "    return x + y\n",
    "\n",
    "print(add(3))"
   ]
  },
  {
   "cell_type": "code",
   "execution_count": 47,
   "id": "0b8ce7ee-e730-4e2a-b13a-20d19aaeb56b",
   "metadata": {},
   "outputs": [
    {
     "name": "stdout",
     "output_type": "stream",
     "text": [
      "hellodipak\n"
     ]
    }
   ],
   "source": [
    "def greet(name):\n",
    "    print(\"hello\" + name)\n",
    "greet(\"dipak\")"
   ]
  },
  {
   "cell_type": "code",
   "execution_count": 7,
   "id": "787b9a3f-aefa-4db0-9eb3-ca185c3aefee",
   "metadata": {},
   "outputs": [
    {
     "name": "stdout",
     "output_type": "stream",
     "text": [
      "6\n"
     ]
    }
   ],
   "source": [
    "def multiply(a,b):\n",
    "    return a*b\n",
    "\n",
    "print(multiply(2,3))"
   ]
  },
  {
   "cell_type": "code",
   "execution_count": 58,
   "id": "c271df47-b0b5-4eee-baae-2012dc47a3c0",
   "metadata": {},
   "outputs": [
    {
     "name": "stdout",
     "output_type": "stream",
     "text": [
      "None\n"
     ]
    }
   ],
   "source": [
    "def test():\n",
    "    return\n",
    "    print(\"inside function\")\n",
    "print(test())"
   ]
  },
  {
   "cell_type": "code",
   "execution_count": 70,
   "id": "dca0535a-b82d-43cb-a9b5-bafc4e1d71d8",
   "metadata": {},
   "outputs": [
    {
     "name": "stdout",
     "output_type": "stream",
     "text": [
      "(6, 36)\n"
     ]
    }
   ],
   "source": [
    "def f(x):\n",
    "    return x, x**2\n",
    "\n",
    "print(f(6))"
   ]
  },
  {
   "cell_type": "code",
   "execution_count": 73,
   "id": "b8086493-52e9-4ddc-974d-733a9f65e192",
   "metadata": {},
   "outputs": [
    {
     "name": "stdout",
     "output_type": "stream",
     "text": [
      "20\n"
     ]
    }
   ],
   "source": [
    "def change(num):\n",
    "    num += 10\n",
    "    return num\n",
    "\n",
    "x = 10\n",
    "print(change(x))"
   ]
  },
  {
   "cell_type": "code",
   "execution_count": 11,
   "id": "47d569b4-6f5a-40af-ac17-d063ad024d13",
   "metadata": {},
   "outputs": [
    {
     "name": "stdout",
     "output_type": "stream",
     "text": [
      "Hello World\n"
     ]
    }
   ],
   "source": [
    "\n",
    "def combine(a, b='World'):\n",
    "    return a + ' ' + b\n",
    "\n",
    "print(combine('Hello'))"
   ]
  },
  {
   "cell_type": "code",
   "execution_count": 75,
   "id": "9b89cc70-02cc-4f3d-a984-6e0f18d08884",
   "metadata": {},
   "outputs": [
    {
     "name": "stdout",
     "output_type": "stream",
     "text": [
      "heyy how are u dipak\n"
     ]
    }
   ],
   "source": [
    "def combine(x,y=\"dipak\"):\n",
    "    return x + \" \" + y\n",
    "\n",
    "print(combine(\"heyy how are u\"))"
   ]
  },
  {
   "cell_type": "code",
   "execution_count": 4,
   "id": "fb9239b2-2a4d-4e9c-a69c-ec640bd6f722",
   "metadata": {},
   "outputs": [
    {
     "name": "stdin",
     "output_type": "stream",
     "text": [
      "Enter the first number: 1\n",
      "Enter the second number: 22\n"
     ]
    },
    {
     "data": {
      "text/plain": [
       "'The 22 is odd'"
      ]
     },
     "execution_count": 4,
     "metadata": {},
     "output_type": "execute_result"
    }
   ],
   "source": [
    "def even_odd():\n",
    "    num1=int(input(\"Enter the first number:\"))\n",
    "    num2=int(input(\"Enter the second number:\"))\n",
    "    \n",
    "    if num1 % 2 == 0:\n",
    "        return(f\"The {num1} is even\")\n",
    "    else:\n",
    "        return(f\"The {num2} is odd\")\n",
    "\n",
    "even_odd()\n"
   ]
  },
  {
   "cell_type": "code",
   "execution_count": 12,
   "id": "b9ba5244-71f1-4bd4-848c-c7aa6c0d0e5e",
   "metadata": {},
   "outputs": [
    {
     "name": "stdout",
     "output_type": "stream",
     "text": [
      "The avg of 55,40,42 and 91 numbers is: 57.0\n"
     ]
    }
   ],
   "source": [
    "def avg():\n",
    "    a=55\n",
    "    b=40\n",
    "    c=42\n",
    "    d=91\n",
    "    avg=round(a+b+c+d)/4\n",
    "    print(f\"The avg of {a},{b},{c} and {d} numbers is: {avg}\")\n",
    "avg()"
   ]
  },
  {
   "cell_type": "code",
   "execution_count": 17,
   "id": "b4fc73dc-f680-40b8-9a6d-c54e1b2d3a21",
   "metadata": {},
   "outputs": [
    {
     "name": "stdin",
     "output_type": "stream",
     "text": [
      "enter the number a : 44\n",
      "enter the number b : 34\n"
     ]
    },
    {
     "name": "stdout",
     "output_type": "stream",
     "text": [
      "78\n"
     ]
    }
   ],
   "source": [
    "def addition():\n",
    "    num1=int(input(\"enter the number a :\"))\n",
    "    num2=int(input(\"enter the number b :\"))\n",
    "    print(num1+num2)\n",
    "addition()"
   ]
  },
  {
   "cell_type": "code",
   "execution_count": 21,
   "id": "85ea7c04-e784-4b57-8563-617a2840e560",
   "metadata": {},
   "outputs": [
    {
     "name": "stdin",
     "output_type": "stream",
     "text": [
      "Enter the number A : 888\n",
      "Enter the number B : 666\n",
      "Enter the number C : 345\n",
      "Enter the number D : 653\n"
     ]
    },
    {
     "name": "stdout",
     "output_type": "stream",
     "text": [
      "The avg of 888,666,345 and 653 is : 638.0\n"
     ]
    }
   ],
   "source": [
    "def avg():\n",
    "    a=int(input(\"Enter the number A :\"))\n",
    "    b=int(input(\"Enter the number B :\"))\n",
    "    c=int(input(\"Enter the number C :\"))\n",
    "    d=int(input(\"Enter the number D :\"))\n",
    "    avg=round(a+b+c+d)/4\n",
    "    print(f\"The avg of {a},{b},{c} and {d} is : {avg}\")\n",
    "avg()\n",
    "    "
   ]
  },
  {
   "cell_type": "code",
   "execution_count": 24,
   "id": "d58642ea-0def-420c-b8c2-07cae60a5e66",
   "metadata": {},
   "outputs": [
    {
     "name": "stdout",
     "output_type": "stream",
     "text": [
      " The are of trangle is : 99.0\n"
     ]
    }
   ],
   "source": [
    "def area_of_trangle():\n",
    "    b=6\n",
    "    h=33\n",
    "    area_of_trangle=0.5*b*h\n",
    "    print(f\" The are of trangle is : {area_of_trangle}\")\n",
    "\n",
    "area_of_trangle()"
   ]
  },
  {
   "cell_type": "code",
   "execution_count": 28,
   "id": "2a0fbeda-ac17-43a6-a13d-811bf57f1e7c",
   "metadata": {},
   "outputs": [
    {
     "name": "stdout",
     "output_type": "stream",
     "text": [
      "heyy how are u  pradip\n"
     ]
    }
   ],
   "source": [
    "def combine(a,b=\"pradip\"):\n",
    "    return a + \" \" + b\n",
    "print(combine(\"heyy how are u \"))"
   ]
  },
  {
   "cell_type": "code",
   "execution_count": 30,
   "id": "2ad1b1f9-9c6c-46cc-bab6-abe29f61f533",
   "metadata": {},
   "outputs": [
    {
     "name": "stdout",
     "output_type": "stream",
     "text": [
      "heyy where are u from dipak\n"
     ]
    }
   ],
   "source": [
    "def combine(y,z=\"dipak\"):\n",
    "    return y + \" \" + z \n",
    "print(combine(\"heyy where are u from\"))"
   ]
  },
  {
   "cell_type": "code",
   "execution_count": 6,
   "id": "7e4199c6-d1fb-481f-93cf-1215b83cc5f1",
   "metadata": {},
   "outputs": [
    {
     "name": "stdout",
     "output_type": "stream",
     "text": [
      "Name: Dipak, Age: 20\n"
     ]
    }
   ],
   "source": [
    "def student(name, age):\n",
    "    print(f\"Name: {name}, Age: {age}\")\n",
    "\n",
    "student(age=20, name=\"Dipak\")"
   ]
  },
  {
   "cell_type": "code",
   "execution_count": 12,
   "id": "f9c45892-3d80-47ef-8a22-6ffd4cba0bbf",
   "metadata": {},
   "outputs": [
    {
     "name": "stdout",
     "output_type": "stream",
     "text": [
      "189\n",
      "name:Dipak\n",
      "age:22\n",
      "cource:Data Science\n"
     ]
    }
   ],
   "source": [
    "def add_all(*numbers):\n",
    "    return(sum(numbers))\n",
    "\n",
    "print(add_all(2,22,31,44,34,56))\n",
    "\n",
    "def show_info(**data):\n",
    "    for key , value in data.items():\n",
    "        print(f\"{key}:{value}\")\n",
    "show_info(name='Dipak',age=22,cource='Data Science')"
   ]
  },
  {
   "cell_type": "code",
   "execution_count": null,
   "id": "3ad08d78-c16a-4f29-8a7e-153024319c88",
   "metadata": {},
   "outputs": [],
   "source": []
  }
 ],
 "metadata": {
  "kernelspec": {
   "display_name": "Python [conda env:base] *",
   "language": "python",
   "name": "conda-base-py"
  },
  "language_info": {
   "codemirror_mode": {
    "name": "ipython",
    "version": 3
   },
   "file_extension": ".py",
   "mimetype": "text/x-python",
   "name": "python",
   "nbconvert_exporter": "python",
   "pygments_lexer": "ipython3",
   "version": "3.13.5"
  }
 },
 "nbformat": 4,
 "nbformat_minor": 5
}
