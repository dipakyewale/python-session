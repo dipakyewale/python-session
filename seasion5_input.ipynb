{
 "cells": [
  {
   "cell_type": "code",
   "execution_count": 1,
   "id": "33a1ad63-6e44-4cd2-bb23-62331c310a41",
   "metadata": {},
   "outputs": [
    {
     "data": {
      "text/plain": [
       "<bound method Kernel.raw_input of <ipykernel.ipkernel.IPythonKernel object at 0x0000016CD811D160>>"
      ]
     },
     "execution_count": 1,
     "metadata": {},
     "output_type": "execute_result"
    }
   ],
   "source": [
    "input"
   ]
  },
  {
   "cell_type": "markdown",
   "id": "14653304-485d-4b88-8fb3-1de56ea72811",
   "metadata": {},
   "source": [
    "- bound method \n",
    "\n",
    "- function \n",
    "\n",
    "- we need to add brackets"
   ]
  },
  {
   "cell_type": "code",
   "execution_count": 1,
   "id": "88e8b504-c014-4dff-8ed8-8374845f5be7",
   "metadata": {},
   "outputs": [
    {
     "name": "stdin",
     "output_type": "stream",
     "text": [
      " 10\n"
     ]
    },
    {
     "data": {
      "text/plain": [
       "'10'"
      ]
     },
     "execution_count": 1,
     "metadata": {},
     "output_type": "execute_result"
    }
   ],
   "source": [
    "input()"
   ]
  },
  {
   "cell_type": "code",
   "execution_count": 3,
   "id": "d7c07a8a-d0f0-4c0c-96f8-07446d65438a",
   "metadata": {},
   "outputs": [
    {
     "name": "stdin",
     "output_type": "stream",
     "text": [
      " 20\n"
     ]
    },
    {
     "data": {
      "text/plain": [
       "'20'"
      ]
     },
     "execution_count": 3,
     "metadata": {},
     "output_type": "execute_result"
    }
   ],
   "source": [
    "input()"
   ]
  },
  {
   "cell_type": "code",
   "execution_count": 4,
   "id": "a864ffbb-2869-40c9-85af-990b25603112",
   "metadata": {},
   "outputs": [
    {
     "name": "stdin",
     "output_type": "stream",
     "text": [
      " 10\n",
      " 20\n"
     ]
    },
    {
     "data": {
      "text/plain": [
       "'20'"
      ]
     },
     "execution_count": 4,
     "metadata": {},
     "output_type": "execute_result"
    }
   ],
   "source": [
    "input()\n",
    "input()"
   ]
  },
  {
   "cell_type": "code",
   "execution_count": 5,
   "id": "0163b4ec-9b28-4e3e-90d1-11075ed1996b",
   "metadata": {},
   "outputs": [
    {
     "name": "stdin",
     "output_type": "stream",
     "text": [
      "enter the number1 10\n",
      "enter the number2 20\n"
     ]
    },
    {
     "data": {
      "text/plain": [
       "'20'"
      ]
     },
     "execution_count": 5,
     "metadata": {},
     "output_type": "execute_result"
    }
   ],
   "source": [
    "input(\"enter the number1\")\n",
    "input(\"enter the number2\")"
   ]
  },
  {
   "cell_type": "code",
   "execution_count": 6,
   "id": "887cb3e3-affa-45a9-8050-5b2bd1217cbe",
   "metadata": {},
   "outputs": [
    {
     "data": {
      "text/plain": [
       "30"
      ]
     },
     "execution_count": 6,
     "metadata": {},
     "output_type": "execute_result"
    }
   ],
   "source": [
    "a=10\n",
    "b=20\n",
    "c=a+b\n",
    "c"
   ]
  },
  {
   "cell_type": "code",
   "execution_count": 9,
   "id": "4e2e97b9-cfbf-4f35-9405-dbe155045eb6",
   "metadata": {},
   "outputs": [
    {
     "name": "stdin",
     "output_type": "stream",
     "text": [
      "enter the num1: 35\n",
      "enter the num2: 70\n"
     ]
    },
    {
     "data": {
      "text/plain": [
       "105"
      ]
     },
     "execution_count": 9,
     "metadata": {},
     "output_type": "execute_result"
    }
   ],
   "source": [
    "a=int(input(\"enter the num1:\"))\n",
    "b=int(input(\"enter the num2:\"))\n",
    "c=a+b\n",
    "c"
   ]
  },
  {
   "cell_type": "code",
   "execution_count": 1,
   "id": "916f42f0-5bce-4580-b448-f7f3ae5660c3",
   "metadata": {},
   "outputs": [
    {
     "name": "stdin",
     "output_type": "stream",
     "text": [
      "enter the value 800\n"
     ]
    },
    {
     "data": {
      "text/plain": [
       "'800'"
      ]
     },
     "execution_count": 1,
     "metadata": {},
     "output_type": "execute_result"
    }
   ],
   "source": [
    "input(\"enter the value\")"
   ]
  },
  {
   "cell_type": "code",
   "execution_count": 2,
   "id": "65446728-f890-40b2-8ec1-a1ec566cd117",
   "metadata": {},
   "outputs": [
    {
     "name": "stdin",
     "output_type": "stream",
     "text": [
      "enter the num1: 45\n",
      "enter the num2: 50\n"
     ]
    },
    {
     "data": {
      "text/plain": [
       "95"
      ]
     },
     "execution_count": 2,
     "metadata": {},
     "output_type": "execute_result"
    }
   ],
   "source": [
    "a=int(input(\"enter the num1:\"))\n",
    "b=int(input(\"enter the num2:\"))\n",
    "c=a+b\n",
    "c"
   ]
  },
  {
   "cell_type": "code",
   "execution_count": 14,
   "id": "be526956-128b-4076-af95-52800ca97b5f",
   "metadata": {},
   "outputs": [
    {
     "name": "stdin",
     "output_type": "stream",
     "text": [
      "enter the num1: 1000\n",
      "enter the num2: 450\n"
     ]
    },
    {
     "data": {
      "text/plain": [
       "1450"
      ]
     },
     "execution_count": 14,
     "metadata": {},
     "output_type": "execute_result"
    }
   ],
   "source": [
    "a=eval(input(\"enter the num1:\"))\n",
    "b=eval(input(\"enter the num2:\"))\n",
    "c=a+b\n",
    "c"
   ]
  },
  {
   "cell_type": "code",
   "execution_count": 3,
   "id": "4d2bb10f-9c2b-4293-9b98-544feefee70b",
   "metadata": {},
   "outputs": [
    {
     "name": "stdin",
     "output_type": "stream",
     "text": [
      " 90\n",
      "enter the num1 87\n",
      "enter the num2 65\n"
     ]
    },
    {
     "name": "stdout",
     "output_type": "stream",
     "text": [
      "152\n"
     ]
    },
    {
     "name": "stdin",
     "output_type": "stream",
     "text": [
      "enter the num1 43\n",
      "enter the num2 21\n"
     ]
    },
    {
     "name": "stdout",
     "output_type": "stream",
     "text": [
      "64\n"
     ]
    }
   ],
   "source": [
    "input\n",
    "input()\n",
    "a=int(input(\"enter the num1\"))\n",
    "b=int(input(\"enter the num2\"))\n",
    "print(a+b)\n",
    "\n",
    "\n",
    "a=eval(input(\"enter the num1\"))\n",
    "b=eval(input(\"enter the num2\"))\n",
    "print(a+b)\n"
   ]
  },
  {
   "cell_type": "code",
   "execution_count": 16,
   "id": "46fb833b-6385-469f-9203-5fbf17f4ac23",
   "metadata": {},
   "outputs": [
    {
     "data": {
      "text/plain": [
       "10.5"
      ]
     },
     "execution_count": 16,
     "metadata": {},
     "output_type": "execute_result"
    }
   ],
   "source": [
    "int(\"10\")\n",
    "float(\"10.5\")"
   ]
  },
  {
   "cell_type": "code",
   "execution_count": 17,
   "id": "ced37325-94c6-465f-a5d6-9ad3d4d86530",
   "metadata": {},
   "outputs": [
    {
     "data": {
      "text/plain": [
       "10.5"
      ]
     },
     "execution_count": 17,
     "metadata": {},
     "output_type": "execute_result"
    }
   ],
   "source": [
    "eval(\"10\")\n",
    "eval(\"10.5\")"
   ]
  },
  {
   "cell_type": "code",
   "execution_count": null,
   "id": "3ec2272f-4823-46a1-9e3b-4e117bf2bfa8",
   "metadata": {},
   "outputs": [],
   "source": [
    "# wap ask the take two number print substraction multiplication and division\n",
    "a=eval(input))\n",
    "# # wap ask the user take the radius find the area of circle \n",
    "#  pi=3.14\n",
    "# r=100\n",
    "# area_of_circle=pi*r*r\n",
    "\n",
    "# wap ask the user  take height and breath  find the area of reangle \n",
    "# area_of_trangle=0.5*b*h\n",
    "\n",
    "# wap ask the user take the 3 number find the avarage \n",
    "# wap ask the user take the bill amount and tip amount calculate total bill\n",
    "#wap the user take the value in dollar convert int rupee\n",
    "# 1$=80rs\n",
    "# wap ask the use take weight in kgs convert into pounds\n",
    "#   1kg=2.2pounds"
   ]
  },
  {
   "cell_type": "code",
   "execution_count": 3,
   "id": "ef2f052d-c27c-45be-97a0-232c63b89787",
   "metadata": {},
   "outputs": [
    {
     "name": "stdin",
     "output_type": "stream",
     "text": [
      "enter the number1 50\n",
      "enter the number2 43\n"
     ]
    },
    {
     "data": {
      "text/plain": [
       "93"
      ]
     },
     "execution_count": 3,
     "metadata": {},
     "output_type": "execute_result"
    }
   ],
   "source": [
    "num1=eval(input(\"enter the number1\"))\n",
    "num2=eval(input(\"enter the number2\"))\n",
    "num1+num2\n"
   ]
  },
  {
   "cell_type": "code",
   "execution_count": 10,
   "id": "f0b28938-4783-4fc0-8fd0-d491d8cd2fee",
   "metadata": {},
   "outputs": [
    {
     "name": "stdin",
     "output_type": "stream",
     "text": [
      "enter the num1 50\n",
      "enter the num2 45\n"
     ]
    },
    {
     "name": "stdout",
     "output_type": "stream",
     "text": [
      "substraction of 5 \n",
      "multplicationof 2250 \n",
      "division of 1.1111111111111112 is\n"
     ]
    }
   ],
   "source": [
    "# wap ask the take two number print substraction multiplication and division\n",
    "\n",
    "\n",
    "num1=eval(input(\"enter the num1\"))\n",
    "num2=eval(input(\"enter the num2\"))\n",
    "\n",
    "print(f\"substraction of {num1 - num2} \")\n",
    "print(f\"multplicationof {num1 * num2} \")\n",
    "print(f\"division of {num1 / num2} \")\n"
   ]
  },
  {
   "cell_type": "code",
   "execution_count": 14,
   "id": "869ecd52-a85d-48fd-9c1b-e8b76665625f",
   "metadata": {},
   "outputs": [
    {
     "name": "stdin",
     "output_type": "stream",
     "text": [
      "enter the number 5\n"
     ]
    },
    {
     "name": "stdout",
     "output_type": "stream",
     "text": [
      "area of circle is: 78.5\n"
     ]
    }
   ],
   "source": [
    "# # wap ask the user take the radius find the area of circle \n",
    "#  pi=3.14\n",
    "# r=100\n",
    "# area_of_circle=pi*r*r\n",
    "\n",
    "pi=3.14\n",
    "r=eval(input(\"enter the number\"))\n",
    "area_of_circle=pi*r*r\n",
    "print(f\"area of circle is: {area_of_circle}\")"
   ]
  },
  {
   "cell_type": "code",
   "execution_count": 16,
   "id": "bf54b424-054f-4dfe-9111-f7df8bb0d6b8",
   "metadata": {},
   "outputs": [
    {
     "name": "stdin",
     "output_type": "stream",
     "text": [
      "enter the num1 10\n",
      "enter the num2 5\n"
     ]
    },
    {
     "name": "stdout",
     "output_type": "stream",
     "text": [
      "area of trnagle is : 25.0\n"
     ]
    }
   ],
   "source": [
    "# wap ask the user  take height and breath  find the area of reangle \n",
    "# area_of_trangle=0.5*b*h\n",
    "\n",
    "b=eval(input(\"enter the num1\"))\n",
    "h=eval(input(\"enter the num2\"))\n",
    "area_of_trangle=0.5*b*h\n",
    "print(f\"area of trnagle is : {area_of_trangle}\")"
   ]
  },
  {
   "cell_type": "code",
   "execution_count": 19,
   "id": "b18ea676-a11d-43fb-97ec-81a28fbc74e1",
   "metadata": {},
   "outputs": [
    {
     "name": "stdin",
     "output_type": "stream",
     "text": [
      "enter the num1 10\n",
      "enter the num2 20\n",
      "enter the num3 30\n"
     ]
    },
    {
     "name": "stdout",
     "output_type": "stream",
     "text": [
      "The avg of numbers is 20.0\n"
     ]
    }
   ],
   "source": [
    "# wap ask the user take the 3 number find the avarage\n",
    "\n",
    "num1=eval(input(\"enter the num1\"))\n",
    "num2=eval(input(\"enter the num2\"))\n",
    "num3=eval(input(\"enter the num3\"))\n",
    "avg=(num1+num2+num3)/3\n",
    "print(f\"The avg of numbers is {avg}\")"
   ]
  },
  {
   "cell_type": "code",
   "execution_count": null,
   "id": "449e7efe-9ef8-49d6-bbbf-68548eb9fe36",
   "metadata": {},
   "outputs": [],
   "source": [
    "# wap ask the user take the bill amount and tip amount calculate total bill"
   ]
  },
  {
   "cell_type": "code",
   "execution_count": 16,
   "id": "d13d0377-3d0a-4e3a-affe-e861dcb9f9e1",
   "metadata": {},
   "outputs": [
    {
     "data": {
      "text/plain": [
       "bool"
      ]
     },
     "execution_count": 16,
     "metadata": {},
     "output_type": "execute_result"
    }
   ],
   "source": [
    "e=eval('True')\n",
    "type(e)"
   ]
  },
  {
   "cell_type": "code",
   "execution_count": 17,
   "id": "19998eca-d940-4255-9f78-706431ed15b5",
   "metadata": {},
   "outputs": [
    {
     "name": "stdin",
     "output_type": "stream",
     "text": [
      " 10\n"
     ]
    }
   ],
   "source": [
    "t=input()"
   ]
  },
  {
   "cell_type": "code",
   "execution_count": 18,
   "id": "5394e811-41d5-4634-98b1-4152c3adfe4e",
   "metadata": {},
   "outputs": [
    {
     "data": {
      "text/plain": [
       "str"
      ]
     },
     "execution_count": 18,
     "metadata": {},
     "output_type": "execute_result"
    }
   ],
   "source": [
    "type(t)"
   ]
  },
  {
   "cell_type": "code",
   "execution_count": 19,
   "id": "eff62060-d992-4e5b-a3de-6e68266e23ea",
   "metadata": {},
   "outputs": [
    {
     "name": "stdin",
     "output_type": "stream",
     "text": [
      "Enter the number 45\n"
     ]
    }
   ],
   "source": [
    "a=eval(input(\"Enter the number\"))"
   ]
  },
  {
   "cell_type": "code",
   "execution_count": 20,
   "id": "7bf92ef6-4dc5-4471-97ec-ba66328309ab",
   "metadata": {},
   "outputs": [
    {
     "data": {
      "text/plain": [
       "45"
      ]
     },
     "execution_count": 20,
     "metadata": {},
     "output_type": "execute_result"
    }
   ],
   "source": [
    "a"
   ]
  },
  {
   "cell_type": "code",
   "execution_count": null,
   "id": "e4b9d333-1665-4348-bf26-15644432f0a5",
   "metadata": {},
   "outputs": [],
   "source": []
  }
 ],
 "metadata": {
  "kernelspec": {
   "display_name": "Python [conda env:base] *",
   "language": "python",
   "name": "conda-base-py"
  },
  "language_info": {
   "codemirror_mode": {
    "name": "ipython",
    "version": 3
   },
   "file_extension": ".py",
   "mimetype": "text/x-python",
   "name": "python",
   "nbconvert_exporter": "python",
   "pygments_lexer": "ipython3",
   "version": "3.13.5"
  }
 },
 "nbformat": 4,
 "nbformat_minor": 5
}
