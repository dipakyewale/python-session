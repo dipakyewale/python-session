{
 "cells": [
  {
   "cell_type": "code",
   "execution_count": 3,
   "id": "f1ab303e-81e5-4a0b-9df5-6603bf83c740",
   "metadata": {},
   "outputs": [
    {
     "ename": "NameError",
     "evalue": "name 'python' is not defined",
     "output_type": "error",
     "traceback": [
      "\u001b[1;31m---------------------------------------------------------------------------\u001b[0m",
      "\u001b[1;31mNameError\u001b[0m                                 Traceback (most recent call last)",
      "Cell \u001b[1;32mIn[3], line 5\u001b[0m\n\u001b[0;32m      3\u001b[0m a\u001b[38;5;241m=\u001b[39m\u001b[38;5;241m10\u001b[39m  \u001b[38;5;66;03m# correct\u001b[39;00m\n\u001b[0;32m      4\u001b[0m b\u001b[38;5;241m=\u001b[39m\u001b[38;5;241m20\u001b[39m  \u001b[38;5;66;03m# correct\u001b[39;00m\n\u001b[1;32m----> 5\u001b[0m c\u001b[38;5;241m=\u001b[39mpython \u001b[38;5;66;03m# python wrong\u001b[39;00m\n\u001b[0;32m      6\u001b[0m d\u001b[38;5;241m=\u001b[39ma\u001b[38;5;241m+\u001b[39mb\u001b[38;5;241m+\u001b[39mc    \u001b[38;5;66;03m# correc\u001b[39;00m\n\u001b[0;32m      7\u001b[0m \u001b[38;5;28mprint\u001b[39m(d)\n",
      "\u001b[1;31mNameError\u001b[0m: name 'python' is not defined"
     ]
    }
   ],
   "source": [
    "#step by step process\n",
    "\n",
    "a=10  # correct\n",
    "b=20  # correct\n",
    "c=python # python wrong\n",
    "d=a+b+c    # correc\n",
    "print(d) # correct"
   ]
  },
  {
   "cell_type": "code",
   "execution_count": 4,
   "id": "1889703f-498d-4f3e-9a29-91cc87b27e3a",
   "metadata": {},
   "outputs": [],
   "source": [
    "# whenver error come \n",
    "# my code should catch automatically\n",
    "# my continue the error if it sees error\n",
    "\n",
    "\n",
    "# syntax error\n",
    "# indentation error\n",
    "# not defined error\n",
    "# name error"
   ]
  },
  {
   "cell_type": "code",
   "execution_count": 5,
   "id": "2665144a-1fdb-418d-a0a0-d37c6c656c96",
   "metadata": {},
   "outputs": [
    {
     "ename": "_IncompleteInputError",
     "evalue": "incomplete input (1119427691.py, line 1)",
     "output_type": "error",
     "traceback": [
      "\u001b[1;36m  Cell \u001b[1;32mIn[5], line 1\u001b[1;36m\u001b[0m\n\u001b[1;33m    eval(print('')\u001b[0m\n\u001b[1;37m                  ^\u001b[0m\n\u001b[1;31m_IncompleteInputError\u001b[0m\u001b[1;31m:\u001b[0m incomplete input\n"
     ]
    }
   ],
   "source": [
    "eval(print('')"
   ]
  },
  {
   "cell_type": "code",
   "execution_count": 6,
   "id": "7be350f5-2885-4999-ae91-489f8101908e",
   "metadata": {},
   "outputs": [
    {
     "ename": "SyntaxError",
     "evalue": "unterminated string literal (detected at line 1) (255721797.py, line 1)",
     "output_type": "error",
     "traceback": [
      "\u001b[1;36m  Cell \u001b[1;32mIn[6], line 1\u001b[1;36m\u001b[0m\n\u001b[1;33m    \"python'\u001b[0m\n\u001b[1;37m    ^\u001b[0m\n\u001b[1;31mSyntaxError\u001b[0m\u001b[1;31m:\u001b[0m unterminated string literal (detected at line 1)\n"
     ]
    }
   ],
   "source": [
    "\"python'"
   ]
  },
  {
   "cell_type": "code",
   "execution_count": 29,
   "id": "61c62439-b4b0-4fc9-941d-c312192598b1",
   "metadata": {},
   "outputs": [
    {
     "ename": "NameError",
     "evalue": "name 'python' is not defined",
     "output_type": "error",
     "traceback": [
      "\u001b[1;31m---------------------------------------------------------------------------\u001b[0m",
      "\u001b[1;31mNameError\u001b[0m                                 Traceback (most recent call last)",
      "Cell \u001b[1;32mIn[29], line 1\u001b[0m\n\u001b[1;32m----> 1\u001b[0m python\n",
      "\u001b[1;31mNameError\u001b[0m: name 'python' is not defined"
     ]
    }
   ],
   "source": [
    "python"
   ]
  },
  {
   "cell_type": "code",
   "execution_count": 9,
   "id": "6b0015df-381b-4ea9-899b-0bc4a4295ef5",
   "metadata": {},
   "outputs": [
    {
     "data": {
      "text/plain": [
       "'ab'"
      ]
     },
     "execution_count": 9,
     "metadata": {},
     "output_type": "execute_result"
    }
   ],
   "source": [
    "'a'+'b'"
   ]
  },
  {
   "cell_type": "code",
   "execution_count": 11,
   "id": "f856adec-4cc6-4b9d-8e4c-70f6ec46253f",
   "metadata": {},
   "outputs": [
    {
     "ename": "TypeError",
     "evalue": "can only concatenate str (not \"int\") to str",
     "output_type": "error",
     "traceback": [
      "\u001b[1;31m---------------------------------------------------------------------------\u001b[0m",
      "\u001b[1;31mTypeError\u001b[0m                                 Traceback (most recent call last)",
      "Cell \u001b[1;32mIn[11], line 1\u001b[0m\n\u001b[1;32m----> 1\u001b[0m \u001b[38;5;124m'\u001b[39m\u001b[38;5;124ma\u001b[39m\u001b[38;5;124m'\u001b[39m\u001b[38;5;241m+\u001b[39m\u001b[38;5;241m100\u001b[39m\n",
      "\u001b[1;31mTypeError\u001b[0m: can only concatenate str (not \"int\") to str"
     ]
    }
   ],
   "source": [
    "'a'+100"
   ]
  },
  {
   "cell_type": "code",
   "execution_count": 13,
   "id": "f4ca9776-fb25-4aed-b517-833f0e5adf36",
   "metadata": {},
   "outputs": [
    {
     "ename": "NameError",
     "evalue": "name 'python' is not defined",
     "output_type": "error",
     "traceback": [
      "\u001b[1;31m---------------------------------------------------------------------------\u001b[0m",
      "\u001b[1;31mNameError\u001b[0m                                 Traceback (most recent call last)",
      "Cell \u001b[1;32mIn[13], line 1\u001b[0m\n\u001b[1;32m----> 1\u001b[0m python\n",
      "\u001b[1;31mNameError\u001b[0m: name 'python' is not defined"
     ]
    }
   ],
   "source": [
    "python"
   ]
  },
  {
   "cell_type": "code",
   "execution_count": 29,
   "id": "fcc6807f-4fa2-479f-ae91-cedf031f9b77",
   "metadata": {},
   "outputs": [
    {
     "data": {
      "text/plain": [
       "(6.666666666666667, 0.2)"
      ]
     },
     "execution_count": 29,
     "metadata": {},
     "output_type": "execute_result"
    }
   ],
   "source": [
    "20/3,4/20"
   ]
  },
  {
   "cell_type": "code",
   "execution_count": 19,
   "id": "add077ce-2ed0-45db-a716-6c53f41ef20f",
   "metadata": {},
   "outputs": [
    {
     "ename": "ZeroDivisionError",
     "evalue": "division by zero",
     "output_type": "error",
     "traceback": [
      "\u001b[1;31m---------------------------------------------------------------------------\u001b[0m",
      "\u001b[1;31mZeroDivisionError\u001b[0m                         Traceback (most recent call last)",
      "Cell \u001b[1;32mIn[19], line 1\u001b[0m\n\u001b[1;32m----> 1\u001b[0m \u001b[38;5;241m10\u001b[39m\u001b[38;5;241m/\u001b[39m\u001b[38;5;241m0\u001b[39m\n",
      "\u001b[1;31mZeroDivisionError\u001b[0m: division by zero"
     ]
    }
   ],
   "source": [
    "10/0"
   ]
  },
  {
   "cell_type": "code",
   "execution_count": 21,
   "id": "7aef537c-864e-4513-b613-ab1013375d77",
   "metadata": {},
   "outputs": [
    {
     "ename": "ModuleNotFoundError",
     "evalue": "No module named 'viratkohli'",
     "output_type": "error",
     "traceback": [
      "\u001b[1;31m---------------------------------------------------------------------------\u001b[0m",
      "\u001b[1;31mModuleNotFoundError\u001b[0m                       Traceback (most recent call last)",
      "Cell \u001b[1;32mIn[21], line 1\u001b[0m\n\u001b[1;32m----> 1\u001b[0m \u001b[38;5;28;01mimport\u001b[39;00m \u001b[38;5;21;01mviratkohli\u001b[39;00m\n",
      "\u001b[1;31mModuleNotFoundError\u001b[0m: No module named 'viratkohli'"
     ]
    }
   ],
   "source": [
    "import viratkohli"
   ]
  },
  {
   "cell_type": "code",
   "execution_count": 30,
   "id": "c6484453-bbfd-4068-be85-d624a7b70646",
   "metadata": {},
   "outputs": [
    {
     "ename": "AttributeError",
     "evalue": "module 'random' has no attribute 'virat'",
     "output_type": "error",
     "traceback": [
      "\u001b[1;31m---------------------------------------------------------------------------\u001b[0m",
      "\u001b[1;31mAttributeError\u001b[0m                            Traceback (most recent call last)",
      "Cell \u001b[1;32mIn[30], line 2\u001b[0m\n\u001b[0;32m      1\u001b[0m \u001b[38;5;28;01mimport\u001b[39;00m\u001b[38;5;250m \u001b[39m\u001b[38;5;21;01mrandom\u001b[39;00m\n\u001b[1;32m----> 2\u001b[0m random\u001b[38;5;241m.\u001b[39mvirat\n",
      "\u001b[1;31mAttributeError\u001b[0m: module 'random' has no attribute 'virat'"
     ]
    }
   ],
   "source": [
    "import random\n",
    "random.virat"
   ]
  },
  {
   "cell_type": "code",
   "execution_count": 25,
   "id": "9b49dbdd-b297-45cb-b4f0-2448d4db936b",
   "metadata": {},
   "outputs": [
    {
     "ename": "IndentationError",
     "evalue": "expected an indented block after 'if' statement on line 1 (1785633973.py, line 2)",
     "output_type": "error",
     "traceback": [
      "\u001b[1;36m  Cell \u001b[1;32mIn[25], line 2\u001b[1;36m\u001b[0m\n\u001b[1;33m    print('hello')\u001b[0m\n\u001b[1;37m    ^\u001b[0m\n\u001b[1;31mIndentationError\u001b[0m\u001b[1;31m:\u001b[0m expected an indented block after 'if' statement on line 1\n"
     ]
    }
   ],
   "source": [
    "if True:\n",
    "print('hello')"
   ]
  },
  {
   "cell_type": "code",
   "execution_count": 27,
   "id": "725e0659-eac5-4d82-95de-80f0706edbf8",
   "metadata": {},
   "outputs": [
    {
     "ename": "TypeError",
     "evalue": "unsupported operand type(s) for /: 'str' and 'int'",
     "output_type": "error",
     "traceback": [
      "\u001b[1;31m---------------------------------------------------------------------------\u001b[0m",
      "\u001b[1;31mTypeError\u001b[0m                                 Traceback (most recent call last)",
      "Cell \u001b[1;32mIn[27], line 1\u001b[0m\n\u001b[1;32m----> 1\u001b[0m \u001b[38;5;124m'\u001b[39m\u001b[38;5;124ma\u001b[39m\u001b[38;5;124m'\u001b[39m\u001b[38;5;241m/\u001b[39m\u001b[38;5;241m10\u001b[39m\n",
      "\u001b[1;31mTypeError\u001b[0m: unsupported operand type(s) for /: 'str' and 'int'"
     ]
    }
   ],
   "source": [
    "'a'/10"
   ]
  },
  {
   "cell_type": "code",
   "execution_count": 29,
   "id": "abec847a-0407-4b31-91dc-42d2ccf5ff89",
   "metadata": {},
   "outputs": [
    {
     "ename": "ValueError",
     "evalue": "invalid literal for int() with base 10: '10.5'",
     "output_type": "error",
     "traceback": [
      "\u001b[1;31m---------------------------------------------------------------------------\u001b[0m",
      "\u001b[1;31mValueError\u001b[0m                                Traceback (most recent call last)",
      "Cell \u001b[1;32mIn[29], line 1\u001b[0m\n\u001b[1;32m----> 1\u001b[0m \u001b[38;5;28mint\u001b[39m(\u001b[38;5;124m'\u001b[39m\u001b[38;5;124m10.5\u001b[39m\u001b[38;5;124m'\u001b[39m)\n",
      "\u001b[1;31mValueError\u001b[0m: invalid literal for int() with base 10: '10.5'"
     ]
    }
   ],
   "source": [
    "int('10.5')"
   ]
  },
  {
   "cell_type": "markdown",
   "id": "2e0021ef-6062-49dc-b4ed-1ed59e88b606",
   "metadata": {},
   "source": [
    "- syntax error\n",
    "\n",
    "- indentation error\n",
    "\n",
    "- type error\n",
    "\n",
    "- name error\n",
    "\n",
    "- zero division error\n",
    "\n",
    "- module not found error\n",
    "\n",
    "- attribute error\n",
    "\n",
    "- value error"
   ]
  },
  {
   "cell_type": "markdown",
   "id": "57746008-bd87-4c1e-b91d-66c11afeb17b",
   "metadata": {},
   "source": [
    "- now onwards we will write our code using try-except\n",
    "\n",
    "- there are two blocks \n",
    "\n",
    "    - try block\n",
    "\n",
    "    - except block\n",
    "\n",
    "- write your code in try block\n",
    "\n",
    "- if any error occures in try block(original code) that code will catch in except block"
   ]
  },
  {
   "cell_type": "code",
   "execution_count": 31,
   "id": "91bef7c2-56e4-4dd1-a357-b8dc231cd39c",
   "metadata": {},
   "outputs": [
    {
     "name": "stdin",
     "output_type": "stream",
     "text": [
      "एक पूर्णांक टाका:  66\n"
     ]
    },
    {
     "name": "stdout",
     "output_type": "stream",
     "text": [
      "तुमचं उत्तर: 132\n"
     ]
    }
   ],
   "source": [
    "try:\n",
    "    num = int(input(\"एक पूर्णांक टाका: \"))\n",
    "    print(\"तुमचं उत्तर:\", num * 2)\n",
    "except ValueError:\n",
    "    print(\"कृपया फक्त पूर्णांक टाका.\")\n"
   ]
  },
  {
   "cell_type": "code",
   "execution_count": 8,
   "id": "8c6b84db-4a62-4a13-9634-fa010cc9ecdd",
   "metadata": {},
   "outputs": [
    {
     "name": "stdin",
     "output_type": "stream",
     "text": [
      "enter the num 44\n"
     ]
    },
    {
     "name": "stdout",
     "output_type": "stream",
     "text": [
      "user_num 88\n"
     ]
    }
   ],
   "source": [
    "try:\n",
    "    user_num=eval(input(\"enter the num\"))\n",
    "    print(\"user_num\",user_num*2)\n",
    "except:\n",
    "    print(\" enter the number\")"
   ]
  },
  {
   "cell_type": "code",
   "execution_count": 3,
   "id": "f523c762-7219-4edd-a8af-d85919127346",
   "metadata": {},
   "outputs": [
    {
     "name": "stdin",
     "output_type": "stream",
     "text": [
      "enter the num: 30\n"
     ]
    },
    {
     "name": "stdout",
     "output_type": "stream",
     "text": [
      "num 90\n"
     ]
    }
   ],
   "source": [
    "try:\n",
    "    num=eval(input(\"enter the num:\"))\n",
    "    print(\"num\",num*3)\n",
    "    \n",
    "except:\n",
    "    print(\"num enter\")"
   ]
  },
  {
   "cell_type": "code",
   "execution_count": 3,
   "id": "5f788542-adba-4d12-978e-1ba24532d3bc",
   "metadata": {},
   "outputs": [
    {
     "name": "stdin",
     "output_type": "stream",
     "text": [
      "enter the num: 20\n"
     ]
    },
    {
     "name": "stdout",
     "output_type": "stream",
     "text": [
      "num 10.0\n"
     ]
    }
   ],
   "source": [
    "try:\n",
    "    num=eval(input(\"enter the num:\"))\n",
    "    print(\"num\",num/2)\n",
    "except:\n",
    "    print(\"enter num\")"
   ]
  },
  {
   "cell_type": "code",
   "execution_count": 4,
   "id": "c1f18574-32fa-4e45-a4d8-9fe3b793c0af",
   "metadata": {},
   "outputs": [
    {
     "name": "stdin",
     "output_type": "stream",
     "text": [
      " enter te num 50\n"
     ]
    },
    {
     "name": "stdout",
     "output_type": "stream",
     "text": [
      "num 300\n"
     ]
    }
   ],
   "source": [
    "try:\n",
    "    num=eval(input(\" enter te num\"))\n",
    "    print(\"num\",num*6)\n",
    "except:\n",
    "    print(\"number1\")\n",
    "    "
   ]
  },
  {
   "cell_type": "code",
   "execution_count": 6,
   "id": "9bb77bbf-8b92-4d82-8806-85f7f2549f73",
   "metadata": {},
   "outputs": [
    {
     "name": "stdout",
     "output_type": "stream",
     "text": [
      "The addition of 35,30 and 20 is : 85\n"
     ]
    }
   ],
   "source": [
    "try:\n",
    "    a=35\n",
    "    b=30\n",
    "    c=20\n",
    "    d=a+b+c\n",
    "    print(f\"The addition of {a},{b} and {c} is : {d}\")\n",
    "except:\n",
    "    print(\"fail of adding\")"
   ]
  },
  {
   "cell_type": "code",
   "execution_count": 14,
   "id": "6fcd1aff-6ba6-4671-91c4-c32014bc2a11",
   "metadata": {},
   "outputs": [
    {
     "name": "stdin",
     "output_type": "stream",
     "text": [
      "enter the number1 22\n",
      "enter the number2 20\n"
     ]
    },
    {
     "name": "stdout",
     "output_type": "stream",
     "text": [
      "output: 1.1\n"
     ]
    }
   ],
   "source": [
    "#Write a program to take two numbers \n",
    "#from the user and divide them. Use try-except to handle division by zero\n",
    "\n",
    "try:\n",
    "    num1=int(input(\"enter the number1\"))\n",
    "    num2=int(input(\"enter the number2\"))\n",
    "    output = num1 / num2\n",
    "    print(\"output:\", output)\n",
    "except ZeroDivisionError:\n",
    "    print(\" Error : cannot divide by zero\")\n",
    "    "
   ]
  },
  {
   "cell_type": "code",
   "execution_count": null,
   "id": "662636ea-a756-49eb-8a73-56c4fbe37fee",
   "metadata": {},
   "outputs": [],
   "source": [
    "#Write a program to take a number as input and convert it to an\n",
    "#integer. If the user enters something else, handle the ValueError.\n",
    "\n",
    "\n",
    "try:\n",
    "    num=int(input('enter the num'))\n",
    "\n",
    "    \n",
    "    "
   ]
  },
  {
   "cell_type": "code",
   "execution_count": null,
   "id": "b0111f02-8721-4b01-b0aa-ce22afe7d389",
   "metadata": {},
   "outputs": [],
   "source": []
  },
  {
   "cell_type": "code",
   "execution_count": 40,
   "id": "4bbd125a-eb2e-4eea-9363-748554ba46f8",
   "metadata": {},
   "outputs": [
    {
     "name": "stdout",
     "output_type": "stream",
     "text": [
      "the addition of 10 and 20 is:30\n"
     ]
    }
   ],
   "source": [
    "a=10\n",
    "b=20\n",
    "c=a+b\n",
    "print(f'the addition of {a} and {b} is:{c}')"
   ]
  },
  {
   "cell_type": "code",
   "execution_count": 5,
   "id": "a93f18aa-b00d-46d1-a383-7e0ec8fba84c",
   "metadata": {},
   "outputs": [
    {
     "name": "stdout",
     "output_type": "stream",
     "text": [
      "the addition of 10 and 20 is :30\n"
     ]
    }
   ],
   "source": [
    "try:\n",
    "    a=10\n",
    "    b=20\n",
    "    c=a+b\n",
    "    print(f'the addition of {a} and {b} is :{c}')\n",
    "except Exception as e:\n",
    "    print(e)"
   ]
  },
  {
   "cell_type": "code",
   "execution_count": 8,
   "id": "8bb51b8a-2736-42f0-b1db-88555f5517b2",
   "metadata": {},
   "outputs": [
    {
     "name": "stdout",
     "output_type": "stream",
     "text": [
      " the avg of 22,33 and 48 is : 34.333333333333336\n"
     ]
    }
   ],
   "source": [
    "import random\n",
    "try:\n",
    "    a = random.randint(20,30)\n",
    "    b = random.randint(30,40)\n",
    "    c= random.randint(40,50)\n",
    "    avg=(a+b+c)/3\n",
    "    print(f\" the avg of {a},{b} and {c} is : {avg}\")\n",
    "except:\n",
    "    print(\" avg fail \")"
   ]
  },
  {
   "cell_type": "code",
   "execution_count": 1,
   "id": "82b26a19-933d-45b6-80dd-291034ec583f",
   "metadata": {},
   "outputs": [
    {
     "name": "stdout",
     "output_type": "stream",
     "text": [
      "the mul of 40 and 45 is: 1800\n"
     ]
    }
   ],
   "source": [
    "try:\n",
    "    a=40\n",
    "    b=45\n",
    "    c=a*b\n",
    "    print(f\"the mul of {a} and {b} is: {c}\")\n",
    "except Exception as e:\n",
    "    print(e)"
   ]
  },
  {
   "cell_type": "code",
   "execution_count": 28,
   "id": "cf8238d3-5d14-4f31-99a5-6d91ab1876e6",
   "metadata": {},
   "outputs": [
    {
     "name": "stdout",
     "output_type": "stream",
     "text": [
      "the add of 321 and 300 is: 621\n"
     ]
    }
   ],
   "source": [
    "try:\n",
    "    a=321\n",
    "    b=300\n",
    "    c=a+b\n",
    "    print(f\"the add of {a} and {b} is: {c}\")\n",
    "except Exception as e:\n",
    "    print(e)"
   ]
  },
  {
   "cell_type": "code",
   "execution_count": 50,
   "id": "8860f44c-0cdd-4807-9f3a-b873870c9958",
   "metadata": {},
   "outputs": [
    {
     "name": "stdout",
     "output_type": "stream",
     "text": [
      "10\n",
      "20\n",
      "division by zero\n",
      "ha ha ha error milgaya\n"
     ]
    }
   ],
   "source": [
    "try:\n",
    "    a=10  # correct\n",
    "    print(a) # correct\n",
    "    b=20     # correct\n",
    "    print(b) # correct\n",
    "    c=a/0    # wrong\n",
    "    print(f'the addition of {a} and {b} is:{c}')\n",
    "except Exception as e:\n",
    "    print(e)\n",
    "    print('ha ha ha error milgaya')"
   ]
  },
  {
   "cell_type": "code",
   "execution_count": 46,
   "id": "4b158e47-1d10-4295-9130-099dbe597f4c",
   "metadata": {},
   "outputs": [
    {
     "ename": "ZeroDivisionError",
     "evalue": "division by zero",
     "output_type": "error",
     "traceback": [
      "\u001b[1;31m---------------------------------------------------------------------------\u001b[0m",
      "\u001b[1;31mZeroDivisionError\u001b[0m                         Traceback (most recent call last)",
      "Cell \u001b[1;32mIn[46], line 1\u001b[0m\n\u001b[1;32m----> 1\u001b[0m a\u001b[38;5;241m/\u001b[39m\u001b[38;5;241m0\u001b[39m\n",
      "\u001b[1;31mZeroDivisionError\u001b[0m: division by zero"
     ]
    }
   ],
   "source": [
    "a/0"
   ]
  },
  {
   "cell_type": "code",
   "execution_count": 54,
   "id": "bb393cd9-271d-40b7-b8fa-0fab404f6a18",
   "metadata": {},
   "outputs": [
    {
     "name": "stdout",
     "output_type": "stream",
     "text": [
      "can only concatenate str (not \"int\") to str\n"
     ]
    }
   ],
   "source": [
    "try:\n",
    "    'a'+100\n",
    "except Exception as e:\n",
    "    print(e)"
   ]
  },
  {
   "cell_type": "code",
   "execution_count": 52,
   "id": "e085c715-da95-4b6c-81b2-85cffa8491b2",
   "metadata": {},
   "outputs": [],
   "source": [
    "try:\n",
    "    import random\n",
    "    random.random()\n",
    "except Exception as e:\n",
    "    print(e)"
   ]
  },
  {
   "cell_type": "code",
   "execution_count": 4,
   "id": "adf050ff-d997-4207-b172-d02ea57b5d33",
   "metadata": {},
   "outputs": [],
   "source": [
    "\n",
    "try:\n",
    "    import random\n",
    "    random.random()\n",
    "except Exception as virat:\n",
    "    print(virat)"
   ]
  },
  {
   "cell_type": "code",
   "execution_count": 27,
   "id": "c7166787-e2f1-4e17-b94c-830bcaa5f7d4",
   "metadata": {},
   "outputs": [
    {
     "name": "stdout",
     "output_type": "stream",
     "text": [
      "Random.random() takes no arguments (2 given)\n"
     ]
    }
   ],
   "source": [
    "try:\n",
    "    import random\n",
    "    random.random(0,1)\n",
    "except Exception as virat:\n",
    "    print(virat)"
   ]
  },
  {
   "cell_type": "code",
   "execution_count": 7,
   "id": "b4f8efb4-df3e-4b5f-8a12-ce9124c21598",
   "metadata": {},
   "outputs": [
    {
     "name": "stdout",
     "output_type": "stream",
     "text": [
      "False\n",
      "dipak and rahul is best friends\n"
     ]
    }
   ],
   "source": [
    "try:\n",
    "    if 100>0:\n",
    "        print(False)\n",
    "except Exception as correct:\n",
    "    print(correct)\n",
    "finally:\n",
    "    print(\"dipak and rahul is best friends\")"
   ]
  },
  {
   "cell_type": "code",
   "execution_count": 20,
   "id": "e4c0517a-4522-4866-96b2-3b50c8a1ae26",
   "metadata": {},
   "outputs": [
    {
     "name": "stdin",
     "output_type": "stream",
     "text": [
      "ebter the number 4\n"
     ]
    },
    {
     "data": {
      "text/plain": [
       "'The 4 is even'"
      ]
     },
     "execution_count": 20,
     "metadata": {},
     "output_type": "execute_result"
    }
   ],
   "source": [
    "\n",
    "def evenodd():\n",
    "    try:\n",
    "        num=eval(input(\"ebter the number\"))\n",
    "        if num%2==0:\n",
    "            return(f\"The {num} is even\")\n",
    "        else:\n",
    "            return(f\" the {num} is odd\")\n",
    "    except Exception as e:\n",
    "        print(e)\n",
    "\n",
    "\n",
    "evenodd()"
   ]
  },
  {
   "cell_type": "code",
   "execution_count": 22,
   "id": "435b767e-04e4-48d3-8680-b183337ff588",
   "metadata": {},
   "outputs": [
    {
     "ename": "NameError",
     "evalue": "name 'evel' is not defined",
     "output_type": "error",
     "traceback": [
      "\u001b[1;31m---------------------------------------------------------------------------\u001b[0m",
      "\u001b[1;31mNameError\u001b[0m                                 Traceback (most recent call last)",
      "Cell \u001b[1;32mIn[22], line 13\u001b[0m\n\u001b[0;32m      9\u001b[0m \u001b[38;5;28;01mexcept\u001b[39;00m \u001b[38;5;167;01mException\u001b[39;00m \u001b[38;5;28;01mas\u001b[39;00m e:\n\u001b[0;32m     10\u001b[0m         \u001b[38;5;28mprint\u001b[39m(e)\n\u001b[1;32m---> 13\u001b[0m evenodd()\n",
      "Cell \u001b[1;32mIn[22], line 4\u001b[0m, in \u001b[0;36mevenodd\u001b[1;34m()\u001b[0m\n\u001b[0;32m      2\u001b[0m \u001b[38;5;28;01mdef\u001b[39;00m\u001b[38;5;250m \u001b[39m\u001b[38;5;21mevenodd\u001b[39m():\n\u001b[1;32m----> 4\u001b[0m     num\u001b[38;5;241m=\u001b[39mevel(\u001b[38;5;28minput\u001b[39m(\u001b[38;5;124m\"\u001b[39m\u001b[38;5;124mebter the number\u001b[39m\u001b[38;5;124m\"\u001b[39m))\n\u001b[0;32m      5\u001b[0m     \u001b[38;5;28;01mif\u001b[39;00m num\u001b[38;5;241m%\u001b[39m\u001b[38;5;241m2\u001b[39m\u001b[38;5;241m==\u001b[39m\u001b[38;5;241m0\u001b[39m:\n\u001b[0;32m      6\u001b[0m         \u001b[38;5;28;01mreturn\u001b[39;00m(\u001b[38;5;124mf\u001b[39m\u001b[38;5;124m\"\u001b[39m\u001b[38;5;124mThe \u001b[39m\u001b[38;5;132;01m{\u001b[39;00mnum\u001b[38;5;132;01m}\u001b[39;00m\u001b[38;5;124m is even\u001b[39m\u001b[38;5;124m\"\u001b[39m)\n",
      "\u001b[1;31mNameError\u001b[0m: name 'evel' is not defined"
     ]
    }
   ],
   "source": [
    "try:\n",
    "    def evenodd():\n",
    "   \n",
    "        num=evel(input(\"ebter the number\"))\n",
    "        if num%2==0:\n",
    "            return(f\"The {num} is even\")\n",
    "        else:\n",
    "            return(f\" the {num} is odd\")\n",
    "except Exception as e:\n",
    "        print(e)\n",
    "\n",
    "\n",
    "evenodd()"
   ]
  },
  {
   "cell_type": "markdown",
   "id": "41992ab7-613b-4d97-bf6f-9fca72763eb6",
   "metadata": {},
   "source": [
    "\n",
    "- syntax error\n",
    "\n",
    "- indentation error will not catch "
   ]
  },
  {
   "cell_type": "code",
   "execution_count": 8,
   "id": "f79a3753-d6e5-4126-a94a-976161af4056",
   "metadata": {},
   "outputs": [
    {
     "name": "stdout",
     "output_type": "stream",
     "text": [
      "success\n",
      "logout\n"
     ]
    }
   ],
   "source": [
    "try:\n",
    "    print('success')\n",
    "except Exception as e:\n",
    "    print(e)\n",
    "finally:\n",
    "    print('logout')"
   ]
  },
  {
   "cell_type": "code",
   "execution_count": 9,
   "id": "8a5cd245-95a8-4042-b98d-a53450e97c91",
   "metadata": {},
   "outputs": [
    {
     "name": "stdout",
     "output_type": "stream",
     "text": [
      "division by zero\n",
      "logout\n"
     ]
    }
   ],
   "source": [
    "try:\n",
    "    10/0\n",
    "except Exception as e:\n",
    "    print(e)\n",
    "finally:\n",
    "    print('logout')"
   ]
  },
  {
   "cell_type": "code",
   "execution_count": 10,
   "id": "fefe4769-eed0-4d3f-8e26-de426d63f4df",
   "metadata": {},
   "outputs": [
    {
     "name": "stdout",
     "output_type": "stream",
     "text": [
      "the total bill is:11000.0\n"
     ]
    }
   ],
   "source": [
    "try:\n",
    "    # wap ask the user take the salary, percetage of tax calculate tax amount\n",
    "    bill_amount=10000\n",
    "    tip_percentage=10\n",
    "    tip_amount=bill_amount*tip_percentage/100\n",
    "    total_amount=bill_amount+tip_amount\n",
    "    print(f\"the total bill is:{total_amount}\")\n",
    "except Exception as e:\n",
    "    print(e)"
   ]
  },
  {
   "cell_type": "code",
   "execution_count": 18,
   "id": "59673518-c566-4e5f-9e86-97bd101e19a2",
   "metadata": {},
   "outputs": [
    {
     "name": "stdout",
     "output_type": "stream",
     "text": [
      "the total bill is:100010\n"
     ]
    }
   ],
   "source": [
    "try:\n",
    "# wap ask the user take the salary, percetage of tax calculate tax amount\n",
    "    salary_amount=100000\n",
    "    tax_percentage=10\n",
    "    tax_amount=salary_amount*tax_percentage/100\n",
    "    total_amount=salary_amount+tax_percentage\n",
    "    print(f\"the total bill is:{total_amount}\")\n",
    "except Exception as e:\n",
    "    print(e)                                         # worng"
   ]
  },
  {
   "cell_type": "code",
   "execution_count": 73,
   "id": "acc5be2b-2851-4639-9e6b-768585c39839",
   "metadata": {},
   "outputs": [
    {
     "name": "stdout",
     "output_type": "stream",
     "text": [
      "Log Out\n"
     ]
    }
   ],
   "source": [
    "\n",
    "########## VIKAS IM getting #############\n",
    "try:\n",
    "    10/2\n",
    "except Exception as e:\n",
    "    print(e)\n",
    "finally:\n",
    "    print(\"Log Out\")\n"
   ]
  },
  {
   "cell_type": "code",
   "execution_count": 19,
   "id": "498d85e0-64a4-417b-8f64-9084c2502276",
   "metadata": {},
   "outputs": [
    {
     "name": "stdout",
     "output_type": "stream",
     "text": [
      "log in\n"
     ]
    }
   ],
   "source": [
    "try:\n",
    "    10/2\n",
    "except Exception  as e:\n",
    "    print(e)\n",
    "finally:\n",
    "    print(\"log in\")"
   ]
  },
  {
   "cell_type": "code",
   "execution_count": 39,
   "id": "73a4e257-7656-4789-9e2e-e7b305254648",
   "metadata": {},
   "outputs": [],
   "source": [
    "l=[list(range(1,10))]"
   ]
  },
  {
   "cell_type": "code",
   "execution_count": 40,
   "id": "1b95e7d2-6762-4138-aab0-5b8648fc3e44",
   "metadata": {},
   "outputs": [
    {
     "data": {
      "text/plain": [
       "[[1, 2, 3, 4, 5, 6, 7, 8, 9]]"
      ]
     },
     "execution_count": 40,
     "metadata": {},
     "output_type": "execute_result"
    }
   ],
   "source": [
    "l"
   ]
  },
  {
   "cell_type": "code",
   "execution_count": 41,
   "id": "dae57d10-90df-4d05-9067-187755b430c9",
   "metadata": {},
   "outputs": [],
   "source": [
    "import keyword"
   ]
  },
  {
   "cell_type": "code",
   "execution_count": 42,
   "id": "aab4ef21-6362-4bee-8c3b-98d6676209f0",
   "metadata": {},
   "outputs": [
    {
     "data": {
      "text/plain": [
       "['False',\n",
       " 'None',\n",
       " 'True',\n",
       " 'and',\n",
       " 'as',\n",
       " 'assert',\n",
       " 'async',\n",
       " 'await',\n",
       " 'break',\n",
       " 'class',\n",
       " 'continue',\n",
       " 'def',\n",
       " 'del',\n",
       " 'elif',\n",
       " 'else',\n",
       " 'except',\n",
       " 'finally',\n",
       " 'for',\n",
       " 'from',\n",
       " 'global',\n",
       " 'if',\n",
       " 'import',\n",
       " 'in',\n",
       " 'is',\n",
       " 'lambda',\n",
       " 'nonlocal',\n",
       " 'not',\n",
       " 'or',\n",
       " 'pass',\n",
       " 'raise',\n",
       " 'return',\n",
       " 'try',\n",
       " 'while',\n",
       " 'with',\n",
       " 'yield']"
      ]
     },
     "execution_count": 42,
     "metadata": {},
     "output_type": "execute_result"
    }
   ],
   "source": [
    "keyword.kwlist"
   ]
  },
  {
   "cell_type": "code",
   "execution_count": 43,
   "id": "88681713-1c75-4a0f-b257-278b2c0f11bc",
   "metadata": {},
   "outputs": [
    {
     "ename": "TypeError",
     "evalue": "can only concatenate str (not \"int\") to str",
     "output_type": "error",
     "traceback": [
      "\u001b[1;31m---------------------------------------------------------------------------\u001b[0m",
      "\u001b[1;31mTypeError\u001b[0m                                 Traceback (most recent call last)",
      "Cell \u001b[1;32mIn[43], line 1\u001b[0m\n\u001b[1;32m----> 1\u001b[0m \u001b[38;5;28mprint\u001b[39m(\u001b[38;5;124m\"\u001b[39m\u001b[38;5;124m10\u001b[39m\u001b[38;5;124m\"\u001b[39m\u001b[38;5;241m+\u001b[39m\u001b[38;5;241m5\u001b[39m)\n",
      "\u001b[1;31mTypeError\u001b[0m: can only concatenate str (not \"int\") to str"
     ]
    }
   ],
   "source": [
    "print(\"10\"+5)"
   ]
  },
  {
   "cell_type": "code",
   "execution_count": 44,
   "id": "ef6d33fb-e416-4cbd-977b-732591cd9093",
   "metadata": {},
   "outputs": [
    {
     "ename": "TypeError",
     "evalue": "unsupported operand type(s) for -: 'str' and 'int'",
     "output_type": "error",
     "traceback": [
      "\u001b[1;31m---------------------------------------------------------------------------\u001b[0m",
      "\u001b[1;31mTypeError\u001b[0m                                 Traceback (most recent call last)",
      "Cell \u001b[1;32mIn[44], line 1\u001b[0m\n\u001b[1;32m----> 1\u001b[0m \u001b[38;5;28mprint\u001b[39m(\u001b[38;5;124m\"\u001b[39m\u001b[38;5;124m10\u001b[39m\u001b[38;5;124m\"\u001b[39m\u001b[38;5;241m-\u001b[39m\u001b[38;5;241m5\u001b[39m)\n",
      "\u001b[1;31mTypeError\u001b[0m: unsupported operand type(s) for -: 'str' and 'int'"
     ]
    }
   ],
   "source": [
    "print(\"10\"-5)"
   ]
  },
  {
   "cell_type": "code",
   "execution_count": 50,
   "id": "e5be6574-fb02-4030-9b8c-813e20c8c886",
   "metadata": {},
   "outputs": [
    {
     "data": {
      "text/plain": [
       "<function print(*args, sep=' ', end='\\n', file=None, flush=False)>"
      ]
     },
     "execution_count": 50,
     "metadata": {},
     "output_type": "execute_result"
    }
   ],
   "source": [
    "print"
   ]
  },
  {
   "cell_type": "code",
   "execution_count": 54,
   "id": "2f89a0f5-d482-4b59-b23b-2f16070956f7",
   "metadata": {},
   "outputs": [],
   "source": [
    "str1='dipak'+\"55\""
   ]
  },
  {
   "cell_type": "code",
   "execution_count": 55,
   "id": "9677467c-8d66-4024-9f0b-e27f7ef89c2c",
   "metadata": {},
   "outputs": [
    {
     "data": {
      "text/plain": [
       "'dipak55'"
      ]
     },
     "execution_count": 55,
     "metadata": {},
     "output_type": "execute_result"
    }
   ],
   "source": [
    "str1"
   ]
  },
  {
   "cell_type": "code",
   "execution_count": 56,
   "id": "cedf78c6-32dc-48c8-8b0a-1726446a022d",
   "metadata": {},
   "outputs": [
    {
     "ename": "ValueError",
     "evalue": "invalid literal for int() with base 10: 'abc'",
     "output_type": "error",
     "traceback": [
      "\u001b[1;31m---------------------------------------------------------------------------\u001b[0m",
      "\u001b[1;31mValueError\u001b[0m                                Traceback (most recent call last)",
      "Cell \u001b[1;32mIn[56], line 1\u001b[0m\n\u001b[1;32m----> 1\u001b[0m a\u001b[38;5;241m=\u001b[39m\u001b[38;5;28mint\u001b[39m(\u001b[38;5;124m'\u001b[39m\u001b[38;5;124mabc\u001b[39m\u001b[38;5;124m'\u001b[39m)\n",
      "\u001b[1;31mValueError\u001b[0m: invalid literal for int() with base 10: 'abc'"
     ]
    }
   ],
   "source": [
    "a=int('abc')"
   ]
  },
  {
   "cell_type": "code",
   "execution_count": 59,
   "id": "e8ae2678-f062-48a1-b054-94e7e5289138",
   "metadata": {},
   "outputs": [
    {
     "ename": "FileNotFoundError",
     "evalue": "[Errno 2] No such file or directory: 'none.text'",
     "output_type": "error",
     "traceback": [
      "\u001b[1;31m---------------------------------------------------------------------------\u001b[0m",
      "\u001b[1;31mFileNotFoundError\u001b[0m                         Traceback (most recent call last)",
      "Cell \u001b[1;32mIn[59], line 1\u001b[0m\n\u001b[1;32m----> 1\u001b[0m f\u001b[38;5;241m=\u001b[39m\u001b[38;5;28mopen\u001b[39m(\u001b[38;5;124m\"\u001b[39m\u001b[38;5;124mnone.text\u001b[39m\u001b[38;5;124m\"\u001b[39m,\u001b[38;5;124m'\u001b[39m\u001b[38;5;124mr\u001b[39m\u001b[38;5;124m'\u001b[39m)\n",
      "File \u001b[1;32m~\\anaconda3\\Lib\\site-packages\\IPython\\core\\interactiveshell.py:324\u001b[0m, in \u001b[0;36m_modified_open\u001b[1;34m(file, *args, **kwargs)\u001b[0m\n\u001b[0;32m    317\u001b[0m \u001b[38;5;28;01mif\u001b[39;00m file \u001b[38;5;129;01min\u001b[39;00m {\u001b[38;5;241m0\u001b[39m, \u001b[38;5;241m1\u001b[39m, \u001b[38;5;241m2\u001b[39m}:\n\u001b[0;32m    318\u001b[0m     \u001b[38;5;28;01mraise\u001b[39;00m \u001b[38;5;167;01mValueError\u001b[39;00m(\n\u001b[0;32m    319\u001b[0m         \u001b[38;5;124mf\u001b[39m\u001b[38;5;124m\"\u001b[39m\u001b[38;5;124mIPython won\u001b[39m\u001b[38;5;124m'\u001b[39m\u001b[38;5;124mt let you open fd=\u001b[39m\u001b[38;5;132;01m{\u001b[39;00mfile\u001b[38;5;132;01m}\u001b[39;00m\u001b[38;5;124m by default \u001b[39m\u001b[38;5;124m\"\u001b[39m\n\u001b[0;32m    320\u001b[0m         \u001b[38;5;124m\"\u001b[39m\u001b[38;5;124mas it is likely to crash IPython. If you know what you are doing, \u001b[39m\u001b[38;5;124m\"\u001b[39m\n\u001b[0;32m    321\u001b[0m         \u001b[38;5;124m\"\u001b[39m\u001b[38;5;124myou can use builtins\u001b[39m\u001b[38;5;124m'\u001b[39m\u001b[38;5;124m open.\u001b[39m\u001b[38;5;124m\"\u001b[39m\n\u001b[0;32m    322\u001b[0m     )\n\u001b[1;32m--> 324\u001b[0m \u001b[38;5;28;01mreturn\u001b[39;00m io_open(file, \u001b[38;5;241m*\u001b[39margs, \u001b[38;5;241m*\u001b[39m\u001b[38;5;241m*\u001b[39mkwargs)\n",
      "\u001b[1;31mFileNotFoundError\u001b[0m: [Errno 2] No such file or directory: 'none.text'"
     ]
    }
   ],
   "source": [
    "f=open(\"none.text\",'r')"
   ]
  },
  {
   "cell_type": "code",
   "execution_count": 62,
   "id": "7f39d06e-4da0-4fbf-ae5f-3cddb12d5454",
   "metadata": {},
   "outputs": [
    {
     "ename": "SyntaxError",
     "evalue": "invalid syntax (2263029630.py, line 2)",
     "output_type": "error",
     "traceback": [
      "\u001b[1;36m  Cell \u001b[1;32mIn[62], line 2\u001b[1;36m\u001b[0m\n\u001b[1;33m    r@\u001b[0m\n\u001b[1;37m      ^\u001b[0m\n\u001b[1;31mSyntaxError\u001b[0m\u001b[1;31m:\u001b[0m invalid syntax\n"
     ]
    }
   ],
   "source": [
    "r=50\n",
    "r@"
   ]
  },
  {
   "cell_type": "code",
   "execution_count": 63,
   "id": "17e598c5-8a57-48ea-bda5-b88d41d40941",
   "metadata": {},
   "outputs": [
    {
     "name": "stdout",
     "output_type": "stream",
     "text": [
      "Cannot divide by zero\n"
     ]
    }
   ],
   "source": [
    "try:\n",
    "\n",
    "   x = 1 / 0\n",
    "\n",
    "except ZeroDivisionError:\n",
    "\n",
    "   print(\"Cannot divide by zero\")"
   ]
  },
  {
   "cell_type": "code",
   "execution_count": 65,
   "id": "04f2faba-a74d-40b1-b0bb-939c7f9592d5",
   "metadata": {},
   "outputs": [
    {
     "name": "stdout",
     "output_type": "stream",
     "text": [
      "Index out of range\n"
     ]
    }
   ],
   "source": [
    "try:\n",
    "\n",
    "      lst = [1, 2, 3]\n",
    "\n",
    "      print(lst[5])\n",
    "\n",
    "except IndexError:\n",
    "\n",
    "      print(\"Index out of range\")\n",
    "\n"
   ]
  },
  {
   "cell_type": "code",
   "execution_count": 66,
   "id": "239bc7c6-dd49-4dd1-aae7-aeae78d7c8c0",
   "metadata": {},
   "outputs": [
    {
     "name": "stdout",
     "output_type": "stream",
     "text": [
      "Invalid conversion\n"
     ]
    }
   ],
   "source": [
    "try:\n",
    "\n",
    "      x = int(\"abc\")\n",
    "\n",
    "except ValueError:\n",
    "\n",
    "      print(\"Invalid conversion\")"
   ]
  },
  {
   "cell_type": "code",
   "execution_count": 67,
   "id": "ac07c240-b2ae-42dd-a09c-96c29a104c15",
   "metadata": {},
   "outputs": [
    {
     "name": "stdout",
     "output_type": "stream",
     "text": [
      "5.0\n",
      "No error\n"
     ]
    }
   ],
   "source": [
    "try:\n",
    "\n",
    "      x = 10\n",
    "\n",
    "      print(x / 2)\n",
    "\n",
    "except ZeroDivisionError:\n",
    "\n",
    "      print(\"Division error\")\n",
    "\n",
    "else:\n",
    "\n",
    "      print(\"No error\")\n",
    "\n"
   ]
  },
  {
   "cell_type": "code",
   "execution_count": 71,
   "id": "91639138-5b7c-4c30-9135-2c317faa63e4",
   "metadata": {},
   "outputs": [
    {
     "name": "stdout",
     "output_type": "stream",
     "text": [
      "4\n"
     ]
    }
   ],
   "source": [
    "try:\n",
    "    lst = [1, 2, 3]\n",
    "    lst.append(4)\n",
    "    print(lst[3])\n",
    "except IndexError:\n",
    "    print(\"Index error\")\n",
    "\n"
   ]
  },
  {
   "cell_type": "code",
   "execution_count": 75,
   "id": "0d78d353-c816-4382-ba5b-7911fcfa487b",
   "metadata": {},
   "outputs": [
    {
     "name": "stdout",
     "output_type": "stream",
     "text": [
      "Value not in list\n",
      "Done\n"
     ]
    }
   ],
   "source": [
    "try:\n",
    "    lst = [1, 2, 3]\n",
    "    lst.remove(4)\n",
    "except ValueError:\n",
    "    print(\"Value not in list\")\n",
    "finally:\n",
    "    print(\"Done\")"
   ]
  },
  {
   "cell_type": "code",
   "execution_count": 76,
   "id": "47596c3c-dd96-4300-9685-e48617df96c4",
   "metadata": {},
   "outputs": [
    {
     "name": "stdout",
     "output_type": "stream",
     "text": [
      "Type mismatch\n"
     ]
    }
   ],
   "source": [
    "try:\n",
    "      x = 5 + \"10\"\n",
    "\n",
    "except TypeError:\n",
    "\n",
    "      print(\"Type mismatch\")"
   ]
  },
  {
   "cell_type": "code",
   "execution_count": 9,
   "id": "151339a5-6672-4106-8680-93f98f8a783f",
   "metadata": {},
   "outputs": [
    {
     "name": "stdin",
     "output_type": "stream",
     "text": [
      "Enter a number:  234\n"
     ]
    },
    {
     "name": "stdout",
     "output_type": "stream",
     "text": [
      "234\n"
     ]
    }
   ],
   "source": [
    "try:\n",
    "\n",
    "      x = int(input(\"Enter a number: \"))  # User enters \"123\"\n",
    "\n",
    "except ValueError:\n",
    "\n",
    "      print(\"Invalid input\")\n",
    "\n",
    "else:\n",
    "\n",
    "      print(x)\n",
    "\n"
   ]
  },
  {
   "cell_type": "code",
   "execution_count": 79,
   "id": "ce7c118e-42e0-4012-8529-5532a62b0977",
   "metadata": {},
   "outputs": [
    {
     "name": "stdout",
     "output_type": "stream",
     "text": [
      "An error occurred\n"
     ]
    }
   ],
   "source": [
    "try:\n",
    "\n",
    "      x = 10 / 0\n",
    "\n",
    "except Exception:\n",
    "\n",
    "      print(\"An error occurred\")"
   ]
  },
  {
   "cell_type": "code",
   "execution_count": 83,
   "id": "fedc0fc9-f6f1-4033-9b1e-e7d5ab8130e8",
   "metadata": {},
   "outputs": [
    {
     "name": "stdout",
     "output_type": "stream",
     "text": [
      "Invalid pop\n",
      "Completed\n"
     ]
    }
   ],
   "source": [
    "try:\n",
    "\n",
    "      lst = [1, 2, 3]\n",
    "\n",
    "      lst.pop(5)\n",
    "\n",
    "except IndexError:\n",
    "\n",
    "      print(\"Invalid pop\")\n",
    "finally:\n",
    "\n",
    "      print(\"Completed\")"
   ]
  },
  {
   "cell_type": "code",
   "execution_count": 84,
   "id": "ac6f22c3-ccc0-4244-abff-1de9563f1eaf",
   "metadata": {},
   "outputs": [
    {
     "name": "stdout",
     "output_type": "stream",
     "text": [
      "Cannot convert to float\n"
     ]
    }
   ],
   "source": [
    "try:\n",
    "\n",
    "      x = float(\"xyz\")\n",
    "\n",
    "except ValueError:\n",
    "\n",
    "      print(\"Cannot convert to float\")\n",
    "\n",
    "else:\n",
    "\n",
    "      print(\"Conversion successful\")"
   ]
  },
  {
   "cell_type": "code",
   "execution_count": 85,
   "id": "b2fa850d-fd3e-4df3-adc8-33fee6e56f54",
   "metadata": {},
   "outputs": [
    {
     "name": "stdout",
     "output_type": "stream",
     "text": [
      "Invalid operation\n",
      "Finished\n"
     ]
    }
   ],
   "source": [
    "try:\n",
    "\n",
    "      x = 10\n",
    "\n",
    "      print(x[0])\n",
    "\n",
    "except TypeError:\n",
    "\n",
    "      print(\"Invalid operation\")\n",
    "\n",
    "finally:\n",
    "\n",
    "      print(\"Finished\")"
   ]
  },
  {
   "cell_type": "code",
   "execution_count": 86,
   "id": "da31aa02-a966-418f-8f59-64e522b423e9",
   "metadata": {},
   "outputs": [
    {
     "name": "stdout",
     "output_type": "stream",
     "text": [
      "Module not found\n"
     ]
    }
   ],
   "source": [
    "try:\n",
    "\n",
    "      import nonexistent_module\n",
    "\n",
    "except ModuleNotFoundError:\n",
    "\n",
    "      print(\"Module not found\")"
   ]
  },
  {
   "cell_type": "code",
   "execution_count": 87,
   "id": "3e1d9ad5-0aa4-4c85-ace8-a13f11982280",
   "metadata": {},
   "outputs": [
    {
     "name": "stdout",
     "output_type": "stream",
     "text": [
      "Error: division by zero\n"
     ]
    }
   ],
   "source": [
    "try:\n",
    "\n",
    "      x = 5 / 0\n",
    "\n",
    "except ZeroDivisionError as e:\n",
    "\n",
    "      print(f\"Error: {e}\")"
   ]
  },
  {
   "cell_type": "code",
   "execution_count": 88,
   "id": "4a205e33-b933-4390-a9b4-41d290a921bf",
   "metadata": {},
   "outputs": [
    {
     "name": "stdout",
     "output_type": "stream",
     "text": [
      "200\n",
      "Done\n"
     ]
    }
   ],
   "source": [
    "try:\n",
    "\n",
    "      x = int(\"100\")\n",
    "\n",
    "except ValueError:\n",
    "\n",
    "      print(\"Invalid\")\n",
    "\n",
    "else:\n",
    "\n",
    "      print(x * 2)\n",
    "\n",
    "finally:\n",
    "\n",
    "      print(\"Done\")"
   ]
  },
  {
   "cell_type": "code",
   "execution_count": 89,
   "id": "f848b1d1-2be7-4174-b753-a7d86f8b8089",
   "metadata": {},
   "outputs": [
    {
     "name": "stdout",
     "output_type": "stream",
     "text": [
      "Error: list index out of range\n"
     ]
    }
   ],
   "source": [
    "try:\n",
    "\n",
    "      lst = [1, 2, 3]\n",
    "\n",
    "      print(lst[10])\n",
    "\n",
    "except IndexError as e:\n",
    "\n",
    "      print(f\"Error: {e}\")"
   ]
  },
  {
   "cell_type": "code",
   "execution_count": 91,
   "id": "0a13af40-e826-4674-be47-49885b389ef8",
   "metadata": {},
   "outputs": [
    {
     "name": "stdout",
     "output_type": "stream",
     "text": [
      "Success\n",
      "Cleanup\n"
     ]
    }
   ],
   "source": [
    "try:\n",
    "    x = 1 / 2\n",
    "\n",
    "except ZeroDivisionError:\n",
    "\n",
    "      print(\"Zero division\")\n",
    "\n",
    "else:\n",
    "\n",
    "      print(\"Success\")\n",
    "\n",
    "finally:\n",
    "\n",
    "      print(\"Cleanup\")"
   ]
  },
  {
   "cell_type": "code",
   "execution_count": 92,
   "id": "518a0f26-8162-44ae-9084-2edbda77532f",
   "metadata": {},
   "outputs": [
    {
     "name": "stdout",
     "output_type": "stream",
     "text": [
      "Invalid syntax\n"
     ]
    }
   ],
   "source": [
    "try:\n",
    "\n",
    "      x = eval(\"1 + \")\n",
    "\n",
    "except SyntaxError:\n",
    "\n",
    "      print(\"Invalid syntax\")"
   ]
  },
  {
   "cell_type": "code",
   "execution_count": 93,
   "id": "5ee0e8a2-3038-4d03-a4f3-4deb9170cfc5",
   "metadata": {},
   "outputs": [
    {
     "name": "stdout",
     "output_type": "stream",
     "text": [
      "[1, 2, 3, 4]\n"
     ]
    }
   ],
   "source": [
    "try:\n",
    "\n",
    "      lst = [1, 2, 3]\n",
    "\n",
    "      lst.insert(5, 4)\n",
    "\n",
    "except IndexError:\n",
    "\n",
    "      print(\"Invalid index\")\n",
    "\n",
    "else:\n",
    "\n",
    "      print(lst)\n",
    "\n"
   ]
  },
  {
   "cell_type": "code",
   "execution_count": 94,
   "id": "a097902f-afcd-45ee-b4e2-444dbaa9159d",
   "metadata": {},
   "outputs": [
    {
     "name": "stdout",
     "output_type": "stream",
     "text": [
      "Error: unsupported operand type(s) for +: 'int' and 'str'\n",
      "Done\n"
     ]
    }
   ],
   "source": [
    "try:\n",
    "\n",
    "      x = 5 + \"5\"\n",
    "\n",
    "except TypeError as e:\n",
    "\n",
    "      print(f\"Error: {e}\")\n",
    "\n",
    "finally:\n",
    "\n",
    "      print(\"Done\")"
   ]
  },
  {
   "cell_type": "code",
   "execution_count": 95,
   "id": "7c904b9e-29d4-4460-b5ee-cc901b101c77",
   "metadata": {},
   "outputs": [
    {
     "name": "stdout",
     "output_type": "stream",
     "text": [
      "Invalid pop\n"
     ]
    }
   ],
   "source": [
    "try:\n",
    "\n",
    "      lst = [1, 2, 3]\n",
    "\n",
    "      lst.pop(3)\n",
    "\n",
    "except IndexError:\n",
    "\n",
    "      print(\"Invalid pop\")\n",
    "\n"
   ]
  },
  {
   "cell_type": "code",
   "execution_count": 96,
   "id": "b82b48e0-c95d-4550-bd33-d1419181bbb3",
   "metadata": {},
   "outputs": [
    {
     "name": "stdout",
     "output_type": "stream",
     "text": [
      "Not an integer\n"
     ]
    }
   ],
   "source": [
    "try:\n",
    "\n",
    "      x = int(\"12.34\")\n",
    "\n",
    "except ValueError:\n",
    "\n",
    "      print(\"Not an integer\")\n",
    "\n"
   ]
  },
  {
   "cell_type": "code",
   "execution_count": 97,
   "id": "b34a269c-f5ed-4242-ab73-79d318568afa",
   "metadata": {},
   "outputs": [
    {
     "name": "stdout",
     "output_type": "stream",
     "text": [
      "Out of bounds\n"
     ]
    }
   ],
   "source": [
    "try:\n",
    "\n",
    "      lst = [1, 2, 3]\n",
    "\n",
    "      lst[3] = 4\n",
    "\n",
    "except IndexError:\n",
    "\n",
    "      print(\"Out of bounds\")\n",
    "\n",
    "else:\n",
    "\n",
    "      print(\"Assignment successful\")"
   ]
  },
  {
   "cell_type": "code",
   "execution_count": 98,
   "id": "45468162-e991-4646-a492-8079f1274958",
   "metadata": {},
   "outputs": [
    {
     "name": "stdout",
     "output_type": "stream",
     "text": [
      "123.0\n"
     ]
    }
   ],
   "source": [
    "try:\n",
    "\n",
    "      x = float(\"123\")\n",
    "\n",
    "except ValueError:\n",
    "\n",
    "      print(\"Invalid float\")\n",
    "\n",
    "else:\n",
    "\n",
    "      print(x)"
   ]
  },
  {
   "cell_type": "code",
   "execution_count": 99,
   "id": "daf16f60-1804-4e4d-abab-b7a07166ff25",
   "metadata": {},
   "outputs": [
    {
     "name": "stdout",
     "output_type": "stream",
     "text": [
      "Item not found\n",
      "Finished\n"
     ]
    }
   ],
   "source": [
    "try:\n",
    "\n",
    "      lst = [1, 2, 3]\n",
    "\n",
    "      lst.remove(5)\n",
    "\n",
    "except ValueError:\n",
    "\n",
    "      print(\"Item not found\")\n",
    "\n",
    "finally:\n",
    "\n",
    "      print(\"Finished\")"
   ]
  },
  {
   "cell_type": "code",
   "execution_count": 100,
   "id": "a840f491-e2b9-4230-a728-959b488c7114",
   "metadata": {},
   "outputs": [
    {
     "name": "stdout",
     "output_type": "stream",
     "text": [
      "Caught an error\n"
     ]
    }
   ],
   "source": [
    "try:\n",
    "\n",
    "      x = 10 / 0\n",
    "\n",
    "except (ZeroDivisionError, TypeError):\n",
    "\n",
    "      print(\"Caught an error\")"
   ]
  },
  {
   "cell_type": "code",
   "execution_count": 101,
   "id": "358ac1b0-41f5-411e-8f12-76ca361d972c",
   "metadata": {},
   "outputs": [
    {
     "name": "stdin",
     "output_type": "stream",
     "text": [
      "Enter a number:  abc\n"
     ]
    },
    {
     "name": "stdout",
     "output_type": "stream",
     "text": [
      "Not a number\n"
     ]
    }
   ],
   "source": [
    "try:\n",
    "\n",
    "      x = int(input(\"Enter a number: \"))  # User enters \"abc\"\n",
    "\n",
    "except ValueError:\n",
    "\n",
    "      print(\"Not a number\")\n",
    "\n"
   ]
  },
  {
   "cell_type": "code",
   "execution_count": 3,
   "id": "b3eefd54-333a-4b81-b21d-8195cdcc8285",
   "metadata": {},
   "outputs": [
    {
     "name": "stdout",
     "output_type": "stream",
     "text": [
      "3\n",
      "No error\n"
     ]
    }
   ],
   "source": [
    "try:\n",
    "\n",
    "      lst = [1, 2, 3]\n",
    "\n",
    "      print(lst[2])\n",
    "\n",
    "except IndexError:\n",
    "\n",
    "      print(\"Index error\")\n",
    "\n",
    "else:\n",
    "\n",
    "      print(\"No error\")\n",
    "\n"
   ]
  },
  {
   "cell_type": "code",
   "execution_count": 104,
   "id": "71318838-b47d-447f-bbb2-0bfa304694f2",
   "metadata": {},
   "outputs": [
    {
     "name": "stdout",
     "output_type": "stream",
     "text": [
      "Cannot divide\n",
      "Done\n"
     ]
    }
   ],
   "source": [
    "try:\n",
    "\n",
    "      x = 100 / 0\n",
    "\n",
    "except ZeroDivisionError:\n",
    "\n",
    "      print(\"Cannot divide\")\n",
    "\n",
    "except Exception:\n",
    "\n",
    "      print(\"Other error\")\n",
    "\n",
    "finally:\n",
    "\n",
    "      print(\"Done\")\n",
    "\n"
   ]
  },
  {
   "cell_type": "code",
   "execution_count": 1,
   "id": "becd0665-1850-471f-998b-830cd9045476",
   "metadata": {},
   "outputs": [
    {
     "name": "stdout",
     "output_type": "stream",
     "text": [
      "inf\n"
     ]
    }
   ],
   "source": [
    "try:\n",
    "\n",
    "      x = float(\"inf\")\n",
    "\n",
    "except ValueError:\n",
    "\n",
    "      print(\"Invalid float\")\n",
    "\n",
    "else:\n",
    "\n",
    "      print(x)"
   ]
  },
  {
   "cell_type": "markdown",
   "id": "641ddf2c-387c-474e-8b36-64ad0dbc79f4",
   "metadata": {},
   "source": [
    "**seasion13_list**"
   ]
  },
  {
   "cell_type": "code",
   "execution_count": 1,
   "id": "963b9f72-76ff-420b-9a53-3f7d05cc7c7d",
   "metadata": {},
   "outputs": [],
   "source": [
    "l1=[10,20,30,40,50]\n",
    "l2=[60,70,80,90]"
   ]
  },
  {
   "cell_type": "code",
   "execution_count": 68,
   "id": "d7f43b25-b94b-4f0a-bf60-26fdfb743606",
   "metadata": {},
   "outputs": [
    {
     "data": {
      "text/plain": [
       "[10, 20, 30, 40, 50]"
      ]
     },
     "execution_count": 68,
     "metadata": {},
     "output_type": "execute_result"
    }
   ],
   "source": [
    "l1"
   ]
  },
  {
   "cell_type": "code",
   "execution_count": 69,
   "id": "6e891cf9-833b-49e2-92cb-09beacf0cc93",
   "metadata": {},
   "outputs": [
    {
     "data": {
      "text/plain": [
       "[10, 20, 30, 40, 50, 60, 70, 80, 90]"
      ]
     },
     "execution_count": 69,
     "metadata": {},
     "output_type": "execute_result"
    }
   ],
   "source": [
    "l1+l2"
   ]
  },
  {
   "cell_type": "code",
   "execution_count": 70,
   "id": "f34a95b5-ca6c-4566-807e-2c6f3f3885be",
   "metadata": {},
   "outputs": [
    {
     "data": {
      "text/plain": [
       "[60, 70, 80, 90, 60, 70, 80, 90]"
      ]
     },
     "execution_count": 70,
     "metadata": {},
     "output_type": "execute_result"
    }
   ],
   "source": [
    "l2*2"
   ]
  },
  {
   "cell_type": "code",
   "execution_count": 71,
   "id": "3409657f-1ce1-41cf-939f-64163f029c19",
   "metadata": {},
   "outputs": [
    {
     "data": {
      "text/plain": [
       "[10, 20, 30, 40, 50, 10, 20, 30, 40, 50]"
      ]
     },
     "execution_count": 71,
     "metadata": {},
     "output_type": "execute_result"
    }
   ],
   "source": [
    "l1*2"
   ]
  },
  {
   "cell_type": "markdown",
   "id": "1a6358a1-621f-43da-a1f1-bac3e8f97c25",
   "metadata": {},
   "source": [
    "**slice**"
   ]
  },
  {
   "cell_type": "code",
   "execution_count": 4,
   "id": "ec5bfd1c-dc39-42c9-b5ab-23cccd98a977",
   "metadata": {},
   "outputs": [],
   "source": [
    "l=[10,20,30,40,1,2,3,4,'a','p','p','l','e',True,False]"
   ]
  },
  {
   "cell_type": "code",
   "execution_count": 5,
   "id": "8d7f7d8f-27a7-4255-9359-af187eaaa76b",
   "metadata": {},
   "outputs": [
    {
     "data": {
      "text/plain": [
       "[40, 2, 4, 'p']"
      ]
     },
     "execution_count": 5,
     "metadata": {},
     "output_type": "execute_result"
    }
   ],
   "source": [
    "l[3:11:2]"
   ]
  },
  {
   "cell_type": "code",
   "execution_count": 73,
   "id": "e84ea957-5c4d-449b-8a61-b6d0c9ea4e3a",
   "metadata": {},
   "outputs": [
    {
     "data": {
      "text/plain": [
       "15"
      ]
     },
     "execution_count": 73,
     "metadata": {},
     "output_type": "execute_result"
    }
   ],
   "source": [
    "len(l)"
   ]
  },
  {
   "cell_type": "code",
   "execution_count": 74,
   "id": "26cba291-9811-4e66-a61a-d8b4b25b84c5",
   "metadata": {},
   "outputs": [
    {
     "data": {
      "text/plain": [
       "[30, 1, 3, 'a', 'p']"
      ]
     },
     "execution_count": 74,
     "metadata": {},
     "output_type": "execute_result"
    }
   ],
   "source": [
    "l[2:12:2]"
   ]
  },
  {
   "cell_type": "code",
   "execution_count": 75,
   "id": "46d2fef1-064e-4605-accd-58071d46057f",
   "metadata": {},
   "outputs": [
    {
     "data": {
      "text/plain": [
       "[]"
      ]
     },
     "execution_count": 75,
     "metadata": {},
     "output_type": "execute_result"
    }
   ],
   "source": [
    "l[2:12:-2]  # not give output"
   ]
  },
  {
   "cell_type": "code",
   "execution_count": 76,
   "id": "5aeaa0d4-76f4-41c1-83ff-c9dd5c261727",
   "metadata": {},
   "outputs": [
    {
     "data": {
      "text/plain": [
       "[30]"
      ]
     },
     "execution_count": 76,
     "metadata": {},
     "output_type": "execute_result"
    }
   ],
   "source": [
    "l[2:-12:2]"
   ]
  },
  {
   "cell_type": "code",
   "execution_count": 77,
   "id": "ccb6ec27-a7cb-4d6f-954b-4b239bf4eb90",
   "metadata": {},
   "outputs": [
    {
     "data": {
      "text/plain": [
       "[True, 'l', 'p', 4, 2]"
      ]
     },
     "execution_count": 77,
     "metadata": {},
     "output_type": "execute_result"
    }
   ],
   "source": [
    "l[-2:-12:-2]"
   ]
  },
  {
   "cell_type": "code",
   "execution_count": 78,
   "id": "ff60ca36-0b42-47ca-b8ee-ef7c153afd54",
   "metadata": {},
   "outputs": [
    {
     "data": {
      "text/plain": [
       "[]"
      ]
     },
     "execution_count": 78,
     "metadata": {},
     "output_type": "execute_result"
    }
   ],
   "source": [
    "l[2:-12:-2]"
   ]
  },
  {
   "cell_type": "code",
   "execution_count": 88,
   "id": "e78d784a-6329-4cea-bc7c-f31755ab12f6",
   "metadata": {},
   "outputs": [],
   "source": [
    "l1.clear()"
   ]
  },
  {
   "cell_type": "code",
   "execution_count": 89,
   "id": "fad0329e-8113-4fdf-b8b0-650ce9d020cc",
   "metadata": {},
   "outputs": [
    {
     "data": {
      "text/plain": [
       "[]"
      ]
     },
     "execution_count": 89,
     "metadata": {},
     "output_type": "execute_result"
    }
   ],
   "source": [
    "l1"
   ]
  },
  {
   "cell_type": "code",
   "execution_count": 90,
   "id": "629e0634-8963-4566-98c4-c5aeb34b7559",
   "metadata": {},
   "outputs": [],
   "source": [
    "l2=[10,20,30]"
   ]
  },
  {
   "cell_type": "code",
   "execution_count": 91,
   "id": "5ba668a6-0d7a-4664-858f-0ffcfa9acc24",
   "metadata": {},
   "outputs": [
    {
     "data": {
      "text/plain": [
       "[10, 20, 30]"
      ]
     },
     "execution_count": 91,
     "metadata": {},
     "output_type": "execute_result"
    }
   ],
   "source": [
    "l2.copy()"
   ]
  },
  {
   "cell_type": "code",
   "execution_count": 92,
   "id": "267c3369-872e-4944-a718-5185c118bdad",
   "metadata": {},
   "outputs": [],
   "source": [
    "l1=l2.copy()"
   ]
  },
  {
   "cell_type": "code",
   "execution_count": 93,
   "id": "163f0e00-8214-444d-8e26-064bb4c53bfa",
   "metadata": {},
   "outputs": [
    {
     "data": {
      "text/plain": [
       "[10, 20, 30]"
      ]
     },
     "execution_count": 93,
     "metadata": {},
     "output_type": "execute_result"
    }
   ],
   "source": [
    "l1"
   ]
  },
  {
   "cell_type": "code",
   "execution_count": 94,
   "id": "e0730ac7-d336-4ad8-8368-4eb2d55f46e5",
   "metadata": {},
   "outputs": [],
   "source": [
    "l1.append(30)"
   ]
  },
  {
   "cell_type": "code",
   "execution_count": 97,
   "id": "6b0b3e7b-b189-4d5e-9b21-86abe98c647e",
   "metadata": {},
   "outputs": [
    {
     "data": {
      "text/plain": [
       "[10, 20, 30, 30]"
      ]
     },
     "execution_count": 97,
     "metadata": {},
     "output_type": "execute_result"
    }
   ],
   "source": [
    "l1"
   ]
  },
  {
   "cell_type": "code",
   "execution_count": 100,
   "id": "66f1c8da-6e78-4639-bd43-60508bd32cdc",
   "metadata": {},
   "outputs": [
    {
     "data": {
      "text/plain": [
       "1"
      ]
     },
     "execution_count": 100,
     "metadata": {},
     "output_type": "execute_result"
    }
   ],
   "source": [
    "l1.count(50)"
   ]
  },
  {
   "cell_type": "code",
   "execution_count": 103,
   "id": "f9e5d3c8-b967-495a-844d-d358fa924189",
   "metadata": {},
   "outputs": [
    {
     "data": {
      "text/plain": [
       "2"
      ]
     },
     "execution_count": 103,
     "metadata": {},
     "output_type": "execute_result"
    }
   ],
   "source": [
    "l1.index(30)"
   ]
  },
  {
   "cell_type": "code",
   "execution_count": 114,
   "id": "bdf9aff8-63ee-4fba-9b71-1aa072533718",
   "metadata": {},
   "outputs": [
    {
     "data": {
      "text/plain": [
       "5"
      ]
     },
     "execution_count": 114,
     "metadata": {},
     "output_type": "execute_result"
    }
   ],
   "source": [
    "list=[10,20,30,40,10,20,30,30]\n",
    "l2=list.index(20)\n",
    "list.index(20,l2+1)"
   ]
  },
  {
   "cell_type": "code",
   "execution_count": 121,
   "id": "ae8b4361-d34e-4c2a-9006-17306f1d27db",
   "metadata": {},
   "outputs": [
    {
     "data": {
      "text/plain": [
       "6"
      ]
     },
     "execution_count": 121,
     "metadata": {},
     "output_type": "execute_result"
    }
   ],
   "source": [
    "l3=[10,20,30,40,50,60,40,]                                      \n",
    "n=l3.index(40)\n",
    "l3.index(40,n+1)"
   ]
  },
  {
   "cell_type": "markdown",
   "id": "e1b92a5d-101e-4460-ab11-90fdc312117a",
   "metadata": {},
   "source": [
    "**pop**"
   ]
  },
  {
   "cell_type": "code",
   "execution_count": 8,
   "id": "df87e57f-7412-49f6-906a-8f794c20f8f1",
   "metadata": {},
   "outputs": [],
   "source": [
    "l=['apple','banana','cheryy','cheryy','a','b',10,20,30]"
   ]
  },
  {
   "cell_type": "code",
   "execution_count": 9,
   "id": "a5f153bd-347d-46f0-b9b7-ec476b4e59d8",
   "metadata": {},
   "outputs": [
    {
     "data": {
      "text/plain": [
       "['apple', 'banana', 'cheryy', 'cheryy', 'a', 'b', 10, 20, 30]"
      ]
     },
     "execution_count": 9,
     "metadata": {},
     "output_type": "execute_result"
    }
   ],
   "source": [
    "l"
   ]
  },
  {
   "cell_type": "code",
   "execution_count": 10,
   "id": "98093d00-a4b3-4293-a44f-38a8bbf6bc23",
   "metadata": {},
   "outputs": [
    {
     "data": {
      "text/plain": [
       "30"
      ]
     },
     "execution_count": 10,
     "metadata": {},
     "output_type": "execute_result"
    }
   ],
   "source": [
    "l=['apple','banana','cheryy','a','b',10,20,30]\n",
    "l.pop(2)\n",
    "l.pop()\n"
   ]
  },
  {
   "cell_type": "code",
   "execution_count": 11,
   "id": "a92092a1-7e8d-4097-993f-c74a17584fdb",
   "metadata": {},
   "outputs": [
    {
     "data": {
      "text/plain": [
       "['apple', 'banana', 'a', 'b', 10, 20]"
      ]
     },
     "execution_count": 11,
     "metadata": {},
     "output_type": "execute_result"
    }
   ],
   "source": [
    "l"
   ]
  },
  {
   "cell_type": "code",
   "execution_count": 12,
   "id": "897a25f8-0663-4d0d-99fa-144f9b324365",
   "metadata": {},
   "outputs": [
    {
     "data": {
      "text/plain": [
       "20"
      ]
     },
     "execution_count": 12,
     "metadata": {},
     "output_type": "execute_result"
    }
   ],
   "source": [
    "l.pop()"
   ]
  },
  {
   "cell_type": "code",
   "execution_count": 134,
   "id": "2afe1f47-a3b9-41c7-94ff-f5244357ba23",
   "metadata": {},
   "outputs": [
    {
     "data": {
      "text/plain": [
       "['apple', 'banana', 'a', 'b', 10]"
      ]
     },
     "execution_count": 134,
     "metadata": {},
     "output_type": "execute_result"
    }
   ],
   "source": [
    "l"
   ]
  },
  {
   "cell_type": "code",
   "execution_count": 135,
   "id": "de9c6907-fd23-48f2-b50f-a8e500cb8b68",
   "metadata": {},
   "outputs": [
    {
     "data": {
      "text/plain": [
       "10"
      ]
     },
     "execution_count": 135,
     "metadata": {},
     "output_type": "execute_result"
    }
   ],
   "source": [
    "l.pop()"
   ]
  },
  {
   "cell_type": "code",
   "execution_count": 136,
   "id": "4b7d1603-832e-4478-9abe-06bc656b04c3",
   "metadata": {},
   "outputs": [
    {
     "data": {
      "text/plain": [
       "['apple', 'banana', 'a', 'b']"
      ]
     },
     "execution_count": 136,
     "metadata": {},
     "output_type": "execute_result"
    }
   ],
   "source": [
    "l"
   ]
  },
  {
   "cell_type": "code",
   "execution_count": 2,
   "id": "6686bfae-5f57-4cc8-b8b1-0956ecf5b3a5",
   "metadata": {},
   "outputs": [
    {
     "data": {
      "text/plain": [
       "'cherry'"
      ]
     },
     "execution_count": 2,
     "metadata": {},
     "output_type": "execute_result"
    }
   ],
   "source": [
    "l=['apple','banana','cherry','apple','cherry','a','b',10,20,30]\n",
    "i1=l.index('cherry')\n",
    "i2=l.index('cherry',i1+1)\n",
    "l.pop(i2)"
   ]
  },
  {
   "cell_type": "code",
   "execution_count": 39,
   "id": "9ac0d071-c5aa-4519-b514-469c9173b4a5",
   "metadata": {},
   "outputs": [
    {
     "data": {
      "text/plain": [
       "['apple', 'banana', 'cherry', 'apple', 'a', 'b', 10, 20, 30]"
      ]
     },
     "execution_count": 39,
     "metadata": {},
     "output_type": "execute_result"
    }
   ],
   "source": [
    "l"
   ]
  },
  {
   "cell_type": "code",
   "execution_count": 1,
   "id": "70c2570d-823f-4c43-b1dd-54c49073fc2d",
   "metadata": {},
   "outputs": [
    {
     "data": {
      "text/plain": [
       "'apple'"
      ]
     },
     "execution_count": 1,
     "metadata": {},
     "output_type": "execute_result"
    }
   ],
   "source": [
    "l=['apple','banana','cherry','apple','cherry','a','b',10,20,30]\n",
    "i1=l.index('apple')\n",
    "i2=l.index('apple',i1+1)\n",
    "l.pop(i2)"
   ]
  },
  {
   "cell_type": "code",
   "execution_count": 8,
   "id": "095cc5b9-5fc7-43e3-ac17-8defee70f57b",
   "metadata": {},
   "outputs": [
    {
     "data": {
      "text/plain": [
       "'vaibhav'"
      ]
     },
     "execution_count": 8,
     "metadata": {},
     "output_type": "execute_result"
    }
   ],
   "source": [
    "a=[\"dipak\",\"vaibhav\",\"vishal\",\"pradip\",\"vaibhav\",\"mahesh\",\"a\",\"b\",\"c\",20,30,40]\n",
    "i1=a.index(\"vaibhav\")\n",
    "i2=a.index(\"vaibhav\",i1+1)\n",
    "a.pop(i1)                                 # find the second one"
   ]
  },
  {
   "cell_type": "code",
   "execution_count": 3,
   "id": "c83a8b45-9fd3-4373-83d9-95ebc3a0de13",
   "metadata": {},
   "outputs": [
    {
     "name": "stdout",
     "output_type": "stream",
     "text": [
      "value error\n"
     ]
    }
   ],
   "source": [
    "a=[\"dipak\",\"vaibhav\",\"vishal\",\"pradip\",\"mahesh\",\"a\",\"b\",\"c\",20,30,40]\n",
    "\n",
    "try:\n",
    "    i2 = a.index(\"dipak\",i1+1)\n",
    "    a.pop(i2)\n",
    "except:\n",
    "    print(\"value error\")"
   ]
  },
  {
   "cell_type": "code",
   "execution_count": null,
   "id": "930cc891-a486-4d72-948e-3627b6cdab91",
   "metadata": {},
   "outputs": [],
   "source": []
  },
  {
   "cell_type": "code",
   "execution_count": 45,
   "id": "918a1a44-33a7-46fb-ae7b-16fee08927fc",
   "metadata": {},
   "outputs": [
    {
     "data": {
      "text/plain": [
       "['apple', 'banana', 'cherry', 'cherry', 'a', 'b', 10, 20, 30]"
      ]
     },
     "execution_count": 45,
     "metadata": {},
     "output_type": "execute_result"
    }
   ],
   "source": [
    "l"
   ]
  },
  {
   "cell_type": "code",
   "execution_count": 46,
   "id": "6b5e739d-1a0a-4e03-a468-25971fae5559",
   "metadata": {},
   "outputs": [
    {
     "data": {
      "text/plain": [
       "-1"
      ]
     },
     "execution_count": 46,
     "metadata": {},
     "output_type": "execute_result"
    }
   ],
   "source": [
    "s='apple'\n",
    "s.count('z')  #0\n",
    "s.replace('z','z') # apple\n",
    "#s.index('z') # error\n",
    "s.find('z') # -1 "
   ]
  },
  {
   "cell_type": "code",
   "execution_count": 51,
   "id": "2e525a97-3ecd-4135-b7c2-6a52699dd811",
   "metadata": {},
   "outputs": [
    {
     "data": {
      "text/plain": [
       "-1"
      ]
     },
     "execution_count": 51,
     "metadata": {},
     "output_type": "execute_result"
    }
   ],
   "source": [
    "n='orange'\n",
    "n.count('z')\n",
    "n.replace('z','z')\n",
    "#n.index('z')\n",
    "n.find('z')"
   ]
  },
  {
   "cell_type": "markdown",
   "id": "045dd49b-7b57-4266-98e1-edff33795af9",
   "metadata": {},
   "source": [
    "**append-extend-concat**"
   ]
  },
  {
   "cell_type": "code",
   "execution_count": 53,
   "id": "71e9be83-c0bf-40c8-8f76-aca26f4997e3",
   "metadata": {},
   "outputs": [],
   "source": [
    "l=[10,20,30,]"
   ]
  },
  {
   "cell_type": "code",
   "execution_count": 54,
   "id": "88d1fe2e-88ef-4454-9a03-7ab2fb692a86",
   "metadata": {},
   "outputs": [],
   "source": [
    "l.append(['apple'])"
   ]
  },
  {
   "cell_type": "code",
   "execution_count": 55,
   "id": "b5d4ffac-1c62-4f80-90fb-e2d49d4c93fd",
   "metadata": {},
   "outputs": [
    {
     "data": {
      "text/plain": [
       "[10, 20, 30, ['apple']]"
      ]
     },
     "execution_count": 55,
     "metadata": {},
     "output_type": "execute_result"
    }
   ],
   "source": [
    "l"
   ]
  },
  {
   "cell_type": "code",
   "execution_count": 78,
   "id": "41c39ca5-cd7b-4f92-9518-cdc7f1145d39",
   "metadata": {},
   "outputs": [],
   "source": [
    "l1=[10,20,30,40]\n",
    "l2=[50,60,70,80]\n",
    "l3=['apple','orange','cherry']\n",
    "l4=['dipak','shubham',20,40,50]"
   ]
  },
  {
   "cell_type": "code",
   "execution_count": 79,
   "id": "42cf0abd-94f9-41fe-aacb-2f96ebff1ce0",
   "metadata": {},
   "outputs": [],
   "source": [
    "l.extend(l1)"
   ]
  },
  {
   "cell_type": "code",
   "execution_count": 83,
   "id": "ed2511d6-984d-4d86-9abc-24731ed399d4",
   "metadata": {},
   "outputs": [
    {
     "data": {
      "text/plain": [
       "[10, 20, 30, 40, 50, 60, 70, 80, 'apple', 'orange', 'cherry']"
      ]
     },
     "execution_count": 83,
     "metadata": {},
     "output_type": "execute_result"
    }
   ],
   "source": [
    "l1+l2+l3"
   ]
  },
  {
   "cell_type": "code",
   "execution_count": 82,
   "id": "ee6474c0-d582-43ec-a841-e5d854174be9",
   "metadata": {},
   "outputs": [
    {
     "ename": "AttributeError",
     "evalue": "'list' object has no attribute 'concat'",
     "output_type": "error",
     "traceback": [
      "\u001b[1;31m---------------------------------------------------------------------------\u001b[0m",
      "\u001b[1;31mAttributeError\u001b[0m                            Traceback (most recent call last)",
      "Cell \u001b[1;32mIn[82], line 1\u001b[0m\n\u001b[1;32m----> 1\u001b[0m l4\u001b[38;5;241m.\u001b[39mconcat(\u001b[38;5;124m'\u001b[39m\u001b[38;5;124mdipak\u001b[39m\u001b[38;5;124m'\u001b[39m,\u001b[38;5;241m40\u001b[39m)\n",
      "\u001b[1;31mAttributeError\u001b[0m: 'list' object has no attribute 'concat'"
     ]
    }
   ],
   "source": [
    "l4.concat('dipak',40)"
   ]
  },
  {
   "cell_type": "code",
   "execution_count": 5,
   "id": "d45ece09-d6b1-44b2-89ef-c94bc33c7474",
   "metadata": {},
   "outputs": [
    {
     "name": "stdout",
     "output_type": "stream",
     "text": [
      "You cannot divide by zero\n"
     ]
    }
   ],
   "source": [
    "try:\n",
    "    x = 10 / 0\n",
    "except:\n",
    "    print(\"You cannot divide by zero\")"
   ]
  },
  {
   "cell_type": "code",
   "execution_count": 6,
   "id": "b9cad02f-fa71-4e5a-a52b-f8d04e1bb2d0",
   "metadata": {},
   "outputs": [
    {
     "name": "stdin",
     "output_type": "stream",
     "text": [
      "enter the number 10\n"
     ]
    },
    {
     "name": "stdout",
     "output_type": "stream",
     "text": [
      "num 10\n"
     ]
    }
   ],
   "source": [
    "try: \n",
    "    x= int(input(\"enter the number\"))\n",
    "    print(\"num\", x)\n",
    "except:\n",
    "    print(\"invalid syntax\")"
   ]
  },
  {
   "cell_type": "code",
   "execution_count": 10,
   "id": "65eb3a05-1aaf-4e58-9dec-dc337526ba4d",
   "metadata": {},
   "outputs": [
    {
     "name": "stdin",
     "output_type": "stream",
     "text": [
      "enter the num: 50\n"
     ]
    },
    {
     "name": "stdout",
     "output_type": "stream",
     "text": [
      "num: 25\n"
     ]
    }
   ],
   "source": [
    "try:\n",
    "    x=eval(input(\"enter the num:\"))\n",
    "    print(\"num:\",x-25)\n",
    "except:\n",
    "    print(\"value error\")"
   ]
  },
  {
   "cell_type": "code",
   "execution_count": 10,
   "id": "86a4216f-2653-43f0-9e59-b07127a5fcbc",
   "metadata": {},
   "outputs": [
    {
     "name": "stdin",
     "output_type": "stream",
     "text": [
      "enter the num1: 99\n",
      "enter the num2: 81\n",
      "enter the num3: 69\n"
     ]
    },
    {
     "name": "stdout",
     "output_type": "stream",
     "text": [
      "The avg of 99 , 81 and 69 is : 83.0\n"
     ]
    }
   ],
   "source": [
    "try:\n",
    "    a=eval(input(\"enter the num1:\"))\n",
    "    b=eval(input(\"enter the num2:\"))\n",
    "    c=eval(input(\"enter the num3:\"))\n",
    "    avg=(a+b+c)/3\n",
    "    print(f\"The avg of {a} , {b} and {c} is : {avg}\")\n",
    "except:\n",
    "    print(\"invalid\")"
   ]
  },
  {
   "cell_type": "markdown",
   "id": "c6703c4f-5d17-4b03-8a23-e7c71e36a187",
   "metadata": {},
   "source": [
    "## Statistics"
   ]
  },
  {
   "cell_type": "code",
   "execution_count": 1,
   "id": "daf01d63-e3de-407a-94dc-4a00c282f3ef",
   "metadata": {},
   "outputs": [],
   "source": [
    "import statistics"
   ]
  },
  {
   "cell_type": "code",
   "execution_count": 2,
   "id": "c88c76b5-bd75-472a-9408-d8d74174590a",
   "metadata": {},
   "outputs": [
    {
     "data": {
      "text/plain": [
       "['Counter',\n",
       " 'Decimal',\n",
       " 'Fraction',\n",
       " 'LinearRegression',\n",
       " 'NormalDist',\n",
       " 'StatisticsError',\n",
       " '_SQRT2',\n",
       " '__all__',\n",
       " '__annotations__',\n",
       " '__builtins__',\n",
       " '__cached__',\n",
       " '__doc__',\n",
       " '__file__',\n",
       " '__loader__',\n",
       " '__name__',\n",
       " '__package__',\n",
       " '__spec__',\n",
       " '_coerce',\n",
       " '_convert',\n",
       " '_decimal_sqrt_of_frac',\n",
       " '_exact_ratio',\n",
       " '_fail_neg',\n",
       " '_float_sqrt_of_frac',\n",
       " '_integer_sqrt_of_frac_rto',\n",
       " '_isfinite',\n",
       " '_kernel_invcdfs',\n",
       " '_mean_stdev',\n",
       " '_newton_raphson',\n",
       " '_normal_dist_inv_cdf',\n",
       " '_quartic_invcdf',\n",
       " '_quartic_invcdf_estimate',\n",
       " '_random',\n",
       " '_rank',\n",
       " '_sqrt_bit_width',\n",
       " '_sqrtprod',\n",
       " '_ss',\n",
       " '_sum',\n",
       " '_triweight_invcdf',\n",
       " '_triweight_invcdf_estimate',\n",
       " 'acos',\n",
       " 'asin',\n",
       " 'atan',\n",
       " 'bisect_left',\n",
       " 'bisect_right',\n",
       " 'correlation',\n",
       " 'cos',\n",
       " 'cosh',\n",
       " 'count',\n",
       " 'covariance',\n",
       " 'defaultdict',\n",
       " 'erf',\n",
       " 'exp',\n",
       " 'fabs',\n",
       " 'fmean',\n",
       " 'fsum',\n",
       " 'geometric_mean',\n",
       " 'groupby',\n",
       " 'harmonic_mean',\n",
       " 'hypot',\n",
       " 'isfinite',\n",
       " 'isinf',\n",
       " 'itemgetter',\n",
       " 'kde',\n",
       " 'kde_random',\n",
       " 'linear_regression',\n",
       " 'log',\n",
       " 'math',\n",
       " 'mean',\n",
       " 'median',\n",
       " 'median_grouped',\n",
       " 'median_high',\n",
       " 'median_low',\n",
       " 'mode',\n",
       " 'multimode',\n",
       " 'namedtuple',\n",
       " 'numbers',\n",
       " 'pi',\n",
       " 'pstdev',\n",
       " 'pvariance',\n",
       " 'quantiles',\n",
       " 'random',\n",
       " 'reduce',\n",
       " 'repeat',\n",
       " 'sin',\n",
       " 'sqrt',\n",
       " 'stdev',\n",
       " 'sumprod',\n",
       " 'sys',\n",
       " 'tan',\n",
       " 'tau',\n",
       " 'variance']"
      ]
     },
     "execution_count": 2,
     "metadata": {},
     "output_type": "execute_result"
    }
   ],
   "source": [
    "dir(statistics)"
   ]
  },
  {
   "cell_type": "code",
   "execution_count": 3,
   "id": "27366670-fd61-42b3-b138-0410c285d6a6",
   "metadata": {},
   "outputs": [
    {
     "data": {
      "text/plain": [
       "5.5"
      ]
     },
     "execution_count": 3,
     "metadata": {},
     "output_type": "execute_result"
    }
   ],
   "source": [
    "l=[1,2,3,4,5,6,7,8,9,10]\n",
    "statistics.mean(l)"
   ]
  },
  {
   "cell_type": "code",
   "execution_count": 4,
   "id": "e5dab718-0545-4103-8465-b39d51cb9010",
   "metadata": {},
   "outputs": [
    {
     "data": {
      "text/plain": [
       "5.5"
      ]
     },
     "execution_count": 4,
     "metadata": {},
     "output_type": "execute_result"
    }
   ],
   "source": [
    "l=[1,2,3,4,5,6,7,8,9,10]\n",
    "statistics.median(l)"
   ]
  },
  {
   "cell_type": "code",
   "execution_count": 9,
   "id": "bad4f65c-e9cd-4f10-8e65-d02fd63af7fc",
   "metadata": {},
   "outputs": [
    {
     "data": {
      "text/plain": [
       "9"
      ]
     },
     "execution_count": 9,
     "metadata": {},
     "output_type": "execute_result"
    }
   ],
   "source": [
    "l=[1,2,3,4,5,6,7,8,9,8,10,9,9]\n",
    "statistics.mode(l)"
   ]
  },
  {
   "cell_type": "code",
   "execution_count": null,
   "id": "507f6603-e6ae-4db7-a12a-958d612ccad1",
   "metadata": {},
   "outputs": [],
   "source": []
  }
 ],
 "metadata": {
  "kernelspec": {
   "display_name": "Python [conda env:base] *",
   "language": "python",
   "name": "conda-base-py"
  },
  "language_info": {
   "codemirror_mode": {
    "name": "ipython",
    "version": 3
   },
   "file_extension": ".py",
   "mimetype": "text/x-python",
   "name": "python",
   "nbconvert_exporter": "python",
   "pygments_lexer": "ipython3",
   "version": "3.13.5"
  }
 },
 "nbformat": 4,
 "nbformat_minor": 5
}
