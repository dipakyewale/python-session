{
 "cells": [
  {
   "cell_type": "code",
   "execution_count": 8,
   "id": "3b1703ca-b54e-489e-b25a-b35b45d4da24",
   "metadata": {},
   "outputs": [
    {
     "name": "stdout",
     "output_type": "stream",
     "text": [
      "Ramesh 20\n",
      "Shuresh 22\n",
      "Mahesh 24\n",
      " the Mahesh age is : 24\n"
     ]
    }
   ],
   "source": [
    "names=['Ramesh','Shuresh','Mahesh']\n",
    "age= [ 20,22,24]\n",
    "for i in range(len(names)):\n",
    "    print(names[i],age[i])\n",
    "print(f\" the {names[i]} age is : {age[i]}\")"
   ]
  },
  {
   "cell_type": "code",
   "execution_count": 3,
   "id": "085e9a11-e3c1-4183-8c98-9c99767d4286",
   "metadata": {},
   "outputs": [
    {
     "name": "stdout",
     "output_type": "stream",
     "text": [
      "hyderabad 20\n",
      "mumbai 40\n",
      "chennai 32\n",
      "odisa 43\n",
      "The odisa age is : 43\n"
     ]
    }
   ],
   "source": [
    "l= ['hyderabad','mumbai','chennai','odisa']\n",
    "age= [20,40,32,43]\n",
    "for i in range(len(l)):\n",
    "    print(l[i],age[i])\n",
    "print(f\"The {l[i]} age is : {age[i]}\")"
   ]
  },
  {
   "cell_type": "markdown",
   "id": "c2e7e72a-e12c-4d75-90a4-b1ae35d90f54",
   "metadata": {},
   "source": [
    "**zip**"
   ]
  },
  {
   "cell_type": "code",
   "execution_count": 8,
   "id": "636863be-fbd7-4525-8adc-9c045b18b4ae",
   "metadata": {},
   "outputs": [],
   "source": [
    "names=['Ramesh','Shuresh','Mahesh']\n",
    "a= [ 20,22,24]\n",
    "# these two lists are together \n",
    "# Ramesh islated with 20\n",
    "# we can combined both in the form zip"
   ]
  },
  {
   "cell_type": "code",
   "execution_count": 9,
   "id": "4fdbc471-3170-49d7-b782-d20771121e9f",
   "metadata": {},
   "outputs": [
    {
     "name": "stdout",
     "output_type": "stream",
     "text": [
      "Ramesh 20\n",
      "Shuresh 22\n",
      "Mahesh 24\n"
     ]
    }
   ],
   "source": [
    "for i,j in zip(names,a):\n",
    "    print(i,j)"
   ]
  },
  {
   "cell_type": "code",
   "execution_count": 12,
   "id": "0370d1ad-27c2-4baa-b84c-2ff09f66bcd0",
   "metadata": {},
   "outputs": [],
   "source": [
    "names=['Dipak','Kishor','Pradip','Ravi']\n",
    "a= [22,21,20,30]"
   ]
  },
  {
   "cell_type": "code",
   "execution_count": 13,
   "id": "b1c3a8ab-dedf-4f20-93f8-55a43bdb1f69",
   "metadata": {},
   "outputs": [
    {
     "name": "stdout",
     "output_type": "stream",
     "text": [
      "Dipak 22\n",
      "Kishor 21\n",
      "Pradip 20\n",
      "Ravi 30\n"
     ]
    }
   ],
   "source": [
    "for i,s in zip (names,a):\n",
    "    print(i,s)"
   ]
  },
  {
   "cell_type": "code",
   "execution_count": 12,
   "id": "c7bc514b-af63-469e-a490-c9b3df5ab490",
   "metadata": {},
   "outputs": [
    {
     "name": "stdout",
     "output_type": "stream",
     "text": [
      "Ramesh\n",
      "Shuresh\n",
      "Mahesh\n"
     ]
    }
   ],
   "source": [
    "for i,j in zip(names,a):\n",
    "    print(i)"
   ]
  },
  {
   "cell_type": "markdown",
   "id": "cd5477dd-652f-481d-ac2f-ef6ba5a4c5c3",
   "metadata": {},
   "source": [
    "**pair concept**\n",
    "\n",
    "- dictionary is concept related pair the item\n",
    "\n",
    "- it is represent with curly braces:{}\n",
    "\n",
    "- two times : key and value\n",
    "\n",
    "- dictionary is called as {key:value} pair"
   ]
  },
  {
   "cell_type": "code",
   "execution_count": 13,
   "id": "1e593078-0bc6-47aa-abf4-37338b0e5b17",
   "metadata": {},
   "outputs": [
    {
     "data": {
      "text/plain": [
       "{'Ramesh': 20, 'Shuresh': 22, 'Mahesh': 24}"
      ]
     },
     "execution_count": 13,
     "metadata": {},
     "output_type": "execute_result"
    }
   ],
   "source": [
    "dict(zip(names,age))"
   ]
  },
  {
   "cell_type": "code",
   "execution_count": 14,
   "id": "573c6d19-ddfd-4755-b8a4-f2ca03b9565e",
   "metadata": {},
   "outputs": [
    {
     "data": {
      "text/plain": [
       "{'Ramesh': 20, 'Shuresh': 22, 'Mahesh': 24}"
      ]
     },
     "execution_count": 14,
     "metadata": {},
     "output_type": "execute_result"
    }
   ],
   "source": [
    "d={'Ramesh': 20, 'Shuresh': 22, 'Mahesh': 24}\n",
    "d"
   ]
  },
  {
   "cell_type": "code",
   "execution_count": 15,
   "id": "39b60fd6-5452-478b-a9da-c260f247ba5c",
   "metadata": {},
   "outputs": [],
   "source": [
    "# In above keys are : 'Ramesh','Shuresh','Mahesh'\n",
    "# value are : 20,22,24"
   ]
  },
  {
   "cell_type": "markdown",
   "id": "7a77689c-e8e9-4fec-8cf7-e284cfcb376a",
   "metadata": {},
   "source": [
    "**intialization**"
   ]
  },
  {
   "cell_type": "code",
   "execution_count": 18,
   "id": "3da80576-fb71-4920-9381-7e122a5c17d1",
   "metadata": {},
   "outputs": [
    {
     "data": {
      "text/plain": [
       "{20: 'Ramesh', 22: 'Shuresh', 24: 'Mahesh'}"
      ]
     },
     "execution_count": 18,
     "metadata": {},
     "output_type": "execute_result"
    }
   ],
   "source": [
    "d={20:'Ramesh', 22:'Shuresh',24: 'Mahesh'}\n",
    "d"
   ]
  },
  {
   "cell_type": "code",
   "execution_count": 4,
   "id": "dda17b55-c472-43b2-ba03-6b215c21d012",
   "metadata": {},
   "outputs": [],
   "source": [
    "d={'Ramesh': 20, 'Shuresh': 22, 'Mahesh': 24}\n",
    "d2={20:'Ramesh', 22:'Shuresh',24: 'Mahesh'}\n",
    "d3={'20':'Ramesh', '22':'Shuresh','24': 'Mahesh'}\n",
    "d4={20:20,22:20 ,24:24}\n",
    "d5={'ramesh': 20 , 'ramesh':24}  # letest value are ...\n",
    "d7={'ramesh': 20 , 'suresh':24}"
   ]
  },
  {
   "cell_type": "code",
   "execution_count": 5,
   "id": "d8dad554-c278-45db-aa6b-b2323f0584a1",
   "metadata": {},
   "outputs": [
    {
     "data": {
      "text/plain": [
       "3"
      ]
     },
     "execution_count": 5,
     "metadata": {},
     "output_type": "execute_result"
    }
   ],
   "source": [
    "d1={'Ramesh': 20, 'Shuresh': 22, 'Mahesh': 24}\n",
    "len(d1)"
   ]
  },
  {
   "cell_type": "code",
   "execution_count": 6,
   "id": "644b53bb-5dc8-4563-9671-aeec98cad13c",
   "metadata": {},
   "outputs": [
    {
     "data": {
      "text/plain": [
       "['Mahesh', 'Ramesh', 'Shuresh']"
      ]
     },
     "execution_count": 6,
     "metadata": {},
     "output_type": "execute_result"
    }
   ],
   "source": [
    "sorted(d1)"
   ]
  },
  {
   "cell_type": "code",
   "execution_count": 7,
   "id": "8f0d5951-7265-4f63-982f-928d4dc3f574",
   "metadata": {},
   "outputs": [
    {
     "data": {
      "text/plain": [
       "['Mahesh', 'Shuresh', 'Ramesh']"
      ]
     },
     "execution_count": 7,
     "metadata": {},
     "output_type": "execute_result"
    }
   ],
   "source": [
    "list(reversed(d1))"
   ]
  },
  {
   "cell_type": "code",
   "execution_count": 8,
   "id": "0a7be2a6-6451-4096-baba-d6d5f0bcb485",
   "metadata": {},
   "outputs": [],
   "source": [
    "d2={20:'Ramesh', 22:'Shuresh',24: 'Mahesh'}"
   ]
  },
  {
   "cell_type": "code",
   "execution_count": 9,
   "id": "e041f8e9-a86e-495b-b93a-66edc9570e57",
   "metadata": {},
   "outputs": [
    {
     "data": {
      "text/plain": [
       "20"
      ]
     },
     "execution_count": 9,
     "metadata": {},
     "output_type": "execute_result"
    }
   ],
   "source": [
    "min(d2)"
   ]
  },
  {
   "cell_type": "code",
   "execution_count": 10,
   "id": "d84e8fa5-a853-42c6-8516-144b7b71d53e",
   "metadata": {},
   "outputs": [
    {
     "data": {
      "text/plain": [
       "24"
      ]
     },
     "execution_count": 10,
     "metadata": {},
     "output_type": "execute_result"
    }
   ],
   "source": [
    "max(d2)"
   ]
  },
  {
   "cell_type": "code",
   "execution_count": 11,
   "id": "77b482b5-e7df-4480-a54d-e5d7c984b9ce",
   "metadata": {},
   "outputs": [
    {
     "data": {
      "text/plain": [
       "66"
      ]
     },
     "execution_count": 11,
     "metadata": {},
     "output_type": "execute_result"
    }
   ],
   "source": [
    "sum(d2)"
   ]
  },
  {
   "cell_type": "code",
   "execution_count": 12,
   "id": "4697355b-72f6-4773-ba44-769de0f4b8d6",
   "metadata": {},
   "outputs": [
    {
     "data": {
      "text/plain": [
       "[20, 22, 24]"
      ]
     },
     "execution_count": 12,
     "metadata": {},
     "output_type": "execute_result"
    }
   ],
   "source": [
    "sorted(d2)"
   ]
  },
  {
   "cell_type": "code",
   "execution_count": 13,
   "id": "08b0ccbe-1b71-4e4b-9bf2-1ecd85f4a962",
   "metadata": {},
   "outputs": [
    {
     "data": {
      "text/plain": [
       "[24, 22, 20]"
      ]
     },
     "execution_count": 13,
     "metadata": {},
     "output_type": "execute_result"
    }
   ],
   "source": [
    "list(reversed(d2))"
   ]
  },
  {
   "cell_type": "markdown",
   "id": "820eb25b-b40d-442e-a6e5-002d142f6acb",
   "metadata": {},
   "source": [
    "**keys are importenr**"
   ]
  },
  {
   "cell_type": "code",
   "execution_count": 14,
   "id": "de5ac88e-89fa-4af3-bf56-c650a3d719be",
   "metadata": {},
   "outputs": [],
   "source": [
    "a= {\n",
    "    \"dipak\",44\n",
    "}"
   ]
  },
  {
   "cell_type": "code",
   "execution_count": 1,
   "id": "3b26a5cf-1fe3-4801-84c8-9481735cefa1",
   "metadata": {},
   "outputs": [
    {
     "ename": "TypeError",
     "evalue": "unhashable type: 'list'",
     "output_type": "error",
     "traceback": [
      "\u001b[1;31m---------------------------------------------------------------------------\u001b[0m",
      "\u001b[1;31mTypeError\u001b[0m                                 Traceback (most recent call last)",
      "Cell \u001b[1;32mIn[1], line 1\u001b[0m\n\u001b[1;32m----> 1\u001b[0m a\u001b[38;5;241m=\u001b[39m{\n\u001b[0;32m      2\u001b[0m     [\u001b[38;5;241m1\u001b[39m,\u001b[38;5;241m2\u001b[39m,\u001b[38;5;241m3\u001b[39m,\u001b[38;5;241m4\u001b[39m,\u001b[38;5;241m5\u001b[39m]:\u001b[38;5;124m\"\u001b[39m\u001b[38;5;124mdipak\u001b[39m\u001b[38;5;124m\"\u001b[39m\n\u001b[0;32m      3\u001b[0m }\n",
      "\u001b[1;31mTypeError\u001b[0m: unhashable type: 'list'"
     ]
    }
   ],
   "source": [
    "a={\n",
    "    [1,2,3,4,5]:\"dipak\"\n",
    "}"
   ]
  },
  {
   "cell_type": "code",
   "execution_count": 2,
   "id": "2d873af1-70ec-4a52-952f-20dc15739793",
   "metadata": {},
   "outputs": [],
   "source": [
    "a={\n",
    "    \"dipak\":[1,2,3,4,]\n",
    "}"
   ]
  },
  {
   "cell_type": "code",
   "execution_count": 3,
   "id": "3c3a2b30-4aef-422c-913f-c63cc70e3fa5",
   "metadata": {},
   "outputs": [],
   "source": [
    "a={\n",
    "    (\"dipak\",55)\n",
    "}"
   ]
  },
  {
   "cell_type": "code",
   "execution_count": 4,
   "id": "3476f778-4347-4b20-a4ad-8c7536f69d92",
   "metadata": {},
   "outputs": [],
   "source": [
    "d={'Ramesh':20 , 'Ramesh':22}"
   ]
  },
  {
   "cell_type": "code",
   "execution_count": 5,
   "id": "95245948-e3fa-4ab9-9665-8ddeb85ee33b",
   "metadata": {},
   "outputs": [
    {
     "data": {
      "text/plain": [
       "{'Ramesh': 22}"
      ]
     },
     "execution_count": 5,
     "metadata": {},
     "output_type": "execute_result"
    }
   ],
   "source": [
    "d"
   ]
  },
  {
   "cell_type": "code",
   "execution_count": 6,
   "id": "a2ed4ccf-4f3a-4a68-991b-3c18c7abc876",
   "metadata": {},
   "outputs": [],
   "source": [
    "d7={'ramesh': 20 , 'suresh':24}"
   ]
  },
  {
   "cell_type": "code",
   "execution_count": 7,
   "id": "56a020ed-0f47-4fd8-9c67-1acc8052a940",
   "metadata": {},
   "outputs": [
    {
     "data": {
      "text/plain": [
       "{'ramesh': 20, 'suresh': 24}"
      ]
     },
     "execution_count": 7,
     "metadata": {},
     "output_type": "execute_result"
    }
   ],
   "source": [
    "d7"
   ]
  },
  {
   "cell_type": "code",
   "execution_count": null,
   "id": "aece77d8-bcfe-44d8-b3cf-46a7544de795",
   "metadata": {},
   "outputs": [],
   "source": [
    "{<list>:<value>} # fail mutable\n",
    "{<tuple>:<value>} # work immutable\n",
    "{}"
   ]
  },
  {
   "cell_type": "markdown",
   "id": "163f89d4-2934-4365-993e-6155bb9532d8",
   "metadata": {},
   "source": [
    "**concatnation**"
   ]
  },
  {
   "cell_type": "code",
   "execution_count": 9,
   "id": "a525a258-5fbb-4181-861a-19a651fd6e7a",
   "metadata": {},
   "outputs": [
    {
     "ename": "TypeError",
     "evalue": "unsupported operand type(s) for +: 'dict' and 'dict'",
     "output_type": "error",
     "traceback": [
      "\u001b[1;31m---------------------------------------------------------------------------\u001b[0m",
      "\u001b[1;31mTypeError\u001b[0m                                 Traceback (most recent call last)",
      "Cell \u001b[1;32mIn[9], line 3\u001b[0m\n\u001b[0;32m      1\u001b[0m d1\u001b[38;5;241m=\u001b[39m{\u001b[38;5;124m'\u001b[39m\u001b[38;5;124mRamesh\u001b[39m\u001b[38;5;124m'\u001b[39m: \u001b[38;5;241m20\u001b[39m, \u001b[38;5;124m'\u001b[39m\u001b[38;5;124mShuresh\u001b[39m\u001b[38;5;124m'\u001b[39m: \u001b[38;5;241m22\u001b[39m, \u001b[38;5;124m'\u001b[39m\u001b[38;5;124mMahesh\u001b[39m\u001b[38;5;124m'\u001b[39m: \u001b[38;5;241m24\u001b[39m}\n\u001b[0;32m      2\u001b[0m d2\u001b[38;5;241m=\u001b[39m{\u001b[38;5;241m20\u001b[39m:\u001b[38;5;124m'\u001b[39m\u001b[38;5;124mRamesh\u001b[39m\u001b[38;5;124m'\u001b[39m, \u001b[38;5;241m22\u001b[39m:\u001b[38;5;124m'\u001b[39m\u001b[38;5;124mShuresh\u001b[39m\u001b[38;5;124m'\u001b[39m,\u001b[38;5;241m24\u001b[39m: \u001b[38;5;124m'\u001b[39m\u001b[38;5;124mMahesh\u001b[39m\u001b[38;5;124m'\u001b[39m}\n\u001b[1;32m----> 3\u001b[0m d1\u001b[38;5;241m+\u001b[39md2\n",
      "\u001b[1;31mTypeError\u001b[0m: unsupported operand type(s) for +: 'dict' and 'dict'"
     ]
    }
   ],
   "source": [
    "d1={'Ramesh': 20, 'Shuresh': 22, 'Mahesh': 24}\n",
    "d2={20:'Ramesh', 22:'Shuresh',24: 'Mahesh'}\n",
    "d1+d2"
   ]
  },
  {
   "cell_type": "code",
   "execution_count": null,
   "id": "3f1525b8-f020-43bb-85a3-b956df4eed50",
   "metadata": {},
   "outputs": [],
   "source": [
    "d1={'Ramesh': 20, 'Shuresh': 22, 'Mahesh': 24}"
   ]
  },
  {
   "cell_type": "code",
   "execution_count": 62,
   "id": "e32e9b22-5465-49a9-8582-08aeda59877a",
   "metadata": {},
   "outputs": [],
   "source": [
    "a={\n",
    "    \"dipak\":55,\n",
    "    \"rahul\":44,\n",
    "    \"kishor\":33\n",
    "}"
   ]
  },
  {
   "cell_type": "code",
   "execution_count": 63,
   "id": "3529b4bd-4bb6-4385-8639-82061ac91abe",
   "metadata": {},
   "outputs": [
    {
     "data": {
      "text/plain": [
       "True"
      ]
     },
     "execution_count": 63,
     "metadata": {},
     "output_type": "execute_result"
    }
   ],
   "source": [
    "\"dipak\" in a"
   ]
  },
  {
   "cell_type": "code",
   "execution_count": 64,
   "id": "d564ecad-99d3-4b15-8b69-f7d7b5e48bfb",
   "metadata": {},
   "outputs": [
    {
     "name": "stdout",
     "output_type": "stream",
     "text": [
      "dipak\n",
      "rahul\n",
      "kishor\n"
     ]
    }
   ],
   "source": [
    "for i in a:\n",
    "    print(i)"
   ]
  },
  {
   "cell_type": "code",
   "execution_count": 65,
   "id": "b5fbe0ab-a479-4f63-a1d6-db4744af265c",
   "metadata": {},
   "outputs": [
    {
     "name": "stdout",
     "output_type": "stream",
     "text": [
      "dipak 55\n",
      "rahul 44\n",
      "kishor 33\n"
     ]
    }
   ],
   "source": [
    "for i in a:\n",
    "    print(i,a[i])"
   ]
  },
  {
   "cell_type": "code",
   "execution_count": 66,
   "id": "18abeda1-7912-40f0-9f73-7e7575abc05d",
   "metadata": {},
   "outputs": [],
   "source": [
    "a=['dipak']"
   ]
  },
  {
   "cell_type": "code",
   "execution_count": 71,
   "id": "b8336b74-92e4-43e6-b49c-7b81f3e2f75c",
   "metadata": {},
   "outputs": [
    {
     "data": {
      "text/plain": [
       "24"
      ]
     },
     "execution_count": 71,
     "metadata": {},
     "output_type": "execute_result"
    }
   ],
   "source": [
    "d1={'Ramesh': 20, 'Suresh': 22, 'Mahesh': 24}\n",
    "d1['Ramesh']\n",
    "d1['Suresh']\n",
    "d1['Mahesh']"
   ]
  },
  {
   "cell_type": "markdown",
   "id": "bb48318b-cc56-4e46-960b-415359d2cae8",
   "metadata": {},
   "source": [
    "**Empty dictionary**"
   ]
  },
  {
   "cell_type": "code",
   "execution_count": 72,
   "id": "7e22e17c-a2e2-4f94-a2b3-3268ea314da5",
   "metadata": {},
   "outputs": [
    {
     "data": {
      "text/plain": [
       "'a'"
      ]
     },
     "execution_count": 72,
     "metadata": {},
     "output_type": "execute_result"
    }
   ],
   "source": [
    "s=' '\n",
    "s=s='a'\n",
    "s"
   ]
  },
  {
   "cell_type": "code",
   "execution_count": 74,
   "id": "a8ff0f6f-220d-478a-8fd5-ed7e6bdc0afa",
   "metadata": {},
   "outputs": [
    {
     "data": {
      "text/plain": [
       "[30]"
      ]
     },
     "execution_count": 74,
     "metadata": {},
     "output_type": "execute_result"
    }
   ],
   "source": [
    "l=[]\n",
    "l.append(30)\n",
    "l"
   ]
  },
  {
   "cell_type": "code",
   "execution_count": 76,
   "id": "aeff70ee-26ad-4856-b735-5b62a43334db",
   "metadata": {},
   "outputs": [
    {
     "data": {
      "text/plain": [
       "{'Ramesh': 20, 'Suresh': 22}"
      ]
     },
     "execution_count": 76,
     "metadata": {},
     "output_type": "execute_result"
    }
   ],
   "source": [
    "d={}\n",
    "d['Ramesh']=20\n",
    "d['Suresh']=22\n",
    "d"
   ]
  },
  {
   "cell_type": "code",
   "execution_count": 82,
   "id": "38f20376-3a05-4d4e-a042-a049ee237960",
   "metadata": {},
   "outputs": [
    {
     "data": {
      "text/plain": [
       "{'Suresh': 20, 'Ramesh': 22, 'Mahesh': 24}"
      ]
     },
     "execution_count": 82,
     "metadata": {},
     "output_type": "execute_result"
    }
   ],
   "source": [
    "name={'Ramesh','Suresh', 'Mahesh'}\n",
    "age=[20,22,24]\n",
    "d={}\n",
    "for i,j in zip(name,age):\n",
    "    d[i]=j\n",
    "\n",
    "d"
   ]
  },
  {
   "cell_type": "code",
   "execution_count": 83,
   "id": "da2d7bca-e050-463a-85cf-c02b54d6b4ce",
   "metadata": {},
   "outputs": [
    {
     "data": {
      "text/plain": [
       "{'Ramesh': 20, 'Suresh': 22, 'Mahesh': 24}"
      ]
     },
     "execution_count": 83,
     "metadata": {},
     "output_type": "execute_result"
    }
   ],
   "source": [
    "d1"
   ]
  },
  {
   "cell_type": "code",
   "execution_count": 85,
   "id": "75c7ca27-aeba-4252-b636-cf5719c403aa",
   "metadata": {},
   "outputs": [
    {
     "data": {
      "text/plain": [
       "{'Mahesh', 'Ramesh', 'Suresh'}"
      ]
     },
     "execution_count": 85,
     "metadata": {},
     "output_type": "execute_result"
    }
   ],
   "source": [
    "names=[]\n",
    "age=[]\n",
    "for key in d1:\n",
    "    names.append(key)\n",
    "    age.append(d1[key])\n",
    "\n",
    "name"
   ]
  },
  {
   "cell_type": "markdown",
   "id": "83c76b98-0e8a-49b1-a7ea-0cc4208c083f",
   "metadata": {},
   "source": [
    "**mutable-immutable**"
   ]
  },
  {
   "cell_type": "markdown",
   "id": "d53731c5-dbff-419f-be1d-8aa826ff5153",
   "metadata": {},
   "source": [
    "- we need to change the value of a specific key then it is consider as mutable "
   ]
  },
  {
   "cell_type": "code",
   "execution_count": 16,
   "id": "8e7a121d-80bb-4e56-a8e8-399292e16adb",
   "metadata": {},
   "outputs": [
    {
     "data": {
      "text/plain": [
       "{'Ramesh': 22}"
      ]
     },
     "execution_count": 16,
     "metadata": {},
     "output_type": "execute_result"
    }
   ],
   "source": [
    "{\"Ramesh\":20 ,\"Ramesh\":22}"
   ]
  },
  {
   "cell_type": "code",
   "execution_count": 17,
   "id": "fb32545e-7c05-45e0-afd7-3eddb8f74155",
   "metadata": {},
   "outputs": [
    {
     "data": {
      "text/plain": [
       "{'Ramesh': 25}"
      ]
     },
     "execution_count": 17,
     "metadata": {},
     "output_type": "execute_result"
    }
   ],
   "source": [
    "d={}\n",
    "d['Ramesh']=25\n",
    "d"
   ]
  },
  {
   "cell_type": "code",
   "execution_count": 18,
   "id": "e1e67672-0c2e-4107-8a61-625a7b6e7d16",
   "metadata": {},
   "outputs": [
    {
     "data": {
      "text/plain": [
       "{'Ramesh': 30}"
      ]
     },
     "execution_count": 18,
     "metadata": {},
     "output_type": "execute_result"
    }
   ],
   "source": [
    "d['Ramesh']=30\n",
    "d"
   ]
  },
  {
   "cell_type": "code",
   "execution_count": 19,
   "id": "e82ba24d-c31f-4ddc-8e72-8bc932a617a6",
   "metadata": {},
   "outputs": [
    {
     "data": {
      "text/plain": [
       "{'Ramesh': 20, 'Suresh': 22, 'Mahesh': 24}"
      ]
     },
     "execution_count": 19,
     "metadata": {},
     "output_type": "execute_result"
    }
   ],
   "source": [
    "d1={'Ramesh': 20, 'Suresh': 22, 'Mahesh': 24}\n",
    "d1"
   ]
  },
  {
   "cell_type": "code",
   "execution_count": 20,
   "id": "99ca3e6b-a7f8-4120-a3b6-46330fb48a9e",
   "metadata": {},
   "outputs": [
    {
     "data": {
      "text/plain": [
       "{'Ramesh': 20, 'Suresh': 22, 'Mahesh': 34}"
      ]
     },
     "execution_count": 20,
     "metadata": {},
     "output_type": "execute_result"
    }
   ],
   "source": [
    "d1['Mahesh']=34\n",
    "d1"
   ]
  },
  {
   "cell_type": "code",
   "execution_count": 25,
   "id": "2bc50351-02c0-49f5-8a93-eee4d4dad9aa",
   "metadata": {},
   "outputs": [
    {
     "ename": "KeyError",
     "evalue": "slice(0, 2, None)",
     "output_type": "error",
     "traceback": [
      "\u001b[1;31m---------------------------------------------------------------------------\u001b[0m",
      "\u001b[1;31mKeyError\u001b[0m                                  Traceback (most recent call last)",
      "Cell \u001b[1;32mIn[25], line 1\u001b[0m\n\u001b[1;32m----> 1\u001b[0m d1[\u001b[38;5;241m0\u001b[39m:\u001b[38;5;241m2\u001b[39m]\n",
      "\u001b[1;31mKeyError\u001b[0m: slice(0, 2, None)"
     ]
    }
   ],
   "source": [
    "d1[0:2]"
   ]
  },
  {
   "cell_type": "markdown",
   "id": "c4da316e-ede1-4fa1-a8aa-b42e19a76c50",
   "metadata": {},
   "source": [
    "**slice is not possible becuase in Dictionry only-value concept**"
   ]
  },
  {
   "cell_type": "code",
   "execution_count": 29,
   "id": "98ee66b7-b20d-4b18-b90b-56a56a490c3e",
   "metadata": {},
   "outputs": [
    {
     "data": {
      "text/plain": [
       "'apple'"
      ]
     },
     "execution_count": 29,
     "metadata": {},
     "output_type": "execute_result"
    }
   ],
   "source": [
    "dict1={'fruites': 'apple'}\n",
    "dict1['fruites']"
   ]
  },
  {
   "cell_type": "code",
   "execution_count": 36,
   "id": "f45046d0-af06-4960-8a61-fceb026c2d2c",
   "metadata": {},
   "outputs": [
    {
     "data": {
      "text/plain": [
       "'cherry'"
      ]
     },
     "execution_count": 36,
     "metadata": {},
     "output_type": "execute_result"
    }
   ],
   "source": [
    "dict1={'fruites': ['apple','cherry']}\n",
    "# key: fruites value : [apple]\n",
    "dict1['fruites'][1]"
   ]
  },
  {
   "cell_type": "code",
   "execution_count": 42,
   "id": "3d91f6f7-7408-4871-a9e4-4de39763d2d1",
   "metadata": {},
   "outputs": [
    {
     "data": {
      "text/plain": [
       "'banana'"
      ]
     },
     "execution_count": 42,
     "metadata": {},
     "output_type": "execute_result"
    }
   ],
   "source": [
    "dict1={'fruites': ['apple','cherry','banana'],\n",
    "       'cost': [20,5,2]}\n",
    "\n",
    "# which is the lower cost that item should come \n",
    "# step-1: extract cost list \n",
    "# step-2: apply min (list) 2\n",
    "# step-3: extract the index using list.index(min): id=2\n",
    "# step-4: extract the fruite list \n",
    "# step-5: apply that id \n",
    "\n",
    "\n",
    "l=dict1['cost']\n",
    "MIN=min(l)\n",
    "ID= l.index(MIN)\n",
    "dict1['fruites'][ID]"
   ]
  },
  {
   "cell_type": "code",
   "execution_count": 9,
   "id": "a245a228-b902-4d1b-ad63-4accbf0ea33d",
   "metadata": {},
   "outputs": [
    {
     "data": {
      "text/plain": [
       "'licchi'"
      ]
     },
     "execution_count": 9,
     "metadata": {},
     "output_type": "execute_result"
    }
   ],
   "source": [
    "dict2={'fruite': ['apple','banana','mango','licchi','cherry'],\n",
    "       \n",
    "       'cost': [50,30,55,70,60]} # user can change it anytime \n",
    "\n",
    "\n",
    "l=dict2['cost']\n",
    "MAX=max(l)\n",
    "ID= l.index(MAX)\n",
    "dict2['fruite'][ID]"
   ]
  },
  {
   "cell_type": "code",
   "execution_count": 16,
   "id": "8aa41472-d379-458e-8083-4f6fd175c47f",
   "metadata": {},
   "outputs": [
    {
     "data": {
      "text/plain": [
       "'licchi'"
      ]
     },
     "execution_count": 16,
     "metadata": {},
     "output_type": "execute_result"
    }
   ],
   "source": [
    "dict3={'fruite': ['apple','banana','mango','licchi','cherry'],\n",
    "       'cost': [50,30,55,70,60]}\n",
    "\n",
    "\n",
    "l=dict3['cost']\n",
    "MAX=max(l)\n",
    "ID= l.index(MAX)\n",
    "dict3['fruite'][ID]"
   ]
  },
  {
   "cell_type": "code",
   "execution_count": 20,
   "id": "f2ab9157-65a9-4a14-a550-c4dab128410b",
   "metadata": {},
   "outputs": [
    {
     "data": {
      "text/plain": [
       "'cherry'"
      ]
     },
     "execution_count": 20,
     "metadata": {},
     "output_type": "execute_result"
    }
   ],
   "source": [
    "dict2={'fruites': [{'item':['apple','cherry','banana','cherry']}]}\n",
    "dict2['fruites'][0]['item'][3]"
   ]
  },
  {
   "cell_type": "code",
   "execution_count": 53,
   "id": "11897de3-1e09-4bb1-8b0e-ec889ef5969f",
   "metadata": {},
   "outputs": [
    {
     "data": {
      "text/plain": [
       "'cherry'"
      ]
     },
     "execution_count": 53,
     "metadata": {},
     "output_type": "execute_result"
    }
   ],
   "source": [
    "dict1={'fruites': [{'item':['apple','cherry']}]}\n",
    "dict1['fruites'][0]['item'][1]\n"
   ]
  },
  {
   "cell_type": "code",
   "execution_count": 7,
   "id": "fd3f6dbf-7fe1-4651-8af8-aecfb38d630b",
   "metadata": {},
   "outputs": [
    {
     "data": {
      "text/plain": [
       "'aplle'"
      ]
     },
     "execution_count": 7,
     "metadata": {},
     "output_type": "execute_result"
    }
   ],
   "source": [
    "d={'fruites':{'items':'aplle'}}\n",
    "d['fruites']['items']"
   ]
  },
  {
   "cell_type": "code",
   "execution_count": 2,
   "id": "2c9f5ca2-7ea0-44cd-8d9e-16aef54cf05a",
   "metadata": {},
   "outputs": [
    {
     "data": {
      "text/plain": [
       "'viky'"
      ]
     },
     "execution_count": 2,
     "metadata": {},
     "output_type": "execute_result"
    }
   ],
   "source": [
    "d={'Fruites':[{'items':[{'orange':\n",
    "                         [{'Nagpur':\n",
    "                           [{'MH':\n",
    "                             [{'king':\n",
    "                               [{'shivaji':\n",
    "                                 [{'son':\n",
    "                                   [{'shambaji':\n",
    "                                     [{'chava':'viky'}]}]}\n",
    "                                 ]}]}]}]}\n",
    "                         ]}\n",
    "                       ]}\n",
    "             ]}\n",
    "d['Fruites'][0]['items'][0]['orange'][0]['Nagpur'][0]['MH'][0]['king'][0]['shivaji'][0]['son'][0]['shambaji'][0]['chava']"
   ]
  },
  {
   "cell_type": "code",
   "execution_count": null,
   "id": "9898c04a-c737-4e05-a8e4-04e79096a52b",
   "metadata": {},
   "outputs": [],
   "source": []
  },
  {
   "cell_type": "code",
   "execution_count": 68,
   "id": "c90dfd29-4dec-4402-b446-84edeb85333c",
   "metadata": {},
   "outputs": [
    {
     "data": {
      "text/plain": [
       "['__class__',\n",
       " '__class_getitem__',\n",
       " '__contains__',\n",
       " '__delattr__',\n",
       " '__delitem__',\n",
       " '__dir__',\n",
       " '__doc__',\n",
       " '__eq__',\n",
       " '__format__',\n",
       " '__ge__',\n",
       " '__getattribute__',\n",
       " '__getitem__',\n",
       " '__getstate__',\n",
       " '__gt__',\n",
       " '__hash__',\n",
       " '__init__',\n",
       " '__init_subclass__',\n",
       " '__ior__',\n",
       " '__iter__',\n",
       " '__le__',\n",
       " '__len__',\n",
       " '__lt__',\n",
       " '__ne__',\n",
       " '__new__',\n",
       " '__or__',\n",
       " '__reduce__',\n",
       " '__reduce_ex__',\n",
       " '__repr__',\n",
       " '__reversed__',\n",
       " '__ror__',\n",
       " '__setattr__',\n",
       " '__setitem__',\n",
       " '__sizeof__',\n",
       " '__str__',\n",
       " '__subclasshook__',\n",
       " 'clear',\n",
       " 'copy',\n",
       " 'fromkeys',\n",
       " 'get',\n",
       " 'items',\n",
       " 'keys',\n",
       " 'pop',\n",
       " 'popitem',\n",
       " 'setdefault',\n",
       " 'update',\n",
       " 'values']"
      ]
     },
     "execution_count": 68,
     "metadata": {},
     "output_type": "execute_result"
    }
   ],
   "source": [
    "dir(dict1)"
   ]
  },
  {
   "cell_type": "code",
   "execution_count": null,
   "id": "cf27b208-931c-4cc6-a8e1-bc38b9895021",
   "metadata": {},
   "outputs": [],
   "source": []
  }
 ],
 "metadata": {
  "kernelspec": {
   "display_name": "Python [conda env:base] *",
   "language": "python",
   "name": "conda-base-py"
  },
  "language_info": {
   "codemirror_mode": {
    "name": "ipython",
    "version": 3
   },
   "file_extension": ".py",
   "mimetype": "text/x-python",
   "name": "python",
   "nbconvert_exporter": "python",
   "pygments_lexer": "ipython3",
   "version": "3.13.5"
  }
 },
 "nbformat": 4,
 "nbformat_minor": 5
}
