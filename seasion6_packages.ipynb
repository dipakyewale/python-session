{
 "cells": [
  {
   "cell_type": "code",
   "execution_count": null,
   "id": "53f44ef0-e41d-48aa-8e10-398c84a99a1f",
   "metadata": {},
   "outputs": [],
   "source": [
    "ramesh is the very good student \n",
    "he developed a python addition code\n",
    "\n",
    "a=10\n",
    "b=20\n",
    "c=a+b\n",
    "c\n",
    "wow this code is working \n",
    "this addition code no one implemented\n",
    "charity===\n",
    "\n",
    "he decided to give the code to the entire world\n",
    "he approached the anaconda organization\n",
    "\n",
    "anaconda also liked they agreed \n",
    "okay ramesh we will take your code \n",
    "\n",
    "Ramesh====anaconda how can i give my package \n",
    "\n",
    "mom who evar installed anaconda softwere\n",
    "my package also should installed\n",
    "\n",
    "when anaconda green color 2-5mins"
   ]
  },
  {
   "cell_type": "code",
   "execution_count": null,
   "id": "3c5132fb-1d25-4d7e-b393-80224b0d0380",
   "metadata": {},
   "outputs": [],
   "source": [
    "package: ADDITION \n",
    "\n",
    "\n",
    "suresh new === anaconda softwere\n",
    "   ADDITION PACKAGES IS AVALABLE IN SURESH LAPTOP"
   ]
  },
  {
   "cell_type": "code",
   "execution_count": null,
   "id": "251bed23-b66a-4b46-ae52-9c1675f4488f",
   "metadata": {},
   "outputs": [],
   "source": [
    "import<packeges name>\n",
    "import ADDITION"
   ]
  },
  {
   "cell_type": "code",
   "execution_count": 32,
   "id": "54422e36-204f-4c5a-9cac-d1b8d198ec6d",
   "metadata": {},
   "outputs": [
    {
     "ename": "ModuleNotFoundError",
     "evalue": "No module named 'ADDITION'",
     "output_type": "error",
     "traceback": [
      "\u001b[1;31m---------------------------------------------------------------------------\u001b[0m",
      "\u001b[1;31mModuleNotFoundError\u001b[0m                       Traceback (most recent call last)",
      "Cell \u001b[1;32mIn[32], line 1\u001b[0m\n\u001b[1;32m----> 1\u001b[0m \u001b[38;5;28;01mimport\u001b[39;00m\u001b[38;5;250m \u001b[39m\u001b[38;5;21;01mADDITION\u001b[39;00m\n",
      "\u001b[1;31mModuleNotFoundError\u001b[0m: No module named 'ADDITION'"
     ]
    }
   ],
   "source": [
    "import ADDITION"
   ]
  },
  {
   "cell_type": "code",
   "execution_count": 31,
   "id": "7499a375-25fb-44b4-b16d-3fdc9f8ef2dc",
   "metadata": {},
   "outputs": [],
   "source": [
    "# packege name : random \n",
    "import random"
   ]
  },
  {
   "cell_type": "code",
   "execution_count": 11,
   "id": "5218f1a3-1983-4b09-b544-3b56fd63db35",
   "metadata": {},
   "outputs": [],
   "source": [
    "# packege name : math \n",
    "import math"
   ]
  },
  {
   "cell_type": "code",
   "execution_count": 12,
   "id": "0d4c0990-0f11-410f-9765-5bacc3155cb8",
   "metadata": {},
   "outputs": [],
   "source": [
    "# packege name: time \n",
    "import time "
   ]
  },
  {
   "cell_type": "code",
   "execution_count": 33,
   "id": "4c5c1b08-4a58-4a6e-b04a-691da0a3d151",
   "metadata": {},
   "outputs": [
    {
     "ename": "ModuleNotFoundError",
     "evalue": "No module named 'cv2'",
     "output_type": "error",
     "traceback": [
      "\u001b[1;31m---------------------------------------------------------------------------\u001b[0m",
      "\u001b[1;31mModuleNotFoundError\u001b[0m                       Traceback (most recent call last)",
      "Cell \u001b[1;32mIn[33], line 2\u001b[0m\n\u001b[0;32m      1\u001b[0m \u001b[38;5;66;03m#packege name: cv2           (computer version)\u001b[39;00m\n\u001b[1;32m----> 2\u001b[0m \u001b[38;5;28;01mimport\u001b[39;00m\u001b[38;5;250m \u001b[39m\u001b[38;5;21;01mcv2\u001b[39;00m\n",
      "\u001b[1;31mModuleNotFoundError\u001b[0m: No module named 'cv2'"
     ]
    }
   ],
   "source": [
    "#packege name: cv2           (computer version)\n",
    "import cv2\n"
   ]
  },
  {
   "cell_type": "code",
   "execution_count": 5,
   "id": "d0eedec5-478a-4906-80db-50ce63e3e966",
   "metadata": {},
   "outputs": [],
   "source": [
    "import random"
   ]
  },
  {
   "cell_type": "code",
   "execution_count": 6,
   "id": "162429ef-16c2-4cfc-af5f-631bd5746fb7",
   "metadata": {},
   "outputs": [
    {
     "data": {
      "text/plain": [
       "<module 'random' from 'C:\\\\Users\\\\hp\\\\anaconda3\\\\Lib\\\\random.py'>"
      ]
     },
     "execution_count": 6,
     "metadata": {},
     "output_type": "execute_result"
    }
   ],
   "source": [
    "random"
   ]
  },
  {
   "cell_type": "code",
   "execution_count": 3,
   "id": "d09e0af3-6c92-4201-b9e4-ecda7e4651da",
   "metadata": {},
   "outputs": [],
   "source": [
    "# step1: we got some idea about module or packeges\n",
    "# step2: we know how to use : import  <packase>\n"
   ]
  },
  {
   "cell_type": "code",
   "execution_count": null,
   "id": "22cabf4d-0b68-461b-92c2-3e0f45bd4b64",
   "metadata": {},
   "outputs": [],
   "source": [
    "Ramesh is very happy \n",
    "addition \n",
    "multiplication \n",
    "substraction \n",
    "division\n",
    "\n",
    "anaconda \n",
    "\n",
    "hey ramesh how you want shere again\n"
   ]
  },
  {
   "cell_type": "code",
   "execution_count": null,
   "id": "17a628aa-f98c-41e4-aa88-05f3da5b0ef9",
   "metadata": {},
   "outputs": [],
   "source": [
    "case-1: keep all add sub mul div in one python file \n",
    "case-2: create each seperate file then\n",
    "        keep in a box give to me "
   ]
  },
  {
   "cell_type": "code",
   "execution_count": null,
   "id": "786cb56c-f220-435a-adb8-6342cf920a9a",
   "metadata": {},
   "outputs": [],
   "source": [
    "# we linked first one \n",
    "# module \n",
    "# single python file \n",
    "# module: mathfunction  uncle \n",
    "# add\n",
    "# sub\n",
    "# div\n",
    "# mul"
   ]
  },
  {
   "cell_type": "code",
   "execution_count": 7,
   "id": "4df3f89e-9d03-4178-badd-8e6bbdc13341",
   "metadata": {},
   "outputs": [
    {
     "data": {
      "text/plain": [
       "['BPF',\n",
       " 'LOG4',\n",
       " 'NV_MAGICCONST',\n",
       " 'RECIP_BPF',\n",
       " 'Random',\n",
       " 'SG_MAGICCONST',\n",
       " 'SystemRandom',\n",
       " 'TWOPI',\n",
       " '_ONE',\n",
       " '_Sequence',\n",
       " '__all__',\n",
       " '__builtins__',\n",
       " '__cached__',\n",
       " '__doc__',\n",
       " '__file__',\n",
       " '__loader__',\n",
       " '__name__',\n",
       " '__package__',\n",
       " '__spec__',\n",
       " '_accumulate',\n",
       " '_acos',\n",
       " '_bisect',\n",
       " '_ceil',\n",
       " '_cos',\n",
       " '_e',\n",
       " '_exp',\n",
       " '_fabs',\n",
       " '_floor',\n",
       " '_index',\n",
       " '_inst',\n",
       " '_isfinite',\n",
       " '_lgamma',\n",
       " '_log',\n",
       " '_log2',\n",
       " '_os',\n",
       " '_parse_args',\n",
       " '_pi',\n",
       " '_random',\n",
       " '_repeat',\n",
       " '_sha512',\n",
       " '_sin',\n",
       " '_sqrt',\n",
       " '_test',\n",
       " '_test_generator',\n",
       " '_urandom',\n",
       " 'betavariate',\n",
       " 'binomialvariate',\n",
       " 'choice',\n",
       " 'choices',\n",
       " 'expovariate',\n",
       " 'gammavariate',\n",
       " 'gauss',\n",
       " 'getrandbits',\n",
       " 'getstate',\n",
       " 'lognormvariate',\n",
       " 'main',\n",
       " 'normalvariate',\n",
       " 'paretovariate',\n",
       " 'randbytes',\n",
       " 'randint',\n",
       " 'random',\n",
       " 'randrange',\n",
       " 'sample',\n",
       " 'seed',\n",
       " 'setstate',\n",
       " 'shuffle',\n",
       " 'triangular',\n",
       " 'uniform',\n",
       " 'vonmisesvariate',\n",
       " 'weibullvariate']"
      ]
     },
     "execution_count": 7,
     "metadata": {},
     "output_type": "execute_result"
    }
   ],
   "source": [
    "import random\n",
    "dir (random)"
   ]
  },
  {
   "cell_type": "code",
   "execution_count": 8,
   "id": "36cd165a-e898-4805-a42e-20d49945f015",
   "metadata": {},
   "outputs": [
    {
     "data": {
      "text/plain": [
       "['__doc__',\n",
       " '__loader__',\n",
       " '__name__',\n",
       " '__package__',\n",
       " '__spec__',\n",
       " 'acos',\n",
       " 'acosh',\n",
       " 'asin',\n",
       " 'asinh',\n",
       " 'atan',\n",
       " 'atan2',\n",
       " 'atanh',\n",
       " 'cbrt',\n",
       " 'ceil',\n",
       " 'comb',\n",
       " 'copysign',\n",
       " 'cos',\n",
       " 'cosh',\n",
       " 'degrees',\n",
       " 'dist',\n",
       " 'e',\n",
       " 'erf',\n",
       " 'erfc',\n",
       " 'exp',\n",
       " 'exp2',\n",
       " 'expm1',\n",
       " 'fabs',\n",
       " 'factorial',\n",
       " 'floor',\n",
       " 'fma',\n",
       " 'fmod',\n",
       " 'frexp',\n",
       " 'fsum',\n",
       " 'gamma',\n",
       " 'gcd',\n",
       " 'hypot',\n",
       " 'inf',\n",
       " 'isclose',\n",
       " 'isfinite',\n",
       " 'isinf',\n",
       " 'isnan',\n",
       " 'isqrt',\n",
       " 'lcm',\n",
       " 'ldexp',\n",
       " 'lgamma',\n",
       " 'log',\n",
       " 'log10',\n",
       " 'log1p',\n",
       " 'log2',\n",
       " 'modf',\n",
       " 'nan',\n",
       " 'nextafter',\n",
       " 'perm',\n",
       " 'pi',\n",
       " 'pow',\n",
       " 'prod',\n",
       " 'radians',\n",
       " 'remainder',\n",
       " 'sin',\n",
       " 'sinh',\n",
       " 'sqrt',\n",
       " 'sumprod',\n",
       " 'tan',\n",
       " 'tanh',\n",
       " 'tau',\n",
       " 'trunc',\n",
       " 'ulp']"
      ]
     },
     "execution_count": 8,
     "metadata": {},
     "output_type": "execute_result"
    }
   ],
   "source": [
    "import math\n",
    "dir (math)"
   ]
  },
  {
   "cell_type": "code",
   "execution_count": 6,
   "id": "ae5cd904-e806-40af-8df0-9031f012c51d",
   "metadata": {},
   "outputs": [],
   "source": [
    "# module: mathfunction     uncle \n",
    "\n",
    "#   add                    kid1: cricketer \n",
    "#   sub                    kid2: story \n",
    "#   mul                    kid3: football\n",
    "#   div                    kid4: artist\n"
   ]
  },
  {
   "cell_type": "code",
   "execution_count": 9,
   "id": "6fbe3ef1-ce72-43c9-ae8c-f21a348b8276",
   "metadata": {},
   "outputs": [
    {
     "data": {
      "text/plain": [
       "0.11604653534501463"
      ]
     },
     "execution_count": 9,
     "metadata": {},
     "output_type": "execute_result"
    }
   ],
   "source": [
    "import random\n",
    "random.random()"
   ]
  },
  {
   "cell_type": "code",
   "execution_count": 8,
   "id": "6300ce21-7b30-4d2f-9593-aec0e64e7d98",
   "metadata": {},
   "outputs": [
    {
     "data": {
      "text/plain": [
       "['BPF',\n",
       " 'LOG4',\n",
       " 'NV_MAGICCONST',\n",
       " 'RECIP_BPF',\n",
       " 'Random',\n",
       " 'SG_MAGICCONST',\n",
       " 'SystemRandom',\n",
       " 'TWOPI',\n",
       " '_ONE',\n",
       " '_Sequence',\n",
       " '__all__',\n",
       " '__builtins__',\n",
       " '__cached__',\n",
       " '__doc__',\n",
       " '__file__',\n",
       " '__loader__',\n",
       " '__name__',\n",
       " '__package__',\n",
       " '__spec__',\n",
       " '_accumulate',\n",
       " '_acos',\n",
       " '_bisect',\n",
       " '_ceil',\n",
       " '_cos',\n",
       " '_e',\n",
       " '_exp',\n",
       " '_fabs',\n",
       " '_floor',\n",
       " '_index',\n",
       " '_inst',\n",
       " '_isfinite',\n",
       " '_lgamma',\n",
       " '_log',\n",
       " '_log2',\n",
       " '_os',\n",
       " '_parse_args',\n",
       " '_pi',\n",
       " '_random',\n",
       " '_repeat',\n",
       " '_sha512',\n",
       " '_sin',\n",
       " '_sqrt',\n",
       " '_test',\n",
       " '_test_generator',\n",
       " '_urandom',\n",
       " 'betavariate',\n",
       " 'binomialvariate',\n",
       " 'choice',\n",
       " 'choices',\n",
       " 'expovariate',\n",
       " 'gammavariate',\n",
       " 'gauss',\n",
       " 'getrandbits',\n",
       " 'getstate',\n",
       " 'lognormvariate',\n",
       " 'main',\n",
       " 'normalvariate',\n",
       " 'paretovariate',\n",
       " 'randbytes',\n",
       " 'randint',\n",
       " 'random',\n",
       " 'randrange',\n",
       " 'sample',\n",
       " 'seed',\n",
       " 'setstate',\n",
       " 'shuffle',\n",
       " 'triangular',\n",
       " 'uniform',\n",
       " 'vonmisesvariate',\n",
       " 'weibullvariate']"
      ]
     },
     "execution_count": 8,
     "metadata": {},
     "output_type": "execute_result"
    }
   ],
   "source": [
    "import random\n",
    "dir(random)\n"
   ]
  },
  {
   "cell_type": "code",
   "execution_count": 9,
   "id": "de6ae844-51f5-4be9-8e7c-94040f27a72b",
   "metadata": {},
   "outputs": [
    {
     "data": {
      "text/plain": [
       "0.8418983984597195"
      ]
     },
     "execution_count": 9,
     "metadata": {},
     "output_type": "execute_result"
    }
   ],
   "source": [
    "import random\n",
    "random.random()"
   ]
  },
  {
   "cell_type": "code",
   "execution_count": 10,
   "id": "e52d54d2-8d80-43e3-bb89-0ec087e0e99e",
   "metadata": {},
   "outputs": [],
   "source": [
    "# step1: import modulename\n",
    "# step2: inorder to method apply directory \n",
    "#     dir(modulename)\n",
    "# step3: choose one method \n",
    "#        modulename: methodname\n",
    "# if above one is function it will say function or method \n",
    "# we need to add brackets\n",
    "\n",
    "# if above one not a function it will give direct values\n",
    "# step4: apply the brackets perform the shift+tab \n",
    "#         modulename : methodname \n",
    "\n",
    "# step5: read the doc string understand it and use it "
   ]
  },
  {
   "cell_type": "code",
   "execution_count": null,
   "id": "0feedd4b-408b-4edb-8243-5c3db3a784f2",
   "metadata": {},
   "outputs": [],
   "source": []
  },
  {
   "cell_type": "code",
   "execution_count": 4,
   "id": "b0ef734c-2ffc-4909-9cdc-5558196d3113",
   "metadata": {},
   "outputs": [
    {
     "ename": "NameError",
     "evalue": "name 'random' is not defined",
     "output_type": "error",
     "traceback": [
      "\u001b[1;31m---------------------------------------------------------------------------\u001b[0m",
      "\u001b[1;31mNameError\u001b[0m                                 Traceback (most recent call last)",
      "Cell \u001b[1;32mIn[4], line 1\u001b[0m\n\u001b[1;32m----> 1\u001b[0m random\u001b[38;5;241m.\u001b[39mrandom\n",
      "\u001b[1;31mNameError\u001b[0m: name 'random' is not defined"
     ]
    }
   ],
   "source": [
    "random.random"
   ]
  },
  {
   "cell_type": "code",
   "execution_count": 14,
   "id": "1aeec44d-0389-4bfc-9276-f861eb4ed798",
   "metadata": {},
   "outputs": [
    {
     "data": {
      "text/plain": [
       "0.9672198246387235"
      ]
     },
     "execution_count": 14,
     "metadata": {},
     "output_type": "execute_result"
    }
   ],
   "source": [
    "random.random()"
   ]
  },
  {
   "cell_type": "code",
   "execution_count": 15,
   "id": "abf3253b-c287-44f1-8f7c-150b9369ff8e",
   "metadata": {},
   "outputs": [
    {
     "ename": "SyntaxError",
     "evalue": "invalid syntax (2369921851.py, line 1)",
     "output_type": "error",
     "traceback": [
      "\u001b[1;36m  Cell \u001b[1;32mIn[15], line 1\u001b[1;36m\u001b[0m\n\u001b[1;33m    random()  -> x in the interval [0,1]\u001b[0m\n\u001b[1;37m              ^\u001b[0m\n\u001b[1;31mSyntaxError\u001b[0m\u001b[1;31m:\u001b[0m invalid syntax\n"
     ]
    }
   ],
   "source": [
    "random()  -> x in the interval [0,1]"
   ]
  },
  {
   "cell_type": "code",
   "execution_count": 16,
   "id": "431832a7-1a2f-4c4d-bd75-b7d38a174582",
   "metadata": {},
   "outputs": [
    {
     "data": {
      "text/plain": [
       "0.8923989380265999"
      ]
     },
     "execution_count": 16,
     "metadata": {},
     "output_type": "execute_result"
    }
   ],
   "source": [
    "import random \n",
    "dir(random)\n",
    "random.random\n",
    "random.random()"
   ]
  },
  {
   "cell_type": "code",
   "execution_count": 17,
   "id": "d467d8d0-62e7-4e99-b46c-5b6d4a6fa319",
   "metadata": {},
   "outputs": [],
   "source": [
    "# packege name : random\n",
    "# attribute name : randint"
   ]
  },
  {
   "cell_type": "code",
   "execution_count": 18,
   "id": "fa897967-4483-4425-b3d7-975543b43e25",
   "metadata": {},
   "outputs": [
    {
     "data": {
      "text/plain": [
       "0.7639815774121003"
      ]
     },
     "execution_count": 18,
     "metadata": {},
     "output_type": "execute_result"
    }
   ],
   "source": [
    "import random \n",
    "random.randint(1,6)\n",
    "random.random()"
   ]
  },
  {
   "cell_type": "code",
   "execution_count": null,
   "id": "e7db8f7c-e3a7-49a6-91ef-3bc881460fbd",
   "metadata": {},
   "outputs": [],
   "source": [
    "return random integer in range [a,b], including both end points "
   ]
  },
  {
   "cell_type": "code",
   "execution_count": null,
   "id": "c78dfc4b-30ea-473d-a2f6-6c8ba74a369b",
   "metadata": {},
   "outputs": [],
   "source": [
    "# package name                 method name \n",
    "random                         random           DONE \n",
    "random                         randint          DONE\n",
    "random                         uniform          DONE\n",
    "random                         sample           DONE"
   ]
  },
  {
   "cell_type": "code",
   "execution_count": null,
   "id": "a04a1ec0-3a00-4ae5-beb1-24dad79644f9",
   "metadata": {},
   "outputs": [],
   "source": [
    "random                    choice         randon.choice(<use list inside>)\n",
    "random                    shuffle\n",
    "n=[10,20,30,40]\n",
    "random.shuffle(n)\n",
    "print(n)\n",
    "math                      sqrt\n",
    "math                      sin \n",
    "math                      pi\n",
    "math                      e\n",
    "math                      pow"
   ]
  },
  {
   "cell_type": "code",
   "execution_count": 23,
   "id": "799b0ddf-7ce2-469c-94b9-c77365dc3799",
   "metadata": {},
   "outputs": [
    {
     "data": {
      "text/plain": [
       "[40, 30, 70, 80, 50, 100, 60, 90, 20]"
      ]
     },
     "execution_count": 23,
     "metadata": {},
     "output_type": "execute_result"
    }
   ],
   "source": [
    "random.sample([10,20,30,40,50,60,70,80,90,100],9)"
   ]
  },
  {
   "cell_type": "code",
   "execution_count": 24,
   "id": "ff71f02f-15f0-45da-bb64-48888f338c85",
   "metadata": {},
   "outputs": [
    {
     "data": {
      "text/plain": [
       "3.141592653589793"
      ]
     },
     "execution_count": 24,
     "metadata": {},
     "output_type": "execute_result"
    }
   ],
   "source": [
    "math.pi"
   ]
  },
  {
   "cell_type": "code",
   "execution_count": 25,
   "id": "2ed74e43-73e5-4e4e-a990-743a714ad257",
   "metadata": {},
   "outputs": [
    {
     "data": {
      "text/plain": [
       "5.997906382949162"
      ]
     },
     "execution_count": 25,
     "metadata": {},
     "output_type": "execute_result"
    }
   ],
   "source": [
    "random.uniform(1,9)  # any value are float in output"
   ]
  },
  {
   "cell_type": "code",
   "execution_count": 3,
   "id": "c8da7503-2771-448e-b4aa-8df0075ff861",
   "metadata": {},
   "outputs": [
    {
     "ename": "NameError",
     "evalue": "name 'random' is not defined",
     "output_type": "error",
     "traceback": [
      "\u001b[1;31m---------------------------------------------------------------------------\u001b[0m",
      "\u001b[1;31mNameError\u001b[0m                                 Traceback (most recent call last)",
      "Cell \u001b[1;32mIn[3], line 3\u001b[0m\n\u001b[0;32m      1\u001b[0m n\u001b[38;5;241m=\u001b[39m([\u001b[38;5;241m10\u001b[39m,\u001b[38;5;241m20\u001b[39m,\u001b[38;5;241m30\u001b[39m,\u001b[38;5;241m40\u001b[39m,\u001b[38;5;241m50\u001b[39m])\n\u001b[0;32m      2\u001b[0m k\u001b[38;5;241m=\u001b[39m\u001b[38;5;241m2\u001b[39m\n\u001b[1;32m----> 3\u001b[0m random\u001b[38;5;241m.\u001b[39msample(n,k,)\n",
      "\u001b[1;31mNameError\u001b[0m: name 'random' is not defined"
     ]
    }
   ],
   "source": [
    "  n=([10,20,30,40,50])\n",
    "k=2\n",
    "random.sample(n,k,)\n"
   ]
  },
  {
   "cell_type": "code",
   "execution_count": 27,
   "id": "3264b7f9-7055-444e-ad24-c22114517bcc",
   "metadata": {},
   "outputs": [
    {
     "data": {
      "text/plain": [
       "50"
      ]
     },
     "execution_count": 27,
     "metadata": {},
     "output_type": "execute_result"
    }
   ],
   "source": [
    "n=[10,20,30,40,50]\n",
    "random.choice(n)"
   ]
  },
  {
   "cell_type": "code",
   "execution_count": 28,
   "id": "58c3c8f2-c38e-4486-9ad9-42fe31e43fb4",
   "metadata": {},
   "outputs": [
    {
     "name": "stdout",
     "output_type": "stream",
     "text": [
      "[10, 40, 30, 20, 50]\n"
     ]
    }
   ],
   "source": [
    "n=[10,20,30,40,50]\n",
    "random.shuffle(n)\n",
    "print(n)"
   ]
  },
  {
   "cell_type": "code",
   "execution_count": null,
   "id": "3a80a9bc-d4b0-491d-bec6-89596a619065",
   "metadata": {},
   "outputs": [],
   "source": [
    "sample ==== some value will be selected \n",
    "choice ==== one value choice \n",
    "shuffle === mixx "
   ]
  },
  {
   "cell_type": "code",
   "execution_count": null,
   "id": "b681c136-e49a-46b3-850d-ece3491a0fec",
   "metadata": {},
   "outputs": [],
   "source": [
    "math                      sqrt\n",
    "math                      sin \n",
    "math                      pi\n",
    "math                      e\n",
    "math                      pow"
   ]
  },
  {
   "cell_type": "code",
   "execution_count": 30,
   "id": "5dda017e-c129-4e65-a509-cc8aaa368862",
   "metadata": {},
   "outputs": [
    {
     "data": {
      "text/plain": [
       "7.0710678118654755"
      ]
     },
     "execution_count": 30,
     "metadata": {},
     "output_type": "execute_result"
    }
   ],
   "source": [
    "import math \n",
    "math.sqrt(50)"
   ]
  },
  {
   "cell_type": "code",
   "execution_count": 31,
   "id": "8a0be050-731b-4b53-a108-740f2c9df19c",
   "metadata": {},
   "outputs": [
    {
     "data": {
      "text/plain": [
       "1024.0"
      ]
     },
     "execution_count": 31,
     "metadata": {},
     "output_type": "execute_result"
    }
   ],
   "source": [
    "math.pow(4,5)"
   ]
  },
  {
   "cell_type": "code",
   "execution_count": 32,
   "id": "8dd9011d-fbb8-47e6-8184-e8bfc9ef60dc",
   "metadata": {},
   "outputs": [
    {
     "data": {
      "text/plain": [
       "3.141592653589793"
      ]
     },
     "execution_count": 32,
     "metadata": {},
     "output_type": "execute_result"
    }
   ],
   "source": [
    "math.pi"
   ]
  },
  {
   "cell_type": "code",
   "execution_count": 33,
   "id": "0c7c31b7-6ebd-45a1-806b-0834f37e71af",
   "metadata": {},
   "outputs": [
    {
     "data": {
      "text/plain": [
       "2.718281828459045"
      ]
     },
     "execution_count": 33,
     "metadata": {},
     "output_type": "execute_result"
    }
   ],
   "source": [
    "math.e"
   ]
  },
  {
   "cell_type": "code",
   "execution_count": null,
   "id": "64d94290-1567-4d79-bfdf-3299c5734d9d",
   "metadata": {},
   "outputs": [],
   "source": [
    "sir without import also comming only math.sqrt\n",
    "# one time import enough"
   ]
  },
  {
   "cell_type": "code",
   "execution_count": 34,
   "id": "7bba3bfd-45f2-4eb0-8c9a-a8def7dcc13f",
   "metadata": {},
   "outputs": [],
   "source": [
    "import keyword"
   ]
  },
  {
   "cell_type": "code",
   "execution_count": 35,
   "id": "df740f7e-da95-4852-a810-135ab22a56ce",
   "metadata": {},
   "outputs": [
    {
     "data": {
      "text/plain": [
       "['__all__',\n",
       " '__builtins__',\n",
       " '__cached__',\n",
       " '__doc__',\n",
       " '__file__',\n",
       " '__loader__',\n",
       " '__name__',\n",
       " '__package__',\n",
       " '__spec__',\n",
       " 'iskeyword',\n",
       " 'issoftkeyword',\n",
       " 'kwlist',\n",
       " 'softkwlist']"
      ]
     },
     "execution_count": 35,
     "metadata": {},
     "output_type": "execute_result"
    }
   ],
   "source": [
    "dir(keyword)"
   ]
  },
  {
   "cell_type": "code",
   "execution_count": 36,
   "id": "cc6f0e4d-bab5-4397-b82c-b9df2619a2b0",
   "metadata": {},
   "outputs": [
    {
     "data": {
      "text/plain": [
       "['False',\n",
       " 'None',\n",
       " 'True',\n",
       " 'and',\n",
       " 'as',\n",
       " 'assert',\n",
       " 'async',\n",
       " 'await',\n",
       " 'break',\n",
       " 'class',\n",
       " 'continue',\n",
       " 'def',\n",
       " 'del',\n",
       " 'elif',\n",
       " 'else',\n",
       " 'except',\n",
       " 'finally',\n",
       " 'for',\n",
       " 'from',\n",
       " 'global',\n",
       " 'if',\n",
       " 'import',\n",
       " 'in',\n",
       " 'is',\n",
       " 'lambda',\n",
       " 'nonlocal',\n",
       " 'not',\n",
       " 'or',\n",
       " 'pass',\n",
       " 'raise',\n",
       " 'return',\n",
       " 'try',\n",
       " 'while',\n",
       " 'with',\n",
       " 'yield']"
      ]
     },
     "execution_count": 36,
     "metadata": {},
     "output_type": "execute_result"
    }
   ],
   "source": [
    "import keyword\n",
    "keyword.kwlist"
   ]
  },
  {
   "cell_type": "code",
   "execution_count": 37,
   "id": "28a4c02c-619a-4178-861c-93d245492a9c",
   "metadata": {},
   "outputs": [
    {
     "name": "stdout",
     "output_type": "stream",
     "text": [
      "hello\n"
     ]
    }
   ],
   "source": [
    "import time \n",
    "print('hello')"
   ]
  },
  {
   "cell_type": "code",
   "execution_count": 38,
   "id": "91781f39-e04d-417a-9dfe-8b50d1d1b509",
   "metadata": {},
   "outputs": [
    {
     "name": "stdout",
     "output_type": "stream",
     "text": [
      "hello\n"
     ]
    }
   ],
   "source": [
    "import time \n",
    "time.sleep(5)\n",
    "print('hello')"
   ]
  },
  {
   "cell_type": "code",
   "execution_count": null,
   "id": "93518262-c737-48f5-a237-7a157babbf5b",
   "metadata": {},
   "outputs": [],
   "source": [
    "sir how do we know what function are avalable in module \n",
    "dir(random)\n",
    "\n",
    "\n",
    "sir do we have to make time modules\n",
    "sir gen ai class? \n"
   ]
  },
  {
   "cell_type": "code",
   "execution_count": 39,
   "id": "543b7034-8d8c-4ec8-9505-47332c3c52d0",
   "metadata": {},
   "outputs": [
    {
     "data": {
      "text/plain": [
       "[30, 20, 40, 20]"
      ]
     },
     "execution_count": 39,
     "metadata": {},
     "output_type": "execute_result"
    }
   ],
   "source": [
    "n=[10,20,20,30,40,40,50]  # population \n",
    "k=4                       # samples\n",
    "random.sample(n,k)"
   ]
  },
  {
   "cell_type": "code",
   "execution_count": 43,
   "id": "aed2c298-8008-4ffe-acf8-1e0bb5e46906",
   "metadata": {},
   "outputs": [
    {
     "data": {
      "text/plain": [
       "[60, 33, 79, 50]"
      ]
     },
     "execution_count": 43,
     "metadata": {},
     "output_type": "execute_result"
    }
   ],
   "source": [
    "A=[50,60,79,33]\n",
    "random.shuffle(A)\n",
    "A"
   ]
  },
  {
   "cell_type": "code",
   "execution_count": 47,
   "id": "e920565d-f532-4cb2-acc0-72f4ad1b8925",
   "metadata": {},
   "outputs": [
    {
     "data": {
      "text/plain": [
       "79"
      ]
     },
     "execution_count": 47,
     "metadata": {},
     "output_type": "execute_result"
    }
   ],
   "source": [
    "random.choice(A)"
   ]
  },
  {
   "cell_type": "code",
   "execution_count": 48,
   "id": "170c110e-11be-4e5f-bbb1-e8c58c2540be",
   "metadata": {},
   "outputs": [
    {
     "data": {
      "text/plain": [
       "43"
      ]
     },
     "execution_count": 48,
     "metadata": {},
     "output_type": "execute_result"
    }
   ],
   "source": [
    "random.randint(1,50)"
   ]
  },
  {
   "cell_type": "code",
   "execution_count": 49,
   "id": "65b101e9-6916-46b8-8003-960eba04a50a",
   "metadata": {},
   "outputs": [
    {
     "data": {
      "text/plain": [
       "0.4889974082697651"
      ]
     },
     "execution_count": 49,
     "metadata": {},
     "output_type": "execute_result"
    }
   ],
   "source": [
    "random.random()"
   ]
  },
  {
   "cell_type": "code",
   "execution_count": 52,
   "id": "803243f5-f20b-40db-b150-b7d2bd5f393c",
   "metadata": {},
   "outputs": [
    {
     "data": {
      "text/plain": [
       "[10, 20, 30, 40, 50]"
      ]
     },
     "execution_count": 52,
     "metadata": {},
     "output_type": "execute_result"
    }
   ],
   "source": [
    "random.randrange(1,50,3)\n",
    "\n",
    "B=[10,20,30,40,50]\n",
    "B"
   ]
  },
  {
   "cell_type": "code",
   "execution_count": 76,
   "id": "a011592b-1966-41e5-94e0-f7e9155f79e8",
   "metadata": {},
   "outputs": [
    {
     "data": {
      "text/plain": [
       "[20, 30, 40]"
      ]
     },
     "execution_count": 76,
     "metadata": {},
     "output_type": "execute_result"
    }
   ],
   "source": [
    "random.sample(B,3)"
   ]
  },
  {
   "cell_type": "code",
   "execution_count": 132,
   "id": "71c60d91-2224-4caf-980c-6838415ad530",
   "metadata": {},
   "outputs": [
    {
     "data": {
      "text/plain": [
       "51.30725580165548"
      ]
     },
     "execution_count": 132,
     "metadata": {},
     "output_type": "execute_result"
    }
   ],
   "source": [
    "random.uniform(1,100)"
   ]
  },
  {
   "cell_type": "code",
   "execution_count": 81,
   "id": "7fd5fd0d-ab93-4307-897a-d93886b97896",
   "metadata": {},
   "outputs": [
    {
     "data": {
      "text/plain": [
       "40"
      ]
     },
     "execution_count": 81,
     "metadata": {},
     "output_type": "execute_result"
    }
   ],
   "source": [
    "random.randint(-100,45)"
   ]
  },
  {
   "cell_type": "code",
   "execution_count": 82,
   "id": "8b3b665a-3d59-4057-8e9f-95bb7dabad68",
   "metadata": {},
   "outputs": [],
   "source": [
    "random.seed()"
   ]
  },
  {
   "cell_type": "code",
   "execution_count": 83,
   "id": "6d90ff4f-f5bd-48f7-b0cc-d6d0469b045e",
   "metadata": {},
   "outputs": [],
   "source": [
    "import math"
   ]
  },
  {
   "cell_type": "code",
   "execution_count": 85,
   "id": "fac41319-d8e3-4d70-ae37-9dd90c84f00e",
   "metadata": {},
   "outputs": [
    {
     "data": {
      "text/plain": [
       "15"
      ]
     },
     "execution_count": 85,
     "metadata": {},
     "output_type": "execute_result"
    }
   ],
   "source": [
    "round(math.sqrt(225))"
   ]
  },
  {
   "cell_type": "code",
   "execution_count": 86,
   "id": "563e4751-aa7b-450f-a7bc-e19c117d7061",
   "metadata": {},
   "outputs": [
    {
     "data": {
      "text/plain": [
       "1.0"
      ]
     },
     "execution_count": 86,
     "metadata": {},
     "output_type": "execute_result"
    }
   ],
   "source": [
    "8/8"
   ]
  },
  {
   "cell_type": "code",
   "execution_count": 87,
   "id": "943444df-42b8-4f28-a776-b12ed74edd39",
   "metadata": {},
   "outputs": [
    {
     "data": {
      "text/plain": [
       "1"
      ]
     },
     "execution_count": 87,
     "metadata": {},
     "output_type": "execute_result"
    }
   ],
   "source": [
    "8//8"
   ]
  },
  {
   "cell_type": "code",
   "execution_count": 88,
   "id": "53f4028e-52ea-4e0c-a9d1-5b5caae9fc95",
   "metadata": {},
   "outputs": [
    {
     "data": {
      "text/plain": [
       "625.0"
      ]
     },
     "execution_count": 88,
     "metadata": {},
     "output_type": "execute_result"
    }
   ],
   "source": [
    "math.pow(5,4)"
   ]
  },
  {
   "cell_type": "code",
   "execution_count": 208,
   "id": "8428eeae-6157-44b0-8b9a-7570a87242fa",
   "metadata": {},
   "outputs": [
    {
     "data": {
      "text/plain": [
       "3.141592653589793"
      ]
     },
     "execution_count": 208,
     "metadata": {},
     "output_type": "execute_result"
    }
   ],
   "source": [
    "math.pi"
   ]
  },
  {
   "cell_type": "code",
   "execution_count": 209,
   "id": "01c59ba1-ce39-4e3a-b7f4-bee846babdd8",
   "metadata": {},
   "outputs": [
    {
     "data": {
      "text/plain": [
       "-0.9880316240928618"
      ]
     },
     "execution_count": 209,
     "metadata": {},
     "output_type": "execute_result"
    }
   ],
   "source": [
    "math.sin(30)"
   ]
  },
  {
   "cell_type": "code",
   "execution_count": 213,
   "id": "d9717bec-82ca-4c14-b2c4-a4e4159ae152",
   "metadata": {},
   "outputs": [
    {
     "data": {
      "text/plain": [
       "1.5574077246549023"
      ]
     },
     "execution_count": 213,
     "metadata": {},
     "output_type": "execute_result"
    }
   ],
   "source": [
    "math.tan(1)"
   ]
  },
  {
   "cell_type": "code",
   "execution_count": 91,
   "id": "dffbbbfa-33c7-48bf-94cc-228fdf02332d",
   "metadata": {},
   "outputs": [
    {
     "data": {
      "text/plain": [
       "0.5403023058681398"
      ]
     },
     "execution_count": 91,
     "metadata": {},
     "output_type": "execute_result"
    }
   ],
   "source": [
    "math.cos(1)"
   ]
  },
  {
   "cell_type": "code",
   "execution_count": 214,
   "id": "95f72286-8bfc-497d-8d7d-6ea9f19e58fc",
   "metadata": {},
   "outputs": [
    {
     "data": {
      "text/plain": [
       "2.718281828459045"
      ]
     },
     "execution_count": 214,
     "metadata": {},
     "output_type": "execute_result"
    }
   ],
   "source": [
    "math.e"
   ]
  },
  {
   "cell_type": "code",
   "execution_count": 215,
   "id": "3f87b127-6b52-4be5-97c1-aa1bf11d7bc4",
   "metadata": {},
   "outputs": [
    {
     "data": {
      "text/plain": [
       "['__doc__',\n",
       " '__loader__',\n",
       " '__name__',\n",
       " '__package__',\n",
       " '__spec__',\n",
       " 'acos',\n",
       " 'acosh',\n",
       " 'asin',\n",
       " 'asinh',\n",
       " 'atan',\n",
       " 'atan2',\n",
       " 'atanh',\n",
       " 'cbrt',\n",
       " 'ceil',\n",
       " 'comb',\n",
       " 'copysign',\n",
       " 'cos',\n",
       " 'cosh',\n",
       " 'degrees',\n",
       " 'dist',\n",
       " 'e',\n",
       " 'erf',\n",
       " 'erfc',\n",
       " 'exp',\n",
       " 'exp2',\n",
       " 'expm1',\n",
       " 'fabs',\n",
       " 'factorial',\n",
       " 'floor',\n",
       " 'fma',\n",
       " 'fmod',\n",
       " 'frexp',\n",
       " 'fsum',\n",
       " 'gamma',\n",
       " 'gcd',\n",
       " 'hypot',\n",
       " 'inf',\n",
       " 'isclose',\n",
       " 'isfinite',\n",
       " 'isinf',\n",
       " 'isnan',\n",
       " 'isqrt',\n",
       " 'lcm',\n",
       " 'ldexp',\n",
       " 'lgamma',\n",
       " 'log',\n",
       " 'log10',\n",
       " 'log1p',\n",
       " 'log2',\n",
       " 'modf',\n",
       " 'nan',\n",
       " 'nextafter',\n",
       " 'perm',\n",
       " 'pi',\n",
       " 'pow',\n",
       " 'prod',\n",
       " 'radians',\n",
       " 'remainder',\n",
       " 'sin',\n",
       " 'sinh',\n",
       " 'sqrt',\n",
       " 'sumprod',\n",
       " 'tan',\n",
       " 'tanh',\n",
       " 'tau',\n",
       " 'trunc',\n",
       " 'ulp']"
      ]
     },
     "execution_count": 215,
     "metadata": {},
     "output_type": "execute_result"
    }
   ],
   "source": [
    "dir(math)"
   ]
  },
  {
   "cell_type": "code",
   "execution_count": 216,
   "id": "90489965-24f2-44af-8548-6af18fbbdd2b",
   "metadata": {},
   "outputs": [],
   "source": [
    "import keyword"
   ]
  },
  {
   "cell_type": "code",
   "execution_count": 217,
   "id": "89d33123-7f08-4493-be0a-07358e96be04",
   "metadata": {},
   "outputs": [
    {
     "data": {
      "text/plain": [
       "['False',\n",
       " 'None',\n",
       " 'True',\n",
       " 'and',\n",
       " 'as',\n",
       " 'assert',\n",
       " 'async',\n",
       " 'await',\n",
       " 'break',\n",
       " 'class',\n",
       " 'continue',\n",
       " 'def',\n",
       " 'del',\n",
       " 'elif',\n",
       " 'else',\n",
       " 'except',\n",
       " 'finally',\n",
       " 'for',\n",
       " 'from',\n",
       " 'global',\n",
       " 'if',\n",
       " 'import',\n",
       " 'in',\n",
       " 'is',\n",
       " 'lambda',\n",
       " 'nonlocal',\n",
       " 'not',\n",
       " 'or',\n",
       " 'pass',\n",
       " 'raise',\n",
       " 'return',\n",
       " 'try',\n",
       " 'while',\n",
       " 'with',\n",
       " 'yield']"
      ]
     },
     "execution_count": 217,
     "metadata": {},
     "output_type": "execute_result"
    }
   ],
   "source": [
    "keyword.kwlist"
   ]
  },
  {
   "cell_type": "code",
   "execution_count": 1,
   "id": "a2e34f95-2ce4-45c8-844a-12ad3c174991",
   "metadata": {},
   "outputs": [
    {
     "data": {
      "text/plain": [
       "100"
      ]
     },
     "execution_count": 1,
     "metadata": {},
     "output_type": "execute_result"
    }
   ],
   "source": [
    "sum((50,50))"
   ]
  },
  {
   "cell_type": "code",
   "execution_count": 4,
   "id": "37f0b722-991d-4410-ba5c-74cef0010933",
   "metadata": {},
   "outputs": [
    {
     "data": {
      "text/plain": [
       "70"
      ]
     },
     "execution_count": 4,
     "metadata": {},
     "output_type": "execute_result"
    }
   ],
   "source": [
    "max(20,40,30,60,70)"
   ]
  },
  {
   "cell_type": "code",
   "execution_count": 5,
   "id": "0c04c544-6acb-4d3b-af6a-89297b191e34",
   "metadata": {},
   "outputs": [
    {
     "data": {
      "text/plain": [
       "20"
      ]
     },
     "execution_count": 5,
     "metadata": {},
     "output_type": "execute_result"
    }
   ],
   "source": [
    "min(20,40,30,60,70)"
   ]
  },
  {
   "cell_type": "code",
   "execution_count": 221,
   "id": "0030eaf2-61d5-4c44-a521-2ad98fc95cf6",
   "metadata": {},
   "outputs": [
    {
     "data": {
      "text/plain": [
       "50"
      ]
     },
     "execution_count": 221,
     "metadata": {},
     "output_type": "execute_result"
    }
   ],
   "source": [
    "sum"
   ]
  },
  {
   "cell_type": "code",
   "execution_count": null,
   "id": "14a3b561-db1e-40c0-a888-0483f36243fb",
   "metadata": {},
   "outputs": [],
   "source": []
  }
 ],
 "metadata": {
  "kernelspec": {
   "display_name": "Python [conda env:base] *",
   "language": "python",
   "name": "conda-base-py"
  },
  "language_info": {
   "codemirror_mode": {
    "name": "ipython",
    "version": 3
   },
   "file_extension": ".py",
   "mimetype": "text/x-python",
   "name": "python",
   "nbconvert_exporter": "python",
   "pygments_lexer": "ipython3",
   "version": "3.13.5"
  }
 },
 "nbformat": 4,
 "nbformat_minor": 5
}
