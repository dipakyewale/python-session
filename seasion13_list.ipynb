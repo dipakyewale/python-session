{
 "cells": [
  {
   "cell_type": "code",
   "execution_count": null,
   "id": "b9c18dd6-c259-4561-b72a-15de2a7f0f2b",
   "metadata": {},
   "outputs": [],
   "source": [
    "copy  > copy the list \n",
    "clear > clear the list\n",
    "extend > add two list in one frame\n",
    "append\n",
    "remove\n",
    "pop\n",
    "sort\n",
    "count\n",
    "index\n",
    "incert\n",
    "del\n",
    "reversed"
   ]
  },
  {
   "cell_type": "code",
   "execution_count": 1,
   "id": "e1566b93-891d-4459-9a11-8ec5a5f8ef25",
   "metadata": {},
   "outputs": [],
   "source": [
    "# haw many ways can provide the value in a list \n",
    "\n",
    "l1=[40,30,20,10]\n",
    "l2=[10,'dipak',True, 30,20,40]\n",
    "l3=[10,20,30,'vishal']\n",
    "l4=[10,'abhi',True, 30,20,40]"
   ]
  },
  {
   "cell_type": "code",
   "execution_count": null,
   "id": "bbe96905-97a7-4f29-bd0d-6f5d8ed3d83f",
   "metadata": {},
   "outputs": [],
   "source": []
  },
  {
   "cell_type": "code",
   "execution_count": 14,
   "id": "3c3c1062-7a2b-42ec-a4f7-e43b63ec08ed",
   "metadata": {},
   "outputs": [
    {
     "data": {
      "text/plain": [
       "40"
      ]
     },
     "execution_count": 14,
     "metadata": {},
     "output_type": "execute_result"
    }
   ],
   "source": [
    "max(l1)"
   ]
  },
  {
   "cell_type": "code",
   "execution_count": 25,
   "id": "306a7b88-8f75-4786-a97f-0a91ad1156ac",
   "metadata": {},
   "outputs": [
    {
     "name": "stdout",
     "output_type": "stream",
     "text": [
      "[10, 'abhi', True, 30, 20, 40]\n"
     ]
    }
   ],
   "source": [
    "print(l4)"
   ]
  },
  {
   "cell_type": "code",
   "execution_count": 26,
   "id": "d579b622-d0a9-4792-83cd-e74cf35fd260",
   "metadata": {},
   "outputs": [
    {
     "name": "stdout",
     "output_type": "stream",
     "text": [
      "[10, 20, 30, 'vishal']\n"
     ]
    }
   ],
   "source": [
    "print(l3)"
   ]
  },
  {
   "cell_type": "code",
   "execution_count": 27,
   "id": "8e3f2246-9c72-4831-b778-cf0f44c2870d",
   "metadata": {},
   "outputs": [
    {
     "data": {
      "text/plain": [
       "6"
      ]
     },
     "execution_count": 27,
     "metadata": {},
     "output_type": "execute_result"
    }
   ],
   "source": [
    "len(l2)"
   ]
  },
  {
   "cell_type": "code",
   "execution_count": 28,
   "id": "757f3b9e-319a-4582-81fd-6adb54a16a7d",
   "metadata": {},
   "outputs": [
    {
     "data": {
      "text/plain": [
       "100"
      ]
     },
     "execution_count": 28,
     "metadata": {},
     "output_type": "execute_result"
    }
   ],
   "source": [
    "sum(l1)"
   ]
  },
  {
   "cell_type": "code",
   "execution_count": 30,
   "id": "b4f6eb94-8d16-4815-9abf-211f5eaf00a0",
   "metadata": {},
   "outputs": [
    {
     "data": {
      "text/plain": [
       "10"
      ]
     },
     "execution_count": 30,
     "metadata": {},
     "output_type": "execute_result"
    }
   ],
   "source": [
    "min(l1)"
   ]
  },
  {
   "cell_type": "code",
   "execution_count": 5,
   "id": "22564262-a78c-4260-8eb3-e168982082f0",
   "metadata": {},
   "outputs": [
    {
     "data": {
      "text/plain": [
       "[10, 20, 30, 40]"
      ]
     },
     "execution_count": 5,
     "metadata": {},
     "output_type": "execute_result"
    }
   ],
   "source": [
    "sorted(l1)"
   ]
  },
  {
   "cell_type": "code",
   "execution_count": 7,
   "id": "7d24781b-74e3-46a4-ae84-5b3c9f1627bf",
   "metadata": {},
   "outputs": [
    {
     "data": {
      "text/plain": [
       "[10, 20, 30, 40]"
      ]
     },
     "execution_count": 7,
     "metadata": {},
     "output_type": "execute_result"
    }
   ],
   "source": [
    "list(reversed(l1))"
   ]
  },
  {
   "cell_type": "code",
   "execution_count": 8,
   "id": "e2722b36-388f-40eb-b5ad-fad77bd0fa79",
   "metadata": {},
   "outputs": [
    {
     "data": {
      "text/plain": [
       "['vishal', 30, 20, 10]"
      ]
     },
     "execution_count": 8,
     "metadata": {},
     "output_type": "execute_result"
    }
   ],
   "source": [
    "list(reversed(l3))"
   ]
  },
  {
   "cell_type": "code",
   "execution_count": 33,
   "id": "40198e5b-ea4c-47d7-a7b7-99a03d80a24c",
   "metadata": {},
   "outputs": [
    {
     "data": {
      "text/plain": [
       "[40, 20, 30, True, 'dipak', 10]"
      ]
     },
     "execution_count": 33,
     "metadata": {},
     "output_type": "execute_result"
    }
   ],
   "source": [
    "list(reversed(l2))"
   ]
  },
  {
   "cell_type": "code",
   "execution_count": 34,
   "id": "592c76d5-75ac-4d4e-b853-0b129ef92bbe",
   "metadata": {},
   "outputs": [
    {
     "data": {
      "text/plain": [
       "[40, 20, 30, True, 'abhi', 10]"
      ]
     },
     "execution_count": 34,
     "metadata": {},
     "output_type": "execute_result"
    }
   ],
   "source": [
    "list(reversed(l4))"
   ]
  },
  {
   "cell_type": "code",
   "execution_count": 1,
   "id": "b2758475-946b-46db-8c30-aca429e22cf1",
   "metadata": {},
   "outputs": [],
   "source": [
    "l5=[20,30,40,'dipak', True,False, 'done',1,2,4]"
   ]
  },
  {
   "cell_type": "code",
   "execution_count": 6,
   "id": "06cc0c32-d48e-4c9c-a3c8-ad0e1f2d0e08",
   "metadata": {},
   "outputs": [
    {
     "data": {
      "text/plain": [
       "[4, 2, 1, 'done', False, True, 'dipak', 40, 30, 20]"
      ]
     },
     "execution_count": 6,
     "metadata": {},
     "output_type": "execute_result"
    }
   ],
   "source": [
    "list(reversed(l5))    # just try"
   ]
  },
  {
   "cell_type": "markdown",
   "id": "d37a822a-d890-4626-bd1d-525aafef1b86",
   "metadata": {},
   "source": [
    "**index**"
   ]
  },
  {
   "cell_type": "code",
   "execution_count": 13,
   "id": "e746dc3b-4f6c-47a0-9b16-41c628bb4a33",
   "metadata": {},
   "outputs": [
    {
     "data": {
      "text/plain": [
       "30"
      ]
     },
     "execution_count": 13,
     "metadata": {},
     "output_type": "execute_result"
    }
   ],
   "source": [
    "l3=[10,20,30,'A','B','C']\n",
    "l3[2]"
   ]
  },
  {
   "cell_type": "code",
   "execution_count": 14,
   "id": "baae6195-7358-471d-8dff-1ed8c3587349",
   "metadata": {},
   "outputs": [
    {
     "data": {
      "text/plain": [
       "'A'"
      ]
     },
     "execution_count": 14,
     "metadata": {},
     "output_type": "execute_result"
    }
   ],
   "source": [
    "l3[3]"
   ]
  },
  {
   "cell_type": "code",
   "execution_count": 15,
   "id": "b1a34864-5cd6-4383-a316-891c7578f591",
   "metadata": {},
   "outputs": [
    {
     "data": {
      "text/plain": [
       "6"
      ]
     },
     "execution_count": 15,
     "metadata": {},
     "output_type": "execute_result"
    }
   ],
   "source": [
    "len(l3)"
   ]
  },
  {
   "cell_type": "code",
   "execution_count": 52,
   "id": "26d6a796-76c5-4646-941f-d93a6216ed49",
   "metadata": {},
   "outputs": [
    {
     "data": {
      "text/plain": [
       "'cherry'"
      ]
     },
     "execution_count": 52,
     "metadata": {},
     "output_type": "execute_result"
    }
   ],
   "source": [
    "l=['apple',['banana','cherry']]\n",
    "l[1][1]"
   ]
  },
  {
   "cell_type": "code",
   "execution_count": 57,
   "id": "06995fb1-cec8-45e0-8611-c6c5b6afcd77",
   "metadata": {},
   "outputs": [
    {
     "data": {
      "text/plain": [
       "'cherry'"
      ]
     },
     "execution_count": 57,
     "metadata": {},
     "output_type": "execute_result"
    }
   ],
   "source": [
    "l3=['apple',['banana',['cherry']]]\n",
    "l3[1][1][0]"
   ]
  },
  {
   "cell_type": "code",
   "execution_count": 59,
   "id": "22128b12-8ab6-4af7-9d65-8715153b3440",
   "metadata": {},
   "outputs": [],
   "source": [
    "l1=['vikas','dipak','shubham','kishor','omkar','pawan','sarthak','rushi','tejas']"
   ]
  },
  {
   "cell_type": "code",
   "execution_count": 60,
   "id": "068733a1-3dcc-49a1-9d3d-da0c30f5e880",
   "metadata": {},
   "outputs": [
    {
     "data": {
      "text/plain": [
       "'rushi'"
      ]
     },
     "execution_count": 60,
     "metadata": {},
     "output_type": "execute_result"
    }
   ],
   "source": [
    "l1[7]"
   ]
  },
  {
   "cell_type": "code",
   "execution_count": 64,
   "id": "b560e997-df65-456d-ad71-9b6cfc640581",
   "metadata": {},
   "outputs": [
    {
     "data": {
      "text/plain": [
       "'VK'"
      ]
     },
     "execution_count": 64,
     "metadata": {},
     "output_type": "execute_result"
    }
   ],
   "source": [
    "l=['Orange',['Nagpur',['MH',['Shivaji',['Shambaji',['Chava',['VK']]]]]]]\n",
    "l[1][1][1][1][1][1][0]"
   ]
  },
  {
   "cell_type": "code",
   "execution_count": 18,
   "id": "dc8410ca-a971-49a7-8dcb-763b55ab11cc",
   "metadata": {},
   "outputs": [],
   "source": [
    "s=['matori',['shiru',['beed',['sambhajinagar',['maharastra',['bharat']]]]]]"
   ]
  },
  {
   "cell_type": "code",
   "execution_count": 23,
   "id": "1b536c74-7cfe-479e-8908-18d061837258",
   "metadata": {},
   "outputs": [
    {
     "data": {
      "text/plain": [
       "'maharastra'"
      ]
     },
     "execution_count": 23,
     "metadata": {},
     "output_type": "execute_result"
    }
   ],
   "source": [
    "s[1][1][1][1][0]"
   ]
  },
  {
   "cell_type": "code",
   "execution_count": 27,
   "id": "f240bb15-91eb-40d3-a7be-5fed618ff7aa",
   "metadata": {},
   "outputs": [],
   "source": [
    "a=['pradp',['dipak',['suhas',['kartik',['abhi',['shubham',]]]]]]"
   ]
  },
  {
   "cell_type": "code",
   "execution_count": 28,
   "id": "7905a980-bddf-402a-8308-61674b286b3c",
   "metadata": {},
   "outputs": [
    {
     "data": {
      "text/plain": [
       "'shubham'"
      ]
     },
     "execution_count": 28,
     "metadata": {},
     "output_type": "execute_result"
    }
   ],
   "source": [
    "a[1][1][1][1][1][0]"
   ]
  },
  {
   "cell_type": "code",
   "execution_count": 72,
   "id": "de5a385e-602d-4870-9420-f5da8708d9ae",
   "metadata": {},
   "outputs": [],
   "source": [
    "a=['pradp','dipak','suhas','kartik','abhi','shubham']  # index counting starting on 0 evrytime "
   ]
  },
  {
   "cell_type": "code",
   "execution_count": 73,
   "id": "4fcda308-365a-48b6-8994-144fc92f9fc9",
   "metadata": {},
   "outputs": [
    {
     "data": {
      "text/plain": [
       "'dipak'"
      ]
     },
     "execution_count": 73,
     "metadata": {},
     "output_type": "execute_result"
    }
   ],
   "source": [
    "a[1]"
   ]
  },
  {
   "cell_type": "code",
   "execution_count": 33,
   "id": "a348abeb-a39e-4218-b159-b79ad09f789b",
   "metadata": {},
   "outputs": [],
   "source": [
    "s=['matori','shiru','beed','sambhajinagar','maharastra','bharat']"
   ]
  },
  {
   "cell_type": "code",
   "execution_count": 36,
   "id": "1fc9b00f-9497-4f06-b1fc-d20ab2120172",
   "metadata": {},
   "outputs": [
    {
     "data": {
      "text/plain": [
       "'sambhajinagar'"
      ]
     },
     "execution_count": 36,
     "metadata": {},
     "output_type": "execute_result"
    }
   ],
   "source": [
    "s[3]"
   ]
  },
  {
   "cell_type": "code",
   "execution_count": 77,
   "id": "b1e4e240-dbf0-4d24-880a-c7b5f7d3d114",
   "metadata": {},
   "outputs": [
    {
     "data": {
      "text/plain": [
       "'the man on earth'"
      ]
     },
     "execution_count": 77,
     "metadata": {},
     "output_type": "execute_result"
    }
   ],
   "source": [
    " \"the man on earth\" # veb series"
   ]
  },
  {
   "cell_type": "markdown",
   "id": "93e43d73-31df-4e82-bf9d-44957ceade0e",
   "metadata": {},
   "source": [
    "**append**"
   ]
  },
  {
   "cell_type": "code",
   "execution_count": null,
   "id": "761e9cf6-b865-4256-8e88-6d6b9ef2ee56",
   "metadata": {},
   "outputs": [],
   "source": [
    "- in many project with append there no code \n",
    "\n",
    "- append is used to store the results \n",
    "\n",
    "- "
   ]
  },
  {
   "cell_type": "code",
   "execution_count": 13,
   "id": "d89d1e99-74f9-4670-96c1-32ce8199444e",
   "metadata": {},
   "outputs": [
    {
     "data": {
      "text/plain": [
       "[1, 2, 3, 4]"
      ]
     },
     "execution_count": 13,
     "metadata": {},
     "output_type": "execute_result"
    }
   ],
   "source": [
    "l=[]\n",
    "l.append(1)\n",
    "l.append(2)\n",
    "l.append(3)\n",
    "l.append(4)\n",
    "l.append(5)\n",
    "l.pop(4)\n",
    "l"
   ]
  },
  {
   "cell_type": "code",
   "execution_count": 92,
   "id": "cfb56ffc-dc5c-4846-beb6-29f24445e16b",
   "metadata": {},
   "outputs": [
    {
     "name": "stdout",
     "output_type": "stream",
     "text": [
      "1\n",
      "2\n",
      "3\n"
     ]
    }
   ],
   "source": [
    "for i in range (1,4):\n",
    "    print(i)\n",
    "    l.append(i)"
   ]
  },
  {
   "cell_type": "code",
   "execution_count": 79,
   "id": "dddec032-b3fb-4cbf-92c7-1e07e756983e",
   "metadata": {},
   "outputs": [],
   "source": [
    "# wap ask the user take a 5 random num\n",
    "# print even or odd \n",
    "#save even or odd"
   ]
  },
  {
   "cell_type": "code",
   "execution_count": 96,
   "id": "6ef98841-153f-4434-8611-39ee672f0b4c",
   "metadata": {},
   "outputs": [
    {
     "name": "stdout",
     "output_type": "stream",
     "text": [
      "[0, 2, 4]\n",
      "[1, 3]\n"
     ]
    }
   ],
   "source": [
    "even=[]\n",
    "odd=[]\n",
    "for i in range(5):\n",
    "    if i%2==0:\n",
    "        even.append(i)\n",
    "        #print(\"even\")\n",
    "    else:\n",
    "        odd.append(i)\n",
    "       # print(\"odd\")\n",
    "\n",
    "print(even)\n",
    "print(odd)"
   ]
  },
  {
   "cell_type": "code",
   "execution_count": 102,
   "id": "5ba8ff93-ddb1-427e-b86a-bf4200a125f9",
   "metadata": {},
   "outputs": [
    {
     "name": "stdout",
     "output_type": "stream",
     "text": [
      "[0, 2, 4, 6, 8, 10, 12, 14, 16, 18, 20, 22, 24, 26, 28, 30, 32, 34, 36, 38, 40, 42, 44, 46, 48, 50, 52, 54, 56, 58, 60, 62, 64, 66, 68, 70, 72, 74, 76, 78, 80, 82, 84, 86, 88, 90, 92, 94, 96, 98]\n",
      "[1, 3, 5, 7, 9, 11, 13, 15, 17, 19, 21, 23, 25, 27, 29, 31, 33, 35, 37, 39, 41, 43, 45, 47, 49, 51, 53, 55, 57, 59, 61, 63, 65, 67, 69, 71, 73, 75, 77, 79, 81, 83, 85, 87, 89, 91, 93, 95, 97, 99]\n"
     ]
    }
   ],
   "source": [
    "even=[]\n",
    "odd=[]\n",
    "for i in range(100):\n",
    "    if i % 2 == 0:\n",
    "        even.append(i)\n",
    "    else:\n",
    "        odd.append(i)\n",
    "\n",
    "print(even)\n",
    "print(odd)"
   ]
  },
  {
   "cell_type": "code",
   "execution_count": 11,
   "id": "d02ae2d9-be5e-43d1-93aa-e9c68e41038e",
   "metadata": {},
   "outputs": [
    {
     "name": "stdout",
     "output_type": "stream",
     "text": [
      "['Hyd', 'Bengaluru', 'Mumbai', 'Chennai']\n"
     ]
    }
   ],
   "source": [
    "input = ['hyd','bengaluru','mumbai','chennai']\n",
    "output = []\n",
    "for i in input:\n",
    "    output.append(i.title())\n",
    "\n",
    "print(output)"
   ]
  },
  {
   "cell_type": "code",
   "execution_count": 8,
   "id": "335333a8-d01b-479c-88e4-341267674a8b",
   "metadata": {},
   "outputs": [
    {
     "name": "stdout",
     "output_type": "stream",
     "text": [
      "['DIPAK', 'PRADIP', 'KARTIK', 'SUHAS', 'SAGAR']\n"
     ]
    }
   ],
   "source": [
    "l7=['dipak','pradip','kartik','suhas','sagar']\n",
    "out=[]\n",
    "for i in l7:\n",
    "    out.append(i.upper())\n",
    "print(out)  "
   ]
  },
  {
   "cell_type": "code",
   "execution_count": 103,
   "id": "199bc4f4-e107-4656-98c8-f36f59a0285c",
   "metadata": {},
   "outputs": [
    {
     "data": {
      "text/plain": [
       "[30, 20, 10, 90, 50]"
      ]
     },
     "execution_count": 103,
     "metadata": {},
     "output_type": "execute_result"
    }
   ],
   "source": [
    "l=[30,20,70,10,90,50]\n",
    "del(l[2])\n",
    "l"
   ]
  },
  {
   "cell_type": "markdown",
   "id": "a7643d1d-ff84-4e32-8002-0b9c998dff51",
   "metadata": {},
   "source": [
    "**sorted-sort**"
   ]
  },
  {
   "cell_type": "code",
   "execution_count": 22,
   "id": "0be2cc79-e765-4504-a506-aa9fb40b243f",
   "metadata": {},
   "outputs": [
    {
     "data": {
      "text/plain": [
       "[10, 20, 30, 50, 70, 90]"
      ]
     },
     "execution_count": 22,
     "metadata": {},
     "output_type": "execute_result"
    }
   ],
   "source": [
    "l=[30,20,70,10,90,50]\n",
    "sorted(l)"
   ]
  },
  {
   "cell_type": "code",
   "execution_count": 23,
   "id": "f2d8d186-ffc7-4103-9d21-bd6539d31ee1",
   "metadata": {},
   "outputs": [],
   "source": [
    "l=[30,20,70,10,90,50]\n",
    "l.sort()"
   ]
  },
  {
   "cell_type": "code",
   "execution_count": 24,
   "id": "3de50ec1-b9a8-4f62-b149-616294856b0d",
   "metadata": {},
   "outputs": [
    {
     "data": {
      "text/plain": [
       "[10, 20, 30, 50, 70, 90]"
      ]
     },
     "execution_count": 24,
     "metadata": {},
     "output_type": "execute_result"
    }
   ],
   "source": [
    "l"
   ]
  },
  {
   "cell_type": "markdown",
   "id": "96f116f0-a372-408f-ab9d-6d5baaaa9f58",
   "metadata": {},
   "source": [
    "**inplace**"
   ]
  },
  {
   "cell_type": "markdown",
   "id": "a6c85b6b-85dd-4c0d-ac38-543761c5cb14",
   "metadata": {},
   "source": [
    "- outputs will be saved in a same variable only"
   ]
  },
  {
   "cell_type": "code",
   "execution_count": 3,
   "id": "36aaa698-5804-4ded-8b2d-a22865c4ad89",
   "metadata": {},
   "outputs": [
    {
     "data": {
      "text/plain": [
       "[10, 20, 30, 40, 50, 60]"
      ]
     },
     "execution_count": 3,
     "metadata": {},
     "output_type": "execute_result"
    }
   ],
   "source": [
    "l=[10,20,30,40,50,60]\n",
    "sorted(l)"
   ]
  },
  {
   "cell_type": "code",
   "execution_count": 4,
   "id": "0d58698d-15dc-47da-ae04-623f22d31a6d",
   "metadata": {},
   "outputs": [
    {
     "data": {
      "text/plain": [
       "[80, 40, 50, 10, 20, 30]"
      ]
     },
     "execution_count": 4,
     "metadata": {},
     "output_type": "execute_result"
    }
   ],
   "source": [
    "l=[30,20,10,50,40,80]\n",
    "list(reversed(l))"
   ]
  },
  {
   "cell_type": "code",
   "execution_count": 9,
   "id": "f9341f43-05cf-4853-8e53-b0995104b77e",
   "metadata": {},
   "outputs": [
    {
     "data": {
      "text/plain": [
       "[80, 40, 50, 10, 20, 30]"
      ]
     },
     "execution_count": 9,
     "metadata": {},
     "output_type": "execute_result"
    }
   ],
   "source": [
    "list(reversed(l))"
   ]
  },
  {
   "cell_type": "code",
   "execution_count": 16,
   "id": "5ec8e85e-e514-484a-93f3-b47c02e1dd57",
   "metadata": {},
   "outputs": [
    {
     "data": {
      "text/plain": [
       "[80, 40, 50, 10, 20, 30]"
      ]
     },
     "execution_count": 16,
     "metadata": {},
     "output_type": "execute_result"
    }
   ],
   "source": [
    "l=[30,20,10,50,40,80]\n",
    "l.reverse()\n",
    "l"
   ]
  },
  {
   "cell_type": "code",
   "execution_count": 15,
   "id": "1c743f3c-10e1-475f-8ac0-a93b1b016899",
   "metadata": {},
   "outputs": [
    {
     "name": "stdout",
     "output_type": "stream",
     "text": [
      "[80, 40, 50, 10, 20, 30]\n"
     ]
    }
   ],
   "source": [
    "print(l)"
   ]
  },
  {
   "cell_type": "code",
   "execution_count": 21,
   "id": "a1e4576c-69ba-4040-8441-5b20757deffa",
   "metadata": {},
   "outputs": [
    {
     "data": {
      "text/plain": [
       "['hai', 'how', 'are', 'you']"
      ]
     },
     "execution_count": 21,
     "metadata": {},
     "output_type": "execute_result"
    }
   ],
   "source": [
    "str1='hai how are you'\n",
    "str1.split()\n",
    "#str1.split(\"h\")"
   ]
  },
  {
   "cell_type": "code",
   "execution_count": 18,
   "id": "39e00c17-938b-4bfe-b909-58993d2948c2",
   "metadata": {},
   "outputs": [
    {
     "data": {
      "text/plain": [
       "(0, 1)"
      ]
     },
     "execution_count": 18,
     "metadata": {},
     "output_type": "execute_result"
    }
   ],
   "source": [
    "len(''),len(' ')"
   ]
  },
  {
   "cell_type": "code",
   "execution_count": 105,
   "id": "6d5473c5-5391-4421-baed-01a44ecb1d4a",
   "metadata": {},
   "outputs": [
    {
     "data": {
      "text/plain": [
       "['hai', 'how', 'are', 'you']"
      ]
     },
     "execution_count": 105,
     "metadata": {},
     "output_type": "execute_result"
    }
   ],
   "source": [
    "str1='hai how are you'\n",
    "l1=str1.split()\n",
    "l1"
   ]
  },
  {
   "cell_type": "code",
   "execution_count": 106,
   "id": "e2f2a1cd-4ae0-496c-ae2a-b3d86f2f9636",
   "metadata": {},
   "outputs": [
    {
     "data": {
      "text/plain": [
       "'hai===>how===>are===>you'"
      ]
     },
     "execution_count": 106,
     "metadata": {},
     "output_type": "execute_result"
    }
   ],
   "source": [
    "space=' '\n",
    "space.join(l1)\n",
    "'===>'.join(l1)"
   ]
  },
  {
   "cell_type": "code",
   "execution_count": 107,
   "id": "39cfa827-da51-4349-b35e-1224c27ff292",
   "metadata": {},
   "outputs": [
    {
     "data": {
      "text/plain": [
       "'hai<====>how<====>are<====>you'"
      ]
     },
     "execution_count": 107,
     "metadata": {},
     "output_type": "execute_result"
    }
   ],
   "source": [
    "space=' '\n",
    "space.join(l1)\n",
    "'<====>'.join(l1)"
   ]
  },
  {
   "cell_type": "code",
   "execution_count": 21,
   "id": "c7e6d54b-66f7-4082-a96d-02751696babf",
   "metadata": {},
   "outputs": [],
   "source": [
    "# we will take one string \n",
    "# split it that string then we wiil get words in a list \n",
    "# we will calculate len of each word in a new list\n",
    "# if len greter then 3 \n",
    "# then we  will take those word in  a new list \n",
    "# we will join  those words will make a sring "
   ]
  },
  {
   "cell_type": "code",
   "execution_count": 2,
   "id": "e0efc351-d754-4f67-b7a8-308279a473af",
   "metadata": {},
   "outputs": [
    {
     "data": {
      "text/plain": [
       "\"\\n     Student life is fun, no need to pretend, \\n     Biryani for breakfast, lunch, and weekend!\\n     Sleep like a log, dreams running free, Bingeing OTT like it's a degree.\\n     Books? Oh, they're safe... gathering\\xa0dust\\xa0peacefully\""
      ]
     },
     "execution_count": 2,
     "metadata": {},
     "output_type": "execute_result"
    }
   ],
   "source": [
    "str1=\"\"\"\n",
    "     Student life is fun, no need to pretend, \n",
    "     Biryani for breakfast, lunch, and weekend!\n",
    "     Sleep like a log, dreams running free, Bingeing OTT like it's a degree.\n",
    "     Books? Oh, they're safe... gathering dust peacefully\"\"\"\n",
    "\n",
    "\n",
    "str1"
   ]
  },
  {
   "cell_type": "code",
   "execution_count": 3,
   "id": "2598ef7d-538c-47d4-951a-6ffa7c965a76",
   "metadata": {},
   "outputs": [],
   "source": [
    "l1=str1.split()"
   ]
  },
  {
   "cell_type": "code",
   "execution_count": 6,
   "id": "4e211c94-3eaa-47f4-8233-d42aa0a4104e",
   "metadata": {},
   "outputs": [
    {
     "data": {
      "text/plain": [
       "['Student',\n",
       " 'life',\n",
       " 'fun,',\n",
       " 'need',\n",
       " 'pretend,',\n",
       " 'Biryani',\n",
       " 'breakfast,',\n",
       " 'lunch,',\n",
       " 'weekend!',\n",
       " 'Sleep',\n",
       " 'like',\n",
       " 'log,',\n",
       " 'dreams',\n",
       " 'running',\n",
       " 'free,',\n",
       " 'Bingeing',\n",
       " 'like',\n",
       " \"it's\",\n",
       " 'degree.',\n",
       " 'Books?',\n",
       " \"they're\",\n",
       " 'safe...',\n",
       " 'gathering',\n",
       " 'dust',\n",
       " 'peacefully']"
      ]
     },
     "execution_count": 6,
     "metadata": {},
     "output_type": "execute_result"
    }
   ],
   "source": [
    "l2=[]\n",
    "for i in l1:\n",
    "    if len(i)>3:\n",
    "    \n",
    "        l2.append(i)\n",
    "l2"
   ]
  },
  {
   "cell_type": "markdown",
   "id": "e6b76bc6-6f45-4396-ac04-06a1203f9611",
   "metadata": {},
   "source": [
    "- Intialization \n",
    "\n",
    "- print/type/sum/max/min/sorted/reversed\n",
    "\n",
    "- concat\n",
    "\n",
    "- index\n",
    "\n",
    "- mutable\n",
    "\n",
    "- slice\n",
    "\n",
    "- methods"
   ]
  },
  {
   "cell_type": "code",
   "execution_count": null,
   "id": "59073f42-2e2f-4ffb-adf9-a20e6c996f63",
   "metadata": {},
   "outputs": [],
   "source": [
    "copy  > copy the list \n",
    "clear > clear the list\n",
    "extend > add two list in one frame\n",
    "append\n",
    "remove\n",
    "pop\n",
    "sort\n",
    "count\n",
    "index\n",
    "incert\n",
    "del\n",
    "reversed\n"
   ]
  },
  {
   "cell_type": "code",
   "execution_count": 2,
   "id": "58c29bb6-5fbd-49ba-9cff-62779e58af37",
   "metadata": {},
   "outputs": [],
   "source": [
    "l=[10,20,30,40,50]\n",
    "\n",
    "l.clear()   # clear the list "
   ]
  },
  {
   "cell_type": "code",
   "execution_count": 3,
   "id": "882f328b-8c5c-49d2-a189-47aee91a9011",
   "metadata": {},
   "outputs": [
    {
     "data": {
      "text/plain": [
       "[]"
      ]
     },
     "execution_count": 3,
     "metadata": {},
     "output_type": "execute_result"
    }
   ],
   "source": [
    "l"
   ]
  },
  {
   "cell_type": "code",
   "execution_count": 7,
   "id": "dcdb6b61-0da9-486a-87b0-dad38bc07ff2",
   "metadata": {},
   "outputs": [],
   "source": [
    "l=[10,20,30,40,50]\n",
    "\n",
    "l2=l.copy()    # copy the list"
   ]
  },
  {
   "cell_type": "code",
   "execution_count": 8,
   "id": "5792311e-d558-438a-943e-df620cf298f6",
   "metadata": {},
   "outputs": [
    {
     "data": {
      "text/plain": [
       "[10, 20, 30, 40, 50]"
      ]
     },
     "execution_count": 8,
     "metadata": {},
     "output_type": "execute_result"
    }
   ],
   "source": [
    "l2"
   ]
  },
  {
   "cell_type": "code",
   "execution_count": 9,
   "id": "02c094fc-2797-4bb8-86bf-239317511548",
   "metadata": {},
   "outputs": [],
   "source": [
    "l=[10,20,30,40,50]\n",
    "\n",
    "l2=[1,2,34,545,6,6]\n",
    "\n",
    "l.extend(l2)     #  l2 extend in l1 "
   ]
  },
  {
   "cell_type": "code",
   "execution_count": 10,
   "id": "026874f5-da1b-4fa9-8c52-29a8aa183734",
   "metadata": {},
   "outputs": [
    {
     "data": {
      "text/plain": [
       "[10, 20, 30, 40, 50, 1, 2, 34, 545, 6, 6]"
      ]
     },
     "execution_count": 10,
     "metadata": {},
     "output_type": "execute_result"
    }
   ],
   "source": [
    "l"
   ]
  },
  {
   "cell_type": "code",
   "execution_count": 43,
   "id": "e4f638e9-18da-4b53-a368-52a0a67f6bcf",
   "metadata": {},
   "outputs": [
    {
     "data": {
      "text/plain": [
       "['Student',\n",
       " 'life',\n",
       " 'fun,',\n",
       " 'need',\n",
       " 'pretend,',\n",
       " 'Biryani',\n",
       " 'breakfast,',\n",
       " 'lunch,',\n",
       " 'weekend!',\n",
       " 'Sleep',\n",
       " 'like',\n",
       " 'log,',\n",
       " 'dreams',\n",
       " 'running',\n",
       " 'free,',\n",
       " 'Bingeing',\n",
       " 'like',\n",
       " \"it's\",\n",
       " 'degree.',\n",
       " 'Books?',\n",
       " \"they're\",\n",
       " 'safe...',\n",
       " 'gathering',\n",
       " 'dust',\n",
       " 'peacefully']"
      ]
     },
     "execution_count": 43,
     "metadata": {},
     "output_type": "execute_result"
    }
   ],
   "source": [
    "l2"
   ]
  },
  {
   "cell_type": "code",
   "execution_count": 69,
   "id": "e7e88bc6-3df2-413b-a5e7-524d9e7e18bb",
   "metadata": {},
   "outputs": [],
   "source": [
    "l=[10,20,30,40,50]\n",
    "\n",
    "l.append(60)     #  "
   ]
  },
  {
   "cell_type": "code",
   "execution_count": 70,
   "id": "7d0e1e02-dd18-435a-adaf-d8d0cf7c7894",
   "metadata": {},
   "outputs": [
    {
     "data": {
      "text/plain": [
       "[10, 20, 30, 40, 50, 60]"
      ]
     },
     "execution_count": 70,
     "metadata": {},
     "output_type": "execute_result"
    }
   ],
   "source": [
    "l"
   ]
  },
  {
   "cell_type": "code",
   "execution_count": 35,
   "id": "b0020bd8-8833-410f-b0be-8b9bfe3b150e",
   "metadata": {},
   "outputs": [],
   "source": [
    "l=[10,20,30,40,50]\n",
    "\n",
    "l.insert(7,15)"
   ]
  },
  {
   "cell_type": "code",
   "execution_count": 36,
   "id": "9221ba73-8be5-4056-8711-53f253ea108a",
   "metadata": {},
   "outputs": [
    {
     "data": {
      "text/plain": [
       "[10, 20, 30, 40, 50, 15]"
      ]
     },
     "execution_count": 36,
     "metadata": {},
     "output_type": "execute_result"
    }
   ],
   "source": [
    "l"
   ]
  },
  {
   "cell_type": "code",
   "execution_count": 43,
   "id": "06a1250e-f641-4867-a7d8-bcb0d70edccf",
   "metadata": {},
   "outputs": [
    {
     "data": {
      "text/plain": [
       "40"
      ]
     },
     "execution_count": 43,
     "metadata": {},
     "output_type": "execute_result"
    }
   ],
   "source": [
    "l=[10,20,30,40,50]\n",
    "\n",
    "l.pop(3)"
   ]
  },
  {
   "cell_type": "code",
   "execution_count": 40,
   "id": "378dc305-9d53-4d4c-9517-c42f2ba68288",
   "metadata": {},
   "outputs": [
    {
     "data": {
      "text/plain": [
       "[10, 20, 30, 40]"
      ]
     },
     "execution_count": 40,
     "metadata": {},
     "output_type": "execute_result"
    }
   ],
   "source": [
    "l"
   ]
  },
  {
   "cell_type": "code",
   "execution_count": 44,
   "id": "73423c5e-8afd-43d2-8e45-089d1a7bab5a",
   "metadata": {},
   "outputs": [],
   "source": [
    "l.remove(50)"
   ]
  },
  {
   "cell_type": "code",
   "execution_count": 45,
   "id": "e12ac634-0af0-4301-a646-fd1bdadecdbb",
   "metadata": {},
   "outputs": [
    {
     "data": {
      "text/plain": [
       "[10, 20, 30]"
      ]
     },
     "execution_count": 45,
     "metadata": {},
     "output_type": "execute_result"
    }
   ],
   "source": [
    "l"
   ]
  },
  {
   "cell_type": "code",
   "execution_count": 55,
   "id": "879be9e0-f5da-4e4f-8da4-6d88492fbbae",
   "metadata": {},
   "outputs": [],
   "source": [
    "l=[10,30,40,60,50,40,60,40,50]\n",
    "l.sort()"
   ]
  },
  {
   "cell_type": "code",
   "execution_count": 47,
   "id": "a73ec043-a658-4685-bdf4-194b915c3251",
   "metadata": {},
   "outputs": [
    {
     "data": {
      "text/plain": [
       "[10, 30, 40, 50, 60]"
      ]
     },
     "execution_count": 47,
     "metadata": {},
     "output_type": "execute_result"
    }
   ],
   "source": [
    "l"
   ]
  },
  {
   "cell_type": "code",
   "execution_count": 53,
   "id": "8870b4b9-e2b2-436b-b214-af612e4e89b9",
   "metadata": {},
   "outputs": [
    {
     "data": {
      "text/plain": [
       "3"
      ]
     },
     "execution_count": 53,
     "metadata": {},
     "output_type": "execute_result"
    }
   ],
   "source": [
    "l.count(40)"
   ]
  },
  {
   "cell_type": "code",
   "execution_count": null,
   "id": "ab56d9fa-6253-4f92-b60e-f2f795e72f09",
   "metadata": {},
   "outputs": [],
   "source": []
  },
  {
   "cell_type": "code",
   "execution_count": 66,
   "id": "b8855353-57b7-4a6f-86fa-5a4c73fc3c42",
   "metadata": {},
   "outputs": [
    {
     "data": {
      "text/plain": [
       "3"
      ]
     },
     "execution_count": 66,
     "metadata": {},
     "output_type": "execute_result"
    }
   ],
   "source": [
    "l=[10,30,40,60,50,40,60,40,50]\n",
    "l.index(60)"
   ]
  },
  {
   "cell_type": "code",
   "execution_count": 68,
   "id": "d9049aa8-9064-4981-a66f-991e5d59a692",
   "metadata": {},
   "outputs": [
    {
     "data": {
      "text/plain": [
       "60"
      ]
     },
     "execution_count": 68,
     "metadata": {},
     "output_type": "execute_result"
    }
   ],
   "source": [
    "l[6]"
   ]
  },
  {
   "cell_type": "code",
   "execution_count": null,
   "id": "7dec75ae-287c-436d-9913-ec8d281f4b33",
   "metadata": {},
   "outputs": [],
   "source": []
  }
 ],
 "metadata": {
  "kernelspec": {
   "display_name": "Python [conda env:base] *",
   "language": "python",
   "name": "conda-base-py"
  },
  "language_info": {
   "codemirror_mode": {
    "name": "ipython",
    "version": 3
   },
   "file_extension": ".py",
   "mimetype": "text/x-python",
   "name": "python",
   "nbconvert_exporter": "python",
   "pygments_lexer": "ipython3",
   "version": "3.13.5"
  }
 },
 "nbformat": 4,
 "nbformat_minor": 5
}
