{
 "cells": [
  {
   "cell_type": "markdown",
   "id": "a35d49a4-7371-4de8-a391-5e353fa721b4",
   "metadata": {},
   "source": [
    "**loops**\n",
    "\n",
    "- loops are use to reapet a block  of code multiple time\n",
    "\n",
    "- function means reuse of code\n",
    "\n",
    "- when ever you think about how many times then think about loops\n"
   ]
  },
  {
   "cell_type": "markdown",
   "id": "b089608e-6a3b-4139-9dbb-b15d0546ff64",
   "metadata": {},
   "source": [
    "- entry point : initial point \n",
    "\n",
    "- condition : how many time the loops should run\n",
    "\n",
    "    - incremental\n",
    "\n",
    "    - decremental\n",
    "\n",
    "- stop point: conditional"
   ]
  },
  {
   "cell_type": "markdown",
   "id": "a7bcd04d-21a3-42f4-a645-4108d46ad0b4",
   "metadata": {},
   "source": [
    "**for loop**"
   ]
  },
  {
   "cell_type": "code",
   "execution_count": 1,
   "id": "b7ab9e4e-04b7-487a-ade7-634f530af3e8",
   "metadata": {},
   "outputs": [
    {
     "name": "stdout",
     "output_type": "stream",
     "text": [
      "hello\n",
      "hello\n",
      "hello\n"
     ]
    }
   ],
   "source": [
    "print('hello')\n",
    "print('hello')\n",
    "print('hello')"
   ]
  },
  {
   "cell_type": "markdown",
   "id": "7bb4c022-3207-4d94-8af6-b3e1a69838ac",
   "metadata": {},
   "source": [
    "**case-1: range (stop)**\n",
    "\n",
    "- range(3)\n",
    "\n",
    "- start(0)\n",
    "\n",
    "- increment by 1\n",
    "\n",
    "- last=stop-1=3-1=2\n",
    "\n",
    "- 0  1  2"
   ]
  },
  {
   "cell_type": "code",
   "execution_count": 3,
   "id": "add9ab74-3617-40f4-875e-fb4108dddff4",
   "metadata": {},
   "outputs": [
    {
     "name": "stdout",
     "output_type": "stream",
     "text": [
      "0\n",
      "1\n",
      "2\n"
     ]
    }
   ],
   "source": [
    "for i in range (3):\n",
    "    print(i)\n",
    "\n",
    "# i=0     print(0)\n",
    "# i=1    print(1)\n",
    "# i=2    print(2)"
   ]
  },
  {
   "cell_type": "code",
   "execution_count": 6,
   "id": "368a0957-8c69-4968-bea4-8352bb5fc779",
   "metadata": {},
   "outputs": [
    {
     "name": "stdout",
     "output_type": "stream",
     "text": [
      "hello\n",
      "hello\n",
      "hello\n"
     ]
    }
   ],
   "source": [
    "for i in range(3):\n",
    "    print('hello')"
   ]
  },
  {
   "cell_type": "code",
   "execution_count": 4,
   "id": "76341b58-e39a-407a-b448-d9e803491df5",
   "metadata": {},
   "outputs": [
    {
     "name": "stdout",
     "output_type": "stream",
     "text": [
      "rahul\n",
      "rahul\n",
      "rahul\n"
     ]
    }
   ],
   "source": [
    "# syntax \n",
    "for i in range(3):\n",
    "    print(\"rahul\")"
   ]
  },
  {
   "cell_type": "code",
   "execution_count": 1,
   "id": "0ea88768-e40a-4ed3-a76f-5a0a5252f8d1",
   "metadata": {},
   "outputs": [
    {
     "name": "stdout",
     "output_type": "stream",
     "text": [
      "manoj jarange patil king of maratha\n"
     ]
    }
   ],
   "source": [
    "for i in range(1):\n",
    "    print(\"manoj jarange patil king of maratha\")"
   ]
  },
  {
   "cell_type": "code",
   "execution_count": 1,
   "id": "1344b9ed-9f2e-41a8-9de1-cc63cbf81481",
   "metadata": {},
   "outputs": [],
   "source": [
    "# Q1) : wap ask the user take a number print sq of number \n",
    "#      ask the repeat task 3 time "
   ]
  },
  {
   "cell_type": "code",
   "execution_count": 9,
   "id": "b195c5da-f228-444f-9e8c-4ef30efaefc3",
   "metadata": {},
   "outputs": [
    {
     "name": "stdin",
     "output_type": "stream",
     "text": [
      "enter the num: 4\n"
     ]
    },
    {
     "name": "stdout",
     "output_type": "stream",
     "text": [
      "The sq of the number of:16\n",
      "The sq of the number of:16\n",
      "The sq of the number of:16\n"
     ]
    }
   ],
   "source": [
    "num= int(input(\"enter the num:\"))\n",
    "for i in range(3):\n",
    "    print(f\"The sq of the number of:{num*num}\")"
   ]
  },
  {
   "cell_type": "code",
   "execution_count": 2,
   "id": "e3f1e14d-ce1d-4f41-9d82-fbd7752e3b46",
   "metadata": {},
   "outputs": [
    {
     "name": "stdin",
     "output_type": "stream",
     "text": [
      "enter the number 3\n"
     ]
    },
    {
     "name": "stdout",
     "output_type": "stream",
     "text": [
      "the sq of the 3 is: 9\n"
     ]
    },
    {
     "name": "stdin",
     "output_type": "stream",
     "text": [
      "enter the number 44\n"
     ]
    },
    {
     "name": "stdout",
     "output_type": "stream",
     "text": [
      "the sq of the 44 is: 1936\n"
     ]
    },
    {
     "name": "stdin",
     "output_type": "stream",
     "text": [
      "enter the number 66\n"
     ]
    },
    {
     "name": "stdout",
     "output_type": "stream",
     "text": [
      "the sq of the 66 is: 4356\n"
     ]
    },
    {
     "name": "stdin",
     "output_type": "stream",
     "text": [
      "enter the number 111\n"
     ]
    },
    {
     "name": "stdout",
     "output_type": "stream",
     "text": [
      "the sq of the 111 is: 12321\n"
     ]
    }
   ],
   "source": [
    "for i in range(4):\n",
    "    num=eval(input(\"enter the number\"))\n",
    "    print(f'the sq of the {num} is: {num*num}')"
   ]
  },
  {
   "cell_type": "code",
   "execution_count": 6,
   "id": "4e102e1a-c9db-4c5b-b8ac-5951487a991e",
   "metadata": {},
   "outputs": [
    {
     "name": "stdin",
     "output_type": "stream",
     "text": [
      "enter the number 40\n"
     ]
    },
    {
     "name": "stdout",
     "output_type": "stream",
     "text": [
      "the sq of the 40 is: 1600\n",
      "the sq of the 40 is: 1600\n",
      "the sq of the 40 is: 1600\n",
      "the sq of the 40 is: 1600\n",
      "the sq of the 40 is: 1600\n"
     ]
    }
   ],
   "source": [
    "num=eval(input(\"enter the number\"))\n",
    "for i in range(1,6):\n",
    "    print(f\"the sq of the {num} is: {num*num}\")\n",
    "    "
   ]
  },
  {
   "cell_type": "code",
   "execution_count": 3,
   "id": "b2559dd5-6bf8-4dc3-b0f2-f60c528dbf53",
   "metadata": {},
   "outputs": [
    {
     "name": "stdin",
     "output_type": "stream",
     "text": [
      "enter the num 32\n"
     ]
    },
    {
     "name": "stdout",
     "output_type": "stream",
     "text": [
      "the sq of 32\n",
      "the sq of 32\n",
      "the sq of 32\n",
      "the sq of 32\n",
      "the sq of 32\n"
     ]
    }
   ],
   "source": [
    "num=eval(input(\"enter the num\"))\n",
    "for i in range (5,10):\n",
    "    print(f\"the sq of {num}\")"
   ]
  },
  {
   "cell_type": "code",
   "execution_count": 10,
   "id": "6900f786-581b-42d1-963f-569a6ecfc965",
   "metadata": {},
   "outputs": [
    {
     "name": "stdin",
     "output_type": "stream",
     "text": [
      "Enter the number : 2\n"
     ]
    },
    {
     "name": "stdout",
     "output_type": "stream",
     "text": [
      " The SQ of num is : 4\n"
     ]
    },
    {
     "name": "stdin",
     "output_type": "stream",
     "text": [
      "Enter the number : 3\n"
     ]
    },
    {
     "name": "stdout",
     "output_type": "stream",
     "text": [
      " The SQ of num is : 9\n"
     ]
    },
    {
     "name": "stdin",
     "output_type": "stream",
     "text": [
      "Enter the number : 4\n"
     ]
    },
    {
     "name": "stdout",
     "output_type": "stream",
     "text": [
      " The SQ of num is : 16\n"
     ]
    },
    {
     "name": "stdin",
     "output_type": "stream",
     "text": [
      "Enter the number : 7\n"
     ]
    },
    {
     "name": "stdout",
     "output_type": "stream",
     "text": [
      " The SQ of num is : 49\n"
     ]
    },
    {
     "name": "stdin",
     "output_type": "stream",
     "text": [
      "Enter the number : 8\n"
     ]
    },
    {
     "name": "stdout",
     "output_type": "stream",
     "text": [
      " The SQ of num is : 64\n"
     ]
    }
   ],
   "source": [
    "for i in range(5):\n",
    "    num=int(input(\"Enter the number :\"))\n",
    "    print(f\" The SQ of num is : {num*num}\")"
   ]
  },
  {
   "cell_type": "code",
   "execution_count": 11,
   "id": "00347bd0-6561-4554-b8bf-918e85bb9dd8",
   "metadata": {},
   "outputs": [
    {
     "name": "stdin",
     "output_type": "stream",
     "text": [
      "Enter the number :  4\n"
     ]
    },
    {
     "name": "stdout",
     "output_type": "stream",
     "text": [
      " The cude of num is: 64\n"
     ]
    },
    {
     "name": "stdin",
     "output_type": "stream",
     "text": [
      "Enter the number :  2\n"
     ]
    },
    {
     "name": "stdout",
     "output_type": "stream",
     "text": [
      " The cude of num is: 8\n"
     ]
    },
    {
     "name": "stdin",
     "output_type": "stream",
     "text": [
      "Enter the number :  5\n"
     ]
    },
    {
     "name": "stdout",
     "output_type": "stream",
     "text": [
      " The cude of num is: 125\n"
     ]
    },
    {
     "name": "stdin",
     "output_type": "stream",
     "text": [
      "Enter the number :  7\n"
     ]
    },
    {
     "name": "stdout",
     "output_type": "stream",
     "text": [
      " The cude of num is: 343\n"
     ]
    },
    {
     "name": "stdin",
     "output_type": "stream",
     "text": [
      "Enter the number :  4\n"
     ]
    },
    {
     "name": "stdout",
     "output_type": "stream",
     "text": [
      " The cude of num is: 64\n"
     ]
    }
   ],
   "source": [
    "for i in range(5):\n",
    "    num=int(input(\"Enter the number : \"))\n",
    "    print(f\" The cude of num is: {num*num*num}\")"
   ]
  },
  {
   "cell_type": "code",
   "execution_count": 13,
   "id": "85fe34dc-fb76-4e47-95fa-90cb8bdaf30c",
   "metadata": {},
   "outputs": [
    {
     "name": "stdout",
     "output_type": "stream",
     "text": [
      "7*i\n",
      "7*i\n",
      "7*i\n",
      "7*i\n",
      "7*i\n",
      "7*i\n",
      "7*i\n",
      "7*i\n",
      "7*i\n",
      "7*i\n",
      "7*i\n"
     ]
    }
   ],
   "source": [
    "for i in range(11):\n",
    "    print(f\"7*i\")"
   ]
  },
  {
   "cell_type": "code",
   "execution_count": 41,
   "id": "9075acbf-69b4-4844-91cb-43be47947138",
   "metadata": {},
   "outputs": [
    {
     "name": "stdout",
     "output_type": "stream",
     "text": [
      "7*0=0\n",
      "7*1=7\n",
      "7*2=14\n",
      "7*3=21\n",
      "7*4=28\n",
      "7*5=35\n",
      "7*6=42\n",
      "7*7=49\n",
      "7*8=56\n",
      "7*9=63\n",
      "7*10=70\n"
     ]
    }
   ],
   "source": [
    "for i in range(11):\n",
    "    print(f'7*{i}={7*i}')"
   ]
  },
  {
   "cell_type": "code",
   "execution_count": 7,
   "id": "7b6ca456-8db3-4112-b946-a3c07c4bf301",
   "metadata": {},
   "outputs": [
    {
     "name": "stdout",
     "output_type": "stream",
     "text": [
      "9*0=0\n",
      "9*1=9\n",
      "9*2=18\n",
      "9*3=27\n",
      "9*4=36\n",
      "9*5=45\n",
      "9*6=54\n",
      "9*7=63\n",
      "9*8=72\n",
      "9*9=81\n",
      "9*10=90\n"
     ]
    }
   ],
   "source": [
    "for i in range(11):\n",
    "    print(f\"9*{i}={9*i}\")"
   ]
  },
  {
   "cell_type": "code",
   "execution_count": 42,
   "id": "87820810-8465-48f5-9562-0a30889dfe7f",
   "metadata": {},
   "outputs": [
    {
     "name": "stdout",
     "output_type": "stream",
     "text": [
      "8*0=0\n",
      "8*1=8\n",
      "8*2=16\n",
      "8*3=24\n",
      "8*4=32\n",
      "8*5=40\n",
      "8*6=48\n",
      "8*7=56\n",
      "8*8=64\n",
      "8*9=72\n",
      "8*10=80\n"
     ]
    }
   ],
   "source": [
    "for i in range(11):\n",
    "    print(f\"8*{i}={8*i}\")"
   ]
  },
  {
   "cell_type": "code",
   "execution_count": 1,
   "id": "f0472261-064b-40cf-a2be-5f8fb2917af9",
   "metadata": {},
   "outputs": [
    {
     "name": "stdout",
     "output_type": "stream",
     "text": [
      "6*0=0\n",
      "6*1=6\n",
      "6*2=12\n",
      "6*3=18\n",
      "6*4=24\n",
      "6*5=30\n",
      "6*6=36\n",
      "6*7=42\n",
      "6*8=48\n",
      "6*9=54\n",
      "6*10=60\n"
     ]
    }
   ],
   "source": [
    "for i in range(11):\n",
    "    print(f\"6*{i}={6*i}\")"
   ]
  },
  {
   "cell_type": "code",
   "execution_count": 2,
   "id": "ba8071f4-49ae-4c74-bb63-325b77f77877",
   "metadata": {},
   "outputs": [
    {
     "name": "stdout",
     "output_type": "stream",
     "text": [
      "4*0=0\n",
      "4*1=4\n",
      "4*2=8\n",
      "4*3=12\n",
      "4*4=16\n",
      "4*5=20\n",
      "4*6=24\n",
      "4*7=28\n",
      "4*8=32\n",
      "4*9=36\n",
      "4*10=40\n"
     ]
    }
   ],
   "source": [
    "for i in range(11):\n",
    "    print(f\"4*{i}={4*i}\")"
   ]
  },
  {
   "cell_type": "code",
   "execution_count": 12,
   "id": "2466d835-0c4a-4250-bf66-419964a0b61b",
   "metadata": {},
   "outputs": [
    {
     "name": "stdout",
     "output_type": "stream",
     "text": [
      "3*0=0\n",
      "3*1=3\n",
      "3*2=6\n",
      "3*3=9\n",
      "3*4=12\n",
      "3*5=15\n",
      "3*6=18\n",
      "3*7=21\n",
      "3*8=24\n",
      "3*9=27\n",
      "3*10=30\n"
     ]
    }
   ],
   "source": [
    "for i in range(11):\n",
    "    print(f\"3*{i}={3*i}\")"
   ]
  },
  {
   "cell_type": "code",
   "execution_count": 14,
   "id": "2e84ddd0-28ac-4685-a7f8-570fbe97070a",
   "metadata": {},
   "outputs": [
    {
     "name": "stdout",
     "output_type": "stream",
     "text": [
      "prime num between  1 50\n",
      "2\n",
      "3\n",
      "5\n",
      "7\n",
      "11\n",
      "13\n",
      "17\n",
      "19\n",
      "23\n",
      "29\n",
      "31\n",
      "37\n",
      "41\n",
      "43\n",
      "47\n"
     ]
    }
   ],
   "source": [
    "lower = 1\n",
    "upper = 50\n",
    "print(\"prime num between \", lower , upper )\n",
    "for num in range(lower , upper + 1):\n",
    "    if num > 1:\n",
    "        for i in range(2, num):\n",
    "            if (num % i)==0:\n",
    "                break\n",
    "        else:\n",
    "            print(num)"
   ]
  },
  {
   "cell_type": "code",
   "execution_count": 15,
   "id": "11e3e186-1b77-4fba-934d-b9dff8dd47b8",
   "metadata": {},
   "outputs": [
    {
     "data": {
      "text/plain": [
       "'dip@k'"
      ]
     },
     "execution_count": 15,
     "metadata": {},
     "output_type": "execute_result"
    }
   ],
   "source": [
    "a=\"dipak\"\n",
    "if a in a:\n",
    "    a=a.replace(\"a\",\"@\")\n",
    "else:\n",
    "    print(\"not in list\")\n",
    "a"
   ]
  },
  {
   "cell_type": "code",
   "execution_count": 16,
   "id": "464ce04d-e4c6-400d-9b17-73e7089dcb54",
   "metadata": {},
   "outputs": [
    {
     "name": "stdout",
     "output_type": "stream",
     "text": [
      "area of trangele is 209.0\n"
     ]
    }
   ],
   "source": [
    "b=22\n",
    "h=19\n",
    "area_of_trangle=0.5*b*h\n",
    "print(f\"area of trangele is {area_of_trangle}\")"
   ]
  },
  {
   "cell_type": "code",
   "execution_count": 21,
   "id": "af50899e-bb4a-46de-a570-66ae857b6885",
   "metadata": {},
   "outputs": [
    {
     "name": "stdin",
     "output_type": "stream",
     "text": [
      "Enter the month : 2010\n",
      "Enter the year: 2\n"
     ]
    },
    {
     "name": "stdout",
     "output_type": "stream",
     "text": [
      "   February 2010\n",
      "Mo Tu We Th Fr Sa Su\n",
      " 1  2  3  4  5  6  7\n",
      " 8  9 10 11 12 13 14\n",
      "15 16 17 18 19 20 21\n",
      "22 23 24 25 26 27 28\n",
      "\n"
     ]
    }
   ],
   "source": [
    "import calendar\n",
    "year=int(input(\"Enter the month :\"))\n",
    "month=int(input(\"Enter the year:\"))\n",
    "cal = calendar.month(year,month)\n",
    "print(cal)"
   ]
  },
  {
   "cell_type": "markdown",
   "id": "4cf8cadc-aab2-4bda-97e8-69602540f7ec",
   "metadata": {},
   "source": [
    "**case-2: range(start,stop)**\n",
    "\n",
    "- range(10,15)\n",
    "\n",
    "- start=start=10\n",
    "\n",
    "- increment by 1\n",
    "\n",
    "- last=stop-1=15-1=14\n",
    "\n",
    "- 10,11,12,13,14"
   ]
  },
  {
   "cell_type": "code",
   "execution_count": 20,
   "id": "4e91d122-7cbc-4c1c-aa92-993e92e03c83",
   "metadata": {},
   "outputs": [
    {
     "name": "stdout",
     "output_type": "stream",
     "text": [
      "10\n",
      "11\n",
      "12\n",
      "13\n",
      "14\n",
      "15\n",
      "16\n",
      "17\n",
      "18\n",
      "19\n"
     ]
    }
   ],
   "source": [
    "for i in range (10,20):\n",
    "    print(i)"
   ]
  },
  {
   "cell_type": "code",
   "execution_count": 1,
   "id": "60eee3f1-889b-4977-9827-2c9a3c194de7",
   "metadata": {},
   "outputs": [
    {
     "name": "stdout",
     "output_type": "stream",
     "text": [
      "10  11  12  13  14  15  16  17  18  19  20  "
     ]
    }
   ],
   "source": [
    "for i in range (10,21):\n",
    "    print(i,end=\"  \")"
   ]
  },
  {
   "cell_type": "code",
   "execution_count": 12,
   "id": "200d96fd-5ca2-4dbc-8165-d56124b9c0e2",
   "metadata": {},
   "outputs": [
    {
     "name": "stdout",
     "output_type": "stream",
     "text": [
      "hello>>>>>>>>>>hay...........bye\n"
     ]
    }
   ],
   "source": [
    "print('hello' , end='>>>>>>>>>>')\n",
    "print('hay' , end='...........')\n",
    "print('bye')"
   ]
  },
  {
   "cell_type": "code",
   "execution_count": 7,
   "id": "2560af5a-43b3-40a1-84cb-2a633516532c",
   "metadata": {},
   "outputs": [
    {
     "name": "stdin",
     "output_type": "stream",
     "text": [
      "enter the number 20\n"
     ]
    },
    {
     "name": "stdout",
     "output_type": "stream",
     "text": [
      "the sq of the 20 is: 400\n"
     ]
    },
    {
     "name": "stdin",
     "output_type": "stream",
     "text": [
      "enter the number 10\n"
     ]
    },
    {
     "name": "stdout",
     "output_type": "stream",
     "text": [
      "the sq of the 10 is: 100\n"
     ]
    },
    {
     "name": "stdin",
     "output_type": "stream",
     "text": [
      "enter the number 30\n"
     ]
    },
    {
     "name": "stdout",
     "output_type": "stream",
     "text": [
      "the sq of the 30 is: 900\n"
     ]
    },
    {
     "name": "stdin",
     "output_type": "stream",
     "text": [
      "enter the number 40\n"
     ]
    },
    {
     "name": "stdout",
     "output_type": "stream",
     "text": [
      "the sq of the 40 is: 1600\n"
     ]
    },
    {
     "name": "stdin",
     "output_type": "stream",
     "text": [
      "enter the number 50\n"
     ]
    },
    {
     "name": "stdout",
     "output_type": "stream",
     "text": [
      "the sq of the 50 is: 2500\n"
     ]
    },
    {
     "name": "stdin",
     "output_type": "stream",
     "text": [
      "enter the number 45\n"
     ]
    },
    {
     "name": "stdout",
     "output_type": "stream",
     "text": [
      "the sq of the 45 is: 2025\n"
     ]
    },
    {
     "name": "stdin",
     "output_type": "stream",
     "text": [
      "enter the number 25\n"
     ]
    },
    {
     "name": "stdout",
     "output_type": "stream",
     "text": [
      "the sq of the 25 is: 625\n"
     ]
    },
    {
     "name": "stdin",
     "output_type": "stream",
     "text": [
      "enter the number 15\n"
     ]
    },
    {
     "name": "stdout",
     "output_type": "stream",
     "text": [
      "the sq of the 15 is: 225\n"
     ]
    },
    {
     "name": "stdin",
     "output_type": "stream",
     "text": [
      "enter the number 100\n"
     ]
    },
    {
     "name": "stdout",
     "output_type": "stream",
     "text": [
      "the sq of the 100 is: 10000\n"
     ]
    },
    {
     "name": "stdin",
     "output_type": "stream",
     "text": [
      "enter the number 90\n"
     ]
    },
    {
     "name": "stdout",
     "output_type": "stream",
     "text": [
      "the sq of the 90 is: 8100\n"
     ]
    }
   ],
   "source": [
    "for i in range(10):\n",
    "    num=eval(input(\"enter the number\"))\n",
    "    print(f\"the sq of the {num} is: {num*num}\")"
   ]
  },
  {
   "cell_type": "code",
   "execution_count": 13,
   "id": "71527377-cc2b-4e4b-9f21-9ba605cae5a9",
   "metadata": {},
   "outputs": [
    {
     "name": "stdin",
     "output_type": "stream",
     "text": [
      "enter the number 22\n"
     ]
    },
    {
     "name": "stdout",
     "output_type": "stream",
     "text": [
      "the sq of num is 484\n"
     ]
    },
    {
     "name": "stdin",
     "output_type": "stream",
     "text": [
      "enter the number 44\n"
     ]
    },
    {
     "name": "stdout",
     "output_type": "stream",
     "text": [
      "the sq of num is 1936\n"
     ]
    },
    {
     "name": "stdin",
     "output_type": "stream",
     "text": [
      "enter the number 21\n"
     ]
    },
    {
     "name": "stdout",
     "output_type": "stream",
     "text": [
      "the sq of num is 441\n"
     ]
    },
    {
     "name": "stdin",
     "output_type": "stream",
     "text": [
      "enter the number 9\n"
     ]
    },
    {
     "name": "stdout",
     "output_type": "stream",
     "text": [
      "the sq of num is 81\n"
     ]
    },
    {
     "name": "stdin",
     "output_type": "stream",
     "text": [
      "enter the number 12\n"
     ]
    },
    {
     "name": "stdout",
     "output_type": "stream",
     "text": [
      "the sq of num is 144\n"
     ]
    }
   ],
   "source": [
    "for i in range(5):\n",
    "    num=eval(input(\"enter the number\"))\n",
    "    print(f\"the sq of num is {num*num}\")"
   ]
  },
  {
   "cell_type": "code",
   "execution_count": 10,
   "id": "a4cc257c-1493-4807-87d5-021990e9867c",
   "metadata": {},
   "outputs": [
    {
     "name": "stdin",
     "output_type": "stream",
     "text": [
      "enter the num 50\n"
     ]
    },
    {
     "name": "stdout",
     "output_type": "stream",
     "text": [
      " the sq of the num is: 2500\n"
     ]
    },
    {
     "name": "stdin",
     "output_type": "stream",
     "text": [
      "enter the num 66\n"
     ]
    },
    {
     "name": "stdout",
     "output_type": "stream",
     "text": [
      " the sq of the num is: 4356\n"
     ]
    }
   ],
   "source": [
    "for i in range (2):\n",
    "    num=eval(input(\"enter the num\"))\n",
    "    print(f\" the sq of the num is: {num*num}\")"
   ]
  },
  {
   "cell_type": "code",
   "execution_count": 2,
   "id": "ea08f83b-a88d-4e85-855d-f453b9681359",
   "metadata": {},
   "outputs": [
    {
     "name": "stdin",
     "output_type": "stream",
     "text": [
      "enter the num 30\n"
     ]
    },
    {
     "name": "stdout",
     "output_type": "stream",
     "text": [
      "the sq of num is 900\n"
     ]
    },
    {
     "name": "stdin",
     "output_type": "stream",
     "text": [
      "enter the num 54\n"
     ]
    },
    {
     "name": "stdout",
     "output_type": "stream",
     "text": [
      "the sq of num is 2916\n"
     ]
    },
    {
     "name": "stdin",
     "output_type": "stream",
     "text": [
      "enter the num 99\n"
     ]
    },
    {
     "name": "stdout",
     "output_type": "stream",
     "text": [
      "the sq of num is 9801\n"
     ]
    }
   ],
   "source": [
    "for i in range (3):\n",
    "    num=eval(input(\"enter the num\"))\n",
    "    print(f\"the sq of num is {num*num}\")\n",
    "    "
   ]
  },
  {
   "cell_type": "code",
   "execution_count": 2,
   "id": "e4fee842-304d-4ea3-be38-5929499af09e",
   "metadata": {},
   "outputs": [
    {
     "name": "stdin",
     "output_type": "stream",
     "text": [
      "enter the number: 22\n"
     ]
    },
    {
     "name": "stdout",
     "output_type": "stream",
     "text": [
      "the sq of 22 is: 484\n"
     ]
    },
    {
     "name": "stdin",
     "output_type": "stream",
     "text": [
      "enter the number: 90\n"
     ]
    },
    {
     "name": "stdout",
     "output_type": "stream",
     "text": [
      "the sq of 90 is: 8100\n"
     ]
    },
    {
     "name": "stdin",
     "output_type": "stream",
     "text": [
      "enter the number: 891\n"
     ]
    },
    {
     "name": "stdout",
     "output_type": "stream",
     "text": [
      "the sq of 891 is: 793881\n"
     ]
    },
    {
     "name": "stdin",
     "output_type": "stream",
     "text": [
      "enter the number: 77\n"
     ]
    },
    {
     "name": "stdout",
     "output_type": "stream",
     "text": [
      "the sq of 77 is: 5929\n"
     ]
    },
    {
     "name": "stdin",
     "output_type": "stream",
     "text": [
      "enter the number: 09\n"
     ]
    },
    {
     "name": "stdout",
     "output_type": "stream",
     "text": [
      "the sq of 9 is: 81\n"
     ]
    }
   ],
   "source": [
    "for i in range(1,6):\n",
    "    num=int(input(\"enter the number:\"))\n",
    "    print(f\"the sq of {num} is: {num*num}\")"
   ]
  },
  {
   "cell_type": "markdown",
   "id": "c7b5b5aa-543a-453e-9f26-40e299a072c7",
   "metadata": {},
   "source": [
    "Q3 ask the user enter the number print even or odd\n",
    "#  repeat the task 5 time \n",
    "\n",
    "Q4  ask the user get a random number between 1 to 100 print even or odd\n",
    "#  repeat the 5 time "
   ]
  },
  {
   "cell_type": "code",
   "execution_count": null,
   "id": "97f89c98-2a4a-473e-95de-1ee0c207412e",
   "metadata": {},
   "outputs": [],
   "source": []
  },
  {
   "cell_type": "code",
   "execution_count": 35,
   "id": "2c37b528-3b7c-4203-9a18-35db87153eeb",
   "metadata": {},
   "outputs": [
    {
     "name": "stdin",
     "output_type": "stream",
     "text": [
      "enter the number 11\n"
     ]
    },
    {
     "name": "stdout",
     "output_type": "stream",
     "text": [
      "odd\n"
     ]
    }
   ],
   "source": [
    "for i in range(1):\n",
    "    num=eval(input(\"enter the number\"))\n",
    "    if num % 2 ==0:\n",
    "        print('even')\n",
    "    else:\n",
    "        print(nu'odd')\n",
    "    "
   ]
  },
  {
   "cell_type": "code",
   "execution_count": 22,
   "id": "38ef611d-1914-47d8-a40d-5635801bac27",
   "metadata": {},
   "outputs": [
    {
     "name": "stdout",
     "output_type": "stream",
     "text": [
      "7 is odd\n",
      "20 is even\n",
      "4 is even\n",
      "21 is odd\n",
      "47 is odd\n"
     ]
    }
   ],
   "source": [
    "import random\n",
    "for i in range(5):\n",
    "    num=random.randint(1,100)\n",
    "    if num % 2 ==0:\n",
    "        print(f\"{num} is even\")\n",
    "    else:\n",
    "        print(f\"{num} is odd\")\n",
    "    "
   ]
  },
  {
   "cell_type": "code",
   "execution_count": 26,
   "id": "c7ba087d-f063-4c1d-8728-d7ec43fb57c0",
   "metadata": {},
   "outputs": [
    {
     "name": "stdout",
     "output_type": "stream",
     "text": [
      " the 348 is even\n",
      " the 210 is even\n",
      " the 164 is even\n"
     ]
    }
   ],
   "source": [
    "import random\n",
    "for i in range (3):\n",
    "    num=random.randint (3,400)\n",
    "    if num % 2 ==0:\n",
    "        print(f\" the {num} is even\")\n",
    "    else:\n",
    "        print(f\"the {num} is odd\")"
   ]
  },
  {
   "cell_type": "code",
   "execution_count": 15,
   "id": "d6469904-8f44-4386-9142-239faeff742b",
   "metadata": {},
   "outputs": [
    {
     "name": "stdout",
     "output_type": "stream",
     "text": [
      " the 88 is odd\n"
     ]
    }
   ],
   "source": [
    "def even_odd (num):\n",
    "    if num % 55>=100:\n",
    "        print(f\"the {num} is even\")\n",
    "    else:\n",
    "        print(f\" the {num} is odd\")\n",
    "\n",
    "even_odd(88)"
   ]
  },
  {
   "cell_type": "code",
   "execution_count": 16,
   "id": "7c283cf1-a0b5-4008-90e2-82e0f0a0a6cc",
   "metadata": {},
   "outputs": [
    {
     "name": "stdout",
     "output_type": "stream",
     "text": [
      "44 is even\n"
     ]
    }
   ],
   "source": [
    "def even_odd(num):\n",
    "    if num % 2 ==0:\n",
    "        print(f\"{num} is even\")\n",
    "    else:\n",
    "        print(f\"{num} is odd\")\n",
    "\n",
    "even_odd(44)"
   ]
  },
  {
   "cell_type": "code",
   "execution_count": 14,
   "id": "51083037-0239-4026-849b-e8ff50555bbe",
   "metadata": {},
   "outputs": [],
   "source": [
    "def even_odd2(num):\n",
    "    if num % 3 ==0:\n",
    "        print(f'the {num} is even')\n",
    "    else:\n",
    "        print(f'the {num} is odd')"
   ]
  },
  {
   "cell_type": "code",
   "execution_count": 25,
   "id": "984d327d-d9c7-4b17-9860-7e833af63c91",
   "metadata": {},
   "outputs": [
    {
     "name": "stdout",
     "output_type": "stream",
     "text": [
      "11 is odd\n"
     ]
    }
   ],
   "source": [
    "even_odd()"
   ]
  },
  {
   "cell_type": "code",
   "execution_count": null,
   "id": "d0fdf987-dfde-4347-be88-f62024dfcb4a",
   "metadata": {},
   "outputs": [],
   "source": [
    "case-1 : range(stop) = range(5)\n",
    "case-2 : range(start,stop) = range (5,10)\n",
    "case-3 : range(start,stop,step) = range (1,20,2)\n"
   ]
  },
  {
   "cell_type": "markdown",
   "id": "d01bec20-a83d-485b-99e9-27a664a60a1c",
   "metadata": {},
   "source": [
    "**case-3 : range(start,stop,step)**\n",
    "\n",
    "- step : positive value or negative \n",
    "\n",
    "  - range (1,10,2)  : step=2 positive\n",
    "\n",
    "  - range (1,10,-2) : step=2 negative \n",
    "\n",
    "\n",
    "- start=start \n",
    "\n",
    "- if we have positive step \n",
    "- last= stop-1 \n",
    "\n",
    "- if we have negative step \n",
    "- last=stop+1\n",
    "\n",
    "range(1,11,2)\n",
    "start=1 step=2 last =11-1=10\n",
    "1    3    5   7    9"
   ]
  },
  {
   "cell_type": "code",
   "execution_count": null,
   "id": "34153e65-d437-40d9-beaf-b4810aa2a5a8",
   "metadata": {},
   "outputs": [],
   "source": [
    "for i in range  (2,20,3):\n",
    "    print(i,end='   ')"
   ]
  },
  {
   "cell_type": "code",
   "execution_count": null,
   "id": "a30f26eb-f9ad-4b0b-a465-d180abc49c3d",
   "metadata": {},
   "outputs": [],
   "source": [
    "for i in range  (2,20,-3):\n",
    "    print(i,end='  ')\n",
    "\n",
    "# start=2 step-3 last=stop+1 2+1=3\n",
    "# 20====>3"
   ]
  },
  {
   "cell_type": "code",
   "execution_count": 60,
   "id": "bac2fc0d-3482-4712-9ad2-d15aaf491ae0",
   "metadata": {},
   "outputs": [
    {
     "data": {
      "text/plain": [
       "range(3, -18, 3)"
      ]
     },
     "execution_count": 60,
     "metadata": {},
     "output_type": "execute_result"
    }
   ],
   "source": [
    "range(3,18,3)\n",
    "range(3,18,3)\n",
    "range(3,18,3)\n",
    "range(3,18,3)\n",
    "range(-3,18,3)\n",
    "range(3,-18,3)"
   ]
  },
  {
   "cell_type": "code",
   "execution_count": 2,
   "id": "85678140-154e-4d00-bc0e-a2557309c73c",
   "metadata": {},
   "outputs": [
    {
     "name": "stdin",
     "output_type": "stream",
     "text": [
      "Enter a number:  75\n"
     ]
    },
    {
     "name": "stdout",
     "output_type": "stream",
     "text": [
      "Divisors of 75 are:\n",
      "1\n",
      "3\n",
      "5\n",
      "15\n",
      "25\n",
      "75\n"
     ]
    }
   ],
   "source": [
    "number = int(input(\"Enter a number: \"))\n",
    "print(f\"Divisors of {number} are:\")\n",
    "for i in range(1, number + 1):\n",
    "    if number % i == 0:\n",
    "        print(i)\n",
    "        "
   ]
  },
  {
   "cell_type": "code",
   "execution_count": 2,
   "id": "0e0d6e42-981e-4a67-8140-ba5d52b18cd8",
   "metadata": {},
   "outputs": [
    {
     "name": "stdin",
     "output_type": "stream",
     "text": [
      "Enter the number : 41\n"
     ]
    },
    {
     "name": "stdout",
     "output_type": "stream",
     "text": [
      "Divisors of 41 are :\n",
      "1\n",
      "41\n"
     ]
    }
   ],
   "source": [
    "num = int(input(\"Enter the number :\"))\n",
    "print(f\"Divisors of {num} are :\")\n",
    "for i in range(1,num + 1):\n",
    "    if num % i == 0:\n",
    "        print(i)"
   ]
  },
  {
   "cell_type": "code",
   "execution_count": 4,
   "id": "3b4d76c5-10a9-4892-892c-7f8fc7f109bb",
   "metadata": {},
   "outputs": [
    {
     "name": "stdin",
     "output_type": "stream",
     "text": [
      "which divisor user want: 75\n"
     ]
    },
    {
     "name": "stdout",
     "output_type": "stream",
     "text": [
      "1 is a divisor of 75\n",
      "3 is a divisor of 75\n",
      "5 is a divisor of 75\n",
      "15 is a divisor of 75\n",
      "25 is a divisor of 75\n",
      "75 is a divisor of 75\n"
     ]
    }
   ],
   "source": [
    "num=eval(input(\"which divisor user want:\"))\n",
    "for i in range (1,num+1):\n",
    "    if num % i ==0:\n",
    "        print(f\"{i} is a divisor of {num}\")"
   ]
  },
  {
   "cell_type": "code",
   "execution_count": null,
   "id": "467b0ce1-7415-49ba-ba81-485bee6d8aee",
   "metadata": {},
   "outputs": [],
   "source": [
    "# ask the user enter the number \n",
    "#   ask the user get the random number\n",
    "#   if both are equal print won \n",
    "#   otherwise print lost \n",
    "#   give 3 chances to the user (for)"
   ]
  },
  {
   "cell_type": "code",
   "execution_count": 7,
   "id": "ef73ceed-a0f4-44f2-a596-6ee802e26217",
   "metadata": {},
   "outputs": [
    {
     "name": "stdin",
     "output_type": "stream",
     "text": [
      "enter the num between 1-10 10\n"
     ]
    },
    {
     "name": "stdout",
     "output_type": "stream",
     "text": [
      "lost\n"
     ]
    },
    {
     "name": "stdin",
     "output_type": "stream",
     "text": [
      "enter the num between 1-10 9\n"
     ]
    },
    {
     "name": "stdout",
     "output_type": "stream",
     "text": [
      "lost\n"
     ]
    },
    {
     "name": "stdin",
     "output_type": "stream",
     "text": [
      "enter the num between 1-10 5\n"
     ]
    },
    {
     "name": "stdout",
     "output_type": "stream",
     "text": [
      "won\n"
     ]
    }
   ],
   "source": [
    "import random \n",
    "for i in range(1,4):\n",
    "    random_num=random.randint(1,10)\n",
    "    user_num=eval(input(\"enter the num between 1-10\"))\n",
    "    if random_num==user_num:\n",
    "        print('won')\n",
    "    else:\n",
    "        print('lost')\n",
    "    "
   ]
  },
  {
   "cell_type": "markdown",
   "id": "a9d39e85-ef49-4cc6-9cb4-467aa916844d",
   "metadata": {},
   "source": [
    "**sumetion and counter**"
   ]
  },
  {
   "cell_type": "code",
   "execution_count": null,
   "id": "79fb4b08-933e-4263-92c2-dbb2244cfbb4",
   "metadata": {},
   "outputs": [],
   "source": []
  },
  {
   "cell_type": "code",
   "execution_count": 12,
   "id": "2efbd847-2d56-4a18-9d3c-de1030a25ea1",
   "metadata": {},
   "outputs": [
    {
     "name": "stdout",
     "output_type": "stream",
     "text": [
      "1\n",
      "2\n",
      "3\n",
      "4\n",
      "5\n",
      "6\n",
      "7\n",
      "8\n",
      "9\n",
      "10\n"
     ]
    }
   ],
   "source": [
    "sum=0\n",
    "for i in range (1,11):\n",
    "    print(i)\n",
    "    sum=sum+i \n",
    "#print(sum)"
   ]
  },
  {
   "cell_type": "code",
   "execution_count": 4,
   "id": "bb54f033-0e63-40dc-b3d0-437ba560531d",
   "metadata": {},
   "outputs": [
    {
     "name": "stdin",
     "output_type": "stream",
     "text": [
      "which divisor user want: 75\n"
     ]
    },
    {
     "name": "stdout",
     "output_type": "stream",
     "text": [
      "1 is a divisor of 75\n",
      "3 is a divisor of 75\n",
      "5 is a divisor of 75\n",
      "15 is a divisor of 75\n",
      "25 is a divisor of 75\n",
      "75 is a divisor of 75\n"
     ]
    }
   ],
   "source": [
    "sum=1\n",
    "num=eval(input(\"which divisor user want:\"))\n",
    "for i in range (1,num+1):\n",
    "    if num % i ==0:\n",
    "        print(f\"{i} is a divisor of {num}\")\n",
    "\n",
    "sum=1"
   ]
  },
  {
   "cell_type": "code",
   "execution_count": null,
   "id": "193023ae-8b0b-4f1f-b15f-3ca19efb53c3",
   "metadata": {},
   "outputs": [],
   "source": [
    "# wap ask the user get a random number between 1 to 100\n",
    "# find even or odd \n",
    "# get the sum of evan and sum of odd \n",
    "# get 5 random number (for 5 time)\n",
    "# sum_even=0\n",
    "# sum_odd=0"
   ]
  },
  {
   "cell_type": "code",
   "execution_count": 3,
   "id": "04439d20-4eeb-4d94-a9ef-f1bffce42856",
   "metadata": {},
   "outputs": [
    {
     "name": "stdin",
     "output_type": "stream",
     "text": [
      "enter the number 1 to 100 5\n"
     ]
    },
    {
     "name": "stdout",
     "output_type": "stream",
     "text": [
      " odd\n"
     ]
    },
    {
     "name": "stdin",
     "output_type": "stream",
     "text": [
      "enter the number 1 to 100 8\n"
     ]
    },
    {
     "name": "stdout",
     "output_type": "stream",
     "text": [
      " even\n"
     ]
    },
    {
     "name": "stdin",
     "output_type": "stream",
     "text": [
      "enter the number 1 to 100 3\n"
     ]
    },
    {
     "name": "stdout",
     "output_type": "stream",
     "text": [
      " odd\n"
     ]
    },
    {
     "name": "stdin",
     "output_type": "stream",
     "text": [
      "enter the number 1 to 100 4\n"
     ]
    },
    {
     "name": "stdout",
     "output_type": "stream",
     "text": [
      " even\n"
     ]
    },
    {
     "name": "stdin",
     "output_type": "stream",
     "text": [
      "enter the number 1 to 100 9\n"
     ]
    },
    {
     "name": "stdout",
     "output_type": "stream",
     "text": [
      " odd\n",
      "sum of evens are: 4\n",
      "sum of odds are: 9\n"
     ]
    }
   ],
   "source": [
    "sum_even=0\n",
    "sum_odd=0\n",
    "for i in range(5):\n",
    "    num=eval(input('enter the number 1 to 100'))\n",
    "    if num % 2 == 0:\n",
    "        print('even')\n",
    "        sum_even=num\n",
    "        \n",
    "    else:\n",
    "        print(' odd')\n",
    "        sum_odd=num\n",
    "        \n",
    "print('sum of evens are:',sum_even)\n",
    "print('sum of odds are:', sum_odd)"
   ]
  },
  {
   "cell_type": "code",
   "execution_count": 14,
   "id": "739f3522-2b10-458e-9de0-f4e864a2b989",
   "metadata": {},
   "outputs": [
    {
     "name": "stdin",
     "output_type": "stream",
     "text": [
      "enter the num 30\n"
     ]
    },
    {
     "name": "stdout",
     "output_type": "stream",
     "text": [
      "even\n"
     ]
    },
    {
     "name": "stdin",
     "output_type": "stream",
     "text": [
      "enter the num 22\n"
     ]
    },
    {
     "name": "stdout",
     "output_type": "stream",
     "text": [
      "even\n"
     ]
    },
    {
     "name": "stdin",
     "output_type": "stream",
     "text": [
      "enter the num 90\n"
     ]
    },
    {
     "name": "stdout",
     "output_type": "stream",
     "text": [
      "even\n"
     ]
    },
    {
     "name": "stdin",
     "output_type": "stream",
     "text": [
      "enter the num 31\n"
     ]
    },
    {
     "name": "stdout",
     "output_type": "stream",
     "text": [
      "odd\n",
      "sum of evens are: 90\n",
      "sum of odds are: 31\n"
     ]
    }
   ],
   "source": [
    "sum_evan=0\n",
    "sum_odd=0\n",
    "for i in range (4):\n",
    "    num=eval(input('enter the num'))\n",
    "    if num % 2 == 0:\n",
    "        print('even')\n",
    "        sum_even=num\n",
    "\n",
    "    else:\n",
    "        print('odd')\n",
    "        sum_odd=num\n",
    "\n",
    "print('sum of evens are:',sum_even)\n",
    "print('sum of odds are:', sum_odd)"
   ]
  },
  {
   "cell_type": "code",
   "execution_count": 17,
   "id": "f0600ab7-59b6-4105-97ba-3c32abf99b6b",
   "metadata": {},
   "outputs": [
    {
     "name": "stdin",
     "output_type": "stream",
     "text": [
      "enter the num: 12\n"
     ]
    },
    {
     "name": "stdout",
     "output_type": "stream",
     "text": [
      "the 12 is even\n"
     ]
    },
    {
     "name": "stdin",
     "output_type": "stream",
     "text": [
      "enter the num: 44\n"
     ]
    },
    {
     "name": "stdout",
     "output_type": "stream",
     "text": [
      "the 44 is even\n"
     ]
    },
    {
     "name": "stdin",
     "output_type": "stream",
     "text": [
      "enter the num: 43\n"
     ]
    },
    {
     "name": "stdout",
     "output_type": "stream",
     "text": [
      "the 43 is odd\n"
     ]
    },
    {
     "name": "stdin",
     "output_type": "stream",
     "text": [
      "enter the num: 56\n"
     ]
    },
    {
     "name": "stdout",
     "output_type": "stream",
     "text": [
      "the 56 is even\n"
     ]
    },
    {
     "name": "stdin",
     "output_type": "stream",
     "text": [
      "enter the num: 77\n"
     ]
    },
    {
     "name": "stdout",
     "output_type": "stream",
     "text": [
      "the 77 is odd\n",
      "2\n",
      "3\n"
     ]
    }
   ],
   "source": [
    "count_even=0\n",
    "count_odd=0\n",
    "for i in range(5):\n",
    "    num=eval(input('enter the num:'))\n",
    "    if num % 4 == 0:\n",
    "        print(f'the {num} is even')\n",
    "        count_even+=1\n",
    "    else:\n",
    "        print(f'the {num} is odd')\n",
    "        count_odd=count_odd+1\n",
    "\n",
    "\n",
    "\n",
    "print(count_odd)\n",
    "print(count_even)\n",
    "        "
   ]
  },
  {
   "cell_type": "code",
   "execution_count": 33,
   "id": "14064a05-4a52-4fcd-b402-91704a8e9f1c",
   "metadata": {},
   "outputs": [
    {
     "name": "stdin",
     "output_type": "stream",
     "text": [
      "enter the num: 9\n",
      "enter the num: 12\n",
      "enter the num: 5\n",
      "enter the num: 29\n",
      "enter the num: 41\n",
      "enter the num: 47\n"
     ]
    },
    {
     "name": "stdout",
     "output_type": "stream",
     "text": [
      "the 47 is odd\n",
      "sum of evens num: 0\n",
      "sum of odds num: 47\n"
     ]
    }
   ],
   "source": [
    "sum_even=0\n",
    "sum_odd=0\n",
    "for i in range(6):\n",
    "    num=eval(input('enter the num:'))\n",
    "if num % 3 == 0:\n",
    "    print(f'the {num} is even')\n",
    "    sum_even=num\n",
    "else:\n",
    "    print(f'the {num} is odd')\n",
    "    sum_odd=num\n",
    "\n",
    "print('sum of evens num:', sum_even)\n",
    "print('sum of odds num:', sum_odd)"
   ]
  },
  {
   "cell_type": "markdown",
   "id": "d156c885-f806-4710-a761-9c051cfd9270",
   "metadata": {},
   "source": [
    "**counter program**\n",
    "\n",
    "- summetion program when success it will add number\n",
    "\n",
    "  - summ=0 then summ=summ+i or summ=summ+num bases on condition\n",
    " \n",
    "- count=0 count=count+1"
   ]
  },
  {
   "cell_type": "code",
   "execution_count": 17,
   "id": "3941f8c8-68fb-4ba8-9ccd-94ee69b2b018",
   "metadata": {},
   "outputs": [
    {
     "name": "stdin",
     "output_type": "stream",
     "text": [
      "enter the number 1 to 100: 11\n",
      "enter the number 1 to 100: 33\n",
      "enter the number 1 to 100: 97\n",
      "enter the number 1 to 100: 17\n",
      "enter the number 1 to 100: 34\n"
     ]
    },
    {
     "name": "stdout",
     "output_type": "stream",
     "text": [
      "the 34 is even num\n",
      "1\n",
      "0\n"
     ]
    }
   ],
   "source": [
    "count_even=0\n",
    "count_odd=0\n",
    "for i in range (1,6):\n",
    "    num=eval(input('enter the number 1 to 100:'))\n",
    "if num % 2 == 0:\n",
    "    print(f'the {num} is even num')\n",
    "    count_even=count_even+1\n",
    "else:\n",
    "    print(f'the {num} is odd num')\n",
    "    count_odd=count_odd+1\n",
    "\n",
    "\n",
    "print(count_even)\n",
    "print(count_odd)\n"
   ]
  },
  {
   "cell_type": "code",
   "execution_count": 26,
   "id": "b3605af7-722d-4a94-bde9-9725141fd346",
   "metadata": {},
   "outputs": [
    {
     "name": "stdin",
     "output_type": "stream",
     "text": [
      "enter the num: 3\n"
     ]
    },
    {
     "name": "stdout",
     "output_type": "stream",
     "text": [
      "the 3 is odd num\n"
     ]
    },
    {
     "name": "stdin",
     "output_type": "stream",
     "text": [
      "enter the num: 5\n"
     ]
    },
    {
     "name": "stdout",
     "output_type": "stream",
     "text": [
      "the 5 is odd num\n"
     ]
    },
    {
     "name": "stdin",
     "output_type": "stream",
     "text": [
      "enter the num: 11\n"
     ]
    },
    {
     "name": "stdout",
     "output_type": "stream",
     "text": [
      "the 11 is odd num\n"
     ]
    },
    {
     "name": "stdin",
     "output_type": "stream",
     "text": [
      "enter the num: 133\n"
     ]
    },
    {
     "name": "stdout",
     "output_type": "stream",
     "text": [
      "the 133 is odd num\n"
     ]
    },
    {
     "name": "stdin",
     "output_type": "stream",
     "text": [
      "enter the num: 66\n"
     ]
    },
    {
     "name": "stdout",
     "output_type": "stream",
     "text": [
      "the 66 is even num\n"
     ]
    },
    {
     "name": "stdin",
     "output_type": "stream",
     "text": [
      "enter the num: 36\n"
     ]
    },
    {
     "name": "stdout",
     "output_type": "stream",
     "text": [
      "the 36 is even num\n",
      "2\n",
      "4\n"
     ]
    }
   ],
   "source": [
    "count_even=0\n",
    "count_odd=0\n",
    "for i in range (6):\n",
    "    num=eval(input('enter the num:'))\n",
    "    if num % 2 == 0:\n",
    "        print(f'the {num} is even num')\n",
    "        count_even=count_even+1\n",
    "    else:\n",
    "        print(f'the {num} is odd num')\n",
    "        count_odd=count_odd+1\n",
    "\n",
    "print(count_even)\n",
    "print(count_odd)\n"
   ]
  },
  {
   "cell_type": "markdown",
   "id": "7bc3f421-3c48-4dd1-9209-6f139bf59e72",
   "metadata": {},
   "source": [
    "**in opeartor**"
   ]
  },
  {
   "cell_type": "code",
   "execution_count": 12,
   "id": "5fe553fe-9ecf-418e-8db8-608b68576c15",
   "metadata": {},
   "outputs": [
    {
     "data": {
      "text/plain": [
       "'python'"
      ]
     },
     "execution_count": 12,
     "metadata": {},
     "output_type": "execute_result"
    }
   ],
   "source": [
    "'python'"
   ]
  },
  {
   "cell_type": "code",
   "execution_count": 16,
   "id": "3643bf6c-10fb-4b61-85f4-3bcc5195c277",
   "metadata": {},
   "outputs": [
    {
     "data": {
      "text/plain": [
       "True"
      ]
     },
     "execution_count": 16,
     "metadata": {},
     "output_type": "execute_result"
    }
   ],
   "source": [
    "'p' in 'python'\n",
    "'y' in 'python'\n",
    "'t' in 'python'\n",
    "'h' in 'python'\n",
    "'o' in 'python'\n",
    "'n' in 'python'"
   ]
  },
  {
   "cell_type": "code",
   "execution_count": 20,
   "id": "98a2bfb5-f234-457c-875f-553933bd3994",
   "metadata": {},
   "outputs": [
    {
     "name": "stdout",
     "output_type": "stream",
     "text": [
      "p   y   t   h   o   n   "
     ]
    }
   ],
   "source": [
    "for i in 'python':\n",
    "    print(i,end='   ')"
   ]
  },
  {
   "cell_type": "code",
   "execution_count": 26,
   "id": "5113aa85-2f6e-4c8b-b586-c28f419c71e8",
   "metadata": {},
   "outputs": [
    {
     "name": "stdout",
     "output_type": "stream",
     "text": [
      "p   y   t   h   o   n   "
     ]
    }
   ],
   "source": [
    "name=('python')\n",
    "for i in name:\n",
    "    print(i,end='   ')"
   ]
  },
  {
   "cell_type": "code",
   "execution_count": null,
   "id": "7d64adc2-fe8f-4703-8d62-dd2c3f8e804c",
   "metadata": {},
   "outputs": [],
   "source": [
    "'english to the computer'\n",
    "ASCII: american standard code imformation interchange"
   ]
  },
  {
   "cell_type": "code",
   "execution_count": 14,
   "id": "88097cc7-61ce-4eec-bb19-01b230c69900",
   "metadata": {},
   "outputs": [
    {
     "data": {
      "text/plain": [
       "'p'"
      ]
     },
     "execution_count": 14,
     "metadata": {},
     "output_type": "execute_result"
    }
   ],
   "source": [
    "chr(112)"
   ]
  },
  {
   "cell_type": "code",
   "execution_count": 15,
   "id": "c421b61d-649a-4e33-a6da-77e2c84b94e7",
   "metadata": {},
   "outputs": [
    {
     "data": {
      "text/plain": [
       "98"
      ]
     },
     "execution_count": 15,
     "metadata": {},
     "output_type": "execute_result"
    }
   ],
   "source": [
    "ord('b')"
   ]
  },
  {
   "cell_type": "code",
   "execution_count": 23,
   "id": "d478e79e-f9bc-4952-af71-19ad4f91bd93",
   "metadata": {},
   "outputs": [
    {
     "name": "stdin",
     "output_type": "stream",
     "text": [
      " enter number 100\n"
     ]
    },
    {
     "name": "stdout",
     "output_type": "stream",
     "text": [
      " the {num} is positive\n"
     ]
    },
    {
     "name": "stdin",
     "output_type": "stream",
     "text": [
      " enter number -100\n"
     ]
    },
    {
     "name": "stdout",
     "output_type": "stream",
     "text": [
      "the {num} is negative\n"
     ]
    },
    {
     "name": "stdin",
     "output_type": "stream",
     "text": [
      " enter number 40\n"
     ]
    },
    {
     "name": "stdout",
     "output_type": "stream",
     "text": [
      " the {num} is positive\n"
     ]
    },
    {
     "name": "stdin",
     "output_type": "stream",
     "text": [
      " enter number -40\n"
     ]
    },
    {
     "name": "stdout",
     "output_type": "stream",
     "text": [
      "the {num} is negative\n"
     ]
    },
    {
     "name": "stdin",
     "output_type": "stream",
     "text": [
      " enter number -55\n"
     ]
    },
    {
     "name": "stdout",
     "output_type": "stream",
     "text": [
      "the {num} is negative\n"
     ]
    },
    {
     "name": "stdin",
     "output_type": "stream",
     "text": [
      " enter number 61\n"
     ]
    },
    {
     "name": "stdout",
     "output_type": "stream",
     "text": [
      " the {num} is positive\n",
      "3\n",
      "3\n"
     ]
    }
   ],
   "source": [
    "count_positive=0\n",
    "count_negative=0\n",
    "for i in range(6):\n",
    "    num=eval(input(' enter number'))\n",
    "    if num > 0:\n",
    "        print(' the {num} is positive')\n",
    "        count_positive=count_positive+1\n",
    "    else:\n",
    "        print('the {num} is negative')\n",
    "        count_negative=count_negative+1\n",
    "        \n",
    "\n",
    "\n",
    "print(count_positive)\n",
    "print(count_negative)"
   ]
  },
  {
   "cell_type": "code",
   "execution_count": 33,
   "id": "20b6f448-8a56-440e-8219-bc0c8850eab5",
   "metadata": {},
   "outputs": [
    {
     "name": "stdin",
     "output_type": "stream",
     "text": [
      "enter the num1: 70\n",
      "enter the num2: 2\n",
      "enter the num3: 2\n"
     ]
    },
    {
     "name": "stdout",
     "output_type": "stream",
     "text": [
      "the avg of 24.666666666666668\n"
     ]
    },
    {
     "name": "stdin",
     "output_type": "stream",
     "text": [
      "enter the num1: 4\n",
      "enter the num2: 5\n",
      "enter the num3: 90\n"
     ]
    },
    {
     "name": "stdout",
     "output_type": "stream",
     "text": [
      "the avg of 33.0\n"
     ]
    },
    {
     "name": "stdin",
     "output_type": "stream",
     "text": [
      "enter the num1: 6\n",
      "enter the num2: 9\n",
      "enter the num3: 2\n"
     ]
    },
    {
     "name": "stdout",
     "output_type": "stream",
     "text": [
      "the avg of 5.666666666666667\n"
     ]
    }
   ],
   "source": [
    "for i in range(3):\n",
    "    num1=eval(input('enter the num1:'))\n",
    "    num2=eval(input('enter the num2:'))\n",
    "    num3=eval(input('enter the num3:'))\n",
    "    a=(num1+num2+num3)/3\n",
    "    print(f\"the avg of {a}\")\n",
    "    break"
   ]
  },
  {
   "cell_type": "markdown",
   "id": "6ef52a6c-6178-4fcb-9459-b6b8143aab1a",
   "metadata": {},
   "source": [
    "**list**"
   ]
  },
  {
   "cell_type": "code",
   "execution_count": 3,
   "id": "8b807768-7170-4b8a-a044-06f6b36451f5",
   "metadata": {},
   "outputs": [
    {
     "name": "stdout",
     "output_type": "stream",
     "text": [
      "apple\n",
      "banana\n",
      "cherry\n"
     ]
    }
   ],
   "source": [
    "fruits = [\"apple\", \"banana\", \"cherry\"]\n",
    "for f in fruits:\n",
    "    print(f)"
   ]
  },
  {
   "cell_type": "markdown",
   "id": "c7030df2-a740-4514-a30f-81629cebf668",
   "metadata": {},
   "source": [
    "**string**"
   ]
  },
  {
   "cell_type": "code",
   "execution_count": 4,
   "id": "6058a494-0bb2-4fbd-9c16-bc13cfe3a071",
   "metadata": {},
   "outputs": [
    {
     "name": "stdout",
     "output_type": "stream",
     "text": [
      "D\n",
      "i\n",
      "p\n",
      "a\n",
      "k\n"
     ]
    }
   ],
   "source": [
    "for ch in \"Dipak\":\n",
    "    print(ch)"
   ]
  },
  {
   "cell_type": "code",
   "execution_count": null,
   "id": "7e90c464-ad65-405f-a986-8c0fbb720a24",
   "metadata": {},
   "outputs": [],
   "source": []
  }
 ],
 "metadata": {
  "kernelspec": {
   "display_name": "Python [conda env:base] *",
   "language": "python",
   "name": "conda-base-py"
  },
  "language_info": {
   "codemirror_mode": {
    "name": "ipython",
    "version": 3
   },
   "file_extension": ".py",
   "mimetype": "text/x-python",
   "name": "python",
   "nbconvert_exporter": "python",
   "pygments_lexer": "ipython3",
   "version": "3.13.5"
  }
 },
 "nbformat": 4,
 "nbformat_minor": 5
}
