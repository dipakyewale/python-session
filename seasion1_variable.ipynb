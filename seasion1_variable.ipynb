{
 "cells": [
  {
   "cell_type": "code",
   "execution_count": null,
   "id": "a131bf0c-2d3e-4d9b-a728-9cf384c75b9b",
   "metadata": {},
   "outputs": [
    {
     "data": {
      "text/plain": [
       "'i like python'"
      ]
     },
     "execution_count": 2,
     "metadata": {},
     "output_type": "execute_result"
    }
   ],
   "source": [
    "# me changes krt aho\n",
    "\n",
    "str('i like python')"
   ]
  },
  {
   "cell_type": "code",
   "execution_count": 3,
   "id": "31e2429f-6111-48ff-9941-601912dafacf",
   "metadata": {},
   "outputs": [],
   "source": [
    "# i like python    its comment "
   ]
  },
  {
   "cell_type": "markdown",
   "id": "bad66340-1c4b-4a9c-910b-b6bb30488604",
   "metadata": {},
   "source": [
    "today im lerning python  python is very easy "
   ]
  },
  {
   "cell_type": "markdown",
   "id": "05bdb4a1-c411-49bd-953b-1da71dc69dfa",
   "metadata": {},
   "source": [
    "**python esc+m**"
   ]
  },
  {
   "cell_type": "markdown",
   "id": "c1404802-3950-48ed-b244-24743f6a6d28",
   "metadata": {},
   "source": [
    "**i like python language** "
   ]
  },
  {
   "cell_type": "code",
   "execution_count": 3,
   "id": "4fc21f24-75d3-47ce-a455-65924c17c8fe",
   "metadata": {},
   "outputs": [
    {
     "name": "stdout",
     "output_type": "stream",
     "text": [
      "30\n"
     ]
    }
   ],
   "source": [
    "a=10\n",
    "b=20\n",
    "c=a+b\n",
    "c\n",
    "print(c)\n",
    "\n",
    "# esc+y markdown to code mode \n",
    "# esc+m code to markdown mode \n"
   ]
  },
  {
   "cell_type": "markdown",
   "id": "d7c11824-dd36-4a73-a60f-eabf7afc2715",
   "metadata": {},
   "source": [
    "**variables**"
   ]
  },
  {
   "cell_type": "markdown",
   "id": "113cad44-299d-419c-aec0-54fae0efafbd",
   "metadata": {},
   "source": [
    "# store the value \n",
    "# change the value"
   ]
  },
  {
   "cell_type": "code",
   "execution_count": 4,
   "id": "d8691289-b605-41f9-be2d-dabd5574c876",
   "metadata": {},
   "outputs": [],
   "source": [
    "number=100 \n",
    " # 100 is a value stored in a variable called number "
   ]
  },
  {
   "cell_type": "code",
   "execution_count": 5,
   "id": "d0a7e5a5-c839-40ec-a283-105adcea407c",
   "metadata": {},
   "outputs": [
    {
     "name": "stdout",
     "output_type": "stream",
     "text": [
      "100\n"
     ]
    }
   ],
   "source": [
    "print(number)"
   ]
  },
  {
   "cell_type": "code",
   "execution_count": 6,
   "id": "f2f0175d-88ab-4f66-a5aa-70801d91a9a4",
   "metadata": {},
   "outputs": [
    {
     "data": {
      "text/plain": [
       "200"
      ]
     },
     "execution_count": 6,
     "metadata": {},
     "output_type": "execute_result"
    }
   ],
   "source": [
    "number=200\n",
    "number "
   ]
  },
  {
   "cell_type": "code",
   "execution_count": 5,
   "id": "6b501a28-1345-4a5f-aa84-6f802a398762",
   "metadata": {},
   "outputs": [],
   "source": [
    "number=759"
   ]
  },
  {
   "cell_type": "code",
   "execution_count": 6,
   "id": "a76737fe-ce4c-4a07-b844-3aaa554da836",
   "metadata": {},
   "outputs": [
    {
     "data": {
      "text/plain": [
       "759"
      ]
     },
     "execution_count": 6,
     "metadata": {},
     "output_type": "execute_result"
    }
   ],
   "source": [
    "number"
   ]
  },
  {
   "cell_type": "code",
   "execution_count": 9,
   "id": "183d3d6c-d607-4f5c-bc9b-f366016eff2b",
   "metadata": {},
   "outputs": [
    {
     "name": "stdout",
     "output_type": "stream",
     "text": [
      "500\n"
     ]
    }
   ],
   "source": [
    "number=500\n",
    "print(number)"
   ]
  },
  {
   "cell_type": "code",
   "execution_count": 12,
   "id": "a31bd710-d0de-4e20-9835-c8151828f284",
   "metadata": {},
   "outputs": [
    {
     "name": "stdout",
     "output_type": "stream",
     "text": [
      "400\n",
      "540\n"
     ]
    }
   ],
   "source": [
    "number1=400\n",
    "number2=540\n",
    "print(number1)\n",
    "print(number2)"
   ]
  },
  {
   "cell_type": "code",
   "execution_count": 8,
   "id": "c5dba189-56b9-4dc2-a40f-fa350b41e6a5",
   "metadata": {},
   "outputs": [
    {
     "name": "stdout",
     "output_type": "stream",
     "text": [
      "894\n"
     ]
    }
   ],
   "source": [
    "number1=450\n",
    "number2=444\n",
    "print(number1+number2)"
   ]
  },
  {
   "cell_type": "code",
   "execution_count": 13,
   "id": "f8cb68d1-9468-4560-8ff3-f1b8f1cc2720",
   "metadata": {},
   "outputs": [],
   "source": [
    "number=1000\n",
    "NUMBER=2000"
   ]
  },
  {
   "cell_type": "code",
   "execution_count": 14,
   "id": "fff62f73-724f-4759-b3be-4376fde4dddc",
   "metadata": {},
   "outputs": [
    {
     "data": {
      "text/plain": [
       "1000"
      ]
     },
     "execution_count": 14,
     "metadata": {},
     "output_type": "execute_result"
    }
   ],
   "source": [
    "number"
   ]
  },
  {
   "cell_type": "code",
   "execution_count": 15,
   "id": "4c70bffc-faf9-487f-9678-a8204d36746c",
   "metadata": {},
   "outputs": [
    {
     "data": {
      "text/plain": [
       "2000"
      ]
     },
     "execution_count": 15,
     "metadata": {},
     "output_type": "execute_result"
    }
   ],
   "source": [
    "NUMBER"
   ]
  },
  {
   "cell_type": "code",
   "execution_count": 18,
   "id": "26c1824f-f66f-451b-8292-f7c2f37735b6",
   "metadata": {},
   "outputs": [
    {
     "data": {
      "text/plain": [
       "500"
      ]
     },
     "execution_count": 18,
     "metadata": {},
     "output_type": "execute_result"
    }
   ],
   "source": [
    "number123=500\n",
    "number123"
   ]
  },
  {
   "cell_type": "code",
   "execution_count": 20,
   "id": "ca94be57-c1c2-4b85-9ad1-981dc286ac28",
   "metadata": {},
   "outputs": [
    {
     "data": {
      "text/plain": [
       "500"
      ]
     },
     "execution_count": 20,
     "metadata": {},
     "output_type": "execute_result"
    }
   ],
   "source": [
    "number  # samll\n",
    "NUMBER  #capital\n",
    "number123  # numer as suffix"
   ]
  },
  {
   "cell_type": "code",
   "execution_count": 21,
   "id": "8937aa2d-8134-4306-bc03-97ecf716c85a",
   "metadata": {},
   "outputs": [
    {
     "ename": "SyntaxError",
     "evalue": "invalid decimal literal (714790092.py, line 1)",
     "output_type": "error",
     "traceback": [
      "\u001b[1;36m  Cell \u001b[1;32mIn[21], line 1\u001b[1;36m\u001b[0m\n\u001b[1;33m    123number=200\u001b[0m\n\u001b[1;37m      ^\u001b[0m\n\u001b[1;31mSyntaxError\u001b[0m\u001b[1;31m:\u001b[0m invalid decimal literal\n"
     ]
    }
   ],
   "source": [
    "123number=200"
   ]
  },
  {
   "cell_type": "code",
   "execution_count": 10,
   "id": "a7364bdc-3cee-413c-8a8e-d60b3f6e6da2",
   "metadata": {},
   "outputs": [
    {
     "ename": "TypeError",
     "evalue": "unsupported operand type(s) for @=: 'int' and 'int'",
     "output_type": "error",
     "traceback": [
      "\u001b[1;31m---------------------------------------------------------------------------\u001b[0m",
      "\u001b[1;31mTypeError\u001b[0m                                 Traceback (most recent call last)",
      "Cell \u001b[1;32mIn[10], line 1\u001b[0m\n\u001b[1;32m----> 1\u001b[0m number\u001b[38;5;241m@\u001b[39m\u001b[38;5;241m=\u001b[39m\u001b[38;5;241m400\u001b[39m\n",
      "\u001b[1;31mTypeError\u001b[0m: unsupported operand type(s) for @=: 'int' and 'int'"
     ]
    }
   ],
   "source": [
    "number@=400"
   ]
  },
  {
   "cell_type": "code",
   "execution_count": null,
   "id": "c4b7f06c-78cd-41c2-af99-a375fef8e1b0",
   "metadata": {},
   "outputs": [],
   "source": [
    "number=100 # true\n",
    "NUMBER=200 # true\n",
    "number123=299  # true\n",
    "123number=40 # false\n",
    "number@=799  # false"
   ]
  },
  {
   "cell_type": "code",
   "execution_count": 11,
   "id": "690e651e-7764-470f-908c-beea34762f8b",
   "metadata": {},
   "outputs": [
    {
     "ename": "NameError",
     "evalue": "name 'NUMBER' is not defined",
     "output_type": "error",
     "traceback": [
      "\u001b[1;31m---------------------------------------------------------------------------\u001b[0m",
      "\u001b[1;31mNameError\u001b[0m                                 Traceback (most recent call last)",
      "Cell \u001b[1;32mIn[11], line 2\u001b[0m\n\u001b[0;32m      1\u001b[0m number\n\u001b[1;32m----> 2\u001b[0m NUMBER\n\u001b[0;32m      3\u001b[0m number123\n",
      "\u001b[1;31mNameError\u001b[0m: name 'NUMBER' is not defined"
     ]
    }
   ],
   "source": [
    "number\n",
    "NUMBER\n",
    "number123"
   ]
  },
  {
   "cell_type": "code",
   "execution_count": 12,
   "id": "638cb878-01ce-4cb0-aadb-8292ecde7caa",
   "metadata": {},
   "outputs": [
    {
     "ename": "SyntaxError",
     "evalue": "invalid syntax (4033670150.py, line 1)",
     "output_type": "error",
     "traceback": [
      "\u001b[1;36m  Cell \u001b[1;32mIn[12], line 1\u001b[1;36m\u001b[0m\n\u001b[1;33m    number one=199\u001b[0m\n\u001b[1;37m           ^\u001b[0m\n\u001b[1;31mSyntaxError\u001b[0m\u001b[1;31m:\u001b[0m invalid syntax\n"
     ]
    }
   ],
   "source": [
    "number one=199\n"
   ]
  },
  {
   "cell_type": "code",
   "execution_count": 26,
   "id": "38f1681b-50c3-4080-9cd4-c71057472cec",
   "metadata": {},
   "outputs": [
    {
     "data": {
      "text/plain": [
       "199"
      ]
     },
     "execution_count": 26,
     "metadata": {},
     "output_type": "execute_result"
    }
   ],
   "source": [
    "number_one=199\n",
    "number_one"
   ]
  },
  {
   "cell_type": "code",
   "execution_count": null,
   "id": "40bc525b-ec6d-4b5f-9f68-b30c7211ee44",
   "metadata": {},
   "outputs": [],
   "source": [
    "areaoftrangle=100 # true\n",
    "area_of_trangle=100 # true\n",
    "area of trangle = 100 # fall\n"
   ]
  },
  {
   "cell_type": "code",
   "execution_count": null,
   "id": "8ea127f2-b5e0-4e2b-97be-ad044d4a626b",
   "metadata": {},
   "outputs": [],
   "source": [
    "number=100 # t\n",
    "NUMBER=200 # t\n",
    "number123=299 # t\n",
    "number one=100  # f\n",
    "number_one=500  # t\n",
    "_=600         # t\n",
    "number@=300  # f\n",
    "if=500     # f\n",
    "else=500 # f"
   ]
  },
  {
   "cell_type": "code",
   "execution_count": 14,
   "id": "4ee17dee-2022-40c5-8ff2-b3dc9a2465ed",
   "metadata": {},
   "outputs": [],
   "source": [
    "_=600"
   ]
  },
  {
   "cell_type": "code",
   "execution_count": 15,
   "id": "8e158ddd-9f6c-474d-82fe-98cb30f58bbc",
   "metadata": {},
   "outputs": [
    {
     "data": {
      "text/plain": [
       "600"
      ]
     },
     "execution_count": 15,
     "metadata": {},
     "output_type": "execute_result"
    }
   ],
   "source": [
    "_"
   ]
  },
  {
   "cell_type": "code",
   "execution_count": 29,
   "id": "f2abffec-3817-4440-aad3-51e7f82e99cf",
   "metadata": {},
   "outputs": [
    {
     "name": "stdout",
     "output_type": "stream",
     "text": [
      "100\n"
     ]
    }
   ],
   "source": [
    "print(100)"
   ]
  },
  {
   "cell_type": "code",
   "execution_count": 30,
   "id": "138b806e-4441-4291-94ef-9f502bfddf57",
   "metadata": {},
   "outputs": [
    {
     "name": "stdout",
     "output_type": "stream",
     "text": [
      "10000\n"
     ]
    }
   ],
   "source": [
    "print(10000)"
   ]
  },
  {
   "cell_type": "code",
   "execution_count": 31,
   "id": "a32eb975-fe0c-4417-aa0f-5136da9ff471",
   "metadata": {},
   "outputs": [
    {
     "ename": "SyntaxError",
     "evalue": "cannot assign to function call here. Maybe you meant '==' instead of '='? (2408402598.py, line 1)",
     "output_type": "error",
     "traceback": [
      "\u001b[1;36m  Cell \u001b[1;32mIn[31], line 1\u001b[1;36m\u001b[0m\n\u001b[1;33m    print()=100\u001b[0m\n\u001b[1;37m    ^\u001b[0m\n\u001b[1;31mSyntaxError\u001b[0m\u001b[1;31m:\u001b[0m cannot assign to function call here. Maybe you meant '==' instead of '='?\n"
     ]
    }
   ],
   "source": [
    "print()=100"
   ]
  },
  {
   "cell_type": "markdown",
   "id": "63028c37-c871-4c45-9efd-5e7b49ad93ed",
   "metadata": {},
   "source": [
    "variable are case sensitive"
   ]
  },
  {
   "cell_type": "markdown",
   "id": "5b08523a-643c-4160-a44b-7e4551de8811",
   "metadata": {},
   "source": [
    "**number and NUMBER**"
   ]
  },
  {
   "cell_type": "markdown",
   "id": "7a6b0cde-aad2-442d-b808-c900ae03cf74",
   "metadata": {},
   "source": [
    "**variable can be small and capital laters**"
   ]
  },
  {
   "cell_type": "markdown",
   "id": "1ced9348-10ad-400c-969a-237e217c8d94",
   "metadata": {},
   "source": [
    "**number as starting dose not allowas variable**"
   ]
  },
  {
   "cell_type": "markdown",
   "id": "0758242b-5d99-4b40-b43d-805bdd20f4c0",
   "metadata": {},
   "source": [
    "**.123number**"
   ]
  },
  {
   "cell_type": "markdown",
   "id": "196dff3f-336f-4684-baf0-8db847fb65b7",
   "metadata": {},
   "source": [
    "**variable dose not include spl charecters**"
   ]
  },
  {
   "cell_type": "markdown",
   "id": "d22edb3a-d013-45da-b60e-c675785a93be",
   "metadata": {},
   "source": [
    "**number@**"
   ]
  },
  {
   "cell_type": "markdown",
   "id": "d6ce7f08-e8f6-4764-a8b2-22b9cc013b9a",
   "metadata": {},
   "source": [
    "**keywords or reserved words looks like green also not allowed as variable**"
   ]
  },
  {
   "cell_type": "markdown",
   "id": "32a0d988-9b3d-43f5-b85c-f9f474b35597",
   "metadata": {},
   "source": [
    "**ex. if else for True False elif def etc**"
   ]
  },
  {
   "cell_type": "code",
   "execution_count": 34,
   "id": "ac9e4180-f783-42e8-861f-8a2071625952",
   "metadata": {},
   "outputs": [
    {
     "name": "stdout",
     "output_type": "stream",
     "text": [
      "100\n"
     ]
    }
   ],
   "source": [
    "print (100)"
   ]
  },
  {
   "cell_type": "code",
   "execution_count": 35,
   "id": "f7e7e495-d8c5-40c8-8eb9-665f80aab781",
   "metadata": {},
   "outputs": [
    {
     "name": "stdout",
     "output_type": "stream",
     "text": [
      "100\n"
     ]
    }
   ],
   "source": [
    "num=100\n",
    "print(num)"
   ]
  },
  {
   "cell_type": "code",
   "execution_count": 36,
   "id": "a6e81aca-4c14-463f-9d0f-b3c78f6f6f48",
   "metadata": {},
   "outputs": [
    {
     "data": {
      "text/plain": [
       "int"
      ]
     },
     "execution_count": 36,
     "metadata": {},
     "output_type": "execute_result"
    }
   ],
   "source": [
    "type(num)"
   ]
  },
  {
   "cell_type": "code",
   "execution_count": null,
   "id": "e44104ae-7293-43cf-b9b4-d596e6fcf1b6",
   "metadata": {},
   "outputs": [],
   "source": [
    "sum=200\n",
    "sum # dont use \n",
    "\n",
    "\n",
    "# sum use case is different"
   ]
  },
  {
   "cell_type": "code",
   "execution_count": 37,
   "id": "99abc8b2-2607-49fa-b542-91c1b81398cc",
   "metadata": {},
   "outputs": [
    {
     "data": {
      "text/plain": [
       "300"
      ]
     },
     "execution_count": 37,
     "metadata": {},
     "output_type": "execute_result"
    }
   ],
   "source": [
    "sum([100,200])"
   ]
  },
  {
   "cell_type": "markdown",
   "id": "560bcabd-1cbb-443e-9c2e-5eec7dc6dfc3",
   "metadata": {},
   "source": [
    "**variable should be black color**"
   ]
  },
  {
   "cell_type": "code",
   "execution_count": null,
   "id": "8e883594-3a9b-4bb9-96d7-415bcc0b5bc6",
   "metadata": {},
   "outputs": [],
   "source": [
    "sum = 300 # correct way \n",
    "sum = 400 # woring way "
   ]
  },
  {
   "cell_type": "code",
   "execution_count": 38,
   "id": "fa5720cf-115c-4c8d-9970-0592d5945d11",
   "metadata": {},
   "outputs": [
    {
     "data": {
      "text/plain": [
       "200"
      ]
     },
     "execution_count": 38,
     "metadata": {},
     "output_type": "execute_result"
    }
   ],
   "source": [
    "max([100,200])"
   ]
  },
  {
   "cell_type": "code",
   "execution_count": 40,
   "id": "194da132-1bb1-4737-a007-38954dc48f20",
   "metadata": {},
   "outputs": [
    {
     "data": {
      "text/plain": [
       "1000"
      ]
     },
     "execution_count": 40,
     "metadata": {},
     "output_type": "execute_result"
    }
   ],
   "source": [
    "max([200,500,1000])"
   ]
  },
  {
   "cell_type": "code",
   "execution_count": null,
   "id": "a70963d2-c94e-46d5-8e5e-fd6e809bd2fb",
   "metadata": {},
   "outputs": [],
   "source": [
    "print(100)  # print\n",
    "type([100,200]) # type list \n",
    "sum([100,200]) # 300\n",
    "max([100,20]) # 200\n",
    "min([100,200]) # 100\n",
    "len([100,200]) #2\n",
    "\n",
    "\n",
    "# print\n",
    "# sum\n",
    "# max"
   ]
  },
  {
   "cell_type": "code",
   "execution_count": 41,
   "id": "54898892-c6d7-42a1-9eb6-291bf615f354",
   "metadata": {},
   "outputs": [
    {
     "data": {
      "text/plain": [
       "2"
      ]
     },
     "execution_count": 41,
     "metadata": {},
     "output_type": "execute_result"
    }
   ],
   "source": [
    "len([100,200])"
   ]
  },
  {
   "cell_type": "code",
   "execution_count": 16,
   "id": "f1985a48-fbd4-40c5-be57-bca2e0e93215",
   "metadata": {},
   "outputs": [],
   "source": [
    "number=300"
   ]
  },
  {
   "cell_type": "code",
   "execution_count": 17,
   "id": "5c5b6938-4074-420e-9ba6-d7d29cd9cd3d",
   "metadata": {},
   "outputs": [
    {
     "data": {
      "text/plain": [
       "300"
      ]
     },
     "execution_count": 17,
     "metadata": {},
     "output_type": "execute_result"
    }
   ],
   "source": [
    "number"
   ]
  },
  {
   "cell_type": "code",
   "execution_count": 2,
   "id": "30386339-18d8-4f64-b7ed-68c00abb69ae",
   "metadata": {},
   "outputs": [
    {
     "name": "stdout",
     "output_type": "stream",
     "text": [
      "changed\n",
      "global\n"
     ]
    }
   ],
   "source": [
    "x = \"global\"\n",
    "def outer():\n",
    "    x = \"enclosing\"\n",
    "    def inner():\n",
    "        nonlocal x\n",
    "        x = \"changed\"\n",
    "    inner()\n",
    "    print(x)  # \"changed\"\n",
    "outer()\n",
    "print(x)  "
   ]
  },
  {
   "cell_type": "code",
   "execution_count": 17,
   "id": "9e553326-0a9e-4a84-a35a-da27f8603345",
   "metadata": {},
   "outputs": [
    {
     "name": "stdout",
     "output_type": "stream",
     "text": [
      "<class 'NoneType'>\n"
     ]
    }
   ],
   "source": [
    "x = 10\n",
    "del x\n",
    "x = None\n",
    "print(type(x))"
   ]
  },
  {
   "cell_type": "code",
   "execution_count": 27,
   "id": "75ad6ffb-fa09-4f17-b955-6497b463bc70",
   "metadata": {},
   "outputs": [
    {
     "name": "stdout",
     "output_type": "stream",
     "text": [
      "25\n",
      "Hello dipak\n"
     ]
    }
   ],
   "source": [
    "age: int = 25\n",
    "def greet(name: str) -> str:\n",
    "    return \"Hello \" + name\n",
    "print(age)\n",
    "print(greet('dipak'))"
   ]
  },
  {
   "cell_type": "code",
   "execution_count": 33,
   "id": "a30a735f-fb08-462e-9e88-24640c58b95b",
   "metadata": {},
   "outputs": [
    {
     "data": {
      "text/plain": [
       "[20]"
      ]
     },
     "execution_count": 33,
     "metadata": {},
     "output_type": "execute_result"
    }
   ],
   "source": [
    "def f(a=None):\n",
    "    if a is None:\n",
    "        a = []\n",
    "    a.append(20)\n",
    "    return a\n",
    "f()"
   ]
  },
  {
   "cell_type": "code",
   "execution_count": null,
   "id": "1c975436-285b-4a78-b0e7-72a4bde11a13",
   "metadata": {},
   "outputs": [],
   "source": []
  }
 ],
 "metadata": {
  "kernelspec": {
   "display_name": "Python [conda env:base] *",
   "language": "python",
   "name": "conda-base-py"
  },
  "language_info": {
   "codemirror_mode": {
    "name": "ipython",
    "version": 3
   },
   "file_extension": ".py",
   "mimetype": "text/x-python",
   "name": "python",
   "nbconvert_exporter": "python",
   "pygments_lexer": "ipython3",
   "version": "3.13.5"
  }
 },
 "nbformat": 4,
 "nbformat_minor": 5
}
