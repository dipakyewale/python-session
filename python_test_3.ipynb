{
 "cells": [
  {
   "cell_type": "markdown",
   "id": "52a93a7b-8a73-45c3-b96e-7136458c85f4",
   "metadata": {},
   "source": [
    "**Question 11:\n",
    "Write a Python program to check whether a number is positive, negative, or zero.\n",
    "Input: An integer from the user\n",
    "Output: Print \"Positive number\", \"Negative number\", or \"Zero\"**"
   ]
  },
  {
   "cell_type": "code",
   "execution_count": 9,
   "id": "0b6a1f8c-c68f-44b4-88c1-556d585e6baf",
   "metadata": {},
   "outputs": [
    {
     "name": "stdin",
     "output_type": "stream",
     "text": [
      "Enter the number: 5\n"
     ]
    },
    {
     "name": "stdout",
     "output_type": "stream",
     "text": [
      "The 5 is positive\n"
     ]
    }
   ],
   "source": [
    "n=eval(input(\"Enter the number:\"))\n",
    "if n>0:\n",
    "    print(f\"The {n} is positive\")\n",
    "elif n<0:\n",
    "    print(f\"The {n} is negative\")\n",
    "else:\n",
    "    print(\"zero\")"
   ]
  },
  {
   "cell_type": "markdown",
   "id": "ccf04413-2e97-4c95-afea-4e4f25599d99",
   "metadata": {},
   "source": [
    "**Question 12:**"
   ]
  },
  {
   "cell_type": "markdown",
   "id": "57040ef3-4e7e-4317-a12d-85f7c800ace5",
   "metadata": {},
   "source": [
    "**Write a Python program to check if a number is odd or even.\n",
    "Input: An integer from the user\n",
    "Output: Print \"Odd number\" or \"Even number\"**"
   ]
  },
  {
   "cell_type": "code",
   "execution_count": 4,
   "id": "e87f08cb-5931-417e-99bf-4b1b856768ae",
   "metadata": {},
   "outputs": [
    {
     "name": "stdin",
     "output_type": "stream",
     "text": [
      "Enter The number : 3\n"
     ]
    },
    {
     "name": "stdout",
     "output_type": "stream",
     "text": [
      "The 3 is odd\n"
     ]
    }
   ],
   "source": [
    "n1=int(input(\"Enter The number :\"))\n",
    "for i in range (1):\n",
    "    if n1 % 2 == 0:\n",
    "        print(f\"The {n1} is even \")\n",
    "    else:\n",
    "        print(f\"The {n1} is odd\")"
   ]
  },
  {
   "cell_type": "markdown",
   "id": "1edae4d0-1e23-47bb-89a7-4ce6de227f25",
   "metadata": {},
   "source": [
    "**Question 13:\n",
    "Write a Python program to find all prime numbers in the interval 1 to 100.\n",
    "Output: Print the list of prime numbers between 1 and 100.**"
   ]
  },
  {
   "cell_type": "code",
   "execution_count": 11,
   "id": "a1c4104e-e84d-4fb6-ae95-248046a3cbe4",
   "metadata": {},
   "outputs": [
    {
     "name": "stdout",
     "output_type": "stream",
     "text": [
      "The prime number of : 1 100\n",
      "2,3,5,7,11,13,17,19,23,29,31,37,41,43,47,53,59,61,67,71,73,79,83,89,97,"
     ]
    }
   ],
   "source": [
    "lower = 1\n",
    "upper = 100\n",
    "print(\"The prime number of :\",lower , upper)\n",
    "for num in range(lower , upper + 1):\n",
    "    if num > 1:\n",
    "        for i in range(2, num):\n",
    "            if  (num % i)==0:\n",
    "                break\n",
    "        else:\n",
    "            print(num,end=\",\")"
   ]
  },
  {
   "cell_type": "markdown",
   "id": "0dd3860a-ecf1-4ee2-bd32-35a56f407c40",
   "metadata": {},
   "source": [
    "**Question 14:\n",
    "Write a Python program to find the factorial of a number without using recursion.\n",
    "Input: An integer from the user\n",
    "Output: Print the factorial of the number.**"
   ]
  },
  {
   "cell_type": "code",
   "execution_count": 15,
   "id": "ade0b610-5892-43a2-825f-e222c7c57ee8",
   "metadata": {},
   "outputs": [
    {
     "name": "stdin",
     "output_type": "stream",
     "text": [
      "Enter a number:  22\n"
     ]
    },
    {
     "name": "stdout",
     "output_type": "stream",
     "text": [
      "Factorial of 22 is: 1124000727777607680000\n"
     ]
    }
   ],
   "source": [
    "num = int(input(\"Enter a number: \"))\n",
    "fact = 1\n",
    "for i in range(1, num + 1):\n",
    "    fact = fact * i\n",
    "print(\"Factorial of\", num, \"is:\", fact)"
   ]
  },
  {
   "cell_type": "markdown",
   "id": "f20b4a64-71cd-4480-a296-6086067bb845",
   "metadata": {},
   "source": [
    "**Question 15:\n",
    "Write a Python program to print the Fibonacci sequence up to n terms, where n is provided\n",
    "by the user.\n",
    "Input: Number of terms (n)\n",
    "Output: Print the Fibonacci sequence up to n terms.**"
   ]
  },
  {
   "cell_type": "code",
   "execution_count": 16,
   "id": "c9ff9783-e204-4811-9804-48f90d4ed08a",
   "metadata": {},
   "outputs": [
    {
     "name": "stdin",
     "output_type": "stream",
     "text": [
      "Enter the number of terms:  5\n"
     ]
    },
    {
     "name": "stdout",
     "output_type": "stream",
     "text": [
      "Fibonacci sequence up to 5 terms:\n",
      "0 1 1 2 3 "
     ]
    }
   ],
   "source": [
    "n = int(input(\"Enter the number of terms: \"))\n",
    "a, b = 0, 1\n",
    "if n <= 0:\n",
    "    print(\"Please enter a positive integer.\")\n",
    "elif n == 1:\n",
    "    print(\"Fibonacci sequence up to 1 term:\")\n",
    "    print(a)\n",
    "else:\n",
    "    print(\"Fibonacci sequence up to\", n, \"terms:\")\n",
    "    for i in range(n):\n",
    "        print(a, end=\" \")\n",
    "        a, b = b, a + b"
   ]
  },
  {
   "cell_type": "code",
   "execution_count": null,
   "id": "120bc425-eade-42b2-b57e-5bb1e5866ac6",
   "metadata": {},
   "outputs": [],
   "source": []
  }
 ],
 "metadata": {
  "kernelspec": {
   "display_name": "Python [conda env:base] *",
   "language": "python",
   "name": "conda-base-py"
  },
  "language_info": {
   "codemirror_mode": {
    "name": "ipython",
    "version": 3
   },
   "file_extension": ".py",
   "mimetype": "text/x-python",
   "name": "python",
   "nbconvert_exporter": "python",
   "pygments_lexer": "ipython3",
   "version": "3.13.5"
  }
 },
 "nbformat": 4,
 "nbformat_minor": 5
}
