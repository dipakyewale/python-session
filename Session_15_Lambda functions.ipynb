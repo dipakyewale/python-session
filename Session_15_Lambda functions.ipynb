{
 "cells": [
  {
   "cell_type": "code",
   "execution_count": null,
   "id": "4697ddbe-2fe0-4650-a1de-f303a076efce",
   "metadata": {},
   "outputs": [],
   "source": [
    "7pm 9pm line \n",
    "no water\n",
    "no phone call\n",
    "no chakodi pakodi to eat\n",
    "no cofee tea\n",
    "no mobie seeing\n",
    "no wahsroom\n",
    "\n",
    "only class"
   ]
  },
  {
   "cell_type": "code",
   "execution_count": null,
   "id": "7d9ec503-75c9-4892-85c2-0f896e0122c3",
   "metadata": {},
   "outputs": [],
   "source": [
    "7pm to 10pm"
   ]
  },
  {
   "cell_type": "markdown",
   "id": "e7bd05f4-4c82-4957-8a23-7d38902a2615",
   "metadata": {},
   "source": [
    "**Lamnda functions**"
   ]
  },
  {
   "cell_type": "markdown",
   "id": "bf56f2d4-de1f-4047-ba27-02a7e7c2b5c3",
   "metadata": {},
   "source": [
    "- lambda functions also functions \n",
    "\n",
    "- it is similar to list comprhension\n",
    "\n",
    "- function we are writing in a single line"
   ]
  },
  {
   "cell_type": "markdown",
   "id": "6f6f909b-7c45-4cd1-b563-ce96f88629fe",
   "metadata": {},
   "source": [
    "**Case-1: function with one argument**"
   ]
  },
  {
   "cell_type": "code",
   "execution_count": 3,
   "id": "a4e5b503-37c4-4845-aecd-3cb89f136ee3",
   "metadata": {},
   "outputs": [
    {
     "data": {
      "text/plain": [
       "30"
      ]
     },
     "execution_count": 3,
     "metadata": {},
     "output_type": "execute_result"
    }
   ],
   "source": [
    "def add(a):\n",
    "    return(a+10)\n",
    "add(20)"
   ]
  },
  {
   "cell_type": "code",
   "execution_count": null,
   "id": "dd67b8fb-16d4-457c-a224-4d0c6bdc1aa0",
   "metadata": {},
   "outputs": [],
   "source": [
    "# what is the function name: add\n",
    "# what is the argument: a\n",
    "# what is the output : a+10\n",
    "\n",
    "<function_name>= lambda <arg> : <output>"
   ]
  },
  {
   "cell_type": "code",
   "execution_count": 8,
   "id": "8d7b673b-505b-4d2c-900a-b79d99f4c7a5",
   "metadata": {},
   "outputs": [
    {
     "data": {
      "text/plain": [
       "60"
      ]
     },
     "execution_count": 8,
     "metadata": {},
     "output_type": "execute_result"
    }
   ],
   "source": [
    "add= lambda a : a+10\n",
    "add(50)"
   ]
  },
  {
   "cell_type": "markdown",
   "id": "7d103c25-a809-4f2d-a1fc-a74b38e3d730",
   "metadata": {},
   "source": [
    "**Case-2: multiple arguments**"
   ]
  },
  {
   "cell_type": "code",
   "execution_count": 13,
   "id": "61ebd26e-0e47-4ecb-a296-57b3ec4627e4",
   "metadata": {},
   "outputs": [
    {
     "data": {
      "text/plain": [
       "20.0"
      ]
     },
     "execution_count": 13,
     "metadata": {},
     "output_type": "execute_result"
    }
   ],
   "source": [
    "def avg(x,y,z):\n",
    "    return((x+y+z)/3)\n",
    "avg(10,20,30)    "
   ]
  },
  {
   "cell_type": "code",
   "execution_count": 15,
   "id": "34b7e371-3680-4026-940c-e8ec83fee309",
   "metadata": {},
   "outputs": [
    {
     "data": {
      "text/plain": [
       "3.6666666666666665"
      ]
     },
     "execution_count": 15,
     "metadata": {},
     "output_type": "execute_result"
    }
   ],
   "source": [
    "avg=lambda x,y,z : (x+y+z)/3\n",
    "avg(1,3,7)"
   ]
  },
  {
   "cell_type": "code",
   "execution_count": 17,
   "id": "01dd7160-77e6-45c7-bf1c-e61fb6607539",
   "metadata": {},
   "outputs": [
    {
     "data": {
      "text/plain": [
       "3.67"
      ]
     },
     "execution_count": 17,
     "metadata": {},
     "output_type": "execute_result"
    }
   ],
   "source": [
    "avg=lambda x,y,z : round((x+y+z)/3,2)\n",
    "avg(1,3,7)"
   ]
  },
  {
   "cell_type": "code",
   "execution_count": 19,
   "id": "0f64d1dc-11d0-459a-80ed-fc07ec92fa68",
   "metadata": {},
   "outputs": [
    {
     "data": {
      "text/plain": [
       "168.0"
      ]
     },
     "execution_count": 19,
     "metadata": {},
     "output_type": "execute_result"
    }
   ],
   "source": [
    "avg=lambda x,y,z=500 : (x+y+z)/3\n",
    "avg(1,3)"
   ]
  },
  {
   "cell_type": "markdown",
   "id": "187294ab-e4b2-4e06-9703-8974e2768c76",
   "metadata": {},
   "source": [
    "**Case-3:if-else**"
   ]
  },
  {
   "cell_type": "code",
   "execution_count": 22,
   "id": "a1fda107-db19-49ed-87a6-3477a29873ae",
   "metadata": {},
   "outputs": [
    {
     "data": {
      "text/plain": [
       "'odd'"
      ]
     },
     "execution_count": 22,
     "metadata": {},
     "output_type": "execute_result"
    }
   ],
   "source": [
    "def even_odd(num):\n",
    "    if num%2==0:\n",
    "        return('even')\n",
    "    else:\n",
    "        return('odd')\n",
    "even_odd(21)"
   ]
  },
  {
   "cell_type": "code",
   "execution_count": null,
   "id": "d44ddedd-a5e4-4508-a823-3f440a3b6f61",
   "metadata": {},
   "outputs": [],
   "source": [
    "even_odd=lambda num : <output>"
   ]
  },
  {
   "cell_type": "code",
   "execution_count": 3,
   "id": "258e9c95-4eb1-4396-a57d-87e364bd126b",
   "metadata": {},
   "outputs": [
    {
     "data": {
      "text/plain": [
       "'even'"
      ]
     },
     "execution_count": 3,
     "metadata": {},
     "output_type": "execute_result"
    }
   ],
   "source": [
    "even_odd= lambda num :'even' if num%2==0 else 'odd'\n",
    "even_odd(20)"
   ]
  },
  {
   "cell_type": "code",
   "execution_count": 7,
   "id": "bc6e9782-b816-4718-bb30-5a8a0a49363c",
   "metadata": {},
   "outputs": [
    {
     "data": {
      "text/plain": [
       "'odd'"
      ]
     },
     "execution_count": 7,
     "metadata": {},
     "output_type": "execute_result"
    }
   ],
   "source": [
    "evn_odd = lambda num:'odd' if num % 2 != 0 else \"even\"\n",
    "even_odd(21)"
   ]
  },
  {
   "cell_type": "markdown",
   "id": "34151098-a309-47d3-8e3d-4e1e352c6cdc",
   "metadata": {},
   "source": [
    "**Case-4: list operations**"
   ]
  },
  {
   "cell_type": "code",
   "execution_count": 29,
   "id": "fee2d317-2a86-4e6d-8801-9cc429b61790",
   "metadata": {},
   "outputs": [
    {
     "data": {
      "text/plain": [
       "['Hyd', 'Bengaluru', 'Mumbai', 'Chennai']"
      ]
     },
     "execution_count": 29,
     "metadata": {},
     "output_type": "execute_result"
    }
   ],
   "source": [
    "# Q1) input=['hyd','bengaluru','mumbai','chennai']\n",
    "#     output=['Hyd','Bengaluru','Mumbai','Chennai']\n",
    "Input=['hyd','bengaluru','mumbai','chennai']\n",
    "output=[i.title() for i in Input]\n",
    "output"
   ]
  },
  {
   "cell_type": "code",
   "execution_count": 31,
   "id": "5c3d028f-ce71-489a-9630-d0eba38a96cd",
   "metadata": {},
   "outputs": [],
   "source": [
    "# argument : i\n",
    "# output   : i.title()"
   ]
  },
  {
   "cell_type": "code",
   "execution_count": 35,
   "id": "734e59ca-d41d-4a12-be5b-62214403975a",
   "metadata": {},
   "outputs": [
    {
     "data": {
      "text/plain": [
       "<function __main__.<lambda>(i)>"
      ]
     },
     "execution_count": 35,
     "metadata": {},
     "output_type": "execute_result"
    }
   ],
   "source": [
    "# step-1: create a function\n",
    "Input=['hyd','bengaluru','mumbai','chennai']\n",
    "lambda i : i.title()"
   ]
  },
  {
   "cell_type": "code",
   "execution_count": 39,
   "id": "1cf86e3f-f10d-46e2-ad94-05089c586c5a",
   "metadata": {},
   "outputs": [
    {
     "data": {
      "text/plain": [
       "(<function __main__.<lambda>(i)>, ['hyd', 'bengaluru', 'mumbai', 'chennai'])"
      ]
     },
     "execution_count": 39,
     "metadata": {},
     "output_type": "execute_result"
    }
   ],
   "source": [
    "# Step-2: this argument need input \n",
    "# that inputs are avaialbe in a list : Input\n",
    "\n",
    "# lambda <arg> : <output>,<list>\n",
    "\n",
    "lambda i : i.title(),Input  \n",
    "# a,b\n",
    "# function,list"
   ]
  },
  {
   "cell_type": "markdown",
   "id": "65f8a2b7-61ce-4401-9155-1e16f31d0d0c",
   "metadata": {},
   "source": [
    "**map**"
   ]
  },
  {
   "cell_type": "code",
   "execution_count": 42,
   "id": "b09157db-7fae-4f27-8b3a-4b917c2da0ff",
   "metadata": {},
   "outputs": [
    {
     "data": {
      "text/plain": [
       "<map at 0x1e2c6240c40>"
      ]
     },
     "execution_count": 42,
     "metadata": {},
     "output_type": "execute_result"
    }
   ],
   "source": [
    "# step-3: map the function and list\n",
    "# map(<function>,<list>)\n",
    "map(lambda i : i.title(),Input)"
   ]
  },
  {
   "cell_type": "code",
   "execution_count": 44,
   "id": "f5f9ea6c-2c67-44f8-b689-e2d70f662626",
   "metadata": {},
   "outputs": [
    {
     "data": {
      "text/plain": [
       "['Hyd', 'Bengaluru', 'Mumbai', 'Chennai']"
      ]
     },
     "execution_count": 44,
     "metadata": {},
     "output_type": "execute_result"
    }
   ],
   "source": [
    "list(map(lambda i : i.title(),Input))"
   ]
  },
  {
   "cell_type": "code",
   "execution_count": null,
   "id": "e20918f2-2115-45a5-a2e1-9864162c7553",
   "metadata": {},
   "outputs": [],
   "source": [
    "lambda i : i.title()\n",
    "lambda i : i.title(),Input\n",
    "map(lambda i : i.title(),Input)\n",
    "list(map(lambda i : i.title(),Input))"
   ]
  },
  {
   "cell_type": "code",
   "execution_count": 46,
   "id": "501456e7-9ee8-4d6d-aa43-11cf6cf86bfe",
   "metadata": {},
   "outputs": [
    {
     "data": {
      "text/plain": [
       "['HYD', 'BENGALURU', 'MUMBAI', 'CHENNAI']"
      ]
     },
     "execution_count": 46,
     "metadata": {},
     "output_type": "execute_result"
    }
   ],
   "source": [
    "# Q2) input=['hyd','bengaluru','mumbai','chennai']\n",
    "#     output=['HYD','BENGALURU','MUMBAI','CHENNAI']\n",
    "list(map(lambda i : i.upper(),Input))"
   ]
  },
  {
   "cell_type": "code",
   "execution_count": 50,
   "id": "dc3b1a61-b6d0-43e6-9516-45f3b349769d",
   "metadata": {},
   "outputs": [
    {
     "data": {
      "text/plain": [
       "[False, False, True, True]"
      ]
     },
     "execution_count": 50,
     "metadata": {},
     "output_type": "execute_result"
    }
   ],
   "source": [
    "# Q3) input=['hyd','bengaluru','mum#bai','chen#nai']\n",
    "#     output=['mum#bai','chen#nai']\n",
    "Input=['hyd','bengaluru','mum#bai','chen#nai']\n",
    "list(map(lambda i : '#' in i,Input))"
   ]
  },
  {
   "cell_type": "markdown",
   "id": "ac21c5a9-191f-49e9-b358-0eb86926e731",
   "metadata": {},
   "source": [
    "**filter**"
   ]
  },
  {
   "cell_type": "code",
   "execution_count": 53,
   "id": "c0cef240-3b3a-417b-9e8f-5197f30dc535",
   "metadata": {},
   "outputs": [
    {
     "data": {
      "text/plain": [
       "['mum#bai', 'chen#nai']"
      ]
     },
     "execution_count": 53,
     "metadata": {},
     "output_type": "execute_result"
    }
   ],
   "source": [
    "Input=['hyd','bengaluru','mum#bai','chen#nai']\n",
    "list(filter(lambda i : '#' in i,Input))"
   ]
  },
  {
   "cell_type": "markdown",
   "id": "bd3929a4-7ecb-4b6b-a945-4da95f0c6920",
   "metadata": {},
   "source": [
    "**reduce**\n",
    "\n",
    "- reduce for any math operations\n",
    "\n",
    "- sum of first 10 natural numbers"
   ]
  },
  {
   "cell_type": "code",
   "execution_count": 56,
   "id": "d49f06f2-02b9-4016-9f87-ca30317c96ef",
   "metadata": {},
   "outputs": [
    {
     "data": {
      "text/plain": [
       "[1, 2, 3, 4, 5, 6, 7, 8, 9, 10]"
      ]
     },
     "execution_count": 56,
     "metadata": {},
     "output_type": "execute_result"
    }
   ],
   "source": [
    "num=[i for i in range(1,11)]\n",
    "num"
   ]
  },
  {
   "cell_type": "code",
   "execution_count": 62,
   "id": "091c5364-b9a4-4710-af4b-40feb6db9f80",
   "metadata": {},
   "outputs": [
    {
     "name": "stdout",
     "output_type": "stream",
     "text": [
      "55\n"
     ]
    },
    {
     "data": {
      "text/plain": [
       "55"
      ]
     },
     "execution_count": 62,
     "metadata": {},
     "output_type": "execute_result"
    }
   ],
   "source": [
    "summ=0\n",
    "for i in num:\n",
    "    summ=summ+i\n",
    "print(summ) # 55\n",
    "\n",
    "summ1=0\n",
    "[summ1:=summ1+i for i in num][-1] # 110"
   ]
  },
  {
   "cell_type": "code",
   "execution_count": 64,
   "id": "16def2d8-b4fb-447a-af82-8a96466f7e7a",
   "metadata": {},
   "outputs": [
    {
     "data": {
      "text/plain": [
       "['GenericAlias',\n",
       " 'RLock',\n",
       " 'WRAPPER_ASSIGNMENTS',\n",
       " 'WRAPPER_UPDATES',\n",
       " '_CacheInfo',\n",
       " '_HashedSeq',\n",
       " '_NOT_FOUND',\n",
       " '__all__',\n",
       " '__builtins__',\n",
       " '__cached__',\n",
       " '__doc__',\n",
       " '__file__',\n",
       " '__loader__',\n",
       " '__name__',\n",
       " '__package__',\n",
       " '__spec__',\n",
       " '_c3_merge',\n",
       " '_c3_mro',\n",
       " '_compose_mro',\n",
       " '_convert',\n",
       " '_find_impl',\n",
       " '_ge_from_gt',\n",
       " '_ge_from_le',\n",
       " '_ge_from_lt',\n",
       " '_gt_from_ge',\n",
       " '_gt_from_le',\n",
       " '_gt_from_lt',\n",
       " '_initial_missing',\n",
       " '_le_from_ge',\n",
       " '_le_from_gt',\n",
       " '_le_from_lt',\n",
       " '_lru_cache_wrapper',\n",
       " '_lt_from_ge',\n",
       " '_lt_from_gt',\n",
       " '_lt_from_le',\n",
       " '_make_key',\n",
       " '_unwrap_partial',\n",
       " 'cache',\n",
       " 'cached_property',\n",
       " 'cmp_to_key',\n",
       " 'get_cache_token',\n",
       " 'lru_cache',\n",
       " 'namedtuple',\n",
       " 'partial',\n",
       " 'partialmethod',\n",
       " 'recursive_repr',\n",
       " 'reduce',\n",
       " 'singledispatch',\n",
       " 'singledispatchmethod',\n",
       " 'total_ordering',\n",
       " 'update_wrapper',\n",
       " 'wraps']"
      ]
     },
     "execution_count": 64,
     "metadata": {},
     "output_type": "execute_result"
    }
   ],
   "source": [
    "import functools\n",
    "dir(functools)"
   ]
  },
  {
   "cell_type": "code",
   "execution_count": null,
   "id": "78ee83e5-2ade-4384-aafe-dfc9dcd338f3",
   "metadata": {},
   "outputs": [],
   "source": [
    "map(lambda <arg>:<output>,<list>)\n",
    "filter(lambda <arg>:<cond output>,<list>)\n",
    "functools.reduce(lambda <arg>:<out>,<list>)\n"
   ]
  },
  {
   "cell_type": "code",
   "execution_count": 66,
   "id": "0afb461a-e729-47ac-9ce0-067b04faf61c",
   "metadata": {},
   "outputs": [],
   "source": [
    "from functools import reduce"
   ]
  },
  {
   "cell_type": "code",
   "execution_count": null,
   "id": "f1ccc291-391e-4ce5-bc72-a60116c4fa7a",
   "metadata": {},
   "outputs": [],
   "source": [
    "map(lambda <arg> : <out>, <list>)\n",
    "filter(lambda <arg> : <cond out>,<list>)\n",
    "reduce(lambda <arg> : <out>,<list>)\n",
    "\n",
    "summ=0\n",
    "for i in num:\n",
    "    summ=summ+i\n",
    "print(summ) # 55"
   ]
  },
  {
   "cell_type": "code",
   "execution_count": 68,
   "id": "d0ef59ff-9856-4596-8d74-28d1fef10575",
   "metadata": {},
   "outputs": [
    {
     "data": {
      "text/plain": [
       "55"
      ]
     },
     "execution_count": 68,
     "metadata": {},
     "output_type": "execute_result"
    }
   ],
   "source": [
    "num=[i for i in range(1,11)]\n",
    "reduce(lambda s,i : s+i,num)\n",
    "# No need intialize s=0"
   ]
  },
  {
   "cell_type": "code",
   "execution_count": 70,
   "id": "e50f4c41-5a62-4c62-94c9-e7db9ed2215f",
   "metadata": {},
   "outputs": [
    {
     "data": {
      "text/plain": [
       "155"
      ]
     },
     "execution_count": 70,
     "metadata": {},
     "output_type": "execute_result"
    }
   ],
   "source": [
    "num=[i for i in range(1,11)]\n",
    "reduce(lambda s,i : s+i,num,100)\n",
    "# s=100"
   ]
  },
  {
   "cell_type": "code",
   "execution_count": 4,
   "id": "4648e83d-efb2-441d-8d03-416c6367a126",
   "metadata": {},
   "outputs": [
    {
     "data": {
      "text/plain": [
       "['False',\n",
       " 'None',\n",
       " 'True',\n",
       " 'and',\n",
       " 'as',\n",
       " 'assert',\n",
       " 'async',\n",
       " 'await',\n",
       " 'break',\n",
       " 'class',\n",
       " 'continue',\n",
       " 'def',\n",
       " 'del',\n",
       " 'elif',\n",
       " 'else',\n",
       " 'except',\n",
       " 'finally',\n",
       " 'for',\n",
       " 'from',\n",
       " 'global',\n",
       " 'if',\n",
       " 'import',\n",
       " 'in',\n",
       " 'is',\n",
       " 'lambda',\n",
       " 'nonlocal',\n",
       " 'not',\n",
       " 'or',\n",
       " 'pass',\n",
       " 'raise',\n",
       " 'return',\n",
       " 'try',\n",
       " 'while',\n",
       " 'with',\n",
       " 'yield']"
      ]
     },
     "execution_count": 4,
     "metadata": {},
     "output_type": "execute_result"
    }
   ],
   "source": [
    "import keyword\n",
    "keyword.kwlist"
   ]
  },
  {
   "cell_type": "code",
   "execution_count": null,
   "id": "627e33f7-0e6f-41c1-bb46-e3d4b830412e",
   "metadata": {},
   "outputs": [],
   "source": []
  }
 ],
 "metadata": {
  "kernelspec": {
   "display_name": "Python [conda env:base] *",
   "language": "python",
   "name": "conda-base-py"
  },
  "language_info": {
   "codemirror_mode": {
    "name": "ipython",
    "version": 3
   },
   "file_extension": ".py",
   "mimetype": "text/x-python",
   "name": "python",
   "nbconvert_exporter": "python",
   "pygments_lexer": "ipython3",
   "version": "3.13.5"
  }
 },
 "nbformat": 4,
 "nbformat_minor": 5
}
