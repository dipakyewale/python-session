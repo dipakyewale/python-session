{
 "cells": [
  {
   "cell_type": "markdown",
   "id": "92f1f4cc-f6f2-4f57-b918-0dde1e03874a",
   "metadata": {},
   "source": [
    "**Python मध्ये list तयार करण्याची short आणि smart पद्धत म्हणजे list comprehension.\n",
    "यात loop आणि condition एका ओळीत लिहून आपल्याला list मिळते**"
   ]
  },
  {
   "cell_type": "markdown",
   "id": "deaacbeb-2050-49ec-b302-fa0368c26d3a",
   "metadata": {},
   "source": [
    "**List comprehension**\n",
    "\n",
    "- writing list operation in a singe line is called as list comprehension\n",
    "\n",
    "- genrally code process time wiil be increase when we use for and if \n",
    "\n",
    "- List comprehension will reduce the processing time "
   ]
  },
  {
   "cell_type": "markdown",
   "id": "64fdb513-093b-4e55-afae-9c0e55801878",
   "metadata": {},
   "source": [
    "$case=1$:**list with for loop**"
   ]
  },
  {
   "cell_type": "code",
   "execution_count": 1,
   "id": "a14913d5-7452-491f-af27-3fa0e606eef2",
   "metadata": {},
   "outputs": [],
   "source": [
    "# append 1 to 10 number in a list"
   ]
  },
  {
   "cell_type": "code",
   "execution_count": 4,
   "id": "1b6c9f38-4469-4cae-8024-e5020ae8350e",
   "metadata": {},
   "outputs": [
    {
     "data": {
      "text/plain": [
       "[1, 2, 3, 4, 5, 6, 7, 8, 9, 10]"
      ]
     },
     "execution_count": 4,
     "metadata": {},
     "output_type": "execute_result"
    }
   ],
   "source": [
    "l=[]\n",
    "for i in range(1,11):\n",
    "    l.append(i)\n",
    "l"
   ]
  },
  {
   "cell_type": "code",
   "execution_count": 1,
   "id": "6bb05a50-a2a1-4e62-8b9f-04451aa96794",
   "metadata": {},
   "outputs": [
    {
     "data": {
      "text/plain": [
       "[20, 21, 22, 23, 24, 25, 26, 27, 28, 29, 30]"
      ]
     },
     "execution_count": 1,
     "metadata": {},
     "output_type": "execute_result"
    }
   ],
   "source": [
    "n=[]\n",
    "for i in range(20,31):\n",
    "    n.append(i)\n",
    "n"
   ]
  },
  {
   "cell_type": "code",
   "execution_count": 18,
   "id": "8dd2f93a-4a66-4ecc-bd60-8a1328cb0e3d",
   "metadata": {},
   "outputs": [
    {
     "data": {
      "text/plain": [
       "[1, 2, 3, 4, 5]"
      ]
     },
     "execution_count": 18,
     "metadata": {},
     "output_type": "execute_result"
    }
   ],
   "source": [
    "m=[]\n",
    "for i in range(1,6):\n",
    "    m.append(i)\n",
    "\n",
    "m"
   ]
  },
  {
   "cell_type": "code",
   "execution_count": 3,
   "id": "9078cd9e-b7db-4d4d-9327-7d6026ce2d84",
   "metadata": {},
   "outputs": [
    {
     "data": {
      "text/plain": [
       "[1, 2, 3, 4, 5, 6, 7, 8]"
      ]
     },
     "execution_count": 3,
     "metadata": {},
     "output_type": "execute_result"
    }
   ],
   "source": [
    "n=[]\n",
    "import random\n",
    "random.randint(1,16)\n",
    "for i in range(1,9):\n",
    "    n.append(i)\n",
    "\n",
    "n"
   ]
  },
  {
   "cell_type": "code",
   "execution_count": 12,
   "id": "6e3ab767-4dee-44ea-aead-0b10cc13371c",
   "metadata": {},
   "outputs": [
    {
     "data": {
      "text/plain": [
       "[1, 2, 3, 4, 5, 6, 7, 8, 9, 10]"
      ]
     },
     "execution_count": 12,
     "metadata": {},
     "output_type": "execute_result"
    }
   ],
   "source": [
    "s=[]\n",
    "for i in range(1,11):\n",
    "    s.append(i)\n",
    "\n",
    "s"
   ]
  },
  {
   "cell_type": "code",
   "execution_count": 3,
   "id": "51a974e5-9508-4b00-837f-77b196947519",
   "metadata": {},
   "outputs": [
    {
     "data": {
      "text/plain": [
       "['HYD', 'BENGALURU', 'MUMBAI', 'CHENNAI']"
      ]
     },
     "execution_count": 3,
     "metadata": {},
     "output_type": "execute_result"
    }
   ],
   "source": [
    "input=['hyd','bengaluru','mumbai','chennai']\n",
    "out=[]\n",
    "for i in input:\n",
    "    out.append(i.upper())\n",
    "out"
   ]
  },
  {
   "cell_type": "code",
   "execution_count": 10,
   "id": "0dc2b9cc-c28b-4eb6-bb1b-c95e6fc210e1",
   "metadata": {},
   "outputs": [
    {
     "data": {
      "text/plain": [
       "'even'"
      ]
     },
     "execution_count": 10,
     "metadata": {},
     "output_type": "execute_result"
    }
   ],
   "source": [
    "even_odd= lambda x : \"even\"  if x % 2 == 0 else \"odd\"\n",
    "even_odd(44)"
   ]
  },
  {
   "cell_type": "code",
   "execution_count": null,
   "id": "0945a07b-360b-4e0f-afcf-b1e7febaa618",
   "metadata": {},
   "outputs": [],
   "source": [
    "# Q1) input=['hyd','bengaluru','mumbai','chennai']\n",
    "#     output=['Hyd','Bengaluru','Mumbai','Chennai']\n",
    "\n",
    "# Q2) input=['hyd','bengaluru','mumbai','chennai']\n",
    "#     output=['HYD','BENGALURU','MUMBAI','CHENNAI']"
   ]
  },
  {
   "cell_type": "code",
   "execution_count": 26,
   "id": "2708b760-9dc4-4ce9-871c-8db6d7446190",
   "metadata": {},
   "outputs": [
    {
     "data": {
      "text/plain": [
       "['Hyd', 'Bengaluru', 'Mumbai', 'Chennai']"
      ]
     },
     "execution_count": 26,
     "metadata": {},
     "output_type": "execute_result"
    }
   ],
   "source": [
    "Input=['hyd','bengaluru','mumbai','chennai']\n",
    "output=[]\n",
    "for i in Input:\n",
    "    output.append(i.title())\n",
    "output\n",
    "             "
   ]
  },
  {
   "cell_type": "code",
   "execution_count": 10,
   "id": "16373d7e-b29a-4ea5-a114-4674b6cbd04a",
   "metadata": {},
   "outputs": [
    {
     "data": {
      "text/plain": [
       "['HYD', 'BENGALURU', 'MUMBAI', 'CHENNAI']"
      ]
     },
     "execution_count": 10,
     "metadata": {},
     "output_type": "execute_result"
    }
   ],
   "source": [
    "Input=['hyd','bengaluru','mumbai','chennai']\n",
    "out=[]\n",
    "for i in Input:\n",
    "    out.append(i.upper())\n",
    "\n",
    "out"
   ]
  },
  {
   "cell_type": "code",
   "execution_count": 28,
   "id": "6cead1c4-406b-4cba-ab8f-5336c617e786",
   "metadata": {},
   "outputs": [
    {
     "data": {
      "text/plain": [
       "['DIPAK', 'SAGAR', 'PRADIP', 'KISHOR', 'SANDIP', 'VISHAL', 'KARTIK']"
      ]
     },
     "execution_count": 28,
     "metadata": {},
     "output_type": "execute_result"
    }
   ],
   "source": [
    "Input=['dipak','sagar','pradip','kishor','sandip','vishal','kartik']\n",
    "output=[]\n",
    "for i in Input:\n",
    "    output.append(i.upper())\n",
    "output"
   ]
  },
  {
   "cell_type": "markdown",
   "id": "4dd46a71-0f68-4fe6-aaa1-98297d6e3e85",
   "metadata": {},
   "source": [
    "**using lambda functon**"
   ]
  },
  {
   "cell_type": "code",
   "execution_count": 2,
   "id": "5e8aaa1b-9e96-422f-9945-9d81d7ef3ff2",
   "metadata": {},
   "outputs": [
    {
     "data": {
      "text/plain": [
       "'odd'"
      ]
     },
     "execution_count": 2,
     "metadata": {},
     "output_type": "execute_result"
    }
   ],
   "source": [
    "even_odd= lambda num: 'even' if num%2 == 0 else 'odd'\n",
    "even_odd(41)"
   ]
  },
  {
   "cell_type": "markdown",
   "id": "333a734b-ef51-4dce-bbac-3be28e2420f9",
   "metadata": {},
   "source": [
    "**using def function**"
   ]
  },
  {
   "cell_type": "code",
   "execution_count": 4,
   "id": "e72057ea-f417-4e01-b911-27b38ee422cb",
   "metadata": {},
   "outputs": [
    {
     "data": {
      "text/plain": [
       "'odd'"
      ]
     },
     "execution_count": 4,
     "metadata": {},
     "output_type": "execute_result"
    }
   ],
   "source": [
    "def even_odd(num):\n",
    "    if num % 2 == 0:\n",
    "        return('even')\n",
    "    else:\n",
    "        return('odd')\n",
    "even_odd(33)"
   ]
  },
  {
   "cell_type": "code",
   "execution_count": 2,
   "id": "50318a28-bc2b-480a-9911-f41b20f413c8",
   "metadata": {},
   "outputs": [
    {
     "data": {
      "text/plain": [
       "'odd'"
      ]
     },
     "execution_count": 2,
     "metadata": {},
     "output_type": "execute_result"
    }
   ],
   "source": [
    "def even_odd(num):\n",
    "    if num % 2 == 0:\n",
    "        return 'even'\n",
    "    else:\n",
    "        return 'odd'\n",
    "even_odd(33)"
   ]
  },
  {
   "cell_type": "code",
   "execution_count": 14,
   "id": "320080ec-8bdd-41dd-a4b4-10e5b8404ff3",
   "metadata": {},
   "outputs": [
    {
     "data": {
      "text/plain": [
       "'even'"
      ]
     },
     "execution_count": 14,
     "metadata": {},
     "output_type": "execute_result"
    }
   ],
   "source": [
    "def even_odd(num):\n",
    "    if num % 2 == 0:\n",
    "        return \"even\"\n",
    "    else:\n",
    "        return \"odd\"\n",
    "even_odd(76)"
   ]
  },
  {
   "cell_type": "markdown",
   "id": "96238128-ebfe-445a-96d6-4076e4d67aaf",
   "metadata": {},
   "source": [
    "**using if statments**"
   ]
  },
  {
   "cell_type": "code",
   "execution_count": 22,
   "id": "d2b1aba1-df1f-47d3-ba1e-ee0366323910",
   "metadata": {},
   "outputs": [
    {
     "name": "stdin",
     "output_type": "stream",
     "text": [
      "enter the number1 12\n"
     ]
    },
    {
     "name": "stdout",
     "output_type": "stream",
     "text": [
      "The 12 is odd\n"
     ]
    },
    {
     "name": "stdin",
     "output_type": "stream",
     "text": [
      "enter the number1 11\n"
     ]
    },
    {
     "name": "stdout",
     "output_type": "stream",
     "text": [
      "The 11 is even\n"
     ]
    },
    {
     "name": "stdin",
     "output_type": "stream",
     "text": [
      "enter the number1 55\n"
     ]
    },
    {
     "name": "stdout",
     "output_type": "stream",
     "text": [
      "The 55 is odd\n"
     ]
    },
    {
     "name": "stdin",
     "output_type": "stream",
     "text": [
      "enter the number1 77\n"
     ]
    },
    {
     "name": "stdout",
     "output_type": "stream",
     "text": [
      "The 77 is even\n"
     ]
    },
    {
     "name": "stdin",
     "output_type": "stream",
     "text": [
      "enter the number1 41\n"
     ]
    },
    {
     "name": "stdout",
     "output_type": "stream",
     "text": [
      "The 41 is odd\n"
     ]
    }
   ],
   "source": [
    "import random\n",
    "random.randint(1,50)\n",
    "for i in range(1,6):\n",
    "    num1=int(input(\"enter the number1\"))\n",
    "    if i%2==0:\n",
    "        print(f\"The {num1} is even\")\n",
    "    else:\n",
    "        print(f\"The {num1} is odd\")\n"
   ]
  },
  {
   "cell_type": "code",
   "execution_count": 16,
   "id": "25a720e8-2957-4909-ae66-af9eb6b7e4d0",
   "metadata": {},
   "outputs": [
    {
     "name": "stdout",
     "output_type": "stream",
     "text": [
      " The 1 is odds\n",
      " The 2 is evens\n",
      " The 3 is odds\n",
      " The 4 is evens\n",
      " The 5 is odds\n",
      " The 6 is evens\n",
      " The 7 is odds\n",
      " The 8 is evens\n",
      " The 9 is odds\n",
      " The 10 is evens\n",
      " The 11 is odds\n",
      " The 12 is evens\n",
      " The 13 is odds\n",
      " The 14 is evens\n",
      " The 15 is odds\n",
      " The 16 is evens\n",
      " The 17 is odds\n",
      " The 18 is evens\n",
      " The 19 is odds\n",
      " The 20 is evens\n",
      " The 21 is odds\n",
      " The 22 is evens\n",
      " The 23 is odds\n",
      " The 24 is evens\n"
     ]
    }
   ],
   "source": [
    "import random \n",
    "random.randint(1,50)\n",
    "for i in range(1,25):\n",
    "    if i % 2 == 0:\n",
    "        print(f\" The {i} is evens\")\n",
    "    else:\n",
    "        print(f' The {i} is odds')"
   ]
  },
  {
   "cell_type": "code",
   "execution_count": 13,
   "id": "d83f4341-f0de-4ce8-9301-d3f41950927f",
   "metadata": {},
   "outputs": [
    {
     "data": {
      "text/plain": [
       "['HYD', 'BENGALURU', 'MUMBAI', 'CHENNAI']"
      ]
     },
     "execution_count": 13,
     "metadata": {},
     "output_type": "execute_result"
    }
   ],
   "source": [
    "Input=['hyd','bengaluru','mumbai','chennai']\n",
    "Input=[i.upper() for i in Input]\n",
    "Input"
   ]
  },
  {
   "cell_type": "code",
   "execution_count": 32,
   "id": "f1a657e8-993d-4a9e-8e9d-2718475d6d5b",
   "metadata": {},
   "outputs": [
    {
     "data": {
      "text/plain": [
       "['Hyd', 'Bengaluru', 'Mumbai', 'Chennai']"
      ]
     },
     "execution_count": 32,
     "metadata": {},
     "output_type": "execute_result"
    }
   ],
   "source": [
    "Input=['hyd','bengaluru','mumbai','chennai']\n",
    "Iutput=[i.title() for i in Input]\n",
    "Iutput"
   ]
  },
  {
   "cell_type": "code",
   "execution_count": 83,
   "id": "33fc89d6-dc8b-40f2-84a5-682aeb18cf98",
   "metadata": {},
   "outputs": [
    {
     "data": {
      "text/plain": [
       "['HYD', 'BENGALURU', 'MUMBAI', 'CHENNAI']"
      ]
     },
     "execution_count": 83,
     "metadata": {},
     "output_type": "execute_result"
    }
   ],
   "source": [
    "Input=['hyd','bengaluru','mumbai','chennai']\n",
    "output=[]\n",
    "for i in Input:\n",
    "    output.append(i.upper())\n",
    "output"
   ]
  },
  {
   "cell_type": "code",
   "execution_count": 8,
   "id": "c201225c-6367-455d-8683-840955e0ce07",
   "metadata": {},
   "outputs": [
    {
     "data": {
      "text/plain": [
       "['PUNE', 'MUMBAI', 'DELLI', 'CHENNAI']"
      ]
     },
     "execution_count": 8,
     "metadata": {},
     "output_type": "execute_result"
    }
   ],
   "source": [
    "Input=['pune','mumbai','delli','chennai']\n",
    "out=[]\n",
    "for i in Input:\n",
    "    out.append(i.upper())\n",
    "out"
   ]
  },
  {
   "cell_type": "code",
   "execution_count": 12,
   "id": "1548b21a-55a5-4847-b6e0-c9811a43d643",
   "metadata": {},
   "outputs": [
    {
     "data": {
      "text/plain": [
       "['HYD', 'BENGALURU', 'MUMBAI', 'CHENNAI']"
      ]
     },
     "execution_count": 12,
     "metadata": {},
     "output_type": "execute_result"
    }
   ],
   "source": [
    "output=[i.upper() for i in Input]\n",
    "output"
   ]
  },
  {
   "cell_type": "markdown",
   "id": "319a67c4-5ae1-44ca-afd2-a32bc6653704",
   "metadata": {},
   "source": [
    "$Case-2$:**for-if condition**"
   ]
  },
  {
   "cell_type": "code",
   "execution_count": 61,
   "id": "75f2e082-2f27-4af0-bca9-0f4ae49e09ef",
   "metadata": {},
   "outputs": [
    {
     "data": {
      "text/plain": [
       "[0, 2, 4, 6, 8, 10, 12, 14, 16]"
      ]
     },
     "execution_count": 61,
     "metadata": {},
     "output_type": "execute_result"
    }
   ],
   "source": [
    "import random\n",
    "numbers=[random.randint(1,100) for i in range(16)]\n",
    "even_list=[]\n",
    "for i in range(17):\n",
    "    if i%2==0:\n",
    "        even_list.append(i)\n",
    "even_list"
   ]
  },
  {
   "cell_type": "code",
   "execution_count": 81,
   "id": "84f3785b-e92a-435e-8a26-28f53260e287",
   "metadata": {},
   "outputs": [
    {
     "data": {
      "text/plain": [
       "[1, 3, 5, 7, 9]"
      ]
     },
     "execution_count": 81,
     "metadata": {},
     "output_type": "execute_result"
    }
   ],
   "source": [
    "import random\n",
    "num=[random.randint(1,100) for i in range(9)]\n",
    "odd_list=[]\n",
    "for i in range(10):\n",
    "    if i%2!=0:\n",
    "        odd_list.append(i)\n",
    "odd_list"
   ]
  },
  {
   "cell_type": "code",
   "execution_count": 67,
   "id": "a584c605-2e59-4c92-a874-70c1a0d55a3a",
   "metadata": {},
   "outputs": [
    {
     "data": {
      "text/plain": [
       "[24, 42, 26, 10, 32, 4, 10, 42]"
      ]
     },
     "execution_count": 67,
     "metadata": {},
     "output_type": "execute_result"
    }
   ],
   "source": [
    "import random\n",
    "num=[random .randint(1,50) for i in range (15)]\n",
    "even_list=[]\n",
    "for i in num:\n",
    "    if i % 2 ==0:\n",
    "        even_list.append(i)\n",
    "\n",
    "even_list"
   ]
  },
  {
   "cell_type": "code",
   "execution_count": 13,
   "id": "49d4aa07-46d8-4020-a83c-bddafbedfc0a",
   "metadata": {},
   "outputs": [
    {
     "data": {
      "text/plain": [
       "[622,\n",
       " 430,\n",
       " 222,\n",
       " 692,\n",
       " 498,\n",
       " 572,\n",
       " 452,\n",
       " 86,\n",
       " 400,\n",
       " 90,\n",
       " 844,\n",
       " 910,\n",
       " 568,\n",
       " 886,\n",
       " 274,\n",
       " 904,\n",
       " 976,\n",
       " 178,\n",
       " 702,\n",
       " 756,\n",
       " 352,\n",
       " 662,\n",
       " 1000,\n",
       " 798,\n",
       " 252,\n",
       " 456,\n",
       " 46,\n",
       " 188,\n",
       " 216,\n",
       " 896]"
      ]
     },
     "execution_count": 13,
     "metadata": {},
     "output_type": "execute_result"
    }
   ],
   "source": [
    "import random \n",
    "num=[random.randint(1,1000) for i in range(50)]\n",
    "even_list=[]\n",
    "for i in num:\n",
    "    if i % 2 == 0:\n",
    "        even_list.append(i)\n",
    "even_list"
   ]
  },
  {
   "cell_type": "code",
   "execution_count": 2,
   "id": "a4c80793-90b5-4e3e-ac88-7a8ed2e5f249",
   "metadata": {},
   "outputs": [],
   "source": [
    "# Q3) input=['hyd','bengaluru','mum#bai','chen#nai']\n",
    "#     output=['mum#bai','chen#nai']\n",
    "\n",
    "# Q4) input=['hyd','bengaluru','mum#bai','chen#nai']\n",
    "#     output=['hyd','bengaluru']"
   ]
  },
  {
   "cell_type": "code",
   "execution_count": 31,
   "id": "68ec9a90-47a6-4216-b983-952fe13bd4a7",
   "metadata": {},
   "outputs": [
    {
     "data": {
      "text/plain": [
       "['hyd', 'bengaluru']"
      ]
     },
     "execution_count": 31,
     "metadata": {},
     "output_type": "execute_result"
    }
   ],
   "source": [
    "Input=['hyd','bengaluru','mum#bai','chen#nai']\n",
    "output=[i for i in Input if '#' not in i]\n",
    "output"
   ]
  },
  {
   "cell_type": "code",
   "execution_count": 72,
   "id": "b01f6911-ccbe-4314-a2df-be2b982e22fa",
   "metadata": {},
   "outputs": [
    {
     "data": {
      "text/plain": [
       "['mum$bai', 'chen$nai']"
      ]
     },
     "execution_count": 72,
     "metadata": {},
     "output_type": "execute_result"
    }
   ],
   "source": [
    "Input=['hyd','bengaluru','mum$bai','chen$nai']\n",
    "output=[i for i in Input if '$'  in i]\n",
    "output"
   ]
  },
  {
   "cell_type": "code",
   "execution_count": 31,
   "id": "dbf0e71b-d2a4-47be-b039-b8f1f1bf1c3c",
   "metadata": {},
   "outputs": [
    {
     "data": {
      "text/plain": [
       "['dip@k', 'sag@r', 'pr@dip', 's@ndip', 'vish@l', 'k@rtik']"
      ]
     },
     "execution_count": 31,
     "metadata": {},
     "output_type": "execute_result"
    }
   ],
   "source": [
    "Input=['dip@k','sag@r','pr@dip','kishor','s@ndip','vish@l','k@rtik']\n",
    "output=[i for i in Input if \"@\" in i ]\n",
    "output"
   ]
  },
  {
   "cell_type": "code",
   "execution_count": null,
   "id": "e6003e36-a94d-463a-ba7b-3e161a2731d4",
   "metadata": {},
   "outputs": [],
   "source": [
    "[<output> <for loop>]\n",
    "[<output> <for loop>]                         #case-2\n",
    "[<if out> <if cond> <else out> for loop]"
   ]
  },
  {
   "cell_type": "markdown",
   "id": "32dc1adb-fa9e-4984-9514-2a8348a30d12",
   "metadata": {},
   "source": [
    "Case-3: **for-if-else**"
   ]
  },
  {
   "cell_type": "code",
   "execution_count": null,
   "id": "9799b5c6-37eb-4b18-9467-717bc9b7d586",
   "metadata": {},
   "outputs": [],
   "source": [
    "[<output> <for>loop>]\n",
    "[<output> <for loop> <if loop]\n",
    "[<output> <for loop> else <else out> for loop]"
   ]
  },
  {
   "cell_type": "code",
   "execution_count": 66,
   "id": "d4559e64-6b77-4afc-a792-b351a7d16139",
   "metadata": {},
   "outputs": [
    {
     "data": {
      "text/plain": [
       "['even:6', 'even:6', 'odd:67', 'even:46']"
      ]
     },
     "execution_count": 66,
     "metadata": {},
     "output_type": "execute_result"
    }
   ],
   "source": [
    "import random\n",
    "numbers=[random.randint(1,100) for i in range(1,5)]\n",
    "output=[]\n",
    "for i in numbers:\n",
    "    if i%2==0:\n",
    "        output.append(f\"even:{i}\")\n",
    "    else:\n",
    "        output.append(f\"odd:{i}\")\n",
    "output"
   ]
  },
  {
   "cell_type": "code",
   "execution_count": 64,
   "id": "b36e6a8d-4e9a-464f-9fe3-47e36cc331cd",
   "metadata": {},
   "outputs": [],
   "source": [
    "output=[f\"even:{i}\" if i%2==0 else f\"odd:{i}\" for i in numbers]"
   ]
  },
  {
   "cell_type": "code",
   "execution_count": 65,
   "id": "c6b64550-e03a-4071-aeb2-4b3fb6a37838",
   "metadata": {},
   "outputs": [
    {
     "data": {
      "text/plain": [
       "['odd:87', 'odd:63', 'even:42', 'odd:25']"
      ]
     },
     "execution_count": 65,
     "metadata": {},
     "output_type": "execute_result"
    }
   ],
   "source": [
    "output"
   ]
  },
  {
   "cell_type": "markdown",
   "id": "99bfbc13-2a66-4af6-97d7-b88e9d22dc89",
   "metadata": {},
   "source": [
    "$case-4$:**for if-elif-else**"
   ]
  },
  {
   "cell_type": "code",
   "execution_count": null,
   "id": "814c11ae-e03a-4bfe-98c0-2bef56be9e1c",
   "metadata": {},
   "outputs": [],
   "source": [
    "[<output> <for loop>]\n",
    "[<output> <for loop> <if cond>]\n",
    "[<output> <for lool> else <else out> for loop>]\n",
    "[<output> <if cond> <elif out> <elif count]"
   ]
  },
  {
   "cell_type": "code",
   "execution_count": 53,
   "id": "71bbf504-7eb7-44cb-af63-37d05dad8bd2",
   "metadata": {},
   "outputs": [
    {
     "data": {
      "text/plain": [
       "['C', 'B', 'A']"
      ]
     },
     "execution_count": 53,
     "metadata": {},
     "output_type": "execute_result"
    }
   ],
   "source": [
    "l=[50,70,90]\n",
    "out=[]\n",
    "for i in l:\n",
    "    if i>85:\n",
    "        out.append('A')\n",
    "    elif i>65:\n",
    "        out.append('B')\n",
    "    else:\n",
    "        out.append('C')\n",
    "out\n",
    "    \n",
    "                  "
   ]
  },
  {
   "cell_type": "code",
   "execution_count": 26,
   "id": "10636c82-3248-4b75-849a-8647921f9d67",
   "metadata": {},
   "outputs": [
    {
     "data": {
      "text/plain": [
       "['C', 'B', 'A']"
      ]
     },
     "execution_count": 26,
     "metadata": {},
     "output_type": "execute_result"
    }
   ],
   "source": [
    "out = [ 'A' if i > 85 else 'B' if i > 65 else 'C' for i in l]\n",
    "out"
   ]
  },
  {
   "cell_type": "code",
   "execution_count": 27,
   "id": "41d26a86-7888-4bab-b20a-1c81549171c6",
   "metadata": {},
   "outputs": [
    {
     "data": {
      "text/plain": [
       "['C', 'B', 'A']"
      ]
     },
     "execution_count": 27,
     "metadata": {},
     "output_type": "execute_result"
    }
   ],
   "source": [
    "out"
   ]
  },
  {
   "cell_type": "code",
   "execution_count": 3,
   "id": "02619e3e-8e3b-4741-b86c-fd234667507d",
   "metadata": {},
   "outputs": [
    {
     "data": {
      "text/plain": [
       "['fail', 'B', 'A', 'fail', 'D', 'A', 'B', 'fail', 'fail', 'A']"
      ]
     },
     "execution_count": 3,
     "metadata": {},
     "output_type": "execute_result"
    }
   ],
   "source": [
    "marks = [45,76,89,53,67,90,82,49,33,99]\n",
    "out=[]\n",
    "for i in marks:\n",
    "    if i>85:\n",
    "        out.append('A')\n",
    "    elif i>70:\n",
    "        out.append('B')\n",
    "    elif i>69:\n",
    "        out.append('C')\n",
    "    elif i>60:\n",
    "        out.append('D')\n",
    "    \n",
    "    else:\n",
    "        out.append('fail')\n",
    "\n",
    "out"
   ]
  },
  {
   "cell_type": "code",
   "execution_count": 18,
   "id": "fa3fe031-9498-4dac-a564-3d72a849f320",
   "metadata": {},
   "outputs": [
    {
     "name": "stdout",
     "output_type": "stream",
     "text": [
      "Gread for all student : ['fail', 'B', 'A', 'fail', 'D', 'A', 'B', 'fail', 'fail', 'A']\n"
     ]
    }
   ],
   "source": [
    "out=['A' if i>85 else 'B' if i>70 else 'C' if i>69 else 'D' if i>60 else 'fail' for i in marks]\n",
    "print(f\"Gread for all student : {out}\")"
   ]
  },
  {
   "cell_type": "code",
   "execution_count": 42,
   "id": "4ac4ad02-71f1-4467-8a88-1df6ecf28424",
   "metadata": {},
   "outputs": [
    {
     "name": "stdout",
     "output_type": "stream",
     "text": [
      " Gread of all student : ['Fail', 'Fail', 'C', 'C', 'B', 'B', 'A']\n"
     ]
    }
   ],
   "source": [
    "num=[55,60,65,70,75,80,85]\n",
    "out=[]\n",
    "for i in num:\n",
    "    if i>80:\n",
    "        out.append('A')\n",
    "    elif i>70:\n",
    "        out.append('B')   \n",
    "    elif i>60:\n",
    "        out.append('C')\n",
    "    else:\n",
    "        out.append('Fail')\n",
    "out\n",
    "\n",
    "out=['A' if i>80 else 'B' if i>70 else 'C' if i>60 else 'Fail'for i in num]\n",
    "print(f\" Gread of all student : {out}\")"
   ]
  },
  {
   "cell_type": "code",
   "execution_count": 14,
   "id": "8baf87f4-b255-4c3e-9029-b2f79048a727",
   "metadata": {},
   "outputs": [
    {
     "name": "stdout",
     "output_type": "stream",
     "text": [
      " Gread of all student : ['faill', 'faill', 'D', 'C', 'B', 'A']\n"
     ]
    }
   ],
   "source": [
    "num=[45,55,60,65,70,75]\n",
    "out=[]\n",
    "for i in num:\n",
    "    if i>70:\n",
    "        out.append('A')\n",
    "    elif i>65:\n",
    "        out.append('B')\n",
    "    elif i>60:\n",
    "        out.append('C')\n",
    "    elif i>55:\n",
    "        out.append('D')\n",
    "    else:\n",
    "        out.append('faill')\n",
    "\n",
    "out\n",
    "\n",
    "out=['A' if i>70 else 'B' if i>65 else 'C' if i>60 else 'D' if i>55 else 'faill' for i in num]\n",
    "print(f\" Gread of all student : {out}\")"
   ]
  },
  {
   "cell_type": "code",
   "execution_count": 17,
   "id": "e0834491-b9ff-44fa-84d3-1d7887cf70bb",
   "metadata": {},
   "outputs": [
    {
     "name": "stdout",
     "output_type": "stream",
     "text": [
      "marks of all student is ['Faill', 'Faill', 'Faill', 'B', 'B', 'A', 'A', 'A+']\n"
     ]
    }
   ],
   "source": [
    "marks=[36,45,57,63,70,76,80,85]\n",
    "out=[]\n",
    "for i in marks:\n",
    "    if i>80:\n",
    "        out.append('A+')\n",
    "    elif i>70:\n",
    "        out.append('A')\n",
    "    elif i>60:\n",
    "        out.append('B')\n",
    "    elif i>58:\n",
    "        out.appned('C')\n",
    "    else:\n",
    "        out.append('Faill')\n",
    "out\n",
    "\n",
    "out=['A+' if i>80 else 'A' if i>70 else 'B' if i>60 else 'C' if i>58 else  'Faill' for i in marks]\n",
    "print(f\"marks of all student is {out}\")"
   ]
  },
  {
   "cell_type": "code",
   "execution_count": 55,
   "id": "7830f80a-8b75-4e44-9d75-7f8fa172b5e1",
   "metadata": {},
   "outputs": [
    {
     "data": {
      "text/plain": [
       "['dipa@k', 'shubh@m', 'pr@dip', 'sarth@k', '@bhi']"
      ]
     },
     "execution_count": 55,
     "metadata": {},
     "output_type": "execute_result"
    }
   ],
   "source": [
    "Input=[\"dipa@k\",\"shubh@m\",\"pr@dip\",\"kishor\",'sandip',\"sarth@k\",'kartik','vishal','@bhi']\n",
    "output=[ i for i in Input if '@'  in i]\n",
    "output"
   ]
  },
  {
   "cell_type": "markdown",
   "id": "99325b56-62c4-4ddd-aafe-6017147092ee",
   "metadata": {},
   "source": [
    "**Valurus(walrus) operator**"
   ]
  },
  {
   "cell_type": "code",
   "execution_count": 18,
   "id": "b970dcc4-e8ba-40e7-aae0-a4452a04e32a",
   "metadata": {},
   "outputs": [
    {
     "data": {
      "text/plain": [
       "5.5"
      ]
     },
     "execution_count": 18,
     "metadata": {},
     "output_type": "execute_result"
    }
   ],
   "source": [
    "num=list(range(1,11))\n",
    "summ=0\n",
    "sum=[summ:=summ+i for i in num]\n",
    "\n",
    "summ/len(num)"
   ]
  },
  {
   "cell_type": "code",
   "execution_count": 35,
   "id": "91427f03-1aa1-4886-be3c-5425e7b133d5",
   "metadata": {},
   "outputs": [
    {
     "data": {
      "text/plain": [
       "7.5"
      ]
     },
     "execution_count": 35,
     "metadata": {},
     "output_type": "execute_result"
    }
   ],
   "source": [
    "num=list(range(5,11))\n",
    "summ=0\n",
    "sum=[summ:=summ+i for i in num]\n",
    "\n",
    "summ/len(num)"
   ]
  },
  {
   "cell_type": "code",
   "execution_count": 37,
   "id": "1c5585cb-5a63-4a6c-89b0-2b3e9c96c206",
   "metadata": {},
   "outputs": [
    {
     "data": {
      "text/plain": [
       "0.0"
      ]
     },
     "execution_count": 37,
     "metadata": {},
     "output_type": "execute_result"
    }
   ],
   "source": [
    "num=list(range(5,11))\n",
    "mull=0\n",
    "sum=[mull:=mull*i for i in num]\n",
    "\n",
    "mull/len(num)\n"
   ]
  },
  {
   "cell_type": "markdown",
   "id": "6ac20b48-f058-4f2d-98d2-278b0d04ac9f",
   "metadata": {},
   "source": [
    "**Lamnda function**"
   ]
  },
  {
   "cell_type": "markdown",
   "id": "c446ea14-8967-42af-988d-3aadb224abc3",
   "metadata": {},
   "source": [
    "- lamnbda function also function \n",
    "\n",
    "- it is similar to list comprehension \n",
    "\n",
    "- function we are writing a single line "
   ]
  },
  {
   "cell_type": "markdown",
   "id": "02dd481b-a0a5-4362-8cb7-83b98666c78b",
   "metadata": {},
   "source": [
    "**Case-1: function with one arguments**"
   ]
  },
  {
   "cell_type": "code",
   "execution_count": 19,
   "id": "86a0a3dc-2f0b-4ff7-9ad0-57d7e725613a",
   "metadata": {},
   "outputs": [
    {
     "data": {
      "text/plain": [
       "30"
      ]
     },
     "execution_count": 19,
     "metadata": {},
     "output_type": "execute_result"
    }
   ],
   "source": [
    "def add(a):\n",
    "    return(a+10)\n",
    "add(20)    \n"
   ]
  },
  {
   "cell_type": "code",
   "execution_count": null,
   "id": "2bb1c5c4-d8bf-4f29-8a2f-be3923856bcb",
   "metadata": {},
   "outputs": [],
   "source": [
    "# what is the function name : add\n",
    "# what is the argument\n",
    "# what is the output : a+10\n",
    "\n",
    "<function_name>= lambda <arg> : <output>"
   ]
  },
  {
   "cell_type": "code",
   "execution_count": 20,
   "id": "befb0f8c-983e-42e8-b52d-56911fac471e",
   "metadata": {},
   "outputs": [
    {
     "data": {
      "text/plain": [
       "60"
      ]
     },
     "execution_count": 20,
     "metadata": {},
     "output_type": "execute_result"
    }
   ],
   "source": [
    "add= lambda a : a+10\n",
    "add(50)"
   ]
  },
  {
   "cell_type": "code",
   "execution_count": 21,
   "id": "f2df571c-1a84-440c-b45e-402f70cc1c1a",
   "metadata": {},
   "outputs": [
    {
     "data": {
      "text/plain": [
       "10"
      ]
     },
     "execution_count": 21,
     "metadata": {},
     "output_type": "execute_result"
    }
   ],
   "source": [
    "sub=lambda b : b-20\n",
    "sub(30)"
   ]
  },
  {
   "cell_type": "markdown",
   "id": "a7fab407-d232-4730-9483-a763366694b3",
   "metadata": {},
   "source": [
    "**Case-2: multiple argument**"
   ]
  },
  {
   "cell_type": "code",
   "execution_count": 28,
   "id": "00bd56d3-dd10-447d-b74f-c7ace273a75e",
   "metadata": {},
   "outputs": [
    {
     "data": {
      "text/plain": [
       "20.0"
      ]
     },
     "execution_count": 28,
     "metadata": {},
     "output_type": "execute_result"
    }
   ],
   "source": [
    "def avg(x,y,z):\n",
    "    return(x+y+z)/3\n",
    "avg(10,20,30)"
   ]
  },
  {
   "cell_type": "code",
   "execution_count": 33,
   "id": "d72f0644-5e49-434e-8160-1c6634900599",
   "metadata": {},
   "outputs": [
    {
     "data": {
      "text/plain": [
       "4.0"
      ]
     },
     "execution_count": 33,
     "metadata": {},
     "output_type": "execute_result"
    }
   ],
   "source": [
    "avg = lambda a,b,c :(a+b+c)/3\n",
    "avg(2,3,7)  # round"
   ]
  },
  {
   "cell_type": "code",
   "execution_count": 38,
   "id": "a70efe03-ed03-480c-908c-cb22579acffb",
   "metadata": {},
   "outputs": [
    {
     "data": {
      "text/plain": [
       "6.0"
      ]
     },
     "execution_count": 38,
     "metadata": {},
     "output_type": "execute_result"
    }
   ],
   "source": [
    "avg= lambda x,y,z: (x+y+z)/3\n",
    "avg(7,3,8)"
   ]
  },
  {
   "cell_type": "code",
   "execution_count": null,
   "id": "0d628615-71e9-431c-bc2b-1a902de7a32b",
   "metadata": {},
   "outputs": [],
   "source": []
  },
  {
   "cell_type": "markdown",
   "id": "394cd315-012b-4413-b50a-cfc860d71dc2",
   "metadata": {},
   "source": [
    "**Case-3: if-else**"
   ]
  },
  {
   "cell_type": "code",
   "execution_count": 1,
   "id": "974fe4fc-4f5f-4566-9b97-dc730d5bad89",
   "metadata": {},
   "outputs": [
    {
     "data": {
      "text/plain": [
       "'odd'"
      ]
     },
     "execution_count": 1,
     "metadata": {},
     "output_type": "execute_result"
    }
   ],
   "source": [
    "def even_odd(num):\n",
    "    if num%2==0:\n",
    "        return('even')\n",
    "    else:\n",
    "        return('odd')\n",
    "\n",
    "even_odd(21)"
   ]
  },
  {
   "cell_type": "code",
   "execution_count": 35,
   "id": "16400fda-3032-4be7-b7b1-0abdc59d8226",
   "metadata": {},
   "outputs": [
    {
     "data": {
      "text/plain": [
       "'even'"
      ]
     },
     "execution_count": 35,
     "metadata": {},
     "output_type": "execute_result"
    }
   ],
   "source": [
    "even_odd= lambda num: 'even' if num%2==0 else 'odd'\n",
    "even_odd(20)"
   ]
  },
  {
   "cell_type": "markdown",
   "id": "1179a63e-b11c-4989-9859-377022d35c0e",
   "metadata": {},
   "source": [
    "**Case-4: list operations**"
   ]
  },
  {
   "cell_type": "code",
   "execution_count": 3,
   "id": "c6110a84-fe8e-4c30-995f-5c3da8b3b86b",
   "metadata": {},
   "outputs": [
    {
     "data": {
      "text/plain": [
       "['Hyd', 'Bengaluru', 'Mumbai', 'Chennai']"
      ]
     },
     "execution_count": 3,
     "metadata": {},
     "output_type": "execute_result"
    }
   ],
   "source": [
    "Input=['hyd','bengaluru','mumbai','chennai']\n",
    "output=[i.title() for i in Input]\n",
    "output"
   ]
  },
  {
   "cell_type": "code",
   "execution_count": 44,
   "id": "0b05fcac-2cb3-47e3-890d-4e05d1927ff8",
   "metadata": {},
   "outputs": [
    {
     "data": {
      "text/plain": [
       "<function __main__.<lambda>(i)>"
      ]
     },
     "execution_count": 44,
     "metadata": {},
     "output_type": "execute_result"
    }
   ],
   "source": [
    "# step -1 : create a function\n",
    "Input=['hyd','bengaluru','mumbai','chennai']\n",
    "lambda i : i.title()"
   ]
  },
  {
   "cell_type": "code",
   "execution_count": 19,
   "id": "98dd6a1a-7f0a-406c-9946-8b2c02a100a0",
   "metadata": {},
   "outputs": [
    {
     "data": {
      "text/plain": [
       "['odd:85',\n",
       " 'even:96',\n",
       " 'odd:15',\n",
       " 'even:44',\n",
       " 'even:96',\n",
       " 'odd:9',\n",
       " 'odd:49',\n",
       " 'odd:17',\n",
       " 'even:46',\n",
       " 'even:82',\n",
       " 'even:94',\n",
       " 'even:66',\n",
       " 'odd:57',\n",
       " 'odd:93',\n",
       " 'odd:27',\n",
       " 'odd:67',\n",
       " 'odd:75',\n",
       " 'odd:87',\n",
       " 'even:54',\n",
       " 'even:24',\n",
       " 'even:88',\n",
       " 'even:38',\n",
       " 'odd:85',\n",
       " 'odd:89']"
      ]
     },
     "execution_count": 19,
     "metadata": {},
     "output_type": "execute_result"
    }
   ],
   "source": [
    "import random\n",
    "num=[random.randint(1,100) for i in range(1,25)]\n",
    "out=[]\n",
    "for i in num:\n",
    "    if i % 2==0:\n",
    "        out.append(f\"even:{i}\")\n",
    "    else:\n",
    "        out.append(f\"odd:{i}\")\n",
    "\n",
    "out"
   ]
  },
  {
   "cell_type": "code",
   "execution_count": 21,
   "id": "80becf2d-e171-4c8b-86cc-7e4d984dea1e",
   "metadata": {},
   "outputs": [
    {
     "data": {
      "text/plain": [
       "'even 32'"
      ]
     },
     "execution_count": 21,
     "metadata": {},
     "output_type": "execute_result"
    }
   ],
   "source": [
    "def even_odd(num):\n",
    "    if num % 2 == 0:\n",
    "        return(f\"even {num}\")\n",
    "    else:\n",
    "        return(f'odd {num}')\n",
    "\n",
    "even_odd(32)"
   ]
  },
  {
   "cell_type": "code",
   "execution_count": 29,
   "id": "c636b2b7-7c34-404f-b6ba-e24564bac4a8",
   "metadata": {},
   "outputs": [
    {
     "data": {
      "text/plain": [
       "22.333333333333332"
      ]
     },
     "execution_count": 29,
     "metadata": {},
     "output_type": "execute_result"
    }
   ],
   "source": [
    "def avg(x,y,z):\n",
    "    return(x+y+z)/3\n",
    "avg(20,22,25)"
   ]
  },
  {
   "cell_type": "code",
   "execution_count": 32,
   "id": "fdfcc8f8-f33f-4f64-8b79-c57ae8405e5c",
   "metadata": {},
   "outputs": [
    {
     "data": {
      "text/plain": [
       "36.0"
      ]
     },
     "execution_count": 32,
     "metadata": {},
     "output_type": "execute_result"
    }
   ],
   "source": [
    "avg=lambda a,b,c: (a+b+c)/3\n",
    "avg(44,53,11)"
   ]
  },
  {
   "cell_type": "code",
   "execution_count": 43,
   "id": "b1c1414b-10f7-47ba-a47c-ba87f0f4f6a6",
   "metadata": {},
   "outputs": [
    {
     "data": {
      "text/plain": [
       "'odd'"
      ]
     },
     "execution_count": 43,
     "metadata": {},
     "output_type": "execute_result"
    }
   ],
   "source": [
    "even_odd= lambda num:'even' if i % 2==0 else 'odd'\n",
    "even_odd()"
   ]
  },
  {
   "cell_type": "code",
   "execution_count": 5,
   "id": "fda91487-4016-407a-beb0-fc23e7fb3089",
   "metadata": {},
   "outputs": [
    {
     "data": {
      "text/plain": [
       "(<function __main__.<lambda>(i)>, ['hyd', 'bengaluru', 'mumbai', 'chennai'])"
      ]
     },
     "execution_count": 5,
     "metadata": {},
     "output_type": "execute_result"
    }
   ],
   "source": [
    "# step-2: this argument need input\n",
    "# that inputs are available in a list : Input\n",
    "# lambda <arg> : <output>,<list>\n",
    "lambda i : i.title(),Input\n"
   ]
  },
  {
   "cell_type": "markdown",
   "id": "bba1fdba-422b-4db9-bfc4-92b7ee10c0af",
   "metadata": {},
   "source": [
    "**Map**"
   ]
  },
  {
   "cell_type": "code",
   "execution_count": 6,
   "id": "0d1338ed-779f-4330-89b1-8995a01a260c",
   "metadata": {},
   "outputs": [
    {
     "data": {
      "text/plain": [
       "['Hyd', 'Bengaluru', 'Mumbai', 'Chennai']"
      ]
     },
     "execution_count": 6,
     "metadata": {},
     "output_type": "execute_result"
    }
   ],
   "source": [
    "# step3: map the function and list \n",
    "# map (<function>,<list>)\n",
    "list(map(lambda i : i.title(), Input))"
   ]
  },
  {
   "cell_type": "code",
   "execution_count": 7,
   "id": "17ef642f-2cc6-45b0-a30b-d5df1c021ef5",
   "metadata": {},
   "outputs": [
    {
     "data": {
      "text/plain": [
       "<map at 0x1e795c9a770>"
      ]
     },
     "execution_count": 7,
     "metadata": {},
     "output_type": "execute_result"
    }
   ],
   "source": [
    "lambda i : i.title()\n",
    "lambda i : i.title(),Input\n",
    "map(lambda i : i.title(),Input)"
   ]
  },
  {
   "cell_type": "code",
   "execution_count": 8,
   "id": "e2188153-2294-485b-87e1-0fab207591c2",
   "metadata": {},
   "outputs": [
    {
     "data": {
      "text/plain": [
       "['HYD', 'BENGALURU', 'MUMBAI', 'CHENNAI']"
      ]
     },
     "execution_count": 8,
     "metadata": {},
     "output_type": "execute_result"
    }
   ],
   "source": [
    "Input=['hyd','bengaluru','mumbai','chennai']\n",
    "list(map(lambda i : i.upper(),Input))"
   ]
  },
  {
   "cell_type": "code",
   "execution_count": 9,
   "id": "5c85c481-2b57-4daa-831c-589be53f801c",
   "metadata": {},
   "outputs": [],
   "source": [
    "#     output=['Hyd','Bengaluru','Mumbai','Chennai']\n",
    "\n",
    "# Q2) input=['hyd','bengaluru','mumbai','chennai']\n",
    "#     output=['HYD','BENGALURU','MUMBAI','CHENNAI']\n",
    "\n",
    "# Q3) input=['hyd','bengaluru','mum#bai','chen#nai']\n",
    "#     output=['mum#bai','chen#nai']\n",
    "\n",
    "# Q4) input=['hyd','bengaluru','mum#bai','chen#nai']\n",
    "#     output=['hyd','bengaluru']\n",
    "\n",
    "# Q5) input=['hyd','bengaluru','mumbai','chennai']\n",
    "#     multiply all indexes by 10\n",
    "\n",
    "# Q6) input=['hyd','bengaluru','mumbai','chennai']\n",
    "#     sum of all indexes\n",
    "\n",
    "# Q7) Sum of first 10 Natural numbers"
   ]
  },
  {
   "cell_type": "markdown",
   "id": "799d5abc-a5a6-45f3-a001-4d23f83f1287",
   "metadata": {},
   "source": [
    "**Filter**"
   ]
  },
  {
   "cell_type": "code",
   "execution_count": 15,
   "id": "90cab386-81ec-4832-b78f-71a1ea59c136",
   "metadata": {},
   "outputs": [
    {
     "data": {
      "text/plain": [
       "['mum#bai', 'chen#nai']"
      ]
     },
     "execution_count": 15,
     "metadata": {},
     "output_type": "execute_result"
    }
   ],
   "source": [
    "Input=['hyd','bengaluru','mum#bai','chen#nai']\n",
    "list(filter(lambda i : '#' in i,Input))"
   ]
  },
  {
   "cell_type": "markdown",
   "id": "eace0bc7-ec3a-4212-8623-cda7bddce098",
   "metadata": {},
   "source": [
    "**Reduce**\n",
    "\n",
    "- reduce for any math operation\n",
    "\n",
    "- sum of first 10 natural num"
   ]
  },
  {
   "cell_type": "code",
   "execution_count": 19,
   "id": "73bdd9a2-7bbe-4f40-b802-fc9b016021b2",
   "metadata": {},
   "outputs": [
    {
     "name": "stdout",
     "output_type": "stream",
     "text": [
      "55\n"
     ]
    },
    {
     "data": {
      "text/plain": [
       "55"
      ]
     },
     "execution_count": 19,
     "metadata": {},
     "output_type": "execute_result"
    }
   ],
   "source": [
    "summ=0\n",
    "for i in num:\n",
    "    summ=summ+i\n",
    "print(summ)\n",
    "summ1=0\n",
    "[summ1:=summ1+i for i in num][-1]"
   ]
  },
  {
   "cell_type": "code",
   "execution_count": 17,
   "id": "721e42ae-4950-45e5-a8db-f89def0f622c",
   "metadata": {},
   "outputs": [
    {
     "data": {
      "text/plain": [
       "['GenericAlias',\n",
       " 'RLock',\n",
       " 'WRAPPER_ASSIGNMENTS',\n",
       " 'WRAPPER_UPDATES',\n",
       " '_CacheInfo',\n",
       " '_HashedSeq',\n",
       " '_NOT_FOUND',\n",
       " '__all__',\n",
       " '__builtins__',\n",
       " '__cached__',\n",
       " '__doc__',\n",
       " '__file__',\n",
       " '__loader__',\n",
       " '__name__',\n",
       " '__package__',\n",
       " '__spec__',\n",
       " '_c3_merge',\n",
       " '_c3_mro',\n",
       " '_compose_mro',\n",
       " '_convert',\n",
       " '_find_impl',\n",
       " '_ge_from_gt',\n",
       " '_ge_from_le',\n",
       " '_ge_from_lt',\n",
       " '_gt_from_ge',\n",
       " '_gt_from_le',\n",
       " '_gt_from_lt',\n",
       " '_initial_missing',\n",
       " '_le_from_ge',\n",
       " '_le_from_gt',\n",
       " '_le_from_lt',\n",
       " '_lru_cache_wrapper',\n",
       " '_lt_from_ge',\n",
       " '_lt_from_gt',\n",
       " '_lt_from_le',\n",
       " '_make_key',\n",
       " '_unwrap_partial',\n",
       " '_unwrap_partialmethod',\n",
       " 'cache',\n",
       " 'cached_property',\n",
       " 'cmp_to_key',\n",
       " 'get_cache_token',\n",
       " 'lru_cache',\n",
       " 'namedtuple',\n",
       " 'partial',\n",
       " 'partialmethod',\n",
       " 'recursive_repr',\n",
       " 'reduce',\n",
       " 'singledispatch',\n",
       " 'singledispatchmethod',\n",
       " 'total_ordering',\n",
       " 'update_wrapper',\n",
       " 'wraps']"
      ]
     },
     "execution_count": 17,
     "metadata": {},
     "output_type": "execute_result"
    }
   ],
   "source": [
    "import functools\n",
    "dir(functools)"
   ]
  },
  {
   "cell_type": "code",
   "execution_count": null,
   "id": "8765f351-5049-4435-9da9-38c3780b6f84",
   "metadata": {},
   "outputs": [],
   "source": [
    "map(lambda <arg>: <output>,<list>)\n",
    "filter(lambda <arg>:<cond out>,<list>)\n",
    "reduce(lambda <arg> : <out>,<list>)"
   ]
  },
  {
   "cell_type": "code",
   "execution_count": 23,
   "id": "35dd1e08-6bd8-4486-84ef-8cd077026bae",
   "metadata": {},
   "outputs": [
    {
     "name": "stdout",
     "output_type": "stream",
     "text": [
      "1\n",
      "3\n",
      "6\n",
      "10\n",
      "15\n",
      "21\n",
      "28\n",
      "36\n",
      "45\n",
      "55\n"
     ]
    }
   ],
   "source": [
    "from functools import reduce\n",
    "num = [i for i in range(1, 11)]\n",
    "summ = 0\n",
    "for i in num:\n",
    "    summ = summ + i\n",
    "    print(summ)"
   ]
  },
  {
   "cell_type": "code",
   "execution_count": 24,
   "id": "4a698c4f-9c3c-412b-8986-f707e4d9cfd1",
   "metadata": {},
   "outputs": [
    {
     "data": {
      "text/plain": [
       "155"
      ]
     },
     "execution_count": 24,
     "metadata": {},
     "output_type": "execute_result"
    }
   ],
   "source": [
    "    num=[i for i in range (1,11)]\n",
    "reduce(lambda s,i : s+i,num,100)"
   ]
  },
  {
   "cell_type": "code",
   "execution_count": 29,
   "id": "cef7e38a-c927-4ac3-8e22-7d118fbe9be6",
   "metadata": {},
   "outputs": [
    {
     "name": "stdout",
     "output_type": "stream",
     "text": [
      "-20\n",
      "-41\n",
      "-63\n",
      "-86\n",
      "-110\n",
      "-135\n",
      "-161\n",
      "-188\n",
      "-216\n",
      "-245\n"
     ]
    },
    {
     "data": {
      "text/plain": [
       "-145"
      ]
     },
     "execution_count": 29,
     "metadata": {},
     "output_type": "execute_result"
    }
   ],
   "source": [
    "from functools import reduce\n",
    "num=[ i for i in range (20,30)]\n",
    "sub =0\n",
    "for i in num:\n",
    "    sub = sub - i\n",
    "    print (sub)\n",
    "    num=[i for i in range (20,30)]\n",
    "reduce(lambda s,i: s-i,num,100)"
   ]
  },
  {
   "cell_type": "code",
   "execution_count": 38,
   "id": "ae182c6a-d614-45d4-845e-b79220fe55cc",
   "metadata": {},
   "outputs": [
    {
     "name": "stdout",
     "output_type": "stream",
     "text": [
      "40\n",
      "41\n",
      "42\n",
      "43\n",
      "44\n",
      "45\n",
      "46\n",
      "47\n",
      "48\n",
      "49\n"
     ]
    },
    {
     "data": {
      "text/plain": [
       "2982083441863680000"
      ]
     },
     "execution_count": 38,
     "metadata": {},
     "output_type": "execute_result"
    }
   ],
   "source": [
    "from functools import reduce\n",
    "num=[i for i in range (40,50)]\n",
    "for i in num:\n",
    "    mul=1\n",
    "    mul = mul * i\n",
    "    print(mul)\n",
    "    num=[i for i in range (40,50)]\n",
    "reduce(lambda m,i :m*i ,num,100)"
   ]
  },
  {
   "cell_type": "code",
   "execution_count": 1,
   "id": "de0bed8a-98bf-43c5-8089-a17d184bb0d8",
   "metadata": {},
   "outputs": [],
   "source": [
    "l= [ i for i in range(10)]"
   ]
  },
  {
   "cell_type": "code",
   "execution_count": 2,
   "id": "428b48e6-f9bc-4c3a-b6a2-9cfc48ff523d",
   "metadata": {},
   "outputs": [
    {
     "data": {
      "text/plain": [
       "[0, 1, 2, 3, 4, 5, 6, 7, 8, 9]"
      ]
     },
     "execution_count": 2,
     "metadata": {},
     "output_type": "execute_result"
    }
   ],
   "source": [
    "l"
   ]
  },
  {
   "cell_type": "code",
   "execution_count": 20,
   "id": "c38f0395-1650-4dd1-886b-05313f1103b0",
   "metadata": {},
   "outputs": [
    {
     "data": {
      "text/plain": [
       "['even 0', 'even 2', 'even 4', 'even 6', 'even 8']"
      ]
     },
     "execution_count": 20,
     "metadata": {},
     "output_type": "execute_result"
    }
   ],
   "source": [
    "\n",
    "l = [f\"even {i}\"  for i in range(10) if i%2==0]\n",
    "l"
   ]
  },
  {
   "cell_type": "code",
   "execution_count": 34,
   "id": "8c97890e-e3e8-4078-a60e-cf0e443febd1",
   "metadata": {},
   "outputs": [
    {
     "data": {
      "text/plain": [
       "[' odd1', ' odd3', ' odd5', ' odd7', ' odd9', ' odd11', ' odd13', ' odd15']"
      ]
     },
     "execution_count": 34,
     "metadata": {},
     "output_type": "execute_result"
    }
   ],
   "source": [
    "n = [f\" odd{i}\"  for i in range (16) if i % 2 != 0]\n",
    "n"
   ]
  },
  {
   "cell_type": "code",
   "execution_count": 26,
   "id": "b2b35d7d-53ec-48f9-9b23-20091ecb6b8a",
   "metadata": {},
   "outputs": [
    {
     "data": {
      "text/plain": [
       "['even 0',\n",
       " 'odd 1',\n",
       " 'even 2',\n",
       " 'odd 3',\n",
       " 'even 4',\n",
       " 'odd 5',\n",
       " 'even 6',\n",
       " 'odd 7',\n",
       " 'even 8',\n",
       " 'odd 9']"
      ]
     },
     "execution_count": 26,
     "metadata": {},
     "output_type": "execute_result"
    }
   ],
   "source": [
    "l = [f\"even {i}\" if i%2==0 else\n",
    "    f\"odd {i}\" if i%2!=0 else\n",
    "     \"invalid\"\n",
    "    for i in range(10)]\n",
    "l"
   ]
  },
  {
   "cell_type": "code",
   "execution_count": 27,
   "id": "9ea11a39-86e5-4d44-927a-cf6762f5562a",
   "metadata": {},
   "outputs": [],
   "source": [
    "n = [f\"even {i}\" if i % 2 == 0 else\n",
    "     f\" odd  {i}\" if i % 2 != 0 else\n",
    "     \"invalid\"\n",
    "      for i in range (16)]"
   ]
  },
  {
   "cell_type": "code",
   "execution_count": 28,
   "id": "5cafef5a-4ff0-4aa7-bc1a-3d144a021a97",
   "metadata": {},
   "outputs": [
    {
     "data": {
      "text/plain": [
       "['even 0',\n",
       " ' odd  1',\n",
       " 'even 2',\n",
       " ' odd  3',\n",
       " 'even 4',\n",
       " ' odd  5',\n",
       " 'even 6',\n",
       " ' odd  7',\n",
       " 'even 8',\n",
       " ' odd  9',\n",
       " 'even 10',\n",
       " ' odd  11',\n",
       " 'even 12',\n",
       " ' odd  13',\n",
       " 'even 14',\n",
       " ' odd  15']"
      ]
     },
     "execution_count": 28,
     "metadata": {},
     "output_type": "execute_result"
    }
   ],
   "source": [
    "n"
   ]
  },
  {
   "cell_type": "code",
   "execution_count": null,
   "id": "fbd6152a-889a-471f-8cdb-0ccd44dd138a",
   "metadata": {},
   "outputs": [],
   "source": [
    "for only if  # output, for loop, condition only for if \n",
    "\n",
    "for if and else # output , condition , for if and else"
   ]
  },
  {
   "cell_type": "code",
   "execution_count": 37,
   "id": "b5645bc0-b050-4428-96df-456f67d5e5e4",
   "metadata": {},
   "outputs": [],
   "source": [
    "l=[i for i in range(11)]"
   ]
  },
  {
   "cell_type": "code",
   "execution_count": 38,
   "id": "ec4661f7-893b-4072-a5dd-1fb2cd6c7522",
   "metadata": {},
   "outputs": [
    {
     "data": {
      "text/plain": [
       "[0, 1, 2, 3, 4, 5, 6, 7, 8, 9, 10]"
      ]
     },
     "execution_count": 38,
     "metadata": {},
     "output_type": "execute_result"
    }
   ],
   "source": [
    "l"
   ]
  },
  {
   "cell_type": "code",
   "execution_count": 45,
   "id": "eb24077c-21ab-4ca6-974a-53d4e43c804f",
   "metadata": {},
   "outputs": [],
   "source": [
    "l=[f\"even>{i}\" for i in range(11) if i % 2 == 0]"
   ]
  },
  {
   "cell_type": "code",
   "execution_count": 46,
   "id": "56da60f5-67c1-44a5-ae74-c2369b7f39d5",
   "metadata": {},
   "outputs": [
    {
     "data": {
      "text/plain": [
       "['even>0', 'even>2', 'even>4', 'even>6', 'even>8', 'even>10']"
      ]
     },
     "execution_count": 46,
     "metadata": {},
     "output_type": "execute_result"
    }
   ],
   "source": [
    "l"
   ]
  },
  {
   "cell_type": "code",
   "execution_count": 49,
   "id": "6db6d336-adcf-4bc4-aed4-7e8e1b2492d4",
   "metadata": {},
   "outputs": [],
   "source": [
    "l=[f\" the give number is even-{i}\" if i%2==0 else\n",
    "  f\" the give number is even- odd-{i}\" for i in range(20) ]"
   ]
  },
  {
   "cell_type": "code",
   "execution_count": 50,
   "id": "0caef219-7f35-4f69-b25f-31653e0c0625",
   "metadata": {},
   "outputs": [
    {
     "data": {
      "text/plain": [
       "[' the give number is even-0',\n",
       " ' the give number is even- odd-1',\n",
       " ' the give number is even-2',\n",
       " ' the give number is even- odd-3',\n",
       " ' the give number is even-4',\n",
       " ' the give number is even- odd-5',\n",
       " ' the give number is even-6',\n",
       " ' the give number is even- odd-7',\n",
       " ' the give number is even-8',\n",
       " ' the give number is even- odd-9',\n",
       " ' the give number is even-10',\n",
       " ' the give number is even- odd-11',\n",
       " ' the give number is even-12',\n",
       " ' the give number is even- odd-13',\n",
       " ' the give number is even-14',\n",
       " ' the give number is even- odd-15',\n",
       " ' the give number is even-16',\n",
       " ' the give number is even- odd-17',\n",
       " ' the give number is even-18',\n",
       " ' the give number is even- odd-19']"
      ]
     },
     "execution_count": 50,
     "metadata": {},
     "output_type": "execute_result"
    }
   ],
   "source": [
    "l"
   ]
  },
  {
   "cell_type": "code",
   "execution_count": 53,
   "id": "ae00fc8d-8617-46a4-bb83-d25442991fdc",
   "metadata": {},
   "outputs": [
    {
     "data": {
      "text/plain": [
       "16"
      ]
     },
     "execution_count": 53,
     "metadata": {},
     "output_type": "execute_result"
    }
   ],
   "source": []
  },
  {
   "cell_type": "code",
   "execution_count": 62,
   "id": "0ba958e4-579b-496b-be0c-f6e1bbadeabd",
   "metadata": {},
   "outputs": [],
   "source": [
    "squar= lambda x: x*x*x"
   ]
  },
  {
   "cell_type": "code",
   "execution_count": 63,
   "id": "207e6653-f771-4da7-9264-531e06b0fb84",
   "metadata": {},
   "outputs": [
    {
     "data": {
      "text/plain": [
       "8"
      ]
     },
     "execution_count": 63,
     "metadata": {},
     "output_type": "execute_result"
    }
   ],
   "source": [
    "squar(2)"
   ]
  },
  {
   "cell_type": "code",
   "execution_count": 65,
   "id": "b8dde277-959e-487f-a7c6-5cb9774906f5",
   "metadata": {},
   "outputs": [],
   "source": [
    "squar=lambda x: x*x"
   ]
  },
  {
   "cell_type": "code",
   "execution_count": 66,
   "id": "0e4afe0a-27c2-47bd-8fe2-4767fb9b6eb3",
   "metadata": {},
   "outputs": [
    {
     "data": {
      "text/plain": [
       "36"
      ]
     },
     "execution_count": 66,
     "metadata": {},
     "output_type": "execute_result"
    }
   ],
   "source": [
    "square(6)"
   ]
  },
  {
   "cell_type": "code",
   "execution_count": 79,
   "id": "9e3806c4-fa67-46ba-b180-c1dc16987341",
   "metadata": {},
   "outputs": [
    {
     "data": {
      "text/plain": [
       "[1, 4, 9, 16, 25, 36, 49, 64]"
      ]
     },
     "execution_count": 79,
     "metadata": {},
     "output_type": "execute_result"
    }
   ],
   "source": [
    "a=[1,2,3,4,5,6,7,8]\n",
    "\n",
    "b=list( map(lambda y: y*y, a))\n",
    "b"
   ]
  },
  {
   "cell_type": "code",
   "execution_count": 76,
   "id": "e3a0a1a5-d3e1-43ab-a1cd-07250b398433",
   "metadata": {},
   "outputs": [
    {
     "name": "stdout",
     "output_type": "stream",
     "text": [
      "[<map object at 0x000002B343854D30>]\n"
     ]
    }
   ],
   "source": []
  },
  {
   "cell_type": "code",
   "execution_count": 80,
   "id": "dfa45b6d-d2d0-43f9-bce5-2d1bbb673a5f",
   "metadata": {},
   "outputs": [
    {
     "data": {
      "text/plain": [
       "['Hyd', 'Bengaluru', 'Mumbai', 'Chennai']"
      ]
     },
     "execution_count": 80,
     "metadata": {},
     "output_type": "execute_result"
    }
   ],
   "source": [
    "Input=['hyd','bengaluru','mumbai','chennai']\n",
    "output=[i.title() for i in Input]\n",
    "output"
   ]
  },
  {
   "cell_type": "code",
   "execution_count": 87,
   "id": "e7466dbe-8f5c-48f7-9547-4103c300b7c0",
   "metadata": {},
   "outputs": [
    {
     "data": {
      "text/plain": [
       "['Hyd', 'Bengaluru', 'Mumbai', 'Chennai']"
      ]
     },
     "execution_count": 87,
     "metadata": {},
     "output_type": "execute_result"
    }
   ],
   "source": [
    "list(map(lambda x: x.title(), Input))"
   ]
  },
  {
   "cell_type": "code",
   "execution_count": 88,
   "id": "89e01c12-b9da-4b3a-a2f5-bfb886b88cc2",
   "metadata": {},
   "outputs": [],
   "source": [
    "Input=['hyd','bengaluru','mum#bai','chen#nai']\n"
   ]
  },
  {
   "cell_type": "code",
   "execution_count": 89,
   "id": "ce896ae7-dec8-4935-8c79-281f5ff3fef0",
   "metadata": {},
   "outputs": [
    {
     "data": {
      "text/plain": [
       "['Hyd', 'Bengaluru', 'Mum#Bai', 'Chen#Nai']"
      ]
     },
     "execution_count": 89,
     "metadata": {},
     "output_type": "execute_result"
    }
   ],
   "source": [
    "list(map(lambda y: y.title(), Input))"
   ]
  },
  {
   "cell_type": "code",
   "execution_count": 91,
   "id": "5b944275-431b-45ce-b479-39bd30dffd90",
   "metadata": {},
   "outputs": [
    {
     "data": {
      "text/plain": [
       "['HYD', 'BENGALURU', 'MUM#BAI', 'CHEN#NAI']"
      ]
     },
     "execution_count": 91,
     "metadata": {},
     "output_type": "execute_result"
    }
   ],
   "source": [
    "list(map(lambda z: z.upper(), Input))"
   ]
  },
  {
   "cell_type": "code",
   "execution_count": 92,
   "id": "b4495a6b-b7c5-4b9b-bdfc-19a734aaf77f",
   "metadata": {},
   "outputs": [
    {
     "data": {
      "text/plain": [
       "['hyd', 'bengaluru', 'mum#bai', 'chen#nai']"
      ]
     },
     "execution_count": 92,
     "metadata": {},
     "output_type": "execute_result"
    }
   ],
   "source": [
    "list(map(lambda t: t.lower(), Input))"
   ]
  },
  {
   "cell_type": "code",
   "execution_count": 93,
   "id": "8c24bc45-0d1f-46ed-b06b-061a73098a3f",
   "metadata": {},
   "outputs": [],
   "source": [
    "l=list(range(11))"
   ]
  },
  {
   "cell_type": "code",
   "execution_count": null,
   "id": "321df670-b1a3-418f-bc7b-fa48a361d9de",
   "metadata": {},
   "outputs": [],
   "source": []
  },
  {
   "cell_type": "code",
   "execution_count": 94,
   "id": "0773e899-327a-4014-b1c1-80c3cbacb7ee",
   "metadata": {},
   "outputs": [
    {
     "data": {
      "text/plain": [
       "[0, 1, 2, 3, 4, 5, 6, 7, 8, 9, 10]"
      ]
     },
     "execution_count": 94,
     "metadata": {},
     "output_type": "execute_result"
    }
   ],
   "source": [
    "l"
   ]
  },
  {
   "cell_type": "code",
   "execution_count": 111,
   "id": "8353613f-b5ef-4a7b-a7be-ff13288408bb",
   "metadata": {},
   "outputs": [
    {
     "data": {
      "text/plain": [
       "['even>0',\n",
       " 'odd>1',\n",
       " 'even>2',\n",
       " 'odd>3',\n",
       " 'even>4',\n",
       " 'odd>5',\n",
       " 'even>6',\n",
       " 'odd>7',\n",
       " 'even>8',\n",
       " 'odd>9',\n",
       " 'even>10']"
      ]
     },
     "execution_count": 111,
     "metadata": {},
     "output_type": "execute_result"
    }
   ],
   "source": [
    "list(map(lambda a: f\"even>{a}\" if a % 2==0 else\n",
    "         f\"odd>{a}\" ,l ))"
   ]
  },
  {
   "cell_type": "code",
   "execution_count": 112,
   "id": "9153e962-d404-4152-9789-35f1f4b2f781",
   "metadata": {},
   "outputs": [],
   "source": [
    "l=[f\" the give number is even-{i}\" if i%2==0 else\n",
    "  f\" the give number is even- odd-{i}\" for i in range(20) ]"
   ]
  },
  {
   "cell_type": "code",
   "execution_count": null,
   "id": "02337d4d-d72b-42d4-be83-97c0f53b1b9d",
   "metadata": {},
   "outputs": [],
   "source": []
  },
  {
   "cell_type": "code",
   "execution_count": 2,
   "id": "e072e86c-bdad-4a52-9b59-f4f0bcf18d63",
   "metadata": {},
   "outputs": [
    {
     "data": {
      "text/plain": [
       "['even>0', 'even>2', 'even>4', 'even>6', 'even>8', 'even>10']"
      ]
     },
     "execution_count": 2,
     "metadata": {},
     "output_type": "execute_result"
    }
   ],
   "source": [
    "[f\"even>{i}\" for i in range(11) if i % 2 == 0]"
   ]
  },
  {
   "cell_type": "code",
   "execution_count": 126,
   "id": "2d4bff96-1512-48d5-9370-7d45bd186a01",
   "metadata": {},
   "outputs": [
    {
     "data": {
      "text/plain": [
       "[0, 2, 4, 6, 8, 10]"
      ]
     },
     "execution_count": 126,
     "metadata": {},
     "output_type": "execute_result"
    }
   ],
   "source": [
    "l=list(range(11))\n",
    "list(filter(lambda x: x % 2==0,l))"
   ]
  },
  {
   "cell_type": "code",
   "execution_count": 128,
   "id": "ae85b0df-ed74-4e6c-bd7e-208e9aabd720",
   "metadata": {},
   "outputs": [
    {
     "data": {
      "text/plain": [
       "['hyd', 'bengaluru']"
      ]
     },
     "execution_count": 128,
     "metadata": {},
     "output_type": "execute_result"
    }
   ],
   "source": [
    "Input=['hyd','bengaluru','mum#bai','chen#nai']\n",
    "list(filter(lambda x: \"#\" not in x, Input))"
   ]
  },
  {
   "cell_type": "code",
   "execution_count": 130,
   "id": "989d8587-6151-4d3c-bbfc-067030561788",
   "metadata": {},
   "outputs": [],
   "source": [
    "l=['hyd','bengaluru','mum#bai','chen#nai']\n",
    "out=[ i for i in l if \"#\" in i]\n"
   ]
  },
  {
   "cell_type": "code",
   "execution_count": 131,
   "id": "a0a49f19-d6dd-4db8-a7db-a78374b64c35",
   "metadata": {},
   "outputs": [
    {
     "data": {
      "text/plain": [
       "['mum#bai', 'chen#nai']"
      ]
     },
     "execution_count": 131,
     "metadata": {},
     "output_type": "execute_result"
    }
   ],
   "source": [
    "out"
   ]
  },
  {
   "cell_type": "code",
   "execution_count": 144,
   "id": "4cb1e69e-fb7b-4242-b30f-fa1a64eef153",
   "metadata": {},
   "outputs": [],
   "source": [
    "l=['hyd','bengaluru','mum#bai','chen#nai']\n",
    "ou=[i if \"#\" in i else\n",
    "    \"rahul\" if \"#\" not in i else\n",
    "    \"invalid\"\n",
    "   for i in l]"
   ]
  },
  {
   "cell_type": "code",
   "execution_count": 146,
   "id": "8bdbecd3-4fb1-404e-8ca6-78d5ed5fe691",
   "metadata": {},
   "outputs": [
    {
     "data": {
      "text/plain": [
       "['rahul', 'rahul', 'mum#bai', 'chen#nai']"
      ]
     },
     "execution_count": 146,
     "metadata": {},
     "output_type": "execute_result"
    }
   ],
   "source": [
    "ou"
   ]
  },
  {
   "cell_type": "code",
   "execution_count": 6,
   "id": "5daafba7-b062-4915-990b-f4d0e8501e5b",
   "metadata": {},
   "outputs": [],
   "source": [
    "f= list(range(11))"
   ]
  },
  {
   "cell_type": "code",
   "execution_count": 7,
   "id": "68e78790-cf91-46e5-903b-7bd348842bcf",
   "metadata": {},
   "outputs": [
    {
     "ename": "SyntaxError",
     "evalue": "invalid syntax (1128528548.py, line 3)",
     "output_type": "error",
     "traceback": [
      "\u001b[1;36m  Cell \u001b[1;32mIn[7], line 3\u001b[1;36m\u001b[0m\n\u001b[1;33m    for i in range f\u001b[0m\n\u001b[1;37m                   ^\u001b[0m\n\u001b[1;31mSyntaxError\u001b[0m\u001b[1;31m:\u001b[0m invalid syntax\n"
     ]
    }
   ],
   "source": [
    "f=[f\"even{i}\" if i%2==0 else\n",
    "   f\"odd{i}\" \n",
    "   for i in range f\n",
    "  ]"
   ]
  },
  {
   "cell_type": "code",
   "execution_count": null,
   "id": "8f93c997-7ffd-41c6-b77e-8faeefb0a791",
   "metadata": {},
   "outputs": [],
   "source": []
  },
  {
   "cell_type": "code",
   "execution_count": null,
   "id": "dfbf4e2c-83f5-4d25-83b9-3e06e4ee09de",
   "metadata": {},
   "outputs": [],
   "source": []
  },
  {
   "cell_type": "code",
   "execution_count": 150,
   "id": "b8ea198b-a71a-41ba-b87c-d625e6a5c6b8",
   "metadata": {},
   "outputs": [
    {
     "name": "stdout",
     "output_type": "stream",
     "text": [
      "0\n",
      "1\n",
      "2\n"
     ]
    }
   ],
   "source": [
    "\n",
    "\n",
    "for i in range(3):\n",
    "    print(i)"
   ]
  },
  {
   "cell_type": "code",
   "execution_count": 151,
   "id": "be22071a-5fc8-4756-b288-46346a3747dd",
   "metadata": {},
   "outputs": [
    {
     "name": "stdout",
     "output_type": "stream",
     "text": [
      "0\n",
      "1\n",
      "2\n"
     ]
    }
   ],
   "source": [
    "for i in range(5):\n",
    "    if i == 3:\n",
    "        break\n",
    "    print(i)\n",
    "\n"
   ]
  },
  {
   "cell_type": "code",
   "execution_count": 152,
   "id": "d66e16bd-a3d7-47ae-999f-d154c1c69191",
   "metadata": {},
   "outputs": [
    {
     "name": "stdout",
     "output_type": "stream",
     "text": [
      "2\n",
      "3\n",
      "4\n",
      "5\n",
      "6\n",
      "7\n"
     ]
    }
   ],
   "source": [
    "for i in range(2, 8):\n",
    "    print(i)"
   ]
  },
  {
   "cell_type": "code",
   "execution_count": 156,
   "id": "8aba2893-8f99-4312-98fb-0afd25606ff5",
   "metadata": {},
   "outputs": [],
   "source": [
    "for i in range(0):\n",
    "    print(i)"
   ]
  },
  {
   "cell_type": "code",
   "execution_count": 157,
   "id": "4d9aeb9f-3cc9-468e-9820-d8edbd16bcdf",
   "metadata": {},
   "outputs": [
    {
     "name": "stdout",
     "output_type": "stream",
     "text": [
      "H\n",
      "i\n"
     ]
    }
   ],
   "source": [
    "for char in \"Hi\":\n",
    "    print(char)"
   ]
  },
  {
   "cell_type": "code",
   "execution_count": 158,
   "id": "840436e7-8df7-4428-99a9-4b286ba132da",
   "metadata": {},
   "outputs": [],
   "source": [
    "for i in range(3):\n",
    "    pass"
   ]
  },
  {
   "cell_type": "code",
   "execution_count": 159,
   "id": "f3d042fd-3f3d-447f-97f4-eb1426847023",
   "metadata": {},
   "outputs": [
    {
     "name": "stdout",
     "output_type": "stream",
     "text": [
      "0 0\n",
      "0 1\n",
      "1 0\n",
      "1 1\n",
      "2 0\n",
      "2 1\n",
      "3 0\n",
      "3 1\n",
      "4 0\n",
      "4 1\n"
     ]
    }
   ],
   "source": [
    "for i in range(5):\n",
    "    for j in range(2):\n",
    "        print(i, j)"
   ]
  },
  {
   "cell_type": "code",
   "execution_count": 1,
   "id": "7eb0dd5f-afd9-4a8b-980f-1fc223607930",
   "metadata": {},
   "outputs": [
    {
     "name": "stdout",
     "output_type": "stream",
     "text": [
      "0\n",
      "1\n",
      "2\n",
      "3\n",
      "4\n",
      "5\n",
      "6\n",
      "7\n",
      "8\n",
      "9\n",
      "10\n"
     ]
    }
   ],
   "source": [
    "for i in range(11):\n",
    "    print(i)"
   ]
  },
  {
   "cell_type": "code",
   "execution_count": 2,
   "id": "0472b16b-5d2f-40e7-8a32-11f6368818d8",
   "metadata": {},
   "outputs": [
    {
     "name": "stdout",
     "output_type": "stream",
     "text": [
      "0 0\n",
      "1 1\n",
      "2 2\n",
      "3 3\n",
      "4 4\n",
      "5 5\n",
      "6 6\n",
      "7 7\n",
      "8 8\n",
      "9 9\n",
      "10 10\n"
     ]
    }
   ],
   "source": [
    "for i,j in zip(range(11), range(11)):\n",
    "    print(i,j)"
   ]
  },
  {
   "cell_type": "code",
   "execution_count": 4,
   "id": "dee67607-01ff-407e-9f4d-21b55af0586e",
   "metadata": {},
   "outputs": [
    {
     "name": "stdout",
     "output_type": "stream",
     "text": [
      "0 0 0\n",
      "1 1 1\n",
      "2 2 2\n",
      "3 3 3\n",
      "4 4 4\n",
      "5 5 5\n",
      "6 6 6\n",
      "7 7 7\n",
      "8 8 8\n",
      "9 9 9\n",
      "10 10 10\n",
      "11 11 11\n",
      "12 12 12\n",
      "13 13 13\n",
      "14 14 14\n"
     ]
    }
   ],
   "source": [
    "for i,a,l in zip(range (15), range(15),range(15)):\n",
    "    print(i,a,l)"
   ]
  },
  {
   "cell_type": "code",
   "execution_count": 7,
   "id": "6473b863-07f4-483a-8f6e-bd7a667eac28",
   "metadata": {},
   "outputs": [
    {
     "name": "stdout",
     "output_type": "stream",
     "text": [
      "10 1\n",
      "20 2\n",
      "3 3\n",
      "4 7\n"
     ]
    }
   ],
   "source": [
    "l=[10,20,3,4,5,6,7]\n",
    "l1=[1,2,3,7]\n",
    "\n",
    "for i,j in zip(l,l1):\n",
    "    print(i,j)\n",
    "\n"
   ]
  },
  {
   "cell_type": "markdown",
   "id": "c61f6896-d0c5-44ac-ba5c-53e106a1616d",
   "metadata": {},
   "source": [
    "list comphension"
   ]
  },
  {
   "cell_type": "code",
   "execution_count": 1,
   "id": "0a5a6da8-5ceb-48fd-930f-48671d59a2b6",
   "metadata": {},
   "outputs": [],
   "source": [
    "l= [ i for i in range(11)]"
   ]
  },
  {
   "cell_type": "code",
   "execution_count": 2,
   "id": "eb2eff87-8e19-426b-a245-49bba9ce5242",
   "metadata": {},
   "outputs": [
    {
     "data": {
      "text/plain": [
       "[0, 1, 2, 3, 4, 5, 6, 7, 8, 9, 10]"
      ]
     },
     "execution_count": 2,
     "metadata": {},
     "output_type": "execute_result"
    }
   ],
   "source": [
    "l"
   ]
  },
  {
   "cell_type": "code",
   "execution_count": 4,
   "id": "ae84ce8f-5491-4e00-bf45-4df4e26fbee6",
   "metadata": {},
   "outputs": [],
   "source": [
    "l1 = [ i for i in range(11) if i%2==0]"
   ]
  },
  {
   "cell_type": "code",
   "execution_count": 7,
   "id": "b892a3fc-a85d-4504-a581-478f8c5328e0",
   "metadata": {},
   "outputs": [
    {
     "data": {
      "text/plain": [
       "[0, 2, 4, 6, 8, 10]"
      ]
     },
     "execution_count": 7,
     "metadata": {},
     "output_type": "execute_result"
    }
   ],
   "source": [
    "l1"
   ]
  },
  {
   "cell_type": "code",
   "execution_count": 8,
   "id": "ab0cb516-1c37-4af6-a00a-1bec91c81336",
   "metadata": {},
   "outputs": [],
   "source": [
    "l1= [ f\"even {i}\" if i%2== 0 else f\"odd {i}\" for i in range(11) ]"
   ]
  },
  {
   "cell_type": "code",
   "execution_count": 9,
   "id": "e4ac52f8-72f8-48f9-a5e8-ca30b4646448",
   "metadata": {},
   "outputs": [
    {
     "data": {
      "text/plain": [
       "['even 0',\n",
       " 'odd 1',\n",
       " 'even 2',\n",
       " 'odd 3',\n",
       " 'even 4',\n",
       " 'odd 5',\n",
       " 'even 6',\n",
       " 'odd 7',\n",
       " 'even 8',\n",
       " 'odd 9',\n",
       " 'even 10']"
      ]
     },
     "execution_count": 9,
     "metadata": {},
     "output_type": "execute_result"
    }
   ],
   "source": [
    "l1"
   ]
  },
  {
   "cell_type": "code",
   "execution_count": 10,
   "id": "235fe867-0216-4e3d-a9e5-f4302ab6a574",
   "metadata": {},
   "outputs": [],
   "source": [
    "l2 = [i for i in range(11) if i%2!=0]"
   ]
  },
  {
   "cell_type": "code",
   "execution_count": 11,
   "id": "6090cb8c-3322-48b0-a0d8-6fec714c3d18",
   "metadata": {},
   "outputs": [
    {
     "data": {
      "text/plain": [
       "[1, 3, 5, 7, 9]"
      ]
     },
     "execution_count": 11,
     "metadata": {},
     "output_type": "execute_result"
    }
   ],
   "source": [
    "l2"
   ]
  },
  {
   "cell_type": "code",
   "execution_count": 6,
   "id": "7216063a-326c-495d-b220-e82af2a1193d",
   "metadata": {},
   "outputs": [
    {
     "name": "stdout",
     "output_type": "stream",
     "text": [
      "[1, 4, 9, 16, 25]\n"
     ]
    }
   ],
   "source": [
    "numbers=[]\n",
    "for i in range(1,6):\n",
    "    numbers.append( i * i)\n",
    "print(numbers)   # without list comprehension"
   ]
  },
  {
   "cell_type": "code",
   "execution_count": 7,
   "id": "cc40fb55-bc2a-48b5-9489-affd4cdc9b65",
   "metadata": {},
   "outputs": [
    {
     "name": "stdout",
     "output_type": "stream",
     "text": [
      "[1, 4, 9, 16, 25]\n"
     ]
    }
   ],
   "source": [
    "numbers =[i * i for i in range(1,6)]\n",
    "print(numbers)"
   ]
  },
  {
   "cell_type": "code",
   "execution_count": 8,
   "id": "5b4e04ff-4a32-4405-9946-20af8f7d49e8",
   "metadata": {},
   "outputs": [
    {
     "name": "stdout",
     "output_type": "stream",
     "text": [
      "[0, 2, 4, 6, 8, 10, 12, 14]\n"
     ]
    }
   ],
   "source": [
    "evens= [x for x in range (16) if x % 2 == 0] \n",
    "print(evens)"
   ]
  },
  {
   "cell_type": "code",
   "execution_count": 13,
   "id": "1a7950db-0531-4cf2-92fc-571054af5c09",
   "metadata": {},
   "outputs": [
    {
     "name": "stdout",
     "output_type": "stream",
     "text": [
      "[[0, 1, 2, 3, 4], [0, 1, 2, 3, 4], [0, 1, 2, 3, 4], [0, 1, 2, 3, 4], [0, 1, 2, 3, 4]]\n"
     ]
    }
   ],
   "source": [
    "matrix = [[j for j in range(5)]for i in range(5)]\n",
    "print(matrix)"
   ]
  },
  {
   "cell_type": "code",
   "execution_count": 10,
   "id": "efe85ddc-920e-4b31-945f-ef85fa719978",
   "metadata": {},
   "outputs": [
    {
     "name": "stdout",
     "output_type": "stream",
     "text": [
      "[[0, 1, 2], [0, 1, 2], [0, 1, 2]]\n"
     ]
    }
   ],
   "source": [
    "matrix = [[j for j in range(3)] for i in range(3)]\n",
    "print(matrix)"
   ]
  },
  {
   "cell_type": "code",
   "execution_count": null,
   "id": "940a2f04-0c90-4a78-bc04-a231c7d4ca80",
   "metadata": {},
   "outputs": [],
   "source": []
  }
 ],
 "metadata": {
  "kernelspec": {
   "display_name": "Python [conda env:base] *",
   "language": "python",
   "name": "conda-base-py"
  },
  "language_info": {
   "codemirror_mode": {
    "name": "ipython",
    "version": 3
   },
   "file_extension": ".py",
   "mimetype": "text/x-python",
   "name": "python",
   "nbconvert_exporter": "python",
   "pygments_lexer": "ipython3",
   "version": "3.13.5"
  }
 },
 "nbformat": 4,
 "nbformat_minor": 5
}
