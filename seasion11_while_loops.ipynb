{
 "cells": [
  {
   "cell_type": "markdown",
   "id": "1c97486b-331c-4202-8ffe-4674eb3018db",
   "metadata": {},
   "source": [
    "**whileloops**\n",
    "\n",
    "- any loop we need 3 things \n",
    "\n",
    "- intial point\n",
    "\n",
    "- increment or decrement \n",
    "\n",
    "- stop point"
   ]
  },
  {
   "cell_type": "code",
   "execution_count": null,
   "id": "b59866b1-dc15-407a-84f5-b2e34acb2f46",
   "metadata": {},
   "outputs": [],
   "source": [
    "for i in range(3,10)\n",
    "\n",
    "# 3   +1    stop till 9\n"
   ]
  },
  {
   "cell_type": "code",
   "execution_count": 4,
   "id": "93cb26bc-d0c6-45dd-bed6-861244be7eb9",
   "metadata": {},
   "outputs": [
    {
     "name": "stdout",
     "output_type": "stream",
     "text": [
      "0 1 2 3 4 5 6 7 8 9 10 "
     ]
    }
   ],
   "source": [
    "for i in range(11):\n",
    "    print(i,end=' ')"
   ]
  },
  {
   "cell_type": "code",
   "execution_count": null,
   "id": "0dfd595b-a078-469b-9a68-ba92d2b06e83",
   "metadata": {},
   "outputs": [],
   "source": [
    "# intial point \n",
    "while <condition>:\n",
    "    # increment \n",
    "    # decrement\n",
    "\n",
    "for i in range (start,stop)\n",
    "# statments"
   ]
  },
  {
   "cell_type": "code",
   "execution_count": 19,
   "id": "f2eeca3b-73d0-4f8c-8488-3231f8eb2fd9",
   "metadata": {},
   "outputs": [
    {
     "name": "stdout",
     "output_type": "stream",
     "text": [
      "3 4 5 6 7 8 9 "
     ]
    }
   ],
   "source": [
    "for i in range (3,10):\n",
    "    print(i,end=' ')"
   ]
  },
  {
   "cell_type": "code",
   "execution_count": 1,
   "id": "f22ca8e5-c0ca-4aa1-8eba-97034a4b1ee8",
   "metadata": {},
   "outputs": [
    {
     "name": "stdout",
     "output_type": "stream",
     "text": [
      "3\n",
      "4\n",
      "5\n",
      "6\n",
      "7\n"
     ]
    }
   ],
   "source": [
    "i=3\n",
    "while i<8:\n",
    "    print(i)\n",
    "    i=1+i"
   ]
  },
  {
   "cell_type": "code",
   "execution_count": 11,
   "id": "59ba33d5-0338-495f-8524-a620272d5cca",
   "metadata": {},
   "outputs": [
    {
     "name": "stdout",
     "output_type": "stream",
     "text": [
      "1  2  3  4  5  6  7  8  9  10  "
     ]
    }
   ],
   "source": [
    "for i in range (1,11):\n",
    "    print(i,end='  ')"
   ]
  },
  {
   "cell_type": "code",
   "execution_count": 13,
   "id": "87ba3e6a-a991-421d-84fe-ef67f5be78d2",
   "metadata": {},
   "outputs": [
    {
     "name": "stdout",
     "output_type": "stream",
     "text": [
      "-10  -9  -8  -7  -6  -5  -4  -3  -2  -1  "
     ]
    }
   ],
   "source": [
    "for i in range(-10,0):\n",
    "    print(i,end='  ')"
   ]
  },
  {
   "cell_type": "code",
   "execution_count": 14,
   "id": "082e688a-d615-49c7-9852-64026cdb4b04",
   "metadata": {},
   "outputs": [
    {
     "name": "stdout",
     "output_type": "stream",
     "text": [
      "-1  -2  -3  -4  -5  -6  -7  -8  -9  -10  "
     ]
    }
   ],
   "source": [
    "for i in range (-1,-11,-1):\n",
    "    print(i,end='  ')"
   ]
  },
  {
   "cell_type": "code",
   "execution_count": 16,
   "id": "a0c605ec-8f85-48f4-a8fa-2fff77376834",
   "metadata": {},
   "outputs": [
    {
     "name": "stdout",
     "output_type": "stream",
     "text": [
      "0 1 2 3 4 5 6 7 8 9 10 "
     ]
    }
   ],
   "source": [
    "for i in range(11):\n",
    "    print(i,end=' ')"
   ]
  },
  {
   "cell_type": "code",
   "execution_count": 17,
   "id": "773fe91b-f410-43d0-b832-bde98a47d3c9",
   "metadata": {},
   "outputs": [
    {
     "name": "stdout",
     "output_type": "stream",
     "text": [
      "1 2 3 4 5 6 7 8 9 10 "
     ]
    }
   ],
   "source": [
    "i=1\n",
    "while i<11:\n",
    "    print(i,end=' ')\n",
    "    i=1+i"
   ]
  },
  {
   "cell_type": "code",
   "execution_count": 2,
   "id": "266feda8-aab4-4127-b30f-6ba76ee083f3",
   "metadata": {},
   "outputs": [
    {
     "name": "stdout",
     "output_type": "stream",
     "text": [
      "-10 -9 -8 -7 -6 -5 -4 -3 -2 -1 "
     ]
    }
   ],
   "source": [
    "i=-10\n",
    "while i<0:\n",
    "    print(i,end=' ')\n",
    "    i=i+1"
   ]
  },
  {
   "cell_type": "code",
   "execution_count": 14,
   "id": "b12f59d8-3b3e-481f-bcd9-8112c3188f85",
   "metadata": {},
   "outputs": [
    {
     "name": "stdout",
     "output_type": "stream",
     "text": [
      "-20 -19 -18 -17 -16 -15 -14 -13 -12 -11 -10 -9 -8 -7 -6 -5 -4 -3 -2 -1 "
     ]
    }
   ],
   "source": [
    "i=-20\n",
    "while i<0:\n",
    "    print(i,end=' ')\n",
    "    i=i+1"
   ]
  },
  {
   "cell_type": "code",
   "execution_count": null,
   "id": "2ea63f25-93c4-4674-b3fa-669dd5bfb057",
   "metadata": {},
   "outputs": [],
   "source": [
    "# if we dont know what is stop condition\n",
    "# if we want to give infinite chance till the ans should correct \n",
    "# then we can use while loop \n",
    "\n",
    "# in for loop inherently stop avialable \n",
    "# range(3,11) stop=10"
   ]
  },
  {
   "cell_type": "code",
   "execution_count": 11,
   "id": "ed5d41a2-662b-463a-8bc1-27d80f572f3b",
   "metadata": {},
   "outputs": [
    {
     "name": "stdout",
     "output_type": "stream",
     "text": [
      "5\n"
     ]
    },
    {
     "name": "stdin",
     "output_type": "stream",
     "text": [
      "enter the num 1\n",
      "enter the num 2\n",
      "enter the num 3\n",
      "enter the num 4\n",
      "enter the num 6\n",
      "enter the num 7\n",
      "enter the num 8\n",
      "enter the num 8\n",
      "enter the num 9\n",
      "enter the num 5\n"
     ]
    },
    {
     "name": "stdout",
     "output_type": "stream",
     "text": [
      "won\n"
     ]
    }
   ],
   "source": [
    "import random \n",
    "random_num=random.randint(1,10)\n",
    "print(random_num)\n",
    "while True:\n",
    "    user_num=eval(input(\"enter the num\"))\n",
    "    if user_num==random_num:\n",
    "        print('won')\n",
    "        break"
   ]
  },
  {
   "cell_type": "code",
   "execution_count": 22,
   "id": "3f3668c1-c4dd-4da8-b0f2-0a5e6f1e7930",
   "metadata": {},
   "outputs": [
    {
     "name": "stdin",
     "output_type": "stream",
     "text": [
      "Enter the number 9\n"
     ]
    },
    {
     "name": "stdout",
     "output_type": "stream",
     "text": [
      "0 1 2 3 4 5 6 7 8 "
     ]
    }
   ],
   "source": [
    "i=0\n",
    "num=int(input(\"Enter the number\"))\n",
    "while i<=num-1:\n",
    "    print(i,end=\" \")\n",
    "\n",
    "    i=i+1\n"
   ]
  },
  {
   "cell_type": "code",
   "execution_count": 19,
   "id": "4913b0c8-de6e-4245-8dd4-94e2f41c2aba",
   "metadata": {},
   "outputs": [
    {
     "name": "stdin",
     "output_type": "stream",
     "text": [
      " 6\n"
     ]
    },
    {
     "name": "stdout",
     "output_type": "stream",
     "text": [
      "2 1 0 -1 -2 -3 -4 -5 "
     ]
    }
   ],
   "source": [
    "num=eval(input())\n",
    "for i in range(2,-5-1,-1):\n",
    "    print(i,end=\" \")\n",
    "    "
   ]
  },
  {
   "cell_type": "code",
   "execution_count": 2,
   "id": "82591742-d074-4ea8-b058-2a47a80bf920",
   "metadata": {},
   "outputs": [
    {
     "name": "stdout",
     "output_type": "stream",
     "text": [
      "3\n",
      "2\n",
      "1\n"
     ]
    }
   ],
   "source": [
    "x = 3\n",
    "while x:\n",
    "    print(x)\n",
    "    x-=1"
   ]
  },
  {
   "cell_type": "code",
   "execution_count": 7,
   "id": "da7a7b9b-ba98-49ce-bc2e-cb0b5c405117",
   "metadata": {},
   "outputs": [
    {
     "name": "stdout",
     "output_type": "stream",
     "text": [
      "0 1 2 "
     ]
    }
   ],
   "source": [
    "count = 0\n",
    "while count < 3:\n",
    "    print(count, end=\" \")\n",
    "    count += 1"
   ]
  },
  {
   "cell_type": "code",
   "execution_count": 5,
   "id": "2bc61af2-0a80-48da-902c-254524952c1c",
   "metadata": {},
   "outputs": [
    {
     "name": "stdout",
     "output_type": "stream",
     "text": [
      "5\n",
      "3\n",
      "1\n"
     ]
    }
   ],
   "source": [
    "x = 5\n",
    "while x > 0:\n",
    "    print(x)\n",
    "    x -= 2\n"
   ]
  },
  {
   "cell_type": "code",
   "execution_count": 10,
   "id": "7a1263a2-283f-44c4-833b-2acf4a397475",
   "metadata": {},
   "outputs": [
    {
     "name": "stdout",
     "output_type": "stream",
     "text": [
      "*\n",
      "**\n",
      "***\n",
      "****\n",
      "*****\n",
      "******\n",
      "*******\n",
      "********\n",
      "*********\n",
      "**********\n"
     ]
    }
   ],
   "source": [
    "i = 1\n",
    "while i <= 10:\n",
    "    print(i * \"*\")\n",
    "    i += 1\n"
   ]
  },
  {
   "cell_type": "code",
   "execution_count": 17,
   "id": "5f845a0f-3c2e-45ec-8c08-d40592ae6a67",
   "metadata": {},
   "outputs": [
    {
     "name": "stdout",
     "output_type": "stream",
     "text": [
      "2\n",
      "3\n",
      "4\n",
      "5\n"
     ]
    }
   ],
   "source": [
    "  n = 0\n",
    "while n < 5:\n",
    "    n += 1\n",
    "    if n == 1:\n",
    "        continue\n",
    "    print(n)"
   ]
  },
  {
   "cell_type": "code",
   "execution_count": 9,
   "id": "f1e66cb1-5999-4ca4-904b-9844e9be6561",
   "metadata": {},
   "outputs": [
    {
     "name": "stdout",
     "output_type": "stream",
     "text": [
      "1\n",
      "2\n",
      "3\n"
     ]
    }
   ],
   "source": [
    "n = 1\n",
    "while n <= 5:\n",
    "    print(n)\n",
    "    if n == 3:\n",
    "        break\n",
    "    n += 1\n",
    "\n"
   ]
  },
  {
   "cell_type": "code",
   "execution_count": 18,
   "id": "5d705b2b-916b-4b83-aee4-9815bddde768",
   "metadata": {},
   "outputs": [
    {
     "name": "stdout",
     "output_type": "stream",
     "text": [
      "6\n"
     ]
    }
   ],
   "source": [
    "x = 0\n",
    "while x < 5:\n",
    "    x += 2\n",
    "print(x)\n"
   ]
  },
  {
   "cell_type": "code",
   "execution_count": 11,
   "id": "a0aa0402-a841-4a41-b909-c26fbe0c1ebd",
   "metadata": {},
   "outputs": [
    {
     "name": "stdout",
     "output_type": "stream",
     "text": [
      "10\n"
     ]
    }
   ],
   "source": [
    "total = 0\n",
    "i = 1\n",
    "while i <= 4:\n",
    "    total += i\n",
    "    i += 1\n",
    "print(total)\n"
   ]
  },
  {
   "cell_type": "code",
   "execution_count": 12,
   "id": "1e5ef4a5-7dc8-43f0-a5ee-67c255fb81a4",
   "metadata": {},
   "outputs": [
    {
     "name": "stdout",
     "output_type": "stream",
     "text": [
      "10 5 2 1 "
     ]
    }
   ],
   "source": [
    "\n",
    "  num = 10\n",
    "while num > 0:\n",
    "    print(num, end=\" \")\n",
    "    num //= 2\n"
   ]
  },
  {
   "cell_type": "code",
   "execution_count": 19,
   "id": "5eacc085-ebfa-40f0-aa58-c91a229aacb1",
   "metadata": {},
   "outputs": [
    {
     "name": "stdout",
     "output_type": "stream",
     "text": [
      "Hi\n",
      "Hi\n",
      "Hi\n",
      "Hi\n",
      "Hi\n",
      "Done\n"
     ]
    }
   ],
   "source": [
    "  i = 0\n",
    "while i < 5:\n",
    "    print(\"Hi\")\n",
    "    i = i + 1\n",
    "else:\n",
    "    print(\"Done\")\n"
   ]
  },
  {
   "cell_type": "code",
   "execution_count": 27,
   "id": "3db7745c-cabf-451e-bd2d-6411ab95aebf",
   "metadata": {},
   "outputs": [
    {
     "name": "stdout",
     "output_type": "stream",
     "text": [
      "1\n",
      "3\n",
      "5\n",
      "7\n",
      "9\n",
      "11\n",
      "13\n"
     ]
    }
   ],
   "source": [
    "a = 1\n",
    "while a < 15:\n",
    "    print(a)\n",
    "    a += 2       # (start:stop:step) (1,15,2)"
   ]
  },
  {
   "cell_type": "code",
   "execution_count": 31,
   "id": "79bce40d-519f-428c-afa6-ee92f6541b5d",
   "metadata": {},
   "outputs": [
    {
     "name": "stdout",
     "output_type": "stream",
     "text": [
      "16\n"
     ]
    }
   ],
   "source": [
    "n = 2\n",
    "while n < 10:\n",
    "    n *= 2\n",
    "print(n)\n"
   ]
  },
  {
   "cell_type": "code",
   "execution_count": 16,
   "id": "6b292e9a-f7f7-4ec3-87e6-16a7148f4569",
   "metadata": {},
   "outputs": [
    {
     "name": "stdout",
     "output_type": "stream",
     "text": [
      "1 1\n",
      "1 2\n",
      "2 1\n",
      "2 2\n",
      "3 1\n",
      "3 2\n"
     ]
    }
   ],
   "source": [
    "x = 1\n",
    "while x <= 3:\n",
    "    y = 1\n",
    "    while y <= 2:\n",
    "        print(x, y)\n",
    "        y += 1\n",
    "    x += 1"
   ]
  },
  {
   "cell_type": "code",
   "execution_count": 1,
   "id": "748629d5-c009-40de-a207-6fe2d7d1ee6b",
   "metadata": {},
   "outputs": [
    {
     "name": "stdout",
     "output_type": "stream",
     "text": [
      "1\n",
      "2\n",
      "3\n"
     ]
    }
   ],
   "source": [
    "count = 0\n",
    "while True:\n",
    "    count += 1\n",
    "    if count > 3:\n",
    "        break\n",
    "    print(count)\n"
   ]
  },
  {
   "cell_type": "code",
   "execution_count": 3,
   "id": "fc896f8f-b29e-47d6-9134-78ec88335ac0",
   "metadata": {},
   "outputs": [
    {
     "name": "stdout",
     "output_type": "stream",
     "text": [
      "321"
     ]
    }
   ],
   "source": [
    "num = 123\n",
    "while num:\n",
    "    print(num % 10, end=\"\")\n",
    "    num //= 10"
   ]
  },
  {
   "cell_type": "code",
   "execution_count": 19,
   "id": "c1730a0d-d745-4fce-b621-f412075be4f0",
   "metadata": {},
   "outputs": [
    {
     "name": "stdout",
     "output_type": "stream",
     "text": [
      "0 1 2 3 Loop finished\n"
     ]
    }
   ],
   "source": [
    "x = 0\n",
    "while x < 4:\n",
    "    print(x, end=\" \")\n",
    "    x += 1\n",
    "else:\n",
    "    print(\"Loop finished\")\n"
   ]
  },
  {
   "cell_type": "code",
   "execution_count": 11,
   "id": "d4e35192-1414-4bfe-acad-99c1b1e9fa01",
   "metadata": {},
   "outputs": [
    {
     "name": "stdout",
     "output_type": "stream",
     "text": [
      "0 1 2 "
     ]
    }
   ],
   "source": [
    "x = 0\n",
    "while x < 4:\n",
    "    if x == 3:\n",
    "        break\n",
    "    print(x, end=\" \")\n",
    "    x += 1\n",
    "else:\n",
    "    print(\"loop finished\")        # updated version from upper code"
   ]
  },
  {
   "cell_type": "code",
   "execution_count": 9,
   "id": "cd33a1bd-135b-4bbd-96cc-c398a52c3d02",
   "metadata": {},
   "outputs": [
    {
     "name": "stdout",
     "output_type": "stream",
     "text": [
      "0 1 2 3 4 loop are end\n"
     ]
    }
   ],
   "source": [
    "z = 0\n",
    "while z < 5:\n",
    "    if z == 5:\n",
    "        break\n",
    "    print(z,end=' ')\n",
    "    z += 1\n",
    "else:\n",
    "    print(\"loop are end\")"
   ]
  },
  {
   "cell_type": "code",
   "execution_count": null,
   "id": "ff14e1bd-1097-4bd9-9dd7-ddff63fd38ca",
   "metadata": {},
   "outputs": [],
   "source": []
  }
 ],
 "metadata": {
  "kernelspec": {
   "display_name": "Python [conda env:base] *",
   "language": "python",
   "name": "conda-base-py"
  },
  "language_info": {
   "codemirror_mode": {
    "name": "ipython",
    "version": 3
   },
   "file_extension": ".py",
   "mimetype": "text/x-python",
   "name": "python",
   "nbconvert_exporter": "python",
   "pygments_lexer": "ipython3",
   "version": "3.13.5"
  }
 },
 "nbformat": 4,
 "nbformat_minor": 5
}
