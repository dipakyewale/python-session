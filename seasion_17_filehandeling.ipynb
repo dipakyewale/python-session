{
 "cells": [
  {
   "cell_type": "code",
   "execution_count": null,
   "id": "232f5720-f897-4b9c-bff9-ff6624ba430c",
   "metadata": {},
   "outputs": [],
   "source": [
    "file Name                          type of file \n",
    "\n",
    "=========================structures and semi_structure=======================================\n",
    "text                                  .txt \n",
    "\n",
    "word                                  .doc or .docx                             packege require\n",
    "\n",
    "pdf                                   .pdf                                      packege require\n",
    "\n",
    "csv(Excel)                            .csv(comma seprated value )(tabular)      packege require\n",
    "\n",
    "Excel                                 .xlsx (tabular)                           packege require                       \n",
    "\n",
    "json                                  .jsio(dictionry key-value)               packege require        \n",
    "\n",
    "======================================unstractured================================================\n",
    "\n",
    "XML                                    .xml(image data)\n",
    "\n",
    "parqute                                .delta/.parquat                   \n",
    "\n",
    "delta \n",
    "\n",
    "image\n",
    "\n",
    "video\n",
    "\n",
    "audio "
   ]
  },
  {
   "cell_type": "markdown",
   "id": "b0bf1f4a-91de-41ce-9d49-b151dc0b881d",
   "metadata": {},
   "source": [
    "**In order to load the file we need files we need 3 things**\n",
    "\n",
    "- where is file located: directory\n",
    "\n",
    "- what is the file name\n",
    "\n",
    "- what is the extention"
   ]
  },
  {
   "cell_type": "markdown",
   "id": "5043fd66-31a3-47c8-95f9-4503823ada85",
   "metadata": {},
   "source": [
    "**method-1**"
   ]
  },
  {
   "cell_type": "code",
   "execution_count": 1,
   "id": "6441e7dd-c5d6-4af6-bbfd-f7a987476bec",
   "metadata": {},
   "outputs": [],
   "source": [
    "path='C:\\\\Users\\\\hp\\\\Documents\\\\datafile\\\\mbox-short.txt'"
   ]
  },
  {
   "cell_type": "code",
   "execution_count": 3,
   "id": "fd40b8cb-d19d-4d7d-b9d4-060aa8850c42",
   "metadata": {},
   "outputs": [],
   "source": [
    "file_path=r'mbox-short.txt'\n",
    "file=open(file_path)\n",
    "data=file.read()\n",
    "#print(data)"
   ]
  },
  {
   "cell_type": "markdown",
   "id": "7da2e044-11f3-4882-b7be-c70762dfe510",
   "metadata": {},
   "source": [
    "**Method-2**"
   ]
  },
  {
   "cell_type": "code",
   "execution_count": 5,
   "id": "6c53cd4e-5ddc-4864-8fc4-ca63ee4c4972",
   "metadata": {},
   "outputs": [],
   "source": [
    "file_path=r'mbox-short.txt'\n",
    "file=open(file_path)\n",
    "data=file.read()\n",
    "#print(data)"
   ]
  },
  {
   "cell_type": "markdown",
   "id": "144c71fb-f15e-4825-a889-cfbaa5a65a1f",
   "metadata": {},
   "source": [
    "**method-3**"
   ]
  },
  {
   "cell_type": "code",
   "execution_count": 6,
   "id": "0432fc8c-cc1d-4190-aa52-10346240f50a",
   "metadata": {},
   "outputs": [],
   "source": [
    "file_path=r'mbox-short.txt'\n",
    "with open (file_path) as file:\n",
    "    data=file.read()\n",
    "#print(data)"
   ]
  },
  {
   "cell_type": "code",
   "execution_count": 44,
   "id": "331a4ea5-6371-48ae-aced-9aad187ed86a",
   "metadata": {},
   "outputs": [
    {
     "data": {
      "text/plain": [
       "18"
      ]
     },
     "execution_count": 44,
     "metadata": {},
     "output_type": "execute_result"
    }
   ],
   "source": [
    "path='file_W_mode.txt'\n",
    "file=open(path,mode='w')  #  'w' creat a new file an started a writing\n",
    "file.write('hello good morning')"
   ]
  },
  {
   "cell_type": "code",
   "execution_count": 8,
   "id": "76917620-3778-4bdd-aa46-f256dc7d3fd1",
   "metadata": {},
   "outputs": [
    {
     "data": {
      "text/plain": [
       "18"
      ]
     },
     "execution_count": 8,
     "metadata": {},
     "output_type": "execute_result"
    }
   ],
   "source": [
    "len('hello good morning')"
   ]
  },
  {
   "cell_type": "code",
   "execution_count": 8,
   "id": "1fc5f002-45bb-4743-abd2-73b1a2c449ec",
   "metadata": {},
   "outputs": [
    {
     "name": "stdout",
     "output_type": "stream",
     "text": [
      "hello good morning\n"
     ]
    }
   ],
   "source": [
    "path='file_w_mode.txt'\n",
    "file=open(path,mode='r') \n",
    "data=file.read()\n",
    "print(data)"
   ]
  },
  {
   "cell_type": "code",
   "execution_count": 10,
   "id": "b417f7b6-b11e-40b2-ba1e-3529b31c226f",
   "metadata": {},
   "outputs": [
    {
     "data": {
      "text/plain": [
       "14"
      ]
     },
     "execution_count": 10,
     "metadata": {},
     "output_type": "execute_result"
    }
   ],
   "source": [
    "path='file_a_mode.txt'\n",
    "file=open(path,mode='a')  \n",
    "file.write('hello good eve')  #A"
   ]
  },
  {
   "cell_type": "code",
   "execution_count": 6,
   "id": "31be915a-43de-4777-b049-8e881811d590",
   "metadata": {},
   "outputs": [],
   "source": [
    "#path='file_x_mode.txt'\n",
    "#file=open(path,mode='x')  \n",
    "#file.write('hello good eve')  # X"
   ]
  },
  {
   "cell_type": "code",
   "execution_count": 7,
   "id": "03428e7a-7652-4630-9790-9b14bcdd2d5a",
   "metadata": {},
   "outputs": [
    {
     "data": {
      "text/plain": [
       "'hello good morning'"
      ]
     },
     "execution_count": 7,
     "metadata": {},
     "output_type": "execute_result"
    }
   ],
   "source": [
    "path='file_W_mode.txt'\n",
    "file=open(path,mode='r')  \n",
    "file.read()"
   ]
  },
  {
   "cell_type": "code",
   "execution_count": 29,
   "id": "d4d843e1-10ab-4558-b069-ab5ed86daf65",
   "metadata": {},
   "outputs": [
    {
     "data": {
      "text/plain": [
       "20"
      ]
     },
     "execution_count": 29,
     "metadata": {},
     "output_type": "execute_result"
    }
   ],
   "source": [
    "path='file_W_mode.txt'\n",
    "file=open(path,mode='w')  \n",
    "file.write('hii dipak how are uu')"
   ]
  },
  {
   "cell_type": "code",
   "execution_count": 12,
   "id": "3fb059db-4218-42f1-96fb-85f67ddaf817",
   "metadata": {},
   "outputs": [
    {
     "data": {
      "text/plain": [
       "'hello good morning'"
      ]
     },
     "execution_count": 12,
     "metadata": {},
     "output_type": "execute_result"
    }
   ],
   "source": [
    "path='file_W_mode.txt'\n",
    "file=open(path,mode='r')  \n",
    "file.read()"
   ]
  },
  {
   "cell_type": "code",
   "execution_count": 10,
   "id": "0a44c8fc-9999-41cf-9d8e-c310fce6e418",
   "metadata": {},
   "outputs": [
    {
     "data": {
      "text/plain": [
       "22"
      ]
     },
     "execution_count": 10,
     "metadata": {},
     "output_type": "execute_result"
    }
   ],
   "source": [
    "path=\" file_w_mode.txt\"\n",
    "file=open(path,mode=\"w\")\n",
    "file.write(\" hii rahul how are you\")"
   ]
  },
  {
   "cell_type": "code",
   "execution_count": 14,
   "id": "99df247e-c277-4a0d-94b7-d9715d9d44c9",
   "metadata": {},
   "outputs": [
    {
     "data": {
      "text/plain": [
       "'hello good morning'"
      ]
     },
     "execution_count": 14,
     "metadata": {},
     "output_type": "execute_result"
    }
   ],
   "source": [
    "path=\"file_w_mode.txt\"\n",
    "file=open(path,mode=\"r\")\n",
    "file.read()"
   ]
  },
  {
   "cell_type": "markdown",
   "id": "d8384592-86ba-4d73-9c97-5266c423ad27",
   "metadata": {},
   "source": [
    "**read line by line**"
   ]
  },
  {
   "cell_type": "code",
   "execution_count": 7,
   "id": "0c56cc9e-b5e7-4e3e-afe6-8c47c1bf92df",
   "metadata": {},
   "outputs": [
    {
     "name": "stdout",
     "output_type": "stream",
     "text": [
      "1910\n"
     ]
    }
   ],
   "source": [
    "file_path=r'mbox-short.txt'\n",
    "file=open(path)\n",
    "count=0\n",
    "for _ in file:\n",
    "    count=count+1\n",
    "print(count)"
   ]
  },
  {
   "cell_type": "code",
   "execution_count": null,
   "id": "6cdacbfb-3bd2-4d1b-8db2-e349e5055916",
   "metadata": {},
   "outputs": [],
   "source": [
    "**enumerate**\n",
    "\n",
    "  - similar to zi\n",
    "\n",
    "  - "
   ]
  },
  {
   "cell_type": "code",
   "execution_count": 99,
   "id": "1122d248-6342-41b3-8175-57c806ac685b",
   "metadata": {},
   "outputs": [
    {
     "name": "stdout",
     "output_type": "stream",
     "text": [
      "0 From stephen.marquard@uct.ac.za Sat Jan  5 09:14:16 2008\n",
      "\n",
      "1 Return-Path: <postmaster@collab.sakaiproject.org>\n",
      "\n",
      "2 Received: from murder (mail.umich.edu [141.211.14.90])\n",
      "\n",
      "3 \t by frankenstein.mail.umich.edu (Cyrus v2.3.8) with LMTPA;\n",
      "\n",
      "4 \t Sat, 05 Jan 2008 09:14:16 -0500\n",
      "\n",
      "5 X-Sieve: CMU Sieve 2.3\n",
      "\n",
      "6 Received: from murder ([unix socket])\n",
      "\n",
      "7 \t by mail.umich.edu (Cyrus v2.2.12) with LMTPA;\n",
      "\n",
      "8 \t Sat, 05 Jan 2008 09:14:16 -0500\n",
      "\n",
      "9 Received: from holes.mr.itd.umich.edu (holes.mr.itd.umich.edu [141.211.14.79])\n",
      "\n",
      "10 \tby flawless.mail.umich.edu () with ESMTP id m05EEFR1013674;\n",
      "\n"
     ]
    }
   ],
   "source": [
    "file_path=r'mbox-short.txt'\n",
    "file=open(file_path)\n",
    "for Id,line in enumerate(file):\n",
    "    print(Id,line)\n",
    "    if Id==10:\n",
    "        break"
   ]
  },
  {
   "cell_type": "code",
   "execution_count": 9,
   "id": "936995a2-5328-4447-8f31-753147437ee5",
   "metadata": {},
   "outputs": [
    {
     "name": "stdout",
     "output_type": "stream",
     "text": [
      "1910\n"
     ]
    }
   ],
   "source": [
    "file_path=r'mbox-short.txt'\n",
    "file=open(file_path)\n",
    "for Id,_ in enumerate(file):\n",
    "    pass\n",
    "\n",
    "print(Id+1)    # 1910 total number\n",
    "\n",
    "# why in doing \n",
    "# i want to how many number  of line "
   ]
  },
  {
   "cell_type": "code",
   "execution_count": 11,
   "id": "f5c4318f-e689-49ad-bb95-aae874c6dc2b",
   "metadata": {},
   "outputs": [
    {
     "data": {
      "text/plain": [
       "'From stephen.marquard@uct.ac.za Sat Jan  5 09:14:16 2008\\n'"
      ]
     },
     "execution_count": 11,
     "metadata": {},
     "output_type": "execute_result"
    }
   ],
   "source": [
    "i"
   ]
  },
  {
   "cell_type": "code",
   "execution_count": 1,
   "id": "c05abece-bb62-4884-84be-3cbe9649e6d2",
   "metadata": {},
   "outputs": [
    {
     "ename": "_IncompleteInputError",
     "evalue": "incomplete input (2071769116.py, line 7)",
     "output_type": "error",
     "traceback": [
      "\u001b[1;36m  Cell \u001b[1;32mIn[1], line 7\u001b[1;36m\u001b[0m\n\u001b[1;33m    #print(line.strip)\u001b[0m\n\u001b[1;37m                        ^\u001b[0m\n\u001b[1;31m_IncompleteInputError\u001b[0m\u001b[1;31m:\u001b[0m incomplete input\n"
     ]
    }
   ],
   "source": [
    "# find the number of lines === completed\n",
    "\n",
    "\n",
    "file_path=r'mbox-short.txt'\n",
    "file=open(file_path)\n",
    "for line in file:\n",
    "    #print(line.strip)  "
   ]
  },
  {
   "cell_type": "markdown",
   "id": "866be469-329e-4d5e-9714-eefb6a1e855c",
   "metadata": {},
   "source": [
    "**scile**"
   ]
  },
  {
   "cell_type": "code",
   "execution_count": 26,
   "id": "3b89508c-d8e2-4ce4-8153-ab84b7c49a8b",
   "metadata": {},
   "outputs": [],
   "source": [
    "n='From stephen.marquard@uct.ac.za Sat Jan  5 09:14:16 2008\\n'\n",
    "n1=n.find(\" \")\n",
    "n2=n.find(\" \",n1+1)\n",
    "n3=n.find(\" \",n2+1)\n",
    "n4=n.find(\" \",n3+1)\n",
    "n5=n.find(\" \",n4+1)\n",
    "n6=n.find(\" \",n5+1)\n",
    "n7=n.find(\" \",n6+1)\n",
    "n8=n.find(\" \",n7+1)"
   ]
  },
  {
   "cell_type": "code",
   "execution_count": 28,
   "id": "c1dacc92-3f00-46f6-b620-d96ab593d744",
   "metadata": {},
   "outputs": [
    {
     "data": {
      "text/plain": [
       "'2008'"
      ]
     },
     "execution_count": 28,
     "metadata": {},
     "output_type": "execute_result"
    }
   ],
   "source": [
    "n[n7+1:n8]"
   ]
  },
  {
   "cell_type": "code",
   "execution_count": 11,
   "id": "7fc29ecd-1490-4e97-88c3-2e5c4b0c31dc",
   "metadata": {},
   "outputs": [],
   "source": [
    "d='From stephen.marquard@uct.ac.za Sat Jan  5 09:14:16 2008\\n'\n",
    "d1=d.find(\" \")\n",
    "d2=d.find(\" \",d1+1)\n",
    "d3=d.find(\" \",d2+1)\n",
    "d4=d.find(\" \",d3+1)\n",
    "d5=d.find(\" \",d4+1)\n",
    "d6=d.find(\" \",d5+1)"
   ]
  },
  {
   "cell_type": "code",
   "execution_count": 12,
   "id": "c0a214e9-6cca-42d9-9212-dbaa3d0ae392",
   "metadata": {},
   "outputs": [
    {
     "data": {
      "text/plain": [
       "''"
      ]
     },
     "execution_count": 12,
     "metadata": {},
     "output_type": "execute_result"
    }
   ],
   "source": [
    "d[d6+1:d5]"
   ]
  },
  {
   "cell_type": "code",
   "execution_count": 105,
   "id": "b1bdcf03-1ee8-4e47-9e44-8f4d7b64ea9e",
   "metadata": {},
   "outputs": [],
   "source": [
    " a=\"From stephen.marquard@uct.ac.za Sat Jan  5 09:14:16 2008\"\n",
    " a1=a.find(\" \")\n",
    " a2=a.find(\" \",a1+1)"
   ]
  },
  {
   "cell_type": "code",
   "execution_count": 106,
   "id": "91dce6c2-a63b-42ed-80dd-8b256a6db284",
   "metadata": {},
   "outputs": [
    {
     "data": {
      "text/plain": [
       "'stephen.marquard@uct.ac.za'"
      ]
     },
     "execution_count": 106,
     "metadata": {},
     "output_type": "execute_result"
    }
   ],
   "source": [
    "a[a1+1:a2]"
   ]
  },
  {
   "cell_type": "code",
   "execution_count": 11,
   "id": "ad1eb85e-34bb-43d7-9ec4-ef367f783554",
   "metadata": {},
   "outputs": [],
   "source": [
    "b=\"by frankenstein.mail.umich.edu (Cyrus v2.3.8) with LMTPA\"\n",
    "b1=b.find(\" \")\n",
    "b2=b.find(\" \",b1+1)"
   ]
  },
  {
   "cell_type": "code",
   "execution_count": 13,
   "id": "72f7c1e0-d3cb-45e6-a9b1-510b0e6ad480",
   "metadata": {},
   "outputs": [
    {
     "data": {
      "text/plain": [
       "'frankenstein.mail.umich.edu'"
      ]
     },
     "execution_count": 13,
     "metadata": {},
     "output_type": "execute_result"
    }
   ],
   "source": [
    "b[b1+1:b2]"
   ]
  },
  {
   "cell_type": "code",
   "execution_count": 4,
   "id": "5cdfd865-18c9-4829-aa5e-d935d37cc57a",
   "metadata": {},
   "outputs": [
    {
     "data": {
      "text/plain": [
       "'LMTPA'"
      ]
     },
     "execution_count": 4,
     "metadata": {},
     "output_type": "execute_result"
    }
   ],
   "source": [
    "c= \"by mail.umich.edu (Cyrus v2.2.12) with LMTPA;\"\n",
    "c1=c.find(\" \")\n",
    "c2=c.find(\" \",c1+1)\n",
    "c3=c.find(\" \",c2+1)\n",
    "c4=c.find(\" \",c3+1)\n",
    "c5=c.find(\" \",c4+1)\n",
    "c6=c.find(\" \",c5+1)\n",
    "\n",
    "c[c5+1:c6]"
   ]
  },
  {
   "cell_type": "code",
   "execution_count": 5,
   "id": "5140d696-293c-4f8d-a955-b5997d0ffd2f",
   "metadata": {},
   "outputs": [],
   "source": [
    "l=[1,2,45,56,6,7,8]\n",
    "l2=[1,23,4,5,5,6,6]\n",
    "l.extend(l2)"
   ]
  },
  {
   "cell_type": "code",
   "execution_count": 6,
   "id": "e6af1a5a-b120-4fa3-94a9-36458e98d485",
   "metadata": {},
   "outputs": [
    {
     "data": {
      "text/plain": [
       "[1, 2, 45, 56, 6, 7, 8, 1, 23, 4, 5, 5, 6, 6]"
      ]
     },
     "execution_count": 6,
     "metadata": {},
     "output_type": "execute_result"
    }
   ],
   "source": [
    "l"
   ]
  },
  {
   "cell_type": "code",
   "execution_count": 7,
   "id": "915d415f-822e-4970-b3b0-95efce318e3e",
   "metadata": {},
   "outputs": [],
   "source": [
    "l=[\"dipak\",\"rahul\",\"kishor\",\"pradip\"]\n",
    "r=\"\".join(l)"
   ]
  },
  {
   "cell_type": "code",
   "execution_count": 8,
   "id": "cbd1b61c-ac9e-4ee8-b650-79f59b481fe4",
   "metadata": {},
   "outputs": [
    {
     "data": {
      "text/plain": [
       "'dipakrahulkishorpradip'"
      ]
     },
     "execution_count": 8,
     "metadata": {},
     "output_type": "execute_result"
    }
   ],
   "source": [
    "r"
   ]
  },
  {
   "cell_type": "code",
   "execution_count": 39,
   "id": "be9238ff-048c-45ad-914e-d9a4da9d8b6b",
   "metadata": {},
   "outputs": [
    {
     "data": {
      "text/plain": [
       "['even 0',\n",
       " ' odd 1',\n",
       " 'even 2',\n",
       " ' odd 3',\n",
       " 'even 4',\n",
       " ' odd 5',\n",
       " 'even 6',\n",
       " ' odd 7',\n",
       " 'even 8',\n",
       " ' odd 9',\n",
       " 'even 10']"
      ]
     },
     "execution_count": 39,
     "metadata": {},
     "output_type": "execute_result"
    }
   ],
   "source": [
    "even_odd=[f\"even {i}\" if i % 2==0 else f\" odd {i}\" for i in range(11)]\n",
    "even_odd"
   ]
  },
  {
   "cell_type": "code",
   "execution_count": null,
   "id": "388b9715-0979-4263-b690-aba2ed0c2af2",
   "metadata": {},
   "outputs": [],
   "source": []
  },
  {
   "cell_type": "code",
   "execution_count": 40,
   "id": "2871d0f6-cf9d-4aae-aa76-e50667695f58",
   "metadata": {},
   "outputs": [
    {
     "data": {
      "text/plain": [
       "['even 0',\n",
       " 'even 2',\n",
       " 'even 4',\n",
       " 'even 6',\n",
       " 'even 8',\n",
       " 'even 10',\n",
       " 'even 12',\n",
       " 'even 14',\n",
       " 'even 16',\n",
       " 'even 18',\n",
       " 'even 20',\n",
       " 'even 22',\n",
       " 'even 24',\n",
       " 'even 26',\n",
       " 'even 28',\n",
       " 'even 30',\n",
       " 'even 32',\n",
       " 'even 34',\n",
       " 'even 36',\n",
       " 'even 38',\n",
       " 'even 40',\n",
       " 'even 42',\n",
       " 'even 44',\n",
       " 'even 46',\n",
       " 'even 48',\n",
       " 'even 50']"
      ]
     },
     "execution_count": 40,
     "metadata": {},
     "output_type": "execute_result"
    }
   ],
   "source": [
    "even_odd= [f\"even {i}\" for i in range(51) if i%2==0]\n",
    "even_odd"
   ]
  },
  {
   "cell_type": "code",
   "execution_count": 43,
   "id": "a4ae6caa-3ccd-4516-9abf-ae2d696d2320",
   "metadata": {},
   "outputs": [
    {
     "data": {
      "text/plain": [
       "[' odd 1 ',\n",
       " ' odd 3 ',\n",
       " ' odd 5 ',\n",
       " ' odd 7 ',\n",
       " ' odd 9 ',\n",
       " ' odd 11 ',\n",
       " ' odd 13 ',\n",
       " ' odd 15 ',\n",
       " ' odd 17 ',\n",
       " ' odd 19 ',\n",
       " ' odd 21 ']"
      ]
     },
     "execution_count": 43,
     "metadata": {},
     "output_type": "execute_result"
    }
   ],
   "source": [
    "even_odd=[f\" odd {i} \" for i in range (22) if i%2!=0]\n",
    "even_odd"
   ]
  },
  {
   "cell_type": "code",
   "execution_count": 24,
   "id": "4b625b3d-9370-4e23-85d5-1d4658ba98fb",
   "metadata": {},
   "outputs": [],
   "source": [
    "even_odd= [f\"odd {i}\"  for i in range(22) if i%2!=0]"
   ]
  },
  {
   "cell_type": "code",
   "execution_count": 25,
   "id": "e2ef0e1a-c218-43ce-b491-6af6ed0286e2",
   "metadata": {},
   "outputs": [
    {
     "data": {
      "text/plain": [
       "['odd 1',\n",
       " 'odd 3',\n",
       " 'odd 5',\n",
       " 'odd 7',\n",
       " 'odd 9',\n",
       " 'odd 11',\n",
       " 'odd 13',\n",
       " 'odd 15',\n",
       " 'odd 17',\n",
       " 'odd 19',\n",
       " 'odd 21']"
      ]
     },
     "execution_count": 25,
     "metadata": {},
     "output_type": "execute_result"
    }
   ],
   "source": [
    "even_odd"
   ]
  },
  {
   "cell_type": "code",
   "execution_count": 41,
   "id": "a9a75661-24e4-4159-aa96-dcf02e18b4ed",
   "metadata": {},
   "outputs": [],
   "source": [
    "def sq(a):\n",
    "    print(a*a)"
   ]
  },
  {
   "cell_type": "code",
   "execution_count": 44,
   "id": "7153307a-5224-4270-86a6-5e760cdc7ed0",
   "metadata": {},
   "outputs": [
    {
     "name": "stdout",
     "output_type": "stream",
     "text": [
      "16\n"
     ]
    }
   ],
   "source": [
    "sq(4)"
   ]
  },
  {
   "cell_type": "code",
   "execution_count": 45,
   "id": "a01fb575-0175-4c0a-b4ee-b33224d67bb1",
   "metadata": {},
   "outputs": [],
   "source": [
    "sqr = lambda a : a*a"
   ]
  },
  {
   "cell_type": "code",
   "execution_count": 46,
   "id": "a7216a1b-4c97-44ce-a36e-e75f349460bb",
   "metadata": {},
   "outputs": [
    {
     "data": {
      "text/plain": [
       "25"
      ]
     },
     "execution_count": 46,
     "metadata": {},
     "output_type": "execute_result"
    }
   ],
   "source": [
    "sqr(5)"
   ]
  },
  {
   "cell_type": "code",
   "execution_count": null,
   "id": "4dafbbc4-2731-423c-b26f-062b77191b36",
   "metadata": {},
   "outputs": [],
   "source": []
  },
  {
   "cell_type": "code",
   "execution_count": 23,
   "id": "e37cb99d-3cdb-4828-90b8-73c2e462f61b",
   "metadata": {},
   "outputs": [
    {
     "data": {
      "text/plain": [
       "[0, 1, 2, 3, 4, 5, 6, 7, 8, 9, 10]"
      ]
     },
     "execution_count": 23,
     "metadata": {},
     "output_type": "execute_result"
    }
   ],
   "source": [
    "list(map(lambda a : a ,range(11)))"
   ]
  },
  {
   "cell_type": "code",
   "execution_count": 24,
   "id": "837e9312-34db-4b4f-8922-6a7150e68f3c",
   "metadata": {},
   "outputs": [
    {
     "data": {
      "text/plain": [
       "5.0"
      ]
     },
     "execution_count": 24,
     "metadata": {},
     "output_type": "execute_result"
    }
   ],
   "source": [
    "avg = lambda a,b,c :(a+b+c)/3\n",
    "avg(3,4,8)"
   ]
  },
  {
   "cell_type": "code",
   "execution_count": 30,
   "id": "c164808b-47bc-4493-bbc2-9ab7b1f0f769",
   "metadata": {},
   "outputs": [],
   "source": [
    "even_odd= lambda a:  \"even\"  if a%2==0 else \"odd\"\n",
    "    "
   ]
  },
  {
   "cell_type": "code",
   "execution_count": 32,
   "id": "b8bc4d39-81b7-4c54-9735-fe1ec0eaa382",
   "metadata": {},
   "outputs": [
    {
     "data": {
      "text/plain": [
       "'odd'"
      ]
     },
     "execution_count": 32,
     "metadata": {},
     "output_type": "execute_result"
    }
   ],
   "source": [
    "even_odd(33)"
   ]
  },
  {
   "cell_type": "code",
   "execution_count": 35,
   "id": "28e67e61-55d3-4cc4-9d74-c99a83bba67d",
   "metadata": {},
   "outputs": [],
   "source": [
    "l=[i for i in range(11) if i%2!=0 ]"
   ]
  },
  {
   "cell_type": "code",
   "execution_count": 36,
   "id": "b70d2328-4d90-4ad9-b896-47d83e6cd876",
   "metadata": {},
   "outputs": [
    {
     "data": {
      "text/plain": [
       "[0, 2, 4, 6, 8, 10]"
      ]
     },
     "execution_count": 36,
     "metadata": {},
     "output_type": "execute_result"
    }
   ],
   "source": [
    "l"
   ]
  },
  {
   "cell_type": "code",
   "execution_count": 15,
   "id": "ca77b53c-d0bb-4c28-b443-a58620a97d36",
   "metadata": {},
   "outputs": [],
   "source": [
    "l=[ f\"Even {i}\" if i%2==0 else \n",
    "   f\"odd {i}\" if i%2!=0 else \n",
    "   \"Invalid\"\n",
    "   for i in range(11)]"
   ]
  },
  {
   "cell_type": "code",
   "execution_count": 16,
   "id": "789ffa0e-1d2b-4894-a6e0-a09704a2e73f",
   "metadata": {},
   "outputs": [
    {
     "data": {
      "text/plain": [
       "['Even 0',\n",
       " 'odd 1',\n",
       " 'Even 2',\n",
       " 'odd 3',\n",
       " 'Even 4',\n",
       " 'odd 5',\n",
       " 'Even 6',\n",
       " 'odd 7',\n",
       " 'Even 8',\n",
       " 'odd 9',\n",
       " 'Even 10']"
      ]
     },
     "execution_count": 16,
     "metadata": {},
     "output_type": "execute_result"
    }
   ],
   "source": [
    "l"
   ]
  },
  {
   "cell_type": "code",
   "execution_count": 17,
   "id": "ac8a3e6b-770b-4125-b8b1-23f86169e774",
   "metadata": {},
   "outputs": [],
   "source": [
    "l=[f\"Even {i}\" if i%2==0 else  i%2!=0\n",
    "   for i in range(11)]"
   ]
  },
  {
   "cell_type": "code",
   "execution_count": 18,
   "id": "c9aacb47-c705-4aca-b1f6-a3ea8f30d338",
   "metadata": {},
   "outputs": [
    {
     "data": {
      "text/plain": [
       "['Even 0',\n",
       " True,\n",
       " 'Even 2',\n",
       " True,\n",
       " 'Even 4',\n",
       " True,\n",
       " 'Even 6',\n",
       " True,\n",
       " 'Even 8',\n",
       " True,\n",
       " 'Even 10']"
      ]
     },
     "execution_count": 18,
     "metadata": {},
     "output_type": "execute_result"
    }
   ],
   "source": [
    "l"
   ]
  },
  {
   "cell_type": "code",
   "execution_count": null,
   "id": "a7a47dde-6c51-4413-85b6-53b89c7ab6b9",
   "metadata": {},
   "outputs": [],
   "source": []
  },
  {
   "cell_type": "code",
   "execution_count": 19,
   "id": "4e15cef1-9e8c-4bac-8d07-99c8f14e9d70",
   "metadata": {},
   "outputs": [],
   "source": [
    "import functools"
   ]
  },
  {
   "cell_type": "code",
   "execution_count": 20,
   "id": "1e55b07d-0482-49cf-ab3e-d787d0e9eb62",
   "metadata": {},
   "outputs": [],
   "source": [
    "l=list(range(11))"
   ]
  },
  {
   "cell_type": "code",
   "execution_count": 21,
   "id": "acf6ca82-4725-46ae-9bb0-44802e4afbd1",
   "metadata": {},
   "outputs": [
    {
     "data": {
      "text/plain": [
       "[0, 1, 2, 3, 4, 5, 6, 7, 8, 9, 10]"
      ]
     },
     "execution_count": 21,
     "metadata": {},
     "output_type": "execute_result"
    }
   ],
   "source": [
    "l"
   ]
  },
  {
   "cell_type": "code",
   "execution_count": 22,
   "id": "82f1f9b7-009b-447b-bd1f-5dbf9d624400",
   "metadata": {},
   "outputs": [
    {
     "data": {
      "text/plain": [
       "55"
      ]
     },
     "execution_count": 22,
     "metadata": {},
     "output_type": "execute_result"
    }
   ],
   "source": [
    "functools.reduce(lambda i,s: s+i,l)"
   ]
  },
  {
   "cell_type": "code",
   "execution_count": null,
   "id": "6151ff63-8319-43ac-b6e1-bf616656d1b5",
   "metadata": {},
   "outputs": [],
   "source": []
  }
 ],
 "metadata": {
  "kernelspec": {
   "display_name": "Python [conda env:base] *",
   "language": "python",
   "name": "conda-base-py"
  },
  "language_info": {
   "codemirror_mode": {
    "name": "ipython",
    "version": 3
   },
   "file_extension": ".py",
   "mimetype": "text/x-python",
   "name": "python",
   "nbconvert_exporter": "python",
   "pygments_lexer": "ipython3",
   "version": "3.13.5"
  }
 },
 "nbformat": 4,
 "nbformat_minor": 5
}
