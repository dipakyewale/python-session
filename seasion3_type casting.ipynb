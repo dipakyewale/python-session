{
 "cells": [
  {
   "cell_type": "code",
   "execution_count": null,
   "id": "7c0e246e-3789-48b4-8660-f58e0a3afef2",
   "metadata": {},
   "outputs": [],
   "source": [
    "number=10 #int\n",
    "number2=10.5 # float\n",
    "name=\"NareshIT\" # strings : str\n",
    "value=True     # boolean : bool\n",
    "#########################################\n",
    "fruites = ['apple,banana,licchi,mango,cherry'] # list\n",
    "names= ['dipak,pardip,suhas,kartik'] # tuple \n",
    "age = { 22,34,12,33,50} # set\n",
    "data = { 'dipak':22, 'pradip': 20, 'suhas': 18 } #  dictionary: dict"
   ]
  },
  {
   "cell_type": "markdown",
   "id": "be4873d8-ef37-4095-b6bb-29c56d163566",
   "metadata": {},
   "source": [
    "**type cast**"
   ]
  },
  {
   "cell_type": "markdown",
   "id": "d3b46e77-9b6d-45cf-9e89-c61be962c7e4",
   "metadata": {},
   "source": [
    "- convert one data type to another data type "
   ]
  },
  {
   "cell_type": "code",
   "execution_count": 3,
   "id": "cf0ed1d2-960d-4522-a3fb-421cab132218",
   "metadata": {},
   "outputs": [
    {
     "data": {
      "text/plain": [
       "'100200'"
      ]
     },
     "execution_count": 3,
     "metadata": {},
     "output_type": "execute_result"
    }
   ],
   "source": [
    "n1='100' #100\n",
    "n2='200' # 200\n",
    "n1+n2    # 100+200=300     # use in string "
   ]
  },
  {
   "cell_type": "code",
   "execution_count": 2,
   "id": "74ab3b70-7e91-4821-b5ad-2ba8d39bdde6",
   "metadata": {},
   "outputs": [
    {
     "data": {
      "text/plain": [
       "500"
      ]
     },
     "execution_count": 2,
     "metadata": {},
     "output_type": "execute_result"
    }
   ],
   "source": [
    "n1=200\n",
    "n2=300\n",
    "n1+n2"
   ]
  },
  {
   "cell_type": "markdown",
   "id": "2980c309-1855-418e-a7d3-20d99e52f7fa",
   "metadata": {},
   "source": [
    "**case-1**"
   ]
  },
  {
   "cell_type": "markdown",
   "id": "59d3394d-9f59-4e3c-a84b-6c4a766229ce",
   "metadata": {},
   "source": [
    "- int to float\n",
    "- int to str \n",
    "- int to bool"
   ]
  },
  {
   "cell_type": "code",
   "execution_count": 3,
   "id": "8a62a360-ee08-477f-be81-02e53310942e",
   "metadata": {},
   "outputs": [
    {
     "data": {
      "text/plain": [
       "(10.0, '10', True)"
      ]
     },
     "execution_count": 3,
     "metadata": {},
     "output_type": "execute_result"
    }
   ],
   "source": [
    "number=10\n",
    "# int to float\n",
    "float(number),str(number),bool(number)\n"
   ]
  },
  {
   "cell_type": "code",
   "execution_count": 3,
   "id": "203c707a-f7f3-48c3-b12b-b6c4f9360021",
   "metadata": {},
   "outputs": [
    {
     "data": {
      "text/plain": [
       "(-20, -20.0, '-20', True)"
      ]
     },
     "execution_count": 3,
     "metadata": {},
     "output_type": "execute_result"
    }
   ],
   "source": [
    "num=-20\n",
    "int(num),float(num),str(num),bool(num)"
   ]
  },
  {
   "cell_type": "code",
   "execution_count": 9,
   "id": "31078fbc-e9b1-4772-a510-1e9a770781be",
   "metadata": {},
   "outputs": [
    {
     "data": {
      "text/plain": [
       "(-10.0, '-10', True)"
      ]
     },
     "execution_count": 9,
     "metadata": {},
     "output_type": "execute_result"
    }
   ],
   "source": [
    "float(-10),str(-10),bool(-1)\n",
    "# 10.0        # -10     True"
   ]
  },
  {
   "cell_type": "code",
   "execution_count": 4,
   "id": "0808a63f-5338-497a-b0ef-0c22e27481fc",
   "metadata": {},
   "outputs": [
    {
     "data": {
      "text/plain": [
       "(0.0, '0', False)"
      ]
     },
     "execution_count": 4,
     "metadata": {},
     "output_type": "execute_result"
    }
   ],
   "source": [
    "float(0),str(0),bool(0)\n",
    "# 0.0       0     false"
   ]
  },
  {
   "cell_type": "markdown",
   "id": "92fce30a-4809-4799-91fc-553781344ff6",
   "metadata": {},
   "source": [
    "**float to other datatype**"
   ]
  },
  {
   "cell_type": "code",
   "execution_count": 8,
   "id": "794d9144-5df2-4489-a58c-b932d72163e1",
   "metadata": {},
   "outputs": [
    {
     "name": "stdout",
     "output_type": "stream",
     "text": [
      "10\n",
      "10.5\n",
      "True\n"
     ]
    }
   ],
   "source": [
    "number1=10.5\n",
    "print(int(number1)) # 10\n",
    "print(str(number1)) # '10.5'\n",
    "print(bool(number1)) # False"
   ]
  },
  {
   "cell_type": "code",
   "execution_count": 12,
   "id": "a189da55-4388-441c-888b-c2c856e9be5a",
   "metadata": {},
   "outputs": [
    {
     "data": {
      "text/plain": [
       "(10, '10.5', True)"
      ]
     },
     "execution_count": 12,
     "metadata": {},
     "output_type": "execute_result"
    }
   ],
   "source": [
    "number1=10.5\n",
    "int(number1),str(number1),bool(number1)"
   ]
  },
  {
   "cell_type": "code",
   "execution_count": 10,
   "id": "10db1fd1-8cf1-4e16-b978-c0ba7a311814",
   "metadata": {},
   "outputs": [
    {
     "data": {
      "text/plain": [
       "(0.0, '0.0', False)"
      ]
     },
     "execution_count": 10,
     "metadata": {},
     "output_type": "execute_result"
    }
   ],
   "source": [
    "float(0.0),str(0.0),bool(0.00000)"
   ]
  },
  {
   "cell_type": "code",
   "execution_count": null,
   "id": "156ea196-08d5-45b9-a781-7c0c303785b6",
   "metadata": {},
   "outputs": [],
   "source": [
    "0 0.0   False OFF\n",
    "        True ON\n",
    "\n",
    "10 on  True\n",
    "-10 on True \n",
    "0 off False "
   ]
  },
  {
   "cell_type": "markdown",
   "id": "d36b9cbd-10fa-45cd-bd54-35fc9649f8c9",
   "metadata": {},
   "source": [
    "**string to another data type**"
   ]
  },
  {
   "cell_type": "code",
   "execution_count": 4,
   "id": "efdfad01-2094-4380-a14b-81dbfd4a497a",
   "metadata": {},
   "outputs": [],
   "source": [
    "s1 ='10'  # int , float, bool\n",
    "s2 = '10.5'\n",
    "s3 = 'apple'"
   ]
  },
  {
   "cell_type": "code",
   "execution_count": 11,
   "id": "81bdcbd6-b0f6-42fb-9f7c-e380338b7fde",
   "metadata": {},
   "outputs": [
    {
     "name": "stdout",
     "output_type": "stream",
     "text": [
      "10\n",
      "10.0\n",
      "True\n"
     ]
    }
   ],
   "source": [
    "print(int('10'))  # 10\n",
    "print(float('10')) #10.0\n",
    "print(bool('-01')) # true"
   ]
  },
  {
   "cell_type": "code",
   "execution_count": 2,
   "id": "f9126c64-5355-4e88-b621-1396dc4c0fe8",
   "metadata": {},
   "outputs": [
    {
     "name": "stdout",
     "output_type": "stream",
     "text": [
      "10\n",
      "20\n"
     ]
    },
    {
     "ename": "NameError",
     "evalue": "name 'lenovo' is not defined",
     "output_type": "error",
     "traceback": [
      "\u001b[1;31m---------------------------------------------------------------------------\u001b[0m",
      "\u001b[1;31mNameError\u001b[0m                                 Traceback (most recent call last)",
      "Cell \u001b[1;32mIn[2], line 6\u001b[0m\n\u001b[0;32m      4\u001b[0m \u001b[38;5;28mprint\u001b[39m(n2)\n\u001b[0;32m      5\u001b[0m n3\u001b[38;5;241m=\u001b[39m\u001b[38;5;241m300\u001b[39m\n\u001b[1;32m----> 6\u001b[0m n4\u001b[38;5;241m=\u001b[39mlenovo\n",
      "\u001b[1;31mNameError\u001b[0m: name 'lenovo' is not defined"
     ]
    }
   ],
   "source": [
    "n1=10\n",
    "print(n1)\n",
    "n2=20\n",
    "print(n2)\n",
    "n3=300\n",
    "n4=lenovo"
   ]
  },
  {
   "cell_type": "code",
   "execution_count": null,
   "id": "3f5504d0-2412-4ce8-9dc5-c3144463c96a",
   "metadata": {},
   "outputs": [],
   "source": [
    "int('10.5')  # error\n",
    "int('10') # 10 \n",
    "# genarally 10 is a integer\n",
    "# but reresented as a string\n",
    "# both are same family"
   ]
  },
  {
   "cell_type": "code",
   "execution_count": 14,
   "id": "b59c0445-1c55-4742-b5a8-776bd3d7a2b2",
   "metadata": {},
   "outputs": [
    {
     "data": {
      "text/plain": [
       "(10.5, 10)"
      ]
     },
     "execution_count": 14,
     "metadata": {},
     "output_type": "execute_result"
    }
   ],
   "source": [
    "float('10.5') , int('10')"
   ]
  },
  {
   "cell_type": "code",
   "execution_count": 15,
   "id": "9b30cf24-8359-4b94-91a7-dfa7d2163b1b",
   "metadata": {},
   "outputs": [
    {
     "data": {
      "text/plain": [
       "(10.0, 105.0)"
      ]
     },
     "execution_count": 15,
     "metadata": {},
     "output_type": "execute_result"
    }
   ],
   "source": [
    "float('10') ,float('105')"
   ]
  },
  {
   "cell_type": "code",
   "execution_count": 16,
   "id": "805cd883-97d0-4f2e-ad1c-b2e7844d8050",
   "metadata": {},
   "outputs": [
    {
     "data": {
      "text/plain": [
       "10.0"
      ]
     },
     "execution_count": 16,
     "metadata": {},
     "output_type": "execute_result"
    }
   ],
   "source": [
    "float('10')"
   ]
  },
  {
   "cell_type": "code",
   "execution_count": 4,
   "id": "33f362fc-6da5-4b35-a672-1a4756d9a958",
   "metadata": {},
   "outputs": [
    {
     "data": {
      "text/plain": [
       "10.5"
      ]
     },
     "execution_count": 4,
     "metadata": {},
     "output_type": "execute_result"
    }
   ],
   "source": [
    "int(10) # 10\n",
    "int(10.5) # 10 \n",
    "int('10') # 10 \n",
    "#int('10.5') # error\n",
    "float(10)  # 10.0\n",
    "float(10.5) # 10.5\n",
    "float('10') # 10.0 \n",
    "float('10.5')# 10.5"
   ]
  },
  {
   "cell_type": "code",
   "execution_count": 19,
   "id": "47bb4fb8-4f63-4d1a-bb0a-6f0f54a60cc8",
   "metadata": {},
   "outputs": [
    {
     "data": {
      "text/plain": [
       "(0, 0.0, True)"
      ]
     },
     "execution_count": 19,
     "metadata": {},
     "output_type": "execute_result"
    }
   ],
   "source": [
    "int('0'),float('0'),bool('0')"
   ]
  },
  {
   "cell_type": "code",
   "execution_count": 15,
   "id": "2558907a-7b8a-417f-93ac-f2afb8e4e259",
   "metadata": {},
   "outputs": [
    {
     "data": {
      "text/plain": [
       "(1, 0, 5)"
      ]
     },
     "execution_count": 15,
     "metadata": {},
     "output_type": "execute_result"
    }
   ],
   "source": [
    "len('0'),len('') , len('apple')\n",
    "# yes       no          yes"
   ]
  },
  {
   "cell_type": "code",
   "execution_count": 19,
   "id": "c660d8ae-fae3-4e75-a489-0cddb276d3d2",
   "metadata": {},
   "outputs": [
    {
     "ename": "ValueError",
     "evalue": "invalid literal for int() with base 10: '10.'",
     "output_type": "error",
     "traceback": [
      "\u001b[1;31m---------------------------------------------------------------------------\u001b[0m",
      "\u001b[1;31mValueError\u001b[0m                                Traceback (most recent call last)",
      "Cell \u001b[1;32mIn[19], line 1\u001b[0m\n\u001b[1;32m----> 1\u001b[0m \u001b[38;5;28mint\u001b[39m(\u001b[38;5;124m'\u001b[39m\u001b[38;5;124m10.\u001b[39m\u001b[38;5;124m'\u001b[39m) \u001b[38;5;66;03m# error \u001b[39;00m\n\u001b[0;32m      2\u001b[0m \u001b[38;5;28mint\u001b[39m(\u001b[38;5;124m'\u001b[39m\u001b[38;5;124m10.\u001b[39m\u001b[38;5;124m'\u001b[39m)\n",
      "\u001b[1;31mValueError\u001b[0m: invalid literal for int() with base 10: '10.'"
     ]
    }
   ],
   "source": [
    "int('10.0') # error \n",
    "int('10.0') # error"
   ]
  },
  {
   "cell_type": "code",
   "execution_count": 22,
   "id": "25a9e8dd-8d3d-42f9-b0c5-6df2a3f06bd5",
   "metadata": {},
   "outputs": [
    {
     "data": {
      "text/plain": [
       "4"
      ]
     },
     "execution_count": 22,
     "metadata": {},
     "output_type": "execute_result"
    }
   ],
   "source": [
    "len('0.00')"
   ]
  },
  {
   "cell_type": "code",
   "execution_count": 23,
   "id": "248972c9-1aed-4844-8a87-4b7c38a30cf2",
   "metadata": {},
   "outputs": [
    {
     "data": {
      "text/plain": [
       "0.0"
      ]
     },
     "execution_count": 23,
     "metadata": {},
     "output_type": "execute_result"
    }
   ],
   "source": [
    "0.00"
   ]
  },
  {
   "cell_type": "code",
   "execution_count": null,
   "id": "9b9380a2-1833-49b0-9637-481c1eb3cb53",
   "metadata": {},
   "outputs": [],
   "source": [
    "float('apple') # error\n",
    "int('apple') # error\n",
    "bool('apple')   # True "
   ]
  },
  {
   "cell_type": "code",
   "execution_count": 24,
   "id": "dcdb9be9-14e9-47d7-b6cf-e8f10fea148a",
   "metadata": {},
   "outputs": [
    {
     "data": {
      "text/plain": [
       "(1, 1.0, 'True')"
      ]
     },
     "execution_count": 24,
     "metadata": {},
     "output_type": "execute_result"
    }
   ],
   "source": [
    "int(True),float(True),str(True)"
   ]
  },
  {
   "cell_type": "code",
   "execution_count": 25,
   "id": "0ceb4668-fa6c-4f27-92b8-abf2b88a9ead",
   "metadata": {},
   "outputs": [
    {
     "data": {
      "text/plain": [
       "(0, 0.0, 'False')"
      ]
     },
     "execution_count": 25,
     "metadata": {},
     "output_type": "execute_result"
    }
   ],
   "source": [
    "int(False),float(False),str(False)\n",
    "# 0          0.0           false "
   ]
  },
  {
   "cell_type": "code",
   "execution_count": null,
   "id": "8e544475-a428-42e5-b96f-5dd4b40856cd",
   "metadata": {},
   "outputs": [],
   "source": [
    "float(10)  # 10.0\n",
    "str(10) # 10 \n",
    "bool(10) # T \n",
    "int(10.5) # 10 error\n",
    "bool(10.5) # T \n",
    "str(10.5) # '10.5'\n",
    "int('10') # 10\n",
    "float('10') # 10.0\n",
    "bool('10') # T \n",
    "int('10.5')  # E\n",
    "float('10.5') # 10.5\n",
    "bool('10.5') # T \n",
    "int('apple ') # E \n",
    "float('apple')  # E\n",
    "bool('')  #    F \n",
    "int(True)   #  1 \n",
    "float(False) # 0.0\n",
    "str(True)  # True\n"
   ]
  },
  {
   "cell_type": "code",
   "execution_count": 9,
   "id": "3d45fb7f-8f14-48dd-9da3-b4bbe5cf2988",
   "metadata": {},
   "outputs": [
    {
     "ename": "ValueError",
     "evalue": "invalid literal for int() with base 10: '10.6'",
     "output_type": "error",
     "traceback": [
      "\u001b[1;31m---------------------------------------------------------------------------\u001b[0m",
      "\u001b[1;31mValueError\u001b[0m                                Traceback (most recent call last)",
      "Cell \u001b[1;32mIn[9], line 1\u001b[0m\n\u001b[1;32m----> 1\u001b[0m \u001b[38;5;28mint\u001b[39m(\u001b[38;5;241m10.5\u001b[39m),\u001b[38;5;28mint\u001b[39m(\u001b[38;5;124m'\u001b[39m\u001b[38;5;124m10.6\u001b[39m\u001b[38;5;124m'\u001b[39m)\n",
      "\u001b[1;31mValueError\u001b[0m: invalid literal for int() with base 10: '10.6'"
     ]
    }
   ],
   "source": [
    "int(10.5),int('10.6')\n",
    "#    10        fail"
   ]
  },
  {
   "cell_type": "code",
   "execution_count": 28,
   "id": "b276e937-c3ea-40cd-9365-adbc1e19969a",
   "metadata": {},
   "outputs": [
    {
     "data": {
      "text/plain": [
       "10"
      ]
     },
     "execution_count": 28,
     "metadata": {},
     "output_type": "execute_result"
    }
   ],
   "source": [
    "int(float('10.5'))"
   ]
  },
  {
   "cell_type": "code",
   "execution_count": 30,
   "id": "5918c33a-28b5-4116-9729-21e8a1cce43a",
   "metadata": {},
   "outputs": [
    {
     "data": {
      "text/plain": [
       "300"
      ]
     },
     "execution_count": 30,
     "metadata": {},
     "output_type": "execute_result"
    }
   ],
   "source": [
    "n1=int('100')\n",
    "n2=int('200')\n",
    "n1+n2"
   ]
  },
  {
   "cell_type": "code",
   "execution_count": 32,
   "id": "32f87a27-8034-4fbb-ab45-cf2b0b85c25c",
   "metadata": {},
   "outputs": [
    {
     "data": {
      "text/plain": [
       "300"
      ]
     },
     "execution_count": 32,
     "metadata": {},
     "output_type": "execute_result"
    }
   ],
   "source": [
    "n1='100'\n",
    "n2='200'\n",
    "n1+n2 # '100'+'200'\n",
    "int(n1)+int(n2) # int ('100')+int('200')=100+200=30"
   ]
  },
  {
   "cell_type": "code",
   "execution_count": 35,
   "id": "11621690-36bb-4919-8667-ab034321a1c4",
   "metadata": {},
   "outputs": [
    {
     "data": {
      "text/plain": [
       "'100.5200'"
      ]
     },
     "execution_count": 35,
     "metadata": {},
     "output_type": "execute_result"
    }
   ],
   "source": [
    "n1='100.5'\n",
    "n2='200'\n",
    "n1+n2"
   ]
  },
  {
   "cell_type": "code",
   "execution_count": 39,
   "id": "5d8f4a60-6e32-43d7-a7fd-95c333e1ed8a",
   "metadata": {},
   "outputs": [
    {
     "data": {
      "text/plain": [
       "300"
      ]
     },
     "execution_count": 39,
     "metadata": {},
     "output_type": "execute_result"
    }
   ],
   "source": [
    "n1=int('100')\n",
    "n2=int('200')\n",
    "n1+n2"
   ]
  },
  {
   "cell_type": "code",
   "execution_count": 40,
   "id": "5d88e05b-1e04-4ec9-a6fe-515bdb0611c6",
   "metadata": {},
   "outputs": [
    {
     "data": {
      "text/plain": [
       "300.5"
      ]
     },
     "execution_count": 40,
     "metadata": {},
     "output_type": "execute_result"
    }
   ],
   "source": [
    "n1=float('100.5')\n",
    "n2=int('200')\n",
    "n1+n2"
   ]
  },
  {
   "cell_type": "markdown",
   "id": "9774d505-e9a3-4e9d-bf20-393dff7a51a7",
   "metadata": {},
   "source": [
    "**eval statment**"
   ]
  },
  {
   "cell_type": "code",
   "execution_count": 1,
   "id": "82318c50-ef32-4d73-a60e-0fbfeb90e4da",
   "metadata": {},
   "outputs": [
    {
     "name": "stdout",
     "output_type": "stream",
     "text": [
      "100.5\n",
      "200\n"
     ]
    },
    {
     "data": {
      "text/plain": [
       "300.5"
      ]
     },
     "execution_count": 1,
     "metadata": {},
     "output_type": "execute_result"
    }
   ],
   "source": [
    "n1=eval('100.5')\n",
    "print(n1)\n",
    "n2=eval('200')\n",
    "print(n2)\n",
    "n1+n2"
   ]
  },
  {
   "cell_type": "code",
   "execution_count": 22,
   "id": "b26d649e-4735-401c-be2c-818116ad8598",
   "metadata": {},
   "outputs": [
    {
     "name": "stdout",
     "output_type": "stream",
     "text": [
      "300.0\n",
      "120.0\n",
      "100\n"
     ]
    },
    {
     "data": {
      "text/plain": [
       "520.0"
      ]
     },
     "execution_count": 22,
     "metadata": {},
     "output_type": "execute_result"
    }
   ],
   "source": [
    "num2=eval('300.')\n",
    "print(num2)\n",
    "num3=eval('120.')\n",
    "print(num3)\n",
    "num1=eval('100')\n",
    "print(num1)\n",
    "num2+num1+num3"
   ]
  },
  {
   "cell_type": "code",
   "execution_count": 20,
   "id": "53aa1120-2ce5-4a83-a341-b7891d1e9e74",
   "metadata": {},
   "outputs": [
    {
     "name": "stdout",
     "output_type": "stream",
     "text": [
      "200.0\n",
      "150\n"
     ]
    },
    {
     "data": {
      "text/plain": [
       "350.0"
      ]
     },
     "execution_count": 20,
     "metadata": {},
     "output_type": "execute_result"
    }
   ],
   "source": [
    "num1=eval('200.0')\n",
    "print(num1)\n",
    "num2=eval('150')\n",
    "print(num2)\n",
    "num2+num1"
   ]
  },
  {
   "cell_type": "code",
   "execution_count": 44,
   "id": "4e7b5545-714b-412b-a07d-711ab4291504",
   "metadata": {},
   "outputs": [
    {
     "data": {
      "text/plain": [
       "300.5"
      ]
     },
     "execution_count": 44,
     "metadata": {},
     "output_type": "execute_result"
    }
   ],
   "source": [
    "float(n1+n2)\n",
    "float('100.5'+'200')\n",
    "float('100.5200')\n",
    "\n",
    "float(n1+n2)\n",
    "float('100.5')+float('200')"
   ]
  },
  {
   "cell_type": "code",
   "execution_count": 23,
   "id": "16b25c77-7b68-4b72-a681-88d98e92fc19",
   "metadata": {},
   "outputs": [
    {
     "data": {
      "text/plain": [
       "'100.5200'"
      ]
     },
     "execution_count": 23,
     "metadata": {},
     "output_type": "execute_result"
    }
   ],
   "source": [
    "'100'+'200' # 100200\n",
    "'100'+'****' # 100****\n",
    "'100.5'+ '200'# '100.5200'"
   ]
  },
  {
   "cell_type": "code",
   "execution_count": 24,
   "id": "2b4b148d-c3ae-44c7-ae47-a58e9f826e99",
   "metadata": {},
   "outputs": [],
   "source": [
    "n1=eval('100.5')"
   ]
  },
  {
   "cell_type": "code",
   "execution_count": 11,
   "id": "9ae41d7d-d4ba-4517-a734-8d1b9f1ace18",
   "metadata": {},
   "outputs": [
    {
     "ename": "TypeError",
     "evalue": "eval() arg 1 must be a string, bytes or code object",
     "output_type": "error",
     "traceback": [
      "\u001b[1;31m---------------------------------------------------------------------------\u001b[0m",
      "\u001b[1;31mTypeError\u001b[0m                                 Traceback (most recent call last)",
      "Cell \u001b[1;32mIn[11], line 1\u001b[0m\n\u001b[1;32m----> 1\u001b[0m \u001b[38;5;28meval\u001b[39m(\u001b[38;5;241m10\u001b[39m)  \u001b[38;5;66;03m# fail \u001b[39;00m\n\u001b[0;32m      2\u001b[0m \u001b[38;5;28meval\u001b[39m(\u001b[38;5;241m10.5\u001b[39m) \u001b[38;5;66;03m# fail \u001b[39;00m\n\u001b[0;32m      3\u001b[0m \u001b[38;5;28meval\u001b[39m(\u001b[38;5;124m'\u001b[39m\u001b[38;5;124mapple\u001b[39m\u001b[38;5;124m'\u001b[39m)\n",
      "\u001b[1;31mTypeError\u001b[0m: eval() arg 1 must be a string, bytes or code object"
     ]
    }
   ],
   "source": [
    "eval(10)  # fail \n",
    "eval(10.5) # fail \n",
    "eval('apple') # fail"
   ]
  },
  {
   "cell_type": "code",
   "execution_count": 27,
   "id": "93ad83e5-3478-4676-913c-5cc3c7a8e6dd",
   "metadata": {},
   "outputs": [
    {
     "data": {
      "text/plain": [
       "300.5"
      ]
     },
     "execution_count": 27,
     "metadata": {},
     "output_type": "execute_result"
    }
   ],
   "source": [
    "n1='100.5'\n",
    "n2='200'\n",
    "n3=float(n1)+int(n2)\n",
    "n3"
   ]
  },
  {
   "cell_type": "code",
   "execution_count": 48,
   "id": "a3e0835b-8623-4d03-ac20-6a79c84b655d",
   "metadata": {},
   "outputs": [
    {
     "data": {
      "text/plain": [
       "False"
      ]
     },
     "execution_count": 48,
     "metadata": {},
     "output_type": "execute_result"
    }
   ],
   "source": [
    "int(10)==100"
   ]
  },
  {
   "cell_type": "code",
   "execution_count": 29,
   "id": "1256d2da-274b-40d4-9477-7ed869a3ed11",
   "metadata": {},
   "outputs": [
    {
     "data": {
      "text/plain": [
       "True"
      ]
     },
     "execution_count": 29,
     "metadata": {},
     "output_type": "execute_result"
    }
   ],
   "source": [
    "int(20)==20"
   ]
  },
  {
   "cell_type": "code",
   "execution_count": 31,
   "id": "cfe182da-29fa-4625-9c24-eee924a5403b",
   "metadata": {},
   "outputs": [
    {
     "data": {
      "text/plain": [
       "False"
      ]
     },
     "execution_count": 31,
     "metadata": {},
     "output_type": "execute_result"
    }
   ],
   "source": [
    "bool(20)==10"
   ]
  },
  {
   "cell_type": "code",
   "execution_count": 7,
   "id": "509cae5a-bc16-4a7d-b1de-fdbe52daf5dc",
   "metadata": {},
   "outputs": [
    {
     "data": {
      "text/plain": [
       "True"
      ]
     },
     "execution_count": 7,
     "metadata": {},
     "output_type": "execute_result"
    }
   ],
   "source": [
    "int(20)==20"
   ]
  },
  {
   "cell_type": "code",
   "execution_count": 17,
   "id": "8536d0e1-7470-4d84-9aeb-b21724057f13",
   "metadata": {},
   "outputs": [
    {
     "data": {
      "text/plain": [
       "False"
      ]
     },
     "execution_count": 17,
     "metadata": {},
     "output_type": "execute_result"
    }
   ],
   "source": [
    "bool('')"
   ]
  },
  {
   "cell_type": "code",
   "execution_count": 18,
   "id": "901ecfbb-d091-4f49-8371-62d4490a0022",
   "metadata": {},
   "outputs": [
    {
     "data": {
      "text/plain": [
       "True"
      ]
     },
     "execution_count": 18,
     "metadata": {},
     "output_type": "execute_result"
    }
   ],
   "source": [
    "bool(' ')"
   ]
  },
  {
   "cell_type": "code",
   "execution_count": 19,
   "id": "15476627-4218-4ee8-88f5-ef5119dbcf8e",
   "metadata": {},
   "outputs": [
    {
     "data": {
      "text/plain": [
       "True"
      ]
     },
     "execution_count": 19,
     "metadata": {},
     "output_type": "execute_result"
    }
   ],
   "source": [
    "bool(\" \")"
   ]
  },
  {
   "cell_type": "code",
   "execution_count": 22,
   "id": "6edd0a0d-b487-4257-9e46-5b48305da036",
   "metadata": {},
   "outputs": [
    {
     "data": {
      "text/plain": [
       "1"
      ]
     },
     "execution_count": 22,
     "metadata": {},
     "output_type": "execute_result"
    }
   ],
   "source": [
    "int(1)"
   ]
  },
  {
   "cell_type": "code",
   "execution_count": 20,
   "id": "b08c15c3-f172-4d37-8487-b0673d884334",
   "metadata": {},
   "outputs": [
    {
     "data": {
      "text/plain": [
       "0.0"
      ]
     },
     "execution_count": 20,
     "metadata": {},
     "output_type": "execute_result"
    }
   ],
   "source": [
    "float(0)"
   ]
  },
  {
   "cell_type": "code",
   "execution_count": 32,
   "id": "bca4654a-f33d-4474-bac6-8e79e30e0a4c",
   "metadata": {},
   "outputs": [],
   "source": [
    "a,b='d',56"
   ]
  },
  {
   "cell_type": "code",
   "execution_count": 33,
   "id": "a0aec413-fb19-47ff-b2c7-7107ea7b8105",
   "metadata": {},
   "outputs": [
    {
     "data": {
      "text/plain": [
       "'d'"
      ]
     },
     "execution_count": 33,
     "metadata": {},
     "output_type": "execute_result"
    }
   ],
   "source": [
    "a"
   ]
  },
  {
   "cell_type": "code",
   "execution_count": 34,
   "id": "ba5c014f-0418-4f50-a669-1ba988dfbfcc",
   "metadata": {},
   "outputs": [
    {
     "data": {
      "text/plain": [
       "56"
      ]
     },
     "execution_count": 34,
     "metadata": {},
     "output_type": "execute_result"
    }
   ],
   "source": [
    "b"
   ]
  },
  {
   "cell_type": "code",
   "execution_count": 35,
   "id": "fbff5986-ddce-4ae9-a606-44bec1a8acde",
   "metadata": {},
   "outputs": [],
   "source": [
    "a,b=b,a"
   ]
  },
  {
   "cell_type": "code",
   "execution_count": 36,
   "id": "2c674e60-9231-4ddb-a597-a019b2f22db3",
   "metadata": {},
   "outputs": [
    {
     "data": {
      "text/plain": [
       "'d'"
      ]
     },
     "execution_count": 36,
     "metadata": {},
     "output_type": "execute_result"
    }
   ],
   "source": [
    "b"
   ]
  },
  {
   "cell_type": "code",
   "execution_count": 38,
   "id": "758f5cbc-3e00-4211-b5ae-0a751ccf93ac",
   "metadata": {},
   "outputs": [
    {
     "data": {
      "text/plain": [
       "56"
      ]
     },
     "execution_count": 38,
     "metadata": {},
     "output_type": "execute_result"
    }
   ],
   "source": [
    "a"
   ]
  },
  {
   "cell_type": "code",
   "execution_count": 39,
   "id": "62f76c28-e2b4-4afd-8d34-9a04107bec27",
   "metadata": {},
   "outputs": [
    {
     "data": {
      "text/plain": [
       "300"
      ]
     },
     "execution_count": 39,
     "metadata": {},
     "output_type": "execute_result"
    }
   ],
   "source": [
    "a='100'\n",
    "b='200'\n",
    "int(a)+int(b)"
   ]
  },
  {
   "cell_type": "code",
   "execution_count": 40,
   "id": "cd80ea67-545c-4012-8262-550019061d01",
   "metadata": {},
   "outputs": [
    {
     "data": {
      "text/plain": [
       "300"
      ]
     },
     "execution_count": 40,
     "metadata": {},
     "output_type": "execute_result"
    }
   ],
   "source": [
    "\n",
    "int('100')+int('200')"
   ]
  },
  {
   "cell_type": "code",
   "execution_count": null,
   "id": "572a2aef-0a27-49d5-b7f0-8781a2e9c5e9",
   "metadata": {},
   "outputs": [],
   "source": []
  }
 ],
 "metadata": {
  "kernelspec": {
   "display_name": "Python [conda env:base] *",
   "language": "python",
   "name": "conda-base-py"
  },
  "language_info": {
   "codemirror_mode": {
    "name": "ipython",
    "version": 3
   },
   "file_extension": ".py",
   "mimetype": "text/x-python",
   "name": "python",
   "nbconvert_exporter": "python",
   "pygments_lexer": "ipython3",
   "version": "3.13.5"
  }
 },
 "nbformat": 4,
 "nbformat_minor": 5
}
